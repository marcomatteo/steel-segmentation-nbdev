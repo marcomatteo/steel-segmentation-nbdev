{
 "cells": [
  {
   "cell_type": "code",
   "execution_count": 1,
   "metadata": {},
   "outputs": [],
   "source": [
    "# default_exp visualize"
   ]
  },
  {
   "cell_type": "markdown",
   "metadata": {},
   "source": [
    "# Visualize results\n",
    "\n",
    "> An interactive notebook with IPywidgets to visualize model predictions and groundtruth."
   ]
  },
  {
   "cell_type": "code",
   "execution_count": 2,
   "metadata": {},
   "outputs": [],
   "source": [
    "# hide\n",
    "%load_ext autoreload\n",
    "%autoreload 2\n",
    "%matplotlib inline"
   ]
  },
  {
   "cell_type": "code",
   "execution_count": 3,
   "metadata": {},
   "outputs": [],
   "source": [
    "# export\n",
    "import ipywidgets as widgets\n",
    "from ipywidgets import interact, interact_manual, interactive\n",
    "from IPython.display import Image\n",
    "\n",
    "from steel_segmentation.all import *\n",
    "from fastcore.all import L\n",
    "\n",
    "import os\n",
    "from pathlib import Path\n",
    "import pandas as pd\n",
    "import numpy as np"
   ]
  },
  {
   "cell_type": "markdown",
   "metadata": {},
   "source": [
    "## Display utilities"
   ]
  },
  {
   "cell_type": "code",
   "execution_count": 4,
   "metadata": {},
   "outputs": [],
   "source": [
    "# export\n",
    "def submission_preproccessing(df: pd.DataFrame) -> pd.DataFrame:\n",
    "    \"\"\"\n",
    "    Process a submission DataFrame and \n",
    "    splits the ImageId_ClassId column into ImageId and ClassId.\n",
    "    \"\"\"\n",
    "    if not (\"ImageId_ClassId\" in df.columns):\n",
    "        raise ValueError(\"Missing ImageId_ClassId column\")\n",
    "        \n",
    "    splitted_cols = df[\"ImageId_ClassId\"].str.split(\"_\", expand=True)\n",
    "    df[\"ImageId\"], df[\"ClassId\"] = splitted_cols[0], splitted_cols[1].astype(\"int64\")\n",
    "    \n",
    "    return df"
   ]
  },
  {
   "cell_type": "code",
   "execution_count": 5,
   "metadata": {},
   "outputs": [],
   "source": [
    "# export\n",
    "def read_submission(file_name:str = \"ensemble_submission.csv\") -> pd.DataFrame:\n",
    "    \"\"\"\n",
    "    Open a submission csv file in the `sub_path` directory and\n",
    "    return the DataFrame preprocessed with `submission_preproccessing`.\n",
    "    \"\"\"\n",
    "    df = pd.read_csv(sub_path / file_name)\n",
    "    return submission_preproccessing(df)"
   ]
  },
  {
   "cell_type": "code",
   "execution_count": 6,
   "metadata": {},
   "outputs": [
    {
     "data": {
      "text/html": [
       "<div>\n",
       "<style scoped>\n",
       "    .dataframe tbody tr th:only-of-type {\n",
       "        vertical-align: middle;\n",
       "    }\n",
       "\n",
       "    .dataframe tbody tr th {\n",
       "        vertical-align: top;\n",
       "    }\n",
       "\n",
       "    .dataframe thead th {\n",
       "        text-align: right;\n",
       "    }\n",
       "</style>\n",
       "<table border=\"1\" class=\"dataframe\">\n",
       "  <thead>\n",
       "    <tr style=\"text-align: right;\">\n",
       "      <th></th>\n",
       "      <th>ImageId_ClassId</th>\n",
       "      <th>EncodedPixels</th>\n",
       "      <th>ImageId</th>\n",
       "      <th>ClassId</th>\n",
       "    </tr>\n",
       "  </thead>\n",
       "  <tbody>\n",
       "    <tr>\n",
       "      <th>0</th>\n",
       "      <td>0000f269f.jpg_1</td>\n",
       "      <td>NaN</td>\n",
       "      <td>0000f269f.jpg</td>\n",
       "      <td>1</td>\n",
       "    </tr>\n",
       "    <tr>\n",
       "      <th>1</th>\n",
       "      <td>0000f269f.jpg_2</td>\n",
       "      <td>NaN</td>\n",
       "      <td>0000f269f.jpg</td>\n",
       "      <td>2</td>\n",
       "    </tr>\n",
       "    <tr>\n",
       "      <th>2</th>\n",
       "      <td>0000f269f.jpg_3</td>\n",
       "      <td>146418 5 146424 1 146577 30 146608 1 146610 1 146612 21 146638 48 146732 69 146802 1 146808 1 146810 1 146812 1 146820 125 146962 1 146976 225 147208 249 147461 252 147716 253 147971 254 148227 254 148483 254 148739 254 148995 254 149251 254 149507 254 149763 254 150019 254 150275 254 150532 253 150788 253 151045 252 151303 250 151563 246 151848 11 151862 13 151876 189 152152 169 152430 29 152489 1 152491 1 152493 6 152500 7 152557 12</td>\n",
       "      <td>0000f269f.jpg</td>\n",
       "      <td>3</td>\n",
       "    </tr>\n",
       "    <tr>\n",
       "      <th>3</th>\n",
       "      <td>0000f269f.jpg_4</td>\n",
       "      <td>NaN</td>\n",
       "      <td>0000f269f.jpg</td>\n",
       "      <td>4</td>\n",
       "    </tr>\n",
       "    <tr>\n",
       "      <th>4</th>\n",
       "      <td>000ccc2ac.jpg_1</td>\n",
       "      <td>NaN</td>\n",
       "      <td>000ccc2ac.jpg</td>\n",
       "      <td>1</td>\n",
       "    </tr>\n",
       "  </tbody>\n",
       "</table>\n",
       "</div>"
      ],
      "text/plain": [
       "   ImageId_ClassId  \\\n",
       "0  0000f269f.jpg_1   \n",
       "1  0000f269f.jpg_2   \n",
       "2  0000f269f.jpg_3   \n",
       "3  0000f269f.jpg_4   \n",
       "4  000ccc2ac.jpg_1   \n",
       "\n",
       "                                                                                                                                                                                                                                                                                                                                                                                                                                            EncodedPixels  \\\n",
       "0                                                                                                                                                                                                                                                                                                                                                                                                                                                     NaN   \n",
       "1                                                                                                                                                                                                                                                                                                                                                                                                                                                     NaN   \n",
       "2  146418 5 146424 1 146577 30 146608 1 146610 1 146612 21 146638 48 146732 69 146802 1 146808 1 146810 1 146812 1 146820 125 146962 1 146976 225 147208 249 147461 252 147716 253 147971 254 148227 254 148483 254 148739 254 148995 254 149251 254 149507 254 149763 254 150019 254 150275 254 150532 253 150788 253 151045 252 151303 250 151563 246 151848 11 151862 13 151876 189 152152 169 152430 29 152489 1 152491 1 152493 6 152500 7 152557 12   \n",
       "3                                                                                                                                                                                                                                                                                                                                                                                                                                                     NaN   \n",
       "4                                                                                                                                                                                                                                                                                                                                                                                                                                                     NaN   \n",
       "\n",
       "         ImageId  ClassId  \n",
       "0  0000f269f.jpg        1  \n",
       "1  0000f269f.jpg        2  \n",
       "2  0000f269f.jpg        3  \n",
       "3  0000f269f.jpg        4  \n",
       "4  000ccc2ac.jpg        1  "
      ]
     },
     "execution_count": 6,
     "metadata": {},
     "output_type": "execute_result"
    }
   ],
   "source": [
    "file = \"ensemble_submission.csv\"\n",
    "file_df = read_submission(file)\n",
    "file_df.head()"
   ]
  },
  {
   "cell_type": "markdown",
   "metadata": {},
   "source": [
    "Display a sample of 5 images from `train_path`:"
   ]
  },
  {
   "cell_type": "code",
   "execution_count": 7,
   "metadata": {},
   "outputs": [
    {
     "data": {
      "application/vnd.jupyter.widget-view+json": {
       "model_id": "9189a3da4e51420c825b2e6367ecbd0b",
       "version_major": 2,
       "version_minor": 0
      },
      "text/plain": [
       "interactive(children=(Dropdown(description='file', options=('dc3740c5c.jpg', '6143631ab.jpg', '44a9fd510.jpg',…"
      ]
     },
     "metadata": {},
     "output_type": "display_data"
    }
   ],
   "source": [
    "sample_images_from_path = L(os.listdir(str(train_path))).shuffle()[:5]\n",
    "\n",
    "@interact_manual \n",
    "def show_images(file=sample_images_from_path):\n",
    "    display(Image(train_path/file))"
   ]
  },
  {
   "cell_type": "markdown",
   "metadata": {},
   "source": [
    "## Display a submission"
   ]
  },
  {
   "cell_type": "markdown",
   "metadata": {},
   "source": [
    "Per visualizzare un campione di 5 immagini, selezionare dall'elenco a discesa la *submission* e successivamente la *ClassId* e infine il nome dell'immagine."
   ]
  },
  {
   "cell_type": "code",
   "execution_count": 8,
   "metadata": {},
   "outputs": [],
   "source": [
    "# export\n",
    "subs =[file for file in os.listdir(str(sub_path)) if file.endswith(\".csv\")]\n",
    "\n",
    "def read_submission_file(submission = subs) -> pd.DataFrame:\n",
    "    df = pd.read_csv(sub_path / submission)\n",
    "    return submission_preproccessing(df)\n",
    "\n",
    "def select_classid(ClassId=[1,2,3,4]):\n",
    "    df = submission.result\n",
    "    cond_NaN = df.EncodedPixels.notna()\n",
    "    cond_ClassId = df['ClassId'] == ClassId\n",
    "    return df.loc[cond_NaN & cond_ClassId].sample(n=5)"
   ]
  },
  {
   "cell_type": "code",
   "execution_count": 9,
   "metadata": {},
   "outputs": [
    {
     "data": {
      "application/vnd.jupyter.widget-view+json": {
       "model_id": "970fea0117b24a12a13221c9e6e99748",
       "version_major": 2,
       "version_minor": 0
      },
      "text/plain": [
       "interactive(children=(Dropdown(description='submission', options=('resnet34_fastai_sub.csv', 'ensemble_submiss…"
      ]
     },
     "metadata": {},
     "output_type": "display_data"
    }
   ],
   "source": [
    "submission = interactive(read_submission_file)\n",
    "display(submission)"
   ]
  },
  {
   "cell_type": "code",
   "execution_count": 10,
   "metadata": {},
   "outputs": [
    {
     "data": {
      "application/vnd.jupyter.widget-view+json": {
       "model_id": "ad7d0c212d6e42f281c9ca0e73fdf892",
       "version_major": 2,
       "version_minor": 0
      },
      "text/plain": [
       "interactive(children=(Dropdown(description='ClassId', options=(1, 2, 3, 4), value=1), Output()), _dom_classes=…"
      ]
     },
     "metadata": {},
     "output_type": "display_data"
    }
   ],
   "source": [
    "class_selection = interactive(select_classid)\n",
    "display(class_selection)"
   ]
  },
  {
   "cell_type": "code",
   "execution_count": 11,
   "metadata": {},
   "outputs": [
    {
     "data": {
      "application/vnd.jupyter.widget-view+json": {
       "model_id": "0738ecb787b24c949a9631e255685a18",
       "version_major": 2,
       "version_minor": 0
      },
      "text/plain": [
       "interactive(children=(Dropdown(description='file', options=('88afdeeb8.jpg', '7a5288cb8.jpg', 'd4a0cb9af.jpg',…"
      ]
     },
     "metadata": {},
     "output_type": "display_data"
    }
   ],
   "source": [
    "df = class_selection.result\n",
    "images = widgets.Dropdown(options=df.ImageId.to_list())\n",
    "\n",
    "def update_imgids(*args):\n",
    "    images.value = df.loc[cond].ImageId.to_list()\n",
    "\n",
    "# Tie the image options to submission value\n",
    "submission.observe(update_imgids, 'value')\n",
    "\n",
    "# Show the images\n",
    "def show_images(file):\n",
    "    display(Image(test_path/file))\n",
    "\n",
    "sub_img = interactive(show_images, file=images)\n",
    "display(sub_img)"
   ]
  },
  {
   "cell_type": "markdown",
   "metadata": {},
   "source": [
    "## Compare"
   ]
  },
  {
   "cell_type": "markdown",
   "metadata": {},
   "source": [
    "Per visualizzare invece immagini dal training o test set:"
   ]
  },
  {
   "cell_type": "code",
   "execution_count": 12,
   "metadata": {
    "scrolled": true
   },
   "outputs": [
    {
     "data": {
      "application/vnd.jupyter.widget-view+json": {
       "model_id": "eceb51c7891e42309e4839e7382ce8b5",
       "version_major": 2,
       "version_minor": 0
      },
      "text/plain": [
       "interactive(children=(Dropdown(description='fdir', options=('../data/train_images', '../data/test_images'), va…"
      ]
     },
     "metadata": {},
     "output_type": "display_data"
    }
   ],
   "source": [
    "# Create widgets\n",
    "directory = widgets.Dropdown(options=[str(train_path), str(test_path)])\n",
    "images = widgets.Dropdown(options=os.listdir(directory.value))\n",
    "\n",
    "# Updates the image options based on directory value\n",
    "def update_images(*args):\n",
    "    images.options = os.listdir(directory.value)\n",
    "# Tie the image options to directory value\n",
    "directory.observe(update_images, 'value')\n",
    "\n",
    "# Show the images\n",
    "def show_images(fdir, file):\n",
    "    display(Image(f'{fdir}/{file}'))\n",
    "\n",
    "img = interactive(show_images, fdir=directory, file=images)\n",
    "display(img)"
   ]
  },
  {
   "cell_type": "code",
   "execution_count": 13,
   "metadata": {},
   "outputs": [
    {
     "data": {
      "application/vnd.jupyter.widget-view+json": {
       "model_id": "66045d7676814e2b8e27ac90dfe31db4",
       "version_major": 2,
       "version_minor": 0
      },
      "text/plain": [
       "interactive(children=(Dropdown(description='file', options=('054190eb2.jpg', '73aa2aa79.jpg', '69f87ba66.jpg',…"
      ]
     },
     "metadata": {},
     "output_type": "display_data"
    }
   ],
   "source": [
    "# Show the images\n",
    "def show_images(file):\n",
    "    plot_defected_image(Path(train_path)/file)\n",
    "\n",
    "img = interactive(show_images, file=images)\n",
    "display(img)"
   ]
  },
  {
   "cell_type": "code",
   "execution_count": null,
   "metadata": {},
   "outputs": [],
   "source": []
  }
 ],
 "metadata": {
  "kernelspec": {
   "display_name": "Python 3",
   "language": "python",
   "name": "python3"
  },
  "language_info": {
   "codemirror_mode": {
    "name": "ipython",
    "version": 3
   },
   "file_extension": ".py",
   "mimetype": "text/x-python",
   "name": "python",
   "nbconvert_exporter": "python",
   "pygments_lexer": "ipython3",
   "version": "3.8.5"
  },
  "toc": {
   "base_numbering": 1,
   "nav_menu": {},
   "number_sections": true,
   "sideBar": true,
   "skip_h1_title": false,
   "title_cell": "Table of Contents",
   "title_sidebar": "Contents",
   "toc_cell": false,
   "toc_position": {},
   "toc_section_display": true,
   "toc_window_display": false
  },
  "varInspector": {
   "cols": {
    "lenName": 16,
    "lenType": 16,
    "lenVar": 40
   },
   "kernels_config": {
    "python": {
     "delete_cmd_postfix": "",
     "delete_cmd_prefix": "del ",
     "library": "var_list.py",
     "varRefreshCmd": "print(var_dic_list())"
    },
    "r": {
     "delete_cmd_postfix": ") ",
     "delete_cmd_prefix": "rm(",
     "library": "var_list.r",
     "varRefreshCmd": "cat(var_dic_list()) "
    }
   },
   "types_to_exclude": [
    "module",
    "function",
    "builtin_function_or_method",
    "instance",
    "_Feature"
   ],
   "window_display": false
  }
 },
 "nbformat": 4,
 "nbformat_minor": 4
}
