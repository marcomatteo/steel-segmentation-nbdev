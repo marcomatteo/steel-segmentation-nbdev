{
 "cells": [
  {
   "cell_type": "code",
   "execution_count": null,
   "metadata": {},
   "outputs": [],
   "source": [
    "%load_ext autoreload\n",
    "%autoreload 2\n",
    "%matplotlib inline"
   ]
  },
  {
   "cell_type": "code",
   "execution_count": null,
   "metadata": {},
   "outputs": [],
   "source": [
    "#export\n",
    "from exp.nb_02 import *"
   ]
  },
  {
   "cell_type": "markdown",
   "metadata": {},
   "source": [
    "<h1>Table of Contents<span class=\"tocSkip\"></span></h1>\n",
    "<div class=\"toc\"><ul class=\"toc-item\"><li><span><a href=\"#Codes\" data-toc-modified-id=\"Codes-1\"><span class=\"toc-item-num\">1&nbsp;&nbsp;</span>Codes</a></span></li><li><span><a href=\"#Labels\" data-toc-modified-id=\"Labels-2\"><span class=\"toc-item-num\">2&nbsp;&nbsp;</span>Labels</a></span></li><li><span><a href=\"#Cropping\" data-toc-modified-id=\"Cropping-3\"><span class=\"toc-item-num\">3&nbsp;&nbsp;</span>Cropping</a></span></li></ul></div>"
   ]
  },
  {
   "cell_type": "code",
   "execution_count": null,
   "metadata": {},
   "outputs": [
    {
     "name": "stdout",
     "output_type": "stream",
     "text": [
      "data/severstal/sample_submission.csv\n",
      "data/severstal/train.csv\n",
      "data/severstal/labels\n",
      "data/severstal/train_images\n",
      "data/severstal/test_images\n",
      "data/severstal/.ipynb_checkpoints\n",
      "data/severstal/codes.txt\n"
     ]
    }
   ],
   "source": [
    "print_competition_data()"
   ]
  },
  {
   "cell_type": "markdown",
   "metadata": {},
   "source": [
    "For FastAI Segmentation DataLoader we need to build :\n",
    "\n",
    "1. the codes: the type of pixels in the images\n",
    "\n",
    "2. the labels: the masks for each image\n",
    "\n",
    "3. Cropping the images"
   ]
  },
  {
   "cell_type": "markdown",
   "metadata": {},
   "source": [
    "# Codes"
   ]
  },
  {
   "cell_type": "markdown",
   "metadata": {},
   "source": [
    "(Optional) Codes are the labels for the corrisponding pixel values in the mask images."
   ]
  },
  {
   "cell_type": "code",
   "execution_count": null,
   "metadata": {},
   "outputs": [
    {
     "data": {
      "text/plain": [
       "array([0, 1, 2, 3, 4], dtype=uint8)"
      ]
     },
     "execution_count": null,
     "metadata": {},
     "output_type": "execute_result"
    }
   ],
   "source": [
    "codes_file_name = \"codes.txt\"\n",
    "codes_path = Path(path/codes_file_name)\n",
    "\n",
    "if not codes_path.is_file():\n",
    "    classes = np.unique(train.ClassId.values)\n",
    "    classes = np.insert(classes, 0, 0)\n",
    "    np.savetxt(path/'codes.txt', classes, fmt='%u')\n",
    "else:\n",
    "    classes = np.loadtxt(codes_path, dtype=np.uint8)\n",
    "\n",
    "classes"
   ]
  },
  {
   "cell_type": "markdown",
   "metadata": {},
   "source": [
    "# Labels"
   ]
  },
  {
   "cell_type": "markdown",
   "metadata": {},
   "source": [
    "Labels are the masks for the training images. \n",
    "\n",
    "As a first approach, i tried to create masks only for the images that present a defect. But this will exclude all the good images that can be used to teach to the model to recognize good steel pixels.\n",
    "\n",
    "Now I created the masks for all the images in the training folder.\n",
    "\n",
    "**NB: masks must be PNG files and not JPEG because JPEG's compression makes the labels get messed up occasionally** ([source](#https://forums.fast.ai/t/unet-learner-failing-with-a-cuda-device-assert/66747/4))"
   ]
  },
  {
   "cell_type": "code",
   "execution_count": null,
   "metadata": {},
   "outputs": [],
   "source": [
    "labels_dir = path / \"labels\"\n",
    "\n",
    "def create_masks(df: pd.DataFrame):\n",
    "    \"\"\"Create the mask files under the labels_dir\"\"\"\n",
    "    for img_path in get_selected_imgs_path(df):\n",
    "        mask = multi_rle_to_mask(img_path)\n",
    "        im = Image.fromarray(mask)\n",
    "        im.save(labels_dir/f\"{img_path.stem}_P.png\")"
   ]
  },
  {
   "cell_type": "code",
   "execution_count": null,
   "metadata": {},
   "outputs": [],
   "source": [
    "# !rm -rf {str(labels_dir)}"
   ]
  },
  {
   "cell_type": "code",
   "execution_count": null,
   "metadata": {},
   "outputs": [
    {
     "data": {
      "text/plain": [
       "(#12568) [Path('data/severstal/labels/54fd0b997_P.png'),Path('data/severstal/labels/5f5a2e357_P.png'),Path('data/severstal/labels/3ab4ca44c_P.png'),Path('data/severstal/labels/5b202c6f5_P.png'),Path('data/severstal/labels/026183d85_P.png'),Path('data/severstal/labels/5acf0f8cd_P.png'),Path('data/severstal/labels/79b696401_P.png'),Path('data/severstal/labels/65d8eae69_P.png'),Path('data/severstal/labels/637a0124c_P.png'),Path('data/severstal/labels/f95e24d0a_P.png')...]"
      ]
     },
     "execution_count": null,
     "metadata": {},
     "output_type": "execute_result"
    }
   ],
   "source": [
    "if not labels_dir.is_dir():\n",
    "    labels_dir.mkdir(parents=True, exist_ok=True)\n",
    "    create_masks(train_all)\n",
    "\n",
    "labels_dir.ls()"
   ]
  },
  {
   "cell_type": "markdown",
   "metadata": {},
   "source": [
    "With the PNG extension, the multi-label segmentation problem would seem desappear."
   ]
  },
  {
   "cell_type": "code",
   "execution_count": null,
   "metadata": {},
   "outputs": [],
   "source": [
    "mask_paths = get_image_files(labels_dir)\n",
    "dotest = False"
   ]
  },
  {
   "cell_type": "code",
   "execution_count": null,
   "metadata": {},
   "outputs": [],
   "source": [
    "# Test if all is working as expected\n",
    "if dotest:\n",
    "    n = len(mask_paths)\n",
    "    idx = get_random_idx(n)\n",
    "    pixels = set()\n",
    "    for p in mask_paths[idx]:\n",
    "        pixels_founded = np.unique(np.array(Image.open(p)))\n",
    "        pixels = pixels.union(set(pixels_founded))\n",
    "    pixels"
   ]
  },
  {
   "cell_type": "markdown",
   "metadata": {},
   "source": [
    "# Cropping"
   ]
  },
  {
   "cell_type": "markdown",
   "metadata": {},
   "source": [
    "The standard size of the images is `(256, 1600)` and maybe it's because of this that I always go out of memory in the GPU."
   ]
  },
  {
   "cell_type": "code",
   "execution_count": null,
   "metadata": {},
   "outputs": [],
   "source": []
  }
 ],
 "metadata": {
  "kernelspec": {
   "display_name": "Python 3",
   "language": "python",
   "name": "python3"
  }
 },
 "nbformat": 4,
 "nbformat_minor": 4
}
