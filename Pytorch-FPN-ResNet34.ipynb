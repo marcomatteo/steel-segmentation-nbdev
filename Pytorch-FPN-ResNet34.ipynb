{
 "cells": [
  {
   "cell_type": "markdown",
   "metadata": {},
   "source": [
    "# Segmentation Pytorch FPN-ResNet34\n",
    "\n",
    "> Pytorch solution from Kaggle template."
   ]
  },
  {
   "cell_type": "markdown",
   "metadata": {},
   "source": [
    "This notebook uses a FPN backbone model with pretrained resnet34 encoder, with simple augmentations using albumentations library, uses BCE loss, metrics like Dice and IoU. The segmentation model is from [segmentation_models.pytorch](https://github.com/qubvel/segmentation_models.pytorch) which comes with a lot pre-implemented segmentation architectures. \n",
    "\n",
    "The kaggle template from which I've borrowed this code is: https://www.kaggle.com/rishabhiitbhu/unet-pytorch-inference-kernel."
   ]
  },
  {
   "cell_type": "code",
   "execution_count": 1,
   "metadata": {},
   "outputs": [],
   "source": [
    "%load_ext autoreload\n",
    "%autoreload 2\n",
    "%matplotlib inline"
   ]
  },
  {
   "cell_type": "code",
   "execution_count": 2,
   "metadata": {},
   "outputs": [],
   "source": [
    "import warnings\n",
    "import random\n",
    "import os\n",
    "import cv2\n",
    "from tqdm import tqdm\n",
    "import pandas as pd\n",
    "import numpy as np\n",
    "\n",
    "from steel_segmentation.metadata import *\n",
    "from steel_segmentation.masks import *\n",
    "from steel_segmentation.dataloaders import *\n",
    "from steel_segmentation.metrics import *\n",
    "from steel_segmentation.trainer import *\n",
    "from steel_segmentation.predict import *\n",
    "\n",
    "from fastai.callback.progress import ProgressCallback\n",
    "from fastai.callback.data import CudaCallback\n",
    "from fastai.callback.progress import CSVLogger\n",
    "from fastai.callback.training import GradientAccumulation\n",
    "from fastai.callback.tracker import ReduceLROnPlateau, SaveModelCallback\n",
    "from fastai.data.core import DataLoaders\n",
    "from fastai.learner import Learner\n",
    "from fastai.losses import BCEWithLogitsLossFlat\n",
    "from fastai.optimizer import OptimWrapper\n",
    "from matplotlib import pyplot as plt\n",
    "\n",
    "import torch\n",
    "import torch.backends.cudnn as cudnn\n",
    "from torch.utils.data import DataLoader, Dataset\n",
    "from torch import optim\n",
    "import torch.utils.data as data\n",
    "import albumentations as alb\n",
    "from albumentations.pytorch import ToTensor\n",
    "\n",
    "import segmentation_models_pytorch as smp\n",
    "\n",
    "warnings.filterwarnings(\"ignore\")\n",
    "seed = 69\n",
    "random.seed(seed)\n",
    "os.environ[\"PYTHONHASHSEED\"] = str(seed)\n",
    "np.random.seed(seed)\n",
    "torch.cuda.manual_seed(seed)\n",
    "torch.backends.cudnn.deterministic = True"
   ]
  },
  {
   "cell_type": "code",
   "execution_count": 3,
   "metadata": {},
   "outputs": [
    {
     "data": {
      "text/plain": [
       "'cuda'"
      ]
     },
     "execution_count": 3,
     "metadata": {},
     "output_type": "execute_result"
    }
   ],
   "source": [
    "torch.device(\"cuda:0\").type"
   ]
  },
  {
   "cell_type": "code",
   "execution_count": 4,
   "metadata": {},
   "outputs": [
    {
     "data": {
      "text/plain": [
       "True"
      ]
     },
     "execution_count": 4,
     "metadata": {},
     "output_type": "execute_result"
    }
   ],
   "source": [
    "torch.cuda.is_available()"
   ]
  },
  {
   "cell_type": "code",
   "execution_count": 5,
   "metadata": {},
   "outputs": [],
   "source": [
    "torch.cuda.empty_cache()"
   ]
  },
  {
   "cell_type": "code",
   "execution_count": 6,
   "metadata": {
    "scrolled": true
   },
   "outputs": [
    {
     "name": "stdout",
     "output_type": "stream",
     "text": [
      "Fri Mar  5 18:28:27 2021       \n",
      "+-----------------------------------------------------------------------------+\n",
      "| NVIDIA-SMI 450.36.06    Driver Version: 450.36.06    CUDA Version: 11.0     |\n",
      "|-------------------------------+----------------------+----------------------+\n",
      "| GPU  Name        Persistence-M| Bus-Id        Disp.A | Volatile Uncorr. ECC |\n",
      "| Fan  Temp  Perf  Pwr:Usage/Cap|         Memory-Usage | GPU-Util  Compute M. |\n",
      "|                               |                      |               MIG M. |\n",
      "|===============================+======================+======================|\n",
      "|   0  Quadro P5000        On   | 00000000:00:05.0 Off |                  Off |\n",
      "| 26%   35C    P0    44W / 180W |   2762MiB / 16278MiB |      0%      Default |\n",
      "|                               |                      |                  N/A |\n",
      "+-------------------------------+----------------------+----------------------+\n",
      "                                                                               \n",
      "+-----------------------------------------------------------------------------+\n",
      "| Processes:                                                                  |\n",
      "|  GPU   GI   CI        PID   Type   Process name                  GPU Memory |\n",
      "|        ID   ID                                                   Usage      |\n",
      "|=============================================================================|\n",
      "+-----------------------------------------------------------------------------+\n"
     ]
    }
   ],
   "source": [
    "!nvidia-smi"
   ]
  },
  {
   "cell_type": "code",
   "execution_count": 7,
   "metadata": {},
   "outputs": [
    {
     "name": "stdout",
     "output_type": "stream",
     "text": [
      "models/fastai-UNET-ResNet34-256-stage5.pth\n",
      "models/.ipynb_checkpoints\n",
      "models/kaggle-UNET-ResNet34.pth\n",
      "models/fastai-UNET-ResNet34-256-stage3.pth\n",
      "models/kaggle-FPN-ResNet34.pth\n"
     ]
    }
   ],
   "source": [
    "print_competition_data(models_dir)"
   ]
  },
  {
   "cell_type": "markdown",
   "metadata": {},
   "source": [
    "## Model creation"
   ]
  },
  {
   "cell_type": "code",
   "execution_count": 8,
   "metadata": {},
   "outputs": [],
   "source": [
    "model = smp.FPN(\"resnet34\", encoder_weights='imagenet', classes=4, activation=None)"
   ]
  },
  {
   "cell_type": "code",
   "execution_count": 9,
   "metadata": {},
   "outputs": [
    {
     "data": {
      "text/plain": [
       "<All keys matched successfully>"
      ]
     },
     "execution_count": 9,
     "metadata": {},
     "output_type": "execute_result"
    }
   ],
   "source": [
    "loaded_dict = torch.load(models_dir/\"kaggle-FPN-ResNet34.pth\")\n",
    "model.load_state_dict(loaded_dict[\"state_dict\"], strict=True)"
   ]
  },
  {
   "cell_type": "markdown",
   "metadata": {},
   "source": [
    "## Alternative training with FastAi"
   ]
  },
  {
   "cell_type": "markdown",
   "metadata": {},
   "source": [
    "With this [guide](https://forums.fast.ai/t/using-pytorch-in-the-fastai-framework-a-guide/85770) we can train a pure pytorch model with the FastAi `Learner` class.\n",
    "\n",
    "First, we need to grab the pytorch dataloaders and create a `DataLoaders` object."
   ]
  },
  {
   "cell_type": "code",
   "execution_count": 10,
   "metadata": {},
   "outputs": [],
   "source": [
    "bs = 16"
   ]
  },
  {
   "cell_type": "code",
   "execution_count": 11,
   "metadata": {},
   "outputs": [],
   "source": [
    "train_dls = get_train_dls(phase=\"train\", batch_size=bs, num_workers=6)\n",
    "valid_dls = get_train_dls(phase=\"val\", batch_size=bs, num_workers=6)"
   ]
  },
  {
   "cell_type": "code",
   "execution_count": 12,
   "metadata": {},
   "outputs": [],
   "source": [
    "dls = DataLoaders(train_dls, valid_dls)"
   ]
  },
  {
   "cell_type": "markdown",
   "metadata": {},
   "source": [
    "Then we need to convert a pytorch optimizer with a FastAi `OptimWrapper`."
   ]
  },
  {
   "cell_type": "code",
   "execution_count": 13,
   "metadata": {},
   "outputs": [],
   "source": [
    "def opt_func(params, lr=4e-5, *args, **kwargs):\n",
    "    \"\"\"Basic optimizer wrapper function\"\"\"\n",
    "    return OptimWrapper(optim.Adam(params, lr=lr), *args, **kwargs)"
   ]
  },
  {
   "cell_type": "markdown",
   "metadata": {},
   "source": [
    "The model in `model_trainer` is already in the GPU so it doesn't need the `CudaCallback`."
   ]
  },
  {
   "cell_type": "markdown",
   "metadata": {},
   "source": [
    "The loss function is the same and then we can create a `Learner`."
   ]
  },
  {
   "cell_type": "code",
   "execution_count": 14,
   "metadata": {},
   "outputs": [],
   "source": [
    "loss_fn = torch.nn.BCEWithLogitsLoss()"
   ]
  },
  {
   "cell_type": "code",
   "execution_count": 15,
   "metadata": {},
   "outputs": [],
   "source": [
    "cbs = [\n",
    "    CudaCallback(),\n",
    "    CSVLogger(fname=\"fastai-FPN-ResNet34\"),\n",
    "    ReduceLROnPlateau(monitor='valid_loss', min_delta=0.1, patience=2),\n",
    "    GradientAccumulation(n_acc=32),\n",
    "    SaveModelCallback()\n",
    "]"
   ]
  },
  {
   "cell_type": "code",
   "execution_count": 16,
   "metadata": {},
   "outputs": [],
   "source": [
    "learn = Learner(\n",
    "    dls, \n",
    "    model, \n",
    "    loss_func=loss_fn, \n",
    "    opt_func=opt_func, \n",
    "    cbs=cbs, \n",
    "    metrics=ModDiceMulti).to_fp16() "
   ]
  },
  {
   "cell_type": "code",
   "execution_count": 17,
   "metadata": {
    "scrolled": true
   },
   "outputs": [
    {
     "data": {
      "text/html": [],
      "text/plain": [
       "<IPython.core.display.HTML object>"
      ]
     },
     "metadata": {},
     "output_type": "display_data"
    },
    {
     "data": {
      "text/plain": [
       "SuggestedLRs(lr_min=0.005754399299621582, lr_steep=0.04786301031708717)"
      ]
     },
     "execution_count": 17,
     "metadata": {},
     "output_type": "execute_result"
    },
    {
     "data": {
      "image/png": "[encoded data removed]",
      "text/plain": [
       "<Figure size 432x288 with 1 Axes>"
      ]
     },
     "metadata": {
      "needs_background": "light"
     },
     "output_type": "display_data"
    }
   ],
   "source": [
    "learn.lr_find()"
   ]
  },
  {
   "cell_type": "code",
   "execution_count": 17,
   "metadata": {
    "scrolled": false
   },
   "outputs": [
    {
     "data": {
      "text/html": [
       "<table border=\"1\" class=\"dataframe\">\n",
       "  <thead>\n",
       "    <tr style=\"text-align: left;\">\n",
       "      <th>epoch</th>\n",
       "      <th>train_loss</th>\n",
       "      <th>valid_loss</th>\n",
       "      <th>mod_dice_multi</th>\n",
       "      <th>time</th>\n",
       "    </tr>\n",
       "  </thead>\n",
       "  <tbody>\n",
       "    <tr>\n",
       "      <td>0</td>\n",
       "      <td>0.006152</td>\n",
       "      <td>0.009734</td>\n",
       "      <td>0.101445</td>\n",
       "      <td>08:57</td>\n",
       "    </tr>\n",
       "    <tr>\n",
       "      <td>1</td>\n",
       "      <td>0.006445</td>\n",
       "      <td>0.009869</td>\n",
       "      <td>0.096908</td>\n",
       "      <td>08:44</td>\n",
       "    </tr>\n",
       "    <tr>\n",
       "      <td>2</td>\n",
       "      <td>0.005924</td>\n",
       "      <td>0.010266</td>\n",
       "      <td>0.110263</td>\n",
       "      <td>08:44</td>\n",
       "    </tr>\n",
       "    <tr>\n",
       "      <td>3</td>\n",
       "      <td>0.005355</td>\n",
       "      <td>0.010198</td>\n",
       "      <td>0.105295</td>\n",
       "      <td>08:43</td>\n",
       "    </tr>\n",
       "    <tr>\n",
       "      <td>4</td>\n",
       "      <td>0.005031</td>\n",
       "      <td>0.010059</td>\n",
       "      <td>0.103221</td>\n",
       "      <td>08:43</td>\n",
       "    </tr>\n",
       "  </tbody>\n",
       "</table>"
      ],
      "text/plain": [
       "<IPython.core.display.HTML object>"
      ]
     },
     "metadata": {},
     "output_type": "display_data"
    },
    {
     "name": "stdout",
     "output_type": "stream",
     "text": [
      "Better model found at epoch 0 with valid_loss value: 0.009733607061207294.\n"
     ]
    }
   ],
   "source": [
    "learn.fit(5, lr=1e-4)"
   ]
  },
  {
   "cell_type": "code",
   "execution_count": null,
   "metadata": {},
   "outputs": [],
   "source": [
    "learn.metrics = "
   ]
  },
  {
   "cell_type": "markdown",
   "metadata": {},
   "source": [
    "## Pytorch training"
   ]
  },
  {
   "cell_type": "code",
   "execution_count": 13,
   "metadata": {},
   "outputs": [],
   "source": [
    "model_trainer = Trainer(model, save_path=models_dir/\"kaggle-FPN-ResNet34-stage2.pth\", bs=32)"
   ]
  },
  {
   "cell_type": "markdown",
   "metadata": {},
   "source": [
    "Training FPN:"
   ]
  },
  {
   "cell_type": "code",
   "execution_count": null,
   "metadata": {
    "scrolled": false
   },
   "outputs": [
    {
     "name": "stdout",
     "output_type": "stream",
     "text": [
      "Starting epoch: 0 | phase: train | ⏰: 13:55:19\n",
      "Loss: 0.0242 | IoU: 0.2544 | dice: 0.5642 | dice_neg: 0.8215 | dice_pos: 0.3338\n",
      "Starting epoch: 0 | phase: val | ⏰: 14:06:21\n",
      "Loss: 0.0168 | IoU: 0.3528 | dice: 0.6079 | dice_neg: 0.7812 | dice_pos: 0.4612\n",
      "******** New optimal found, saving state ********\n",
      "\n",
      "Starting epoch: 1 | phase: train | ⏰: 14:08:38\n",
      "Loss: 0.0147 | IoU: 0.3673 | dice: 0.6472 | dice_neg: 0.8425 | dice_pos: 0.4722\n",
      "Starting epoch: 1 | phase: val | ⏰: 14:19:29\n",
      "Loss: 0.0177 | IoU: 0.3094 | dice: 0.6462 | dice_neg: 0.9245 | dice_pos: 0.4108\n",
      "\n",
      "Starting epoch: 2 | phase: train | ⏰: 14:21:19\n",
      "Loss: 0.0144 | IoU: 0.3834 | dice: 0.6518 | dice_neg: 0.8307 | dice_pos: 0.4915\n",
      "Starting epoch: 2 | phase: val | ⏰: 14:32:09\n",
      "Loss: 0.0121 | IoU: 0.4191 | dice: 0.6985 | dice_neg: 0.9045 | dice_pos: 0.5243\n",
      "******** New optimal found, saving state ********\n",
      "\n",
      "Starting epoch: 3 | phase: train | ⏰: 14:34:17\n",
      "Loss: 0.0120 | IoU: 0.4361 | dice: 0.6992 | dice_neg: 0.8638 | dice_pos: 0.5518\n",
      "Starting epoch: 3 | phase: val | ⏰: 14:45:06\n",
      "Loss: 0.0124 | IoU: 0.3860 | dice: 0.6931 | dice_neg: 0.9384 | dice_pos: 0.4856\n",
      "\n",
      "Starting epoch: 4 | phase: train | ⏰: 14:46:56\n",
      "Loss: 0.0114 | IoU: 0.4640 | dice: 0.7236 | dice_neg: 0.8827 | dice_pos: 0.5811\n",
      "Starting epoch: 4 | phase: val | ⏰: 14:57:48\n",
      "Loss: 0.0143 | IoU: 0.4836 | dice: 0.6737 | dice_neg: 0.7526 | dice_pos: 0.6070\n",
      "\n",
      "Starting epoch: 5 | phase: train | ⏰: 14:59:39\n",
      "Loss: 0.0110 | IoU: 0.4750 | dice: 0.7217 | dice_neg: 0.8644 | dice_pos: 0.5940\n",
      "Starting epoch: 5 | phase: val | ⏰: 15:10:28\n",
      "Loss: 0.0114 | IoU: 0.4827 | dice: 0.7459 | dice_neg: 0.9184 | dice_pos: 0.5999\n",
      "******** New optimal found, saving state ********\n",
      "\n",
      "Starting epoch: 6 | phase: train | ⏰: 15:12:37\n",
      "Loss: 0.0102 | IoU: 0.4942 | dice: 0.7450 | dice_neg: 0.8893 | dice_pos: 0.6158\n",
      "Starting epoch: 6 | phase: val | ⏰: 15:23:30\n",
      "Loss: 0.0123 | IoU: 0.4418 | dice: 0.7400 | dice_neg: 0.9566 | dice_pos: 0.5567\n",
      "\n",
      "Starting epoch: 7 | phase: train | ⏰: 15:25:21\n",
      "Loss: 0.0105 | IoU: 0.4937 | dice: 0.7389 | dice_neg: 0.8781 | dice_pos: 0.6142\n",
      "Starting epoch: 7 | phase: val | ⏰: 15:36:10\n",
      "Loss: 0.0149 | IoU: 0.5052 | dice: 0.6369 | dice_neg: 0.6458 | dice_pos: 0.6293\n",
      "\n",
      "Starting epoch: 8 | phase: train | ⏰: 15:38:00\n",
      "Loss: 0.0100 | IoU: 0.5098 | dice: 0.7537 | dice_neg: 0.8916 | dice_pos: 0.6303\n",
      "Starting epoch: 8 | phase: val | ⏰: 15:48:49\n",
      "Loss: 0.0110 | IoU: 0.5248 | dice: 0.7394 | dice_neg: 0.8464 | dice_pos: 0.6489\n",
      "******** New optimal found, saving state ********\n",
      "\n",
      "Starting epoch: 9 | phase: train | ⏰: 15:50:57\n",
      "Loss: 0.0095 | IoU: 0.5210 | dice: 0.7644 | dice_neg: 0.9025 | dice_pos: 0.6407\n",
      "Starting epoch: 9 | phase: val | ⏰: 16:01:47\n",
      "Loss: 0.0115 | IoU: 0.5272 | dice: 0.7248 | dice_neg: 0.8099 | dice_pos: 0.6529\n",
      "\n",
      "Starting epoch: 10 | phase: train | ⏰: 16:03:37\n",
      "Loss: 0.0089 | IoU: 0.5320 | dice: 0.7731 | dice_neg: 0.9065 | dice_pos: 0.6536\n",
      "Starting epoch: 10 | phase: val | ⏰: 16:14:28\n",
      "Loss: 0.0115 | IoU: 0.5252 | dice: 0.7636 | dice_neg: 0.8993 | dice_pos: 0.6488\n",
      "\n",
      "Starting epoch: 11 | phase: train | ⏰: 16:16:19\n",
      "Loss: 0.0097 | IoU: 0.5186 | dice: 0.7636 | dice_neg: 0.9013 | dice_pos: 0.6402\n",
      "Starting epoch: 11 | phase: val | ⏰: 16:27:11\n",
      "Loss: 0.0106 | IoU: 0.5355 | dice: 0.7759 | dice_neg: 0.9106 | dice_pos: 0.6620\n",
      "******** New optimal found, saving state ********\n",
      "\n",
      "Starting epoch: 12 | phase: train | ⏰: 16:29:19\n",
      "Loss: 0.0091 | IoU: 0.5321 | dice: 0.7748 | dice_neg: 0.9097 | dice_pos: 0.6540\n",
      "Starting epoch: 12 | phase: val | ⏰: 16:40:11\n",
      "Loss: 0.0113 | IoU: 0.5326 | dice: 0.7422 | dice_neg: 0.8455 | dice_pos: 0.6548\n",
      "\n",
      "Starting epoch: 13 | phase: train | ⏰: 16:42:01\n",
      "Loss: 0.0086 | IoU: 0.5445 | dice: 0.7834 | dice_neg: 0.9154 | dice_pos: 0.6653\n",
      "Starting epoch: 13 | phase: val | ⏰: 16:52:54\n",
      "Loss: 0.0110 | IoU: 0.5191 | dice: 0.7627 | dice_neg: 0.8984 | dice_pos: 0.6479\n",
      "\n",
      "Starting epoch: 14 | phase: train | ⏰: 16:54:45\n",
      "Loss: 0.0080 | IoU: 0.5593 | dice: 0.7967 | dice_neg: 0.9267 | dice_pos: 0.6803\n",
      "Starting epoch: 14 | phase: val | ⏰: 17:05:35\n",
      "Loss: 0.0105 | IoU: 0.5169 | dice: 0.7657 | dice_neg: 0.9201 | dice_pos: 0.6351\n",
      "******** New optimal found, saving state ********\n",
      "\n",
      "Starting epoch: 15 | phase: train | ⏰: 17:07:44\n",
      "Loss: 0.0085 | IoU: 0.5535 | dice: 0.7894 | dice_neg: 0.9158 | dice_pos: 0.6762\n",
      "Starting epoch: 15 | phase: val | ⏰: 17:18:35\n",
      "Loss: 0.0146 | IoU: 0.5053 | dice: 0.6919 | dice_neg: 0.7717 | dice_pos: 0.6243\n",
      "\n",
      "Starting epoch: 16 | phase: train | ⏰: 17:20:26\n",
      "Loss: 0.0103 | IoU: 0.4983 | dice: 0.7474 | dice_neg: 0.8935 | dice_pos: 0.6166\n",
      "Starting epoch: 16 | phase: val | ⏰: 17:31:16\n",
      "Loss: 0.0109 | IoU: 0.5008 | dice: 0.7661 | dice_neg: 0.9427 | dice_pos: 0.6167\n",
      "\n",
      "Starting epoch: 17 | phase: train | ⏰: 17:33:06\n",
      "Loss: 0.0081 | IoU: 0.5599 | dice: 0.7949 | dice_neg: 0.9217 | dice_pos: 0.6813\n",
      "Starting epoch: 17 | phase: val | ⏰: 17:43:56\n",
      "Loss: 0.0110 | IoU: 0.4764 | dice: 0.7645 | dice_neg: 0.9679 | dice_pos: 0.5924\n",
      "\n",
      "Starting epoch: 18 | phase: train | ⏰: 17:45:47\n",
      "Loss: 0.0080 | IoU: 0.5703 | dice: 0.8028 | dice_neg: 0.9265 | dice_pos: 0.6919\n",
      "Starting epoch: 18 | phase: val | ⏰: 17:56:39\n",
      "Loss: 0.0109 | IoU: 0.5140 | dice: 0.7710 | dice_neg: 0.9349 | dice_pos: 0.6323\n",
      "Epoch    19: reducing learning rate of group 0 to 5.0000e-05.\n",
      "\n",
      "Starting epoch: 19 | phase: train | ⏰: 17:58:29\n",
      "Loss: 0.0065 | IoU: 0.6124 | dice: 0.8350 | dice_neg: 0.9520 | dice_pos: 0.7303\n",
      "Starting epoch: 19 | phase: val | ⏰: 18:09:19\n",
      "Loss: 0.0096 | IoU: 0.5598 | dice: 0.8061 | dice_neg: 0.9505 | dice_pos: 0.6839\n",
      "******** New optimal found, saving state ********\n",
      "\n"
     ]
    }
   ],
   "source": [
    "model_trainer.start()"
   ]
  },
  {
   "cell_type": "markdown",
   "metadata": {
    "heading_collapsed": true
   },
   "source": [
    "## Results"
   ]
  },
  {
   "cell_type": "markdown",
   "metadata": {
    "hidden": true
   },
   "source": [
    "Training on FPN:"
   ]
  },
  {
   "cell_type": "code",
   "execution_count": null,
   "metadata": {
    "hidden": true
   },
   "outputs": [
    {
     "data": {
      "image/png": "[encoded data removed]",
      "text/plain": [
       "<Figure size 1080x360 with 1 Axes>"
      ]
     },
     "metadata": {
      "needs_background": "light"
     },
     "output_type": "display_data"
    },
    {
     "data": {
      "image/png": "[encoded data removed]",
      "text/plain": [
       "<Figure size 1080x360 with 1 Axes>"
      ]
     },
     "metadata": {
      "needs_background": "light"
     },
     "output_type": "display_data"
    },
    {
     "data": {
      "image/png": "[encoded data removed]",
      "text/plain": [
       "<Figure size 1080x360 with 1 Axes>"
      ]
     },
     "metadata": {
      "needs_background": "light"
     },
     "output_type": "display_data"
    }
   ],
   "source": [
    "# PLOT TRAINING\n",
    "losses = model_trainer.losses\n",
    "dice_scores = model_trainer.dice_scores  # overall dice\n",
    "iou_scores = model_trainer.iou_scores\n",
    "\n",
    "\n",
    "def plot(scores, name):\n",
    "    plt.figure(figsize=(15, 5))\n",
    "    plt.plot(range(len(scores[\"train\"])),\n",
    "             scores[\"train\"], label=f'train {name}')\n",
    "    plt.plot(range(len(scores[\"train\"])), scores[\"val\"], label=f'val {name}')\n",
    "    plt.title(f'{name} plot')\n",
    "    plt.xlabel('Epoch')\n",
    "    plt.ylabel(f'{name}')\n",
    "    plt.legend()\n",
    "    plt.show()\n",
    "\n",
    "\n",
    "plot(losses, \"BCE loss\")\n",
    "plot(dice_scores, \"Dice score\")\n",
    "plot(iou_scores, \"IoU score\")"
   ]
  },
  {
   "cell_type": "markdown",
   "metadata": {
    "heading_collapsed": true
   },
   "source": [
    "## Inference"
   ]
  },
  {
   "cell_type": "code",
   "execution_count": null,
   "metadata": {
    "hidden": true
   },
   "outputs": [],
   "source": [
    "def post_process(probability, threshold, min_size):\n",
    "    \"\"\"\n",
    "    Post processing of each predicted mask, components with lesser number of pixels\n",
    "    than `min_size` are ignored\n",
    "    \"\"\"\n",
    "    mask = cv2.threshold(probability, threshold, 1, cv2.THRESH_BINARY)[1]\n",
    "    num_component, component = cv2.connectedComponents(mask.astype(np.uint8))\n",
    "    predictions = np.zeros((256, 1600), np.float32)\n",
    "    num = 0\n",
    "    for c in range(1, num_component):\n",
    "        p = (component == c)\n",
    "        if p.sum() > min_size:\n",
    "            predictions[p] = 1\n",
    "            num += 1\n",
    "    return predictions, num"
   ]
  },
  {
   "cell_type": "code",
   "execution_count": null,
   "metadata": {
    "hidden": true
   },
   "outputs": [],
   "source": [
    "sample_submission_path = path / 'sample_submission.csv' # file da cui pescare i ImageId\n",
    "test_data_folder = path / \"test_images\" # cartella dove trovare le immagini"
   ]
  },
  {
   "cell_type": "code",
   "execution_count": null,
   "metadata": {
    "hidden": true
   },
   "outputs": [],
   "source": [
    "testset = get_test_dls(sample_submission_path)"
   ]
  },
  {
   "cell_type": "code",
   "execution_count": null,
   "metadata": {
    "hidden": true
   },
   "outputs": [
    {
     "data": {
      "text/plain": [
       "<All keys matched successfully>"
      ]
     },
     "execution_count": null,
     "metadata": {},
     "output_type": "execute_result"
    }
   ],
   "source": [
    "# Initialize mode and load trained weights\n",
    "ckpt_path = models_dir/\"kaggle-FPN-ResNet34.pth\"\n",
    "device = torch.device(\"cuda\")\n",
    "model = smp.FPN(\"resnet34\", encoder_weights='imagenet', classes=4, activation=None)\n",
    "model.to(device)\n",
    "model.eval()\n",
    "state = torch.load(ckpt_path, map_location=lambda storage, loc: storage)\n",
    "model.load_state_dict(state[\"state_dict\"])"
   ]
  },
  {
   "cell_type": "code",
   "execution_count": null,
   "metadata": {
    "hidden": true
   },
   "outputs": [],
   "source": [
    "best_threshold = 0.5\n",
    "min_size = 3000"
   ]
  },
  {
   "cell_type": "code",
   "execution_count": null,
   "metadata": {
    "hidden": true
   },
   "outputs": [
    {
     "name": "stderr",
     "output_type": "stream",
     "text": [
      "100%|██████████| 1377/1377 [02:19<00:00,  9.89it/s]\n"
     ]
    }
   ],
   "source": [
    "# start prediction\n",
    "predictions = []\n",
    "for i, batch in enumerate(tqdm(testset)):\n",
    "    fnames, images = batch\n",
    "    batch_preds = torch.sigmoid(model(images.to(device)))\n",
    "    batch_preds = batch_preds.detach().cpu().numpy()\n",
    "    \n",
    "    for fname, preds in zip(fnames, batch_preds):\n",
    "        for cls, pred in enumerate(preds):\n",
    "            pred, num = post_process(pred, best_threshold, min_size)\n",
    "            rle = mask2rle(pred)\n",
    "            name = fname + f\"_{cls+1}\"\n",
    "            predictions.append([name, rle])\n",
    "\n",
    "# save predictions to submission.csv\n",
    "df = pd.DataFrame(predictions, columns=['ImageId_ClassId', 'EncodedPixels'])\n",
    "df.to_csv(\"FPN_submission.csv\", index=False)"
   ]
  },
  {
   "cell_type": "code",
   "execution_count": null,
   "metadata": {
    "hidden": true
   },
   "outputs": [
    {
     "data": {
      "text/html": [
       "<div>\n",
       "<style scoped>\n",
       "    .dataframe tbody tr th:only-of-type {\n",
       "        vertical-align: middle;\n",
       "    }\n",
       "\n",
       "    .dataframe tbody tr th {\n",
       "        vertical-align: top;\n",
       "    }\n",
       "\n",
       "    .dataframe thead th {\n",
       "        text-align: right;\n",
       "    }\n",
       "</style>\n",
       "<table border=\"1\" class=\"dataframe\">\n",
       "  <thead>\n",
       "    <tr style=\"text-align: right;\">\n",
       "      <th></th>\n",
       "      <th>ImageId_ClassId</th>\n",
       "      <th>EncodedPixels</th>\n",
       "    </tr>\n",
       "  </thead>\n",
       "  <tbody>\n",
       "    <tr>\n",
       "      <th>0</th>\n",
       "      <td>0000f269f.jpg_1</td>\n",
       "      <td></td>\n",
       "    </tr>\n",
       "    <tr>\n",
       "      <th>1</th>\n",
       "      <td>0000f269f.jpg_2</td>\n",
       "      <td></td>\n",
       "    </tr>\n",
       "    <tr>\n",
       "      <th>2</th>\n",
       "      <td>0000f269f.jpg_3</td>\n",
       "      <td>146576 55 146637 47 146694 19 146715 230 146947 254 147202 4095 151299 254 151557 252 151817 248 152157 53 152230 39 152293 24</td>\n",
       "    </tr>\n",
       "    <tr>\n",
       "      <th>3</th>\n",
       "      <td>0000f269f.jpg_4</td>\n",
       "      <td></td>\n",
       "    </tr>\n",
       "    <tr>\n",
       "      <th>4</th>\n",
       "      <td>000ccc2ac.jpg_1</td>\n",
       "      <td></td>\n",
       "    </tr>\n",
       "  </tbody>\n",
       "</table>\n",
       "</div>"
      ],
      "text/plain": [
       "   ImageId_ClassId  \\\n",
       "0  0000f269f.jpg_1   \n",
       "1  0000f269f.jpg_2   \n",
       "2  0000f269f.jpg_3   \n",
       "3  0000f269f.jpg_4   \n",
       "4  000ccc2ac.jpg_1   \n",
       "\n",
       "                                                                                                                    EncodedPixels  \n",
       "0                                                                                                                                  \n",
       "1                                                                                                                                  \n",
       "2  146576 55 146637 47 146694 19 146715 230 146947 254 147202 4095 151299 254 151557 252 151817 248 152157 53 152230 39 152293 24  \n",
       "3                                                                                                                                  \n",
       "4                                                                                                                                  "
      ]
     },
     "execution_count": null,
     "metadata": {},
     "output_type": "execute_result"
    }
   ],
   "source": [
    "df.head()"
   ]
  }
 ],
 "metadata": {
  "kernelspec": {
   "display_name": "Python 3",
   "language": "python",
   "name": "python3"
  },
  "language_info": {
   "codemirror_mode": {
    "name": "ipython",
    "version": 3
   },
   "file_extension": ".py",
   "mimetype": "text/x-python",
   "name": "python",
   "nbconvert_exporter": "python",
   "pygments_lexer": "ipython3",
   "version": "3.8.5"
  },
  "latex_envs": {
   "LaTeX_envs_menu_present": true,
   "autoclose": false,
   "autocomplete": true,
   "bibliofile": "biblio.bib",
   "cite_by": "apalike",
   "current_citInitial": 1,
   "eqLabelWithNumbers": true,
   "eqNumInitial": 1,
   "hotkeys": {
    "equation": "Ctrl-E",
    "itemize": "Ctrl-I"
   },
   "labels_anchors": false,
   "latex_user_defs": false,
   "report_style_numbering": false,
   "user_envs_cfg": false
  },
  "toc": {
   "base_numbering": 1,
   "nav_menu": {},
   "number_sections": true,
   "sideBar": true,
   "skip_h1_title": false,
   "title_cell": "Table of Contents",
   "title_sidebar": "Contents",
   "toc_cell": false,
   "toc_position": {},
   "toc_section_display": true,
   "toc_window_display": false
  },
  "varInspector": {
   "cols": {
    "lenName": 16,
    "lenType": 16,
    "lenVar": 40
   },
   "kernels_config": {
    "python": {
     "delete_cmd_postfix": "",
     "delete_cmd_prefix": "del ",
     "library": "var_list.py",
     "varRefreshCmd": "print(var_dic_list())"
    },
    "r": {
     "delete_cmd_postfix": ") ",
     "delete_cmd_prefix": "rm(",
     "library": "var_list.r",
     "varRefreshCmd": "cat(var_dic_list()) "
    }
   },
   "types_to_exclude": [
    "module",
    "function",
    "builtin_function_or_method",
    "instance",
    "_Feature"
   ],
   "window_display": false
  }
 },
 "nbformat": 4,
 "nbformat_minor": 1
}
