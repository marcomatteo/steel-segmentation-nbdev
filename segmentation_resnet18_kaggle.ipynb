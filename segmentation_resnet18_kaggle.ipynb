{
 "cells": [
  {
   "cell_type": "markdown",
   "metadata": {},
   "source": [
    "# Segmentation ResNet18 from Kaggle\n",
    "\n",
    "> Pytorch solution from Kaggle."
   ]
  },
  {
   "cell_type": "markdown",
   "metadata": {},
   "source": [
    "This notebook uses a UNet model with pretrained resnet18 encoder, with simple augmentations using albumentations library, uses BCE loss, metrics like Dice and IoU. The segmentation model is from [segmentation_models.pytorch](https://github.com/qubvel/segmentation_models.pytorch) which comes with a lot pre-implemented segmentation architectures. \n",
    "\n",
    "The kaggle kernel from which I've borrowed this code is: https://www.kaggle.com/rishabhiitbhu/unet-pytorch-inference-kernel."
   ]
  },
  {
   "cell_type": "code",
   "execution_count": 1,
   "metadata": {
    "ExecuteTime": {
     "end_time": "2021-01-30T20:40:49.069066Z",
     "start_time": "2021-01-30T20:40:48.845161Z"
    }
   },
   "outputs": [],
   "source": [
    "%load_ext autoreload\n",
    "%autoreload 2\n",
    "%matplotlib inline"
   ]
  },
  {
   "cell_type": "code",
   "execution_count": 2,
   "metadata": {
    "ExecuteTime": {
     "end_time": "2021-01-30T20:40:51.429491Z",
     "start_time": "2021-01-30T20:40:49.098369Z"
    }
   },
   "outputs": [],
   "source": [
    "from steel_segmentation.core import *\n",
    "from steel_segmentation.data import *\n",
    "from steel_segmentation.models.unet import Unet\n",
    "from steel_segmentation.models.model import *\n",
    "\n",
    "from matplotlib import pyplot as plt\n",
    "\n",
    "import warnings\n",
    "import random\n",
    "import os\n",
    "import cv2\n",
    "from tqdm import tqdm\n",
    "import pandas as pd\n",
    "import numpy as np\n",
    "import torch\n",
    "import torch.backends.cudnn as cudnn\n",
    "from torch.utils.data import DataLoader, Dataset\n",
    "import torch.utils.data as data\n",
    "import albumentations as alb\n",
    "from albumentations.pytorch import ToTensor\n",
    "\n",
    "warnings.filterwarnings(\"ignore\")\n",
    "seed = 69\n",
    "random.seed(seed)\n",
    "os.environ[\"PYTHONHASHSEED\"] = str(seed)\n",
    "np.random.seed(seed)\n",
    "torch.cuda.manual_seed(seed)\n",
    "torch.backends.cudnn.deterministic = True"
   ]
  },
  {
   "cell_type": "code",
   "execution_count": null,
   "metadata": {},
   "outputs": [
    {
     "data": {
      "text/plain": [
       "'cuda'"
      ]
     },
     "execution_count": null,
     "metadata": {},
     "output_type": "execute_result"
    }
   ],
   "source": [
    "torch.device(\"cuda:0\").type"
   ]
  },
  {
   "cell_type": "code",
   "execution_count": null,
   "metadata": {},
   "outputs": [
    {
     "data": {
      "text/plain": [
       "True"
      ]
     },
     "execution_count": null,
     "metadata": {},
     "output_type": "execute_result"
    }
   ],
   "source": [
    "torch.cuda.is_available()"
   ]
  },
  {
   "cell_type": "code",
   "execution_count": null,
   "metadata": {},
   "outputs": [],
   "source": [
    "model = Unet(\"resnet18\", encoder_weights=\"imagenet\",\n",
    "             classes=4, activation=None)"
   ]
  },
  {
   "cell_type": "code",
   "execution_count": null,
   "metadata": {},
   "outputs": [],
   "source": [
    "model_trainer = Trainer(model, save_path=models_dir/\"kaggle_ResNet18-Unet.pth\")"
   ]
  },
  {
   "cell_type": "code",
   "execution_count": null,
   "metadata": {},
   "outputs": [],
   "source": [
    "# loaded_dict = torch.load(models_dir/\"kaggle_model.pth\")\n",
    "# model_trainer.net.load_state_dict(loaded_dict[\"state_dict\"], strict=True)"
   ]
  },
  {
   "cell_type": "markdown",
   "metadata": {
    "heading_collapsed": true
   },
   "source": [
    "## Training"
   ]
  },
  {
   "cell_type": "code",
   "execution_count": null,
   "metadata": {
    "hidden": true
   },
   "outputs": [
    {
     "name": "stdout",
     "output_type": "stream",
     "text": [
      "Starting epoch: 0 | phase: train | ⏰: 20:22:28\n",
      "Loss: 0.3524 | IoU: 0.0206 | dice: 0.0324 | dice_neg: nan | dice_pos: 0.0324\n",
      "Starting epoch: 0 | phase: val | ⏰: 20:30:15\n",
      "Loss: 0.2505 | IoU: 0.0457 | dice: 0.0624 | dice_neg: nan | dice_pos: 0.0624\n",
      "******** New optimal found, saving state ********\n",
      "\n",
      "Starting epoch: 1 | phase: train | ⏰: 20:31:29\n",
      "Loss: 0.2032 | IoU: 0.0446 | dice: 0.0603 | dice_neg: nan | dice_pos: 0.0603\n",
      "Starting epoch: 1 | phase: val | ⏰: 20:39:04\n",
      "Loss: 0.1600 | IoU: 0.0544 | dice: 0.0711 | dice_neg: nan | dice_pos: 0.0711\n",
      "******** New optimal found, saving state ********\n",
      "\n",
      "Starting epoch: 2 | phase: train | ⏰: 20:40:15\n",
      "Loss: 0.1264 | IoU: 0.3621 | dice: 0.4650 | dice_neg: nan | dice_pos: 0.4650\n",
      "Starting epoch: 2 | phase: val | ⏰: 20:48:02\n",
      "Loss: 0.0993 | IoU: 0.4368 | dice: 0.5465 | dice_neg: nan | dice_pos: 0.5465\n",
      "******** New optimal found, saving state ********\n",
      "\n",
      "Starting epoch: 3 | phase: train | ⏰: 20:49:15\n",
      "Loss: 0.0831 | IoU: 0.4060 | dice: 0.5147 | dice_neg: nan | dice_pos: 0.5147\n",
      "Starting epoch: 3 | phase: val | ⏰: 20:57:22\n",
      "Loss: 0.0715 | IoU: 0.3658 | dice: 0.4627 | dice_neg: nan | dice_pos: 0.4627\n",
      "******** New optimal found, saving state ********\n",
      "\n",
      "Starting epoch: 4 | phase: train | ⏰: 20:58:33\n",
      "Loss: 0.0591 | IoU: 0.4241 | dice: 0.5338 | dice_neg: nan | dice_pos: 0.5338\n",
      "Starting epoch: 4 | phase: val | ⏰: 21:06:36\n",
      "Loss: 0.0491 | IoU: 0.4201 | dice: 0.5257 | dice_neg: nan | dice_pos: 0.5257\n",
      "******** New optimal found, saving state ********\n",
      "\n",
      "Starting epoch: 5 | phase: train | ⏰: 21:08:03\n",
      "Loss: 0.0449 | IoU: 0.4386 | dice: 0.5479 | dice_neg: nan | dice_pos: 0.5479\n",
      "Starting epoch: 5 | phase: val | ⏰: 21:16:23\n",
      "Loss: 0.0415 | IoU: 0.4588 | dice: 0.5659 | dice_neg: nan | dice_pos: 0.5659\n",
      "******** New optimal found, saving state ********\n",
      "\n",
      "Starting epoch: 6 | phase: train | ⏰: 21:17:35\n",
      "Loss: 0.0368 | IoU: 0.4504 | dice: 0.5591 | dice_neg: nan | dice_pos: 0.5591\n",
      "Starting epoch: 6 | phase: val | ⏰: 21:25:21\n",
      "Loss: 0.0340 | IoU: 0.4302 | dice: 0.5368 | dice_neg: nan | dice_pos: 0.5368\n",
      "******** New optimal found, saving state ********\n",
      "\n",
      "Starting epoch: 7 | phase: train | ⏰: 21:26:32\n",
      "Loss: 0.0328 | IoU: 0.4394 | dice: 0.5471 | dice_neg: nan | dice_pos: 0.5471\n",
      "Starting epoch: 7 | phase: val | ⏰: 21:34:10\n",
      "Loss: 0.0318 | IoU: 0.4163 | dice: 0.5251 | dice_neg: nan | dice_pos: 0.5251\n",
      "******** New optimal found, saving state ********\n",
      "\n",
      "Starting epoch: 8 | phase: train | ⏰: 21:35:21\n",
      "Loss: 0.0291 | IoU: 0.4568 | dice: 0.5634 | dice_neg: nan | dice_pos: 0.5634\n",
      "Starting epoch: 8 | phase: val | ⏰: 21:42:59\n",
      "Loss: 0.0284 | IoU: 0.4148 | dice: 0.5197 | dice_neg: nan | dice_pos: 0.5197\n",
      "******** New optimal found, saving state ********\n",
      "\n",
      "Starting epoch: 9 | phase: train | ⏰: 21:44:09\n",
      "Loss: 0.0261 | IoU: 0.4675 | dice: 0.5744 | dice_neg: nan | dice_pos: 0.5744\n",
      "Starting epoch: 9 | phase: val | ⏰: 21:51:52\n",
      "Loss: 0.0256 | IoU: 0.4482 | dice: 0.5517 | dice_neg: nan | dice_pos: 0.5517\n",
      "******** New optimal found, saving state ********\n",
      "\n",
      "Starting epoch: 10 | phase: train | ⏰: 21:53:05\n",
      "Loss: 0.0240 | IoU: 0.4731 | dice: 0.5797 | dice_neg: nan | dice_pos: 0.5797\n",
      "Starting epoch: 10 | phase: val | ⏰: 22:00:42\n",
      "Loss: 0.0247 | IoU: 0.4688 | dice: 0.5760 | dice_neg: nan | dice_pos: 0.5760\n",
      "******** New optimal found, saving state ********\n",
      "\n",
      "Starting epoch: 11 | phase: train | ⏰: 22:01:57\n",
      "Loss: 0.0227 | IoU: 0.4762 | dice: 0.5828 | dice_neg: nan | dice_pos: 0.5828\n",
      "Starting epoch: 11 | phase: val | ⏰: 22:09:44\n",
      "Loss: 0.0234 | IoU: 0.4412 | dice: 0.5441 | dice_neg: nan | dice_pos: 0.5441\n",
      "******** New optimal found, saving state ********\n",
      "\n",
      "Starting epoch: 12 | phase: train | ⏰: 22:10:55\n",
      "Loss: 0.0212 | IoU: 0.4932 | dice: 0.6049 | dice_neg: nan | dice_pos: 0.6049\n",
      "Starting epoch: 12 | phase: val | ⏰: 22:18:33\n",
      "Loss: 0.0282 | IoU: 0.4627 | dice: 0.5744 | dice_neg: nan | dice_pos: 0.5744\n",
      "\n",
      "Starting epoch: 13 | phase: train | ⏰: 22:19:42\n",
      "Loss: 0.0194 | IoU: 0.5251 | dice: 0.6413 | dice_neg: nan | dice_pos: 0.6413\n",
      "Starting epoch: 13 | phase: val | ⏰: 22:27:30\n",
      "Loss: 0.0228 | IoU: 0.4966 | dice: 0.6111 | dice_neg: nan | dice_pos: 0.6111\n",
      "******** New optimal found, saving state ********\n",
      "\n",
      "Starting epoch: 14 | phase: train | ⏰: 22:28:41\n",
      "Loss: 0.0192 | IoU: 0.5214 | dice: 0.6374 | dice_neg: nan | dice_pos: 0.6374\n",
      "Starting epoch: 14 | phase: val | ⏰: 22:36:18\n",
      "Loss: 0.0232 | IoU: 0.4845 | dice: 0.6051 | dice_neg: nan | dice_pos: 0.6051\n",
      "\n",
      "Starting epoch: 15 | phase: train | ⏰: 22:37:27\n",
      "Loss: 0.0181 | IoU: 0.5345 | dice: 0.6524 | dice_neg: nan | dice_pos: 0.6524\n",
      "Starting epoch: 15 | phase: val | ⏰: 22:45:09\n",
      "Loss: 0.0204 | IoU: 0.4984 | dice: 0.6152 | dice_neg: nan | dice_pos: 0.6152\n",
      "******** New optimal found, saving state ********\n",
      "\n",
      "Starting epoch: 16 | phase: train | ⏰: 22:46:23\n",
      "Loss: 0.0164 | IoU: 0.5573 | dice: 0.6750 | dice_neg: nan | dice_pos: 0.6750\n",
      "Starting epoch: 16 | phase: val | ⏰: 22:54:10\n",
      "Loss: 0.0211 | IoU: 0.5010 | dice: 0.6180 | dice_neg: nan | dice_pos: 0.6180\n",
      "\n",
      "Starting epoch: 17 | phase: train | ⏰: 22:55:19\n",
      "Loss: 0.0162 | IoU: 0.5608 | dice: 0.6797 | dice_neg: nan | dice_pos: 0.6797\n",
      "Starting epoch: 17 | phase: val | ⏰: 23:02:57\n",
      "Loss: 0.0204 | IoU: 0.5175 | dice: 0.6400 | dice_neg: nan | dice_pos: 0.6400\n",
      "******** New optimal found, saving state ********\n",
      "\n",
      "Starting epoch: 18 | phase: train | ⏰: 23:04:09\n",
      "Loss: 0.0157 | IoU: 0.5591 | dice: 0.6746 | dice_neg: nan | dice_pos: 0.6746\n",
      "Starting epoch: 18 | phase: val | ⏰: 23:11:46\n",
      "Loss: 0.0221 | IoU: 0.4857 | dice: 0.6059 | dice_neg: nan | dice_pos: 0.6059\n",
      "\n",
      "Starting epoch: 19 | phase: train | ⏰: 23:12:56\n",
      "Loss: 0.0154 | IoU: 0.5645 | dice: 0.6814 | dice_neg: nan | dice_pos: 0.6814\n",
      "Starting epoch: 19 | phase: val | ⏰: 23:20:33\n",
      "Loss: 0.0200 | IoU: 0.4911 | dice: 0.6062 | dice_neg: nan | dice_pos: 0.6062\n",
      "******** New optimal found, saving state ********\n",
      "\n"
     ]
    }
   ],
   "source": [
    "model_trainer.start()"
   ]
  },
  {
   "cell_type": "markdown",
   "metadata": {
    "heading_collapsed": true
   },
   "source": [
    "## Results"
   ]
  },
  {
   "cell_type": "code",
   "execution_count": null,
   "metadata": {
    "hidden": true
   },
   "outputs": [
    {
     "data": {
      "image/png": "[encoded data removed]",
      "text/plain": [
       "<Figure size 1080x360 with 1 Axes>"
      ]
     },
     "metadata": {
      "needs_background": "light"
     },
     "output_type": "display_data"
    },
    {
     "data": {
      "image/png": "[encoded data removed]",
      "text/plain": [
       "<Figure size 1080x360 with 1 Axes>"
      ]
     },
     "metadata": {
      "needs_background": "light"
     },
     "output_type": "display_data"
    },
    {
     "data": {
      "image/png": "[encoded data removed]",
      "text/plain": [
       "<Figure size 1080x360 with 1 Axes>"
      ]
     },
     "metadata": {
      "needs_background": "light"
     },
     "output_type": "display_data"
    }
   ],
   "source": [
    "# PLOT TRAINING\n",
    "losses = model_trainer.losses\n",
    "dice_scores = model_trainer.dice_scores  # overall dice\n",
    "iou_scores = model_trainer.iou_scores\n",
    "\n",
    "\n",
    "def plot(scores, name):\n",
    "    plt.figure(figsize=(15, 5))\n",
    "    plt.plot(range(len(scores[\"train\"])),\n",
    "             scores[\"train\"], label=f'train {name}')\n",
    "    plt.plot(range(len(scores[\"train\"])), scores[\"val\"], label=f'val {name}')\n",
    "    plt.title(f'{name} plot')\n",
    "    plt.xlabel('Epoch')\n",
    "    plt.ylabel(f'{name}')\n",
    "    plt.legend()\n",
    "    plt.show()\n",
    "\n",
    "\n",
    "plot(losses, \"BCE loss\")\n",
    "plot(dice_scores, \"Dice score\")\n",
    "plot(iou_scores, \"IoU score\")"
   ]
  },
  {
   "cell_type": "markdown",
   "metadata": {
    "hidden": true
   },
   "source": [
    "This training and validation takes about ~400 minutes which exceeds Kaggle's GPU usage limit of 60 minutes, we won't be able to submit the `submission.csv` file generated from this kernel. So, for test prediction and submission I've written a separate [UNet inference kernel](https://www.kaggle.com/rishabhiitbhu/unet-pytorch-inference-kernel), make sure you add the `model.pth` file generated from this kernel as dataset to test inference kernel."
   ]
  },
  {
   "cell_type": "markdown",
   "metadata": {
    "heading_collapsed": true
   },
   "source": [
    "## Inference"
   ]
  },
  {
   "cell_type": "code",
   "execution_count": null,
   "metadata": {
    "hidden": true
   },
   "outputs": [],
   "source": [
    "def post_process(probability, threshold, min_size):\n",
    "    \"\"\"\n",
    "    Post processing of each predicted mask, components with lesser number of pixels\n",
    "    than `min_size` are ignored\n",
    "    \"\"\"\n",
    "    mask = cv2.threshold(probability, threshold, 1, cv2.THRESH_BINARY)[1]\n",
    "    num_component, component = cv2.connectedComponents(mask.astype(np.uint8))\n",
    "    predictions = np.zeros((256, 1600), np.float32)\n",
    "    num = 0\n",
    "    for c in range(1, num_component):\n",
    "        p = (component == c)\n",
    "        if p.sum() > min_size:\n",
    "            predictions[p] = 1\n",
    "            num += 1\n",
    "    return predictions, num"
   ]
  },
  {
   "cell_type": "code",
   "execution_count": null,
   "metadata": {
    "hidden": true
   },
   "outputs": [],
   "source": [
    "sample_submission_path = path / 'sample_submission.csv'\n",
    "test_data_folder = path / \"test_images\""
   ]
  },
  {
   "cell_type": "code",
   "execution_count": null,
   "metadata": {
    "hidden": true
   },
   "outputs": [],
   "source": [
    "testset = get_kaggle_test_dls(sample_submission_path)"
   ]
  },
  {
   "cell_type": "code",
   "execution_count": null,
   "metadata": {
    "hidden": true
   },
   "outputs": [],
   "source": [
    "# Initialize mode and load trained weights\n",
    "ckpt_path = \"model.pth\"\n",
    "device = torch.device(\"cuda\")\n",
    "model = Unet(\"resnet18\", encoder_weights=None, classes=4, activation=None)\n",
    "model.to(device)\n",
    "model.eval()\n",
    "state = torch.load(ckpt_path, map_location=lambda storage, loc: storage)\n",
    "model.load_state_dict(state[\"state_dict\"])"
   ]
  },
  {
   "cell_type": "code",
   "execution_count": null,
   "metadata": {
    "hidden": true
   },
   "outputs": [],
   "source": [
    "# start prediction\n",
    "predictions = []\n",
    "for i, batch in enumerate(tqdm(testset)):\n",
    "    fnames, images = batch\n",
    "    batch_preds = torch.sigmoid(model(images.to(device)))\n",
    "    batch_preds = batch_preds.detach().cpu().numpy()\n",
    "    for fname, preds in zip(fnames, batch_preds):\n",
    "        for cls, pred in enumerate(preds):\n",
    "            pred, num = post_process(pred, best_threshold, min_size)\n",
    "            rle = mask2rle(pred)\n",
    "            name = fname + f\"_{cls+1}\"\n",
    "            predictions.append([name, rle])\n",
    "\n",
    "# save predictions to submission.csv\n",
    "df = pd.DataFrame(predictions, columns=['ImageId_ClassId', 'EncodedPixels'])\n",
    "df.to_csv(\"submission.csv\", index=False)"
   ]
  },
  {
   "cell_type": "code",
   "execution_count": null,
   "metadata": {
    "hidden": true
   },
   "outputs": [],
   "source": [
    "df.head()"
   ]
  },
  {
   "cell_type": "markdown",
   "metadata": {},
   "source": [
    "## Refrences\n",
    "\n"
   ]
  }
 ],
 "metadata": {
  "kernelspec": {
   "display_name": "Python 3",
   "language": "python",
   "name": "python3"
  },
  "language_info": {
   "codemirror_mode": {
    "name": "ipython",
    "version": 3
   },
   "file_extension": ".py",
   "mimetype": "text/x-python",
   "name": "python",
   "nbconvert_exporter": "python",
   "pygments_lexer": "ipython3",
   "version": "3.8.5"
  },
  "latex_envs": {
   "LaTeX_envs_menu_present": true,
   "autoclose": false,
   "autocomplete": true,
   "bibliofile": "biblio.bib",
   "cite_by": "apalike",
   "current_citInitial": 1,
   "eqLabelWithNumbers": true,
   "eqNumInitial": 1,
   "hotkeys": {
    "equation": "Ctrl-E",
    "itemize": "Ctrl-I"
   },
   "labels_anchors": false,
   "latex_user_defs": false,
   "report_style_numbering": false,
   "user_envs_cfg": false
  },
  "toc": {
   "base_numbering": 1,
   "nav_menu": {},
   "number_sections": true,
   "sideBar": true,
   "skip_h1_title": false,
   "title_cell": "Table of Contents",
   "title_sidebar": "Contents",
   "toc_cell": false,
   "toc_position": {},
   "toc_section_display": true,
   "toc_window_display": true
  }
 },
 "nbformat": 4,
 "nbformat_minor": 1
}
