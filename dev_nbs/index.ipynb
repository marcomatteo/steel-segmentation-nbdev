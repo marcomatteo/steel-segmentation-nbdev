{
 "cells": [
  {
   "cell_type": "markdown",
   "metadata": {},
   "source": [
    "# Steel defect detection use case\n",
    "\n",
    "> A walk through different solutions for the Severstal Kaggle competition."
   ]
  },
  {
   "cell_type": "markdown",
   "metadata": {},
   "source": [
    "![CI](https://github.com/marcomatteo/steel_segmentation/workflows/CI/badge.svg?branch=master)"
   ]
  },
  {
   "cell_type": "markdown",
   "metadata": {},
   "source": [
    "This repository wants to explore different solutions for the [Severstal](https://www.kaggle.com/c/severstal-steel-defect-detection/overview) competition (ended in November 2019).\n",
    "\n",
    "I used `pytorch` ([Pytorch website](https://pytorch.org/get-started/locally/)) and `fastai` ([FastAI docs](https://docs.fast.ai/#Installing)) as Deep Learning Framework to this project."
   ]
  },
  {
   "cell_type": "markdown",
   "metadata": {},
   "source": [
    "## Install"
   ]
  },
  {
   "cell_type": "markdown",
   "metadata": {},
   "source": [
    "To install this package you only need to clone the repository and install via pip:\n",
    "\n",
    "```\n",
    "git clone https://github.com/marcomatteo/steel_segmentation.git\n",
    "pip install -e steel_segmentation\n",
    "```\n",
    "\n",
    "The library is based on `nbdev`, a powerful tool that builds a python package from Juptyer Notebooks, from the `dev_nbs` folder. \n",
    "Check the [here](https://nbdev.fast.ai/) the `nbdev` documentation.\n",
    "\n",
    "With these commands you can create the library and the relative documentation:\n",
    "```\n",
    "nbdev_build_lib\n",
    "nbdev_build_docs\n",
    "```\n",
    "\n",
    "I tried to work in MacOS and Linux enviroment, not sure this is working also in Windows."
   ]
  },
  {
   "cell_type": "markdown",
   "metadata": {},
   "source": [
    "## Data requirements"
   ]
  },
  {
   "cell_type": "markdown",
   "metadata": {},
   "source": [
    "You will need the [Kaggle](https://www.kaggle.com/) competition data. If this is the first time with the API, follow this [link](https://github.com/Kaggle/kaggle-api) and download the credentials.\n",
    "\n",
    "Move the `kaggle.json` file in the repository directory."
   ]
  },
  {
   "cell_type": "code",
   "execution_count": null,
   "metadata": {},
   "outputs": [],
   "source": [
    "!mkdir ~/.kaggle"
   ]
  },
  {
   "cell_type": "code",
   "execution_count": null,
   "metadata": {},
   "outputs": [],
   "source": [
    "!cp ../kaggle.json ~/.kaggle/kaggle.json"
   ]
  },
  {
   "cell_type": "markdown",
   "metadata": {},
   "source": [
    "Now you're authenticated with the Kaggle API. Download and unzip the data with:"
   ]
  },
  {
   "cell_type": "code",
   "execution_count": null,
   "metadata": {},
   "outputs": [],
   "source": [
    "!kaggle competitions download -c severstal-steel-defect-detection -p {path}"
   ]
  },
  {
   "cell_type": "code",
   "execution_count": null,
   "metadata": {},
   "outputs": [],
   "source": [
    "!unzip -q -n {path}/severstal-steel-defect-detection.zip -d {path}"
   ]
  },
  {
   "cell_type": "markdown",
   "metadata": {},
   "source": [
    "## Notebooks"
   ]
  },
  {
   "cell_type": "markdown",
   "metadata": {},
   "source": [
    "All of the experiments are based on Jupyter Notebooks, divided into different folder directories:\n",
    "\n",
    "- in the `training_nbs` folder there are all the notebooks used to training different Deep Learning models.\n",
    "\n",
    "- in the `inference_nbs` folder there are all the notebooks to inference and evaluate with the test set the models."
   ]
  },
  {
   "cell_type": "markdown",
   "metadata": {},
   "source": [
    "## Results"
   ]
  },
  {
   "cell_type": "markdown",
   "metadata": {},
   "source": [
    "|Models|Public score|Private score|Percentile Private LB|\n",
    "|------|------------|-------------|----------|\n",
    "|Pytorch-UNET-ResNet18|0.87530|0.85364|85°|\n",
    "|Pytorch-UNET-ResNet34|0.88591|0.88572|46°|\n",
    "|FastAI-UNET-ResNet34|0.88648|0.88830|23°|\n",
    "|Pytorch-FPN-ResNet34|0.89054|0.88911|19°|\n",
    "|Ensemble-UNET-ResNet34-FPN-ResNet34|0.89184|0.89262|16°|"
   ]
  }
 ],
 "metadata": {
  "kernelspec": {
   "display_name": "Python 3",
   "language": "python",
   "name": "python3"
  }
 },
 "nbformat": 4,
 "nbformat_minor": 2
}
