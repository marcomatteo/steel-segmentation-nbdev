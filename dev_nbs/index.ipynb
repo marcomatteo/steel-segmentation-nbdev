{
 "cells": [
  {
   "cell_type": "code",
   "execution_count": null,
   "metadata": {},
   "outputs": [],
   "source": [
    "#hide\n",
    "#missing\n",
    "!git clone https://github.com/marcomatteo/steel_segmentation.git\n",
    "!pip install -e steel_segmentation"
   ]
  },
  {
   "cell_type": "code",
   "execution_count": null,
   "metadata": {},
   "outputs": [],
   "source": [
    "# hide\n",
    "from steel_segmentation.all import *"
   ]
  },
  {
   "cell_type": "markdown",
   "metadata": {},
   "source": [
    "# Kaggle Severstal: Steel Defect Detection\n",
    "\n",
    "> A walk through different solutions for the Severstal Kaggle competition."
   ]
  },
  {
   "cell_type": "markdown",
   "metadata": {},
   "source": [
    "![CI](https://github.com/marcomatteo/steel_segmentation/workflows/CI/badge.svg?branch=master)\n",
    "\n",
    "[![Open In Colab](https://colab.research.google.com/assets/colab-badge.svg)](https://colab.research.google.com/github/marcomatteo/steel_segmentation/blob/master/dev_nbs/index.ipynb)"
   ]
  },
  {
   "cell_type": "markdown",
   "metadata": {},
   "source": [
    "This repository wants to explore different solutions for the [Severstal](https://www.kaggle.com/c/severstal-steel-defect-detection/overview) competition hosted by Kaggle.\n",
    "Kaggle is a platform that provides various datasets from the real world machine learning problems and engages a large community of people.\n",
    "Severstal is a Russian company operating in the steel and mining industry. It creates a vast industrial data lake and in the 2019 looked to machine learning to improve automation, increase efficiency, and maintain high quality in their production.\n",
    "\n",
    "I used `pytorch` ([Pytorch website](https://pytorch.org/get-started/locally/)) and `fastai` ([FastAI docs](https://docs.fast.ai/#Installing)) as Deep Learning Framework to this project."
   ]
  },
  {
   "cell_type": "markdown",
   "metadata": {},
   "source": [
    "## Install"
   ]
  },
  {
   "cell_type": "markdown",
   "metadata": {},
   "source": [
    "To install this package you only need to clone the repository and install via pip:\n",
    "\n",
    "```\n",
    "git clone https://github.com/marcomatteo/steel_segmentation.git\n",
    "pip install -e steel_segmentation\n",
    "```\n",
    "\n",
    "The library is based on `nbdev`, a powerful tool that builds a python package from Juptyer Notebooks, from the `dev_nbs` folder. \n",
    "Check [here](https://nbdev.fast.ai/) the `nbdev` documentation.\n",
    "\n",
    "To create the library, the documentation and tests execute these commands:\n",
    "```\n",
    "nbdev_build_lib\n",
    "nbdev_build_docs\n",
    "nbdev_test_nbs\n",
    "nbdev_clean_nbs\n",
    "```\n",
    "\n",
    "This enviroment works on MacOS and Linux, use Linux WSL for Windows."
   ]
  },
  {
   "cell_type": "markdown",
   "metadata": {},
   "source": [
    "## Download the dataset"
   ]
  },
  {
   "cell_type": "markdown",
   "metadata": {},
   "source": [
    "To download the [Kaggle](https://www.kaggle.com/) competition data you will need an account (if this is the first time with the API follow this [link](https://github.com/Kaggle/kaggle-api)) to generate the credentials, download and copy the `kaggle.json` into the repository directory.\n",
    "\n",
    "Now run these cells:"
   ]
  },
  {
   "cell_type": "code",
   "execution_count": null,
   "metadata": {},
   "outputs": [],
   "source": [
    "!mkdir ~/.kaggle\n",
    "!cp ../kaggle.json ~/.kaggle/kaggle.json\n",
    "!chmod 600 ~/.kaggle/kaggle.json"
   ]
  },
  {
   "cell_type": "markdown",
   "metadata": {},
   "source": [
    "Now you're authenticated with the Kaggle API. Download and unzip the data with:"
   ]
  },
  {
   "cell_type": "code",
   "execution_count": null,
   "metadata": {},
   "outputs": [],
   "source": [
    "!kaggle competitions download -c severstal-steel-defect-detection -p {path}\n",
    "!unzip -q -n {path}/severstal-steel-defect-detection.zip -d {path}"
   ]
  },
  {
   "cell_type": "markdown",
   "metadata": {},
   "source": [
    "## Notebooks"
   ]
  },
  {
   "cell_type": "markdown",
   "metadata": {},
   "source": [
    "All of the experiments are based on Jupyter Notebooks, divided into different folder directories:\n",
    "\n",
    "- in the `dev_nbs` folder there are all the notebooks used to build the `steel_segmentation` library.\n",
    "\n",
    "- in the `training_nbs` folder there are all the notebooks used to training different Deep Learning models.\n",
    "\n",
    "- in the `inference_nbs` folder there are all the notebooks to inference and evaluate with the test set the models."
   ]
  },
  {
   "cell_type": "markdown",
   "metadata": {},
   "source": [
    "## Results"
   ]
  },
  {
   "cell_type": "markdown",
   "metadata": {},
   "source": [
    "|Models|Public score|Private score|Percentile Private LB|\n",
    "|------|------------|-------------|----------|\n",
    "|Pytorch-UNET-ResNet18|0.87530|0.85364|85°|\n",
    "|Pytorch-UNET-ResNet34|0.88591|0.88572|46°|\n",
    "|FastAI-UNET-ResNet34|0.88648|0.88830|23°|\n",
    "|Pytorch-FPN-ResNet34|0.89054|0.88911|19°|\n",
    "|Ensemble-UNET-ResNet34-FPN-ResNet34|0.89184|0.89262|16°|"
   ]
  }
 ],
 "metadata": {
  "kernelspec": {
   "display_name": "Python 3",
   "language": "python",
   "name": "python3"
  }
 },
 "nbformat": 4,
 "nbformat_minor": 2
}
