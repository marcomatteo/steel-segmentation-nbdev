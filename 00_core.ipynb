{
 "cells": [
  {
   "cell_type": "code",
   "execution_count": null,
   "metadata": {},
   "outputs": [],
   "source": [
    "# default_exp core"
   ]
  },
  {
   "cell_type": "markdown",
   "metadata": {},
   "source": [
    "# Core\n",
    "\n",
    "> Download Kaggle data."
   ]
  },
  {
   "cell_type": "code",
   "execution_count": null,
   "metadata": {},
   "outputs": [],
   "source": [
    "#hide\n",
    "%load_ext autoreload\n",
    "%autoreload 2\n",
    "%matplotlib inline"
   ]
  },
  {
   "cell_type": "code",
   "execution_count": null,
   "metadata": {},
   "outputs": [],
   "source": [
    "#hide\n",
    "from nbdev.showdoc import *"
   ]
  },
  {
   "cell_type": "code",
   "execution_count": null,
   "metadata": {},
   "outputs": [
    {
     "name": "stderr",
     "output_type": "stream",
     "text": [
      "/home/mmb/miniconda3/envs/env_nbdev/lib/python3.8/site-packages/torch/cuda/__init__.py:52: UserWarning: CUDA initialization: Found no NVIDIA driver on your system. Please check that you have an NVIDIA GPU and installed a driver from http://www.nvidia.com/Download/index.aspx (Triggered internally at  /opt/conda/conda-bld/pytorch_1607370172916/work/c10/cuda/CUDAFunctions.cpp:100.)\n",
      "  return torch._C._cuda_getDeviceCount() > 0\n"
     ]
    }
   ],
   "source": [
    "#export\n",
    "from fastai.vision.all import *\n",
    "from fastai.metrics import *\n",
    "import pandas as pd"
   ]
  },
  {
   "cell_type": "markdown",
   "metadata": {},
   "source": [
    "## Data structure"
   ]
  },
  {
   "cell_type": "code",
   "execution_count": null,
   "metadata": {},
   "outputs": [],
   "source": [
    "#export\n",
    "path = Path('data/')\n",
    "\n",
    "if not path.is_dir():\n",
    "    path.mkdir(parents=True, exist_ok=True)"
   ]
  },
  {
   "cell_type": "markdown",
   "metadata": {},
   "source": [
    "To easly view a directory `Path` structure, the `print_competition_data` function prints out this for you."
   ]
  },
  {
   "cell_type": "code",
   "execution_count": null,
   "metadata": {},
   "outputs": [],
   "source": [
    "#export\n",
    "def print_competition_data(p:Path = path):\n",
    "    for elem in p.ls():\n",
    "        print(elem)"
   ]
  },
  {
   "cell_type": "code",
   "execution_count": null,
   "metadata": {},
   "outputs": [
    {
     "name": "stdout",
     "output_type": "stream",
     "text": [
      "data/codes.txt\n",
      "data/sample_submission.csv\n",
      "data/test_images\n",
      "data/train.csv\n",
      "data/train_images\n"
     ]
    }
   ],
   "source": [
    "print_competition_data(path)"
   ]
  },
  {
   "cell_type": "markdown",
   "metadata": {},
   "source": [
    "The files in detail: \n",
    "\n",
    "- **train_images/** - folder of training images (12.5k images)\n",
    "- **test_images/** - folder of test images to segment and classify (5506 images)\n",
    "- **train.csv** - training annotations which provide segments for defects (`ClassId = [1, 2, 3, 4]`)\n",
    "- **sample_submission.csv** - a sample submission file in the correct format; note, each `ImageId` 4 rows, one for each of the 4 defect classes\n"
   ]
  },
  {
   "cell_type": "code",
   "execution_count": null,
   "metadata": {},
   "outputs": [],
   "source": [
    "#export\n",
    "train_path = path/\"train_images\"\n",
    "test_path  = path/\"test_images\"\n",
    "train_pfiles = get_image_files(train_path)\n",
    "test_pfiles  = get_image_files(test_path)"
   ]
  },
  {
   "cell_type": "code",
   "execution_count": null,
   "metadata": {},
   "outputs": [
    {
     "data": {
      "text/plain": [
       "(#1) [Path('data/test_images/00a0b7730.jpg')]"
      ]
     },
     "execution_count": null,
     "metadata": {},
     "output_type": "execute_result"
    }
   ],
   "source": [
    "test_pfiles"
   ]
  },
  {
   "cell_type": "markdown",
   "metadata": {},
   "source": [
    "## Training data"
   ]
  },
  {
   "cell_type": "markdown",
   "metadata": {},
   "source": [
    "The training data is splitted in:\n",
    "\n",
    "- faulty images: images that have at least one defect\n",
    "\n",
    "- hard negative images: images with no defects"
   ]
  },
  {
   "cell_type": "code",
   "execution_count": null,
   "metadata": {},
   "outputs": [
    {
     "data": {
      "text/plain": [
       "(#6) [Path('data/train_images/0a1cade03.jpg'),Path('data/train_images/72aaba8ad.jpg'),Path('data/train_images/988cf521f.jpg'),Path('data/train_images/b2ad335bf.jpg'),Path('data/train_images/b6a257b28.jpg'),Path('data/train_images/bca4ae758.jpg')]"
      ]
     },
     "execution_count": null,
     "metadata": {},
     "output_type": "execute_result"
    }
   ],
   "source": [
    "train_pfiles"
   ]
  },
  {
   "cell_type": "code",
   "execution_count": null,
   "metadata": {},
   "outputs": [],
   "source": [
    "#export\n",
    "def get_train_df(only_faulty=False):\n",
    "    \"\"\"\n",
    "    Get training DataFrame with all the images in data/train_images.\n",
    "    Returns only the faulty images if `only_faulty`.\n",
    "    \"\"\"\n",
    "    train = pd.read_csv(path/\"train.csv\")\n",
    "    train[\"ImageId_ClassId\"] = train[\"ImageId\"] + \"_\" + train[\"ClassId\"].astype('str')\n",
    "    if only_faulty: return train\n",
    "    \n",
    "    img_names = [ img_path.name for img_path in train_pfiles ]\n",
    "    df_all = pd.DataFrame({'ImageId': img_names})\n",
    "    train_all = pd.merge(df_all, train, on=\"ImageId\", how=\"outer\", indicator=True)\n",
    "    # Renaming and fillna\n",
    "    train_all.rename(columns={'_merge': 'status'}, inplace=True)\n",
    "    rename_dict = {\"both\": \"faulty\", \"left_only\": \"no_faulty\"}\n",
    "    train_all[\"status\"] = train_all[\"status\"].cat.rename_categories(rename_dict)\n",
    "    train_all.ClassId.fillna(0, inplace=True)\n",
    "    train_all.ClassId = train_all.ClassId.astype('int64')\n",
    "    train_all.EncodedPixels.fillna(-1, inplace=True)    \n",
    "\n",
    "    return train_all"
   ]
  },
  {
   "cell_type": "markdown",
   "metadata": {},
   "source": [
    "### Faulty images"
   ]
  },
  {
   "cell_type": "markdown",
   "metadata": {},
   "source": [
    "Each Image may have **no defects**, a defect of a **single class**, or **defects of multiple classes** (`ClassId`).\n",
    "\n",
    "The `train.csv` file contains the informations about the faulty images. The columns are:\n",
    "\n",
    "- **ImageId**: image name\n",
    "\n",
    "- **ClassId**: the class type\n",
    "\n",
    "- **EncodedPixels**: the encoded pixels follows a run-length encoding rule, a sequence of pair values that contains a start position and a run length with the space as the delimiter. E.g. `1 3 10 5` means pixels `(1,2,3)` and `(10,11,12,13,14)`.  "
   ]
  },
  {
   "cell_type": "code",
   "execution_count": null,
   "metadata": {},
   "outputs": [],
   "source": [
    "#export\n",
    "train = get_train_df(only_faulty=True)"
   ]
  },
  {
   "cell_type": "code",
   "execution_count": null,
   "metadata": {},
   "outputs": [],
   "source": [
    "assert isinstance(train, pd.DataFrame)"
   ]
  },
  {
   "cell_type": "code",
   "execution_count": null,
   "metadata": {},
   "outputs": [
    {
     "name": "stdout",
     "output_type": "stream",
     "text": [
      "(7095, 4)\n"
     ]
    },
    {
     "data": {
      "text/html": [
       "<div>\n",
       "<style scoped>\n",
       "    .dataframe tbody tr th:only-of-type {\n",
       "        vertical-align: middle;\n",
       "    }\n",
       "\n",
       "    .dataframe tbody tr th {\n",
       "        vertical-align: top;\n",
       "    }\n",
       "\n",
       "    .dataframe thead th {\n",
       "        text-align: right;\n",
       "    }\n",
       "</style>\n",
       "<table border=\"1\" class=\"dataframe\">\n",
       "  <thead>\n",
       "    <tr style=\"text-align: right;\">\n",
       "      <th></th>\n",
       "      <th>ImageId</th>\n",
       "      <th>ClassId</th>\n",
       "      <th>EncodedPixels</th>\n",
       "      <th>ImageId_ClassId</th>\n",
       "    </tr>\n",
       "  </thead>\n",
       "  <tbody>\n",
       "    <tr>\n",
       "      <th>0</th>\n",
       "      <td>0002cc93b.jpg</td>\n",
       "      <td>1</td>\n",
       "      <td>29102 12 29346 24 29602 24 29858 24 30114 24 30370 24 30626 24 30882 24 31139 23 31395 23 31651 23 31907 23 32163 23 32419 23 32675 23 77918 27 78174 55 78429 60 78685 64 78941 68 79197 72 79452 77 79708 81 79964 85 80220 89 80475 94 80731 98 80987 102 81242 105 81498 105 81754 104 82010 104 82265 105 82521 31 82556 69 82779 27 82818 63 83038 22 83080 57 83297 17 83342 50 83555 13 83604 44 83814 8 83866 37 84073 3 84128 31 84390 25 84652 18 84918 8 85239 10 85476 29 85714 47 85960 57 86216 57 86471 58 86727 58 86983 58 87238 59 87494 59 87750 59 88005 60 88261 60 88517 60 88772 61 89028 53...</td>\n",
       "      <td>0002cc93b.jpg_1</td>\n",
       "    </tr>\n",
       "    <tr>\n",
       "      <th>1</th>\n",
       "      <td>0007a71bf.jpg</td>\n",
       "      <td>3</td>\n",
       "      <td>18661 28 18863 82 19091 110 19347 110 19603 110 19859 110 20115 110 20371 110 20627 110 20883 110 21139 110 21395 110 21651 110 21962 55 293125 251 293381 251 293637 251 293893 251 294149 251 294405 251 294661 251 294917 251 295173 251 295429 251 295685 251 295941 251 296197 251 296453 251 296709 251 296965 251 297221 251 297477 251 297733 251 297989 251 298245 251 298564 188 298945 63</td>\n",
       "      <td>0007a71bf.jpg_3</td>\n",
       "    </tr>\n",
       "  </tbody>\n",
       "</table>\n",
       "</div>"
      ],
      "text/plain": [
       "         ImageId  ClassId  \\\n",
       "0  0002cc93b.jpg        1   \n",
       "1  0007a71bf.jpg        3   \n",
       "\n",
       "                                                                                                                                                                                                                                                                                                                                                                                                                                                                                                                                                                                                             EncodedPixels  \\\n",
       "0  29102 12 29346 24 29602 24 29858 24 30114 24 30370 24 30626 24 30882 24 31139 23 31395 23 31651 23 31907 23 32163 23 32419 23 32675 23 77918 27 78174 55 78429 60 78685 64 78941 68 79197 72 79452 77 79708 81 79964 85 80220 89 80475 94 80731 98 80987 102 81242 105 81498 105 81754 104 82010 104 82265 105 82521 31 82556 69 82779 27 82818 63 83038 22 83080 57 83297 17 83342 50 83555 13 83604 44 83814 8 83866 37 84073 3 84128 31 84390 25 84652 18 84918 8 85239 10 85476 29 85714 47 85960 57 86216 57 86471 58 86727 58 86983 58 87238 59 87494 59 87750 59 88005 60 88261 60 88517 60 88772 61 89028 53...   \n",
       "1                                                                                                                                                                                                                     18661 28 18863 82 19091 110 19347 110 19603 110 19859 110 20115 110 20371 110 20627 110 20883 110 21139 110 21395 110 21651 110 21962 55 293125 251 293381 251 293637 251 293893 251 294149 251 294405 251 294661 251 294917 251 295173 251 295429 251 295685 251 295941 251 296197 251 296453 251 296709 251 296965 251 297221 251 297477 251 297733 251 297989 251 298245 251 298564 188 298945 63   \n",
       "\n",
       "   ImageId_ClassId  \n",
       "0  0002cc93b.jpg_1  \n",
       "1  0007a71bf.jpg_3  "
      ]
     },
     "execution_count": null,
     "metadata": {},
     "output_type": "execute_result"
    }
   ],
   "source": [
    "print(train.shape)\n",
    "train.head(2)"
   ]
  },
  {
   "cell_type": "markdown",
   "metadata": {},
   "source": [
    "Every row of the DataFrame is a unique `(ImageId, ClassId)`. If there's duplicates the algorithms didn't work."
   ]
  },
  {
   "cell_type": "code",
   "execution_count": null,
   "metadata": {},
   "outputs": [],
   "source": [
    "assert not train.ImageId_ClassId.duplicated().any()"
   ]
  },
  {
   "cell_type": "code",
   "execution_count": null,
   "metadata": {},
   "outputs": [
    {
     "data": {
      "text/plain": [
       "ImageId            object\n",
       "ClassId             int64\n",
       "EncodedPixels      object\n",
       "ImageId_ClassId    object\n",
       "dtype: object"
      ]
     },
     "execution_count": null,
     "metadata": {},
     "output_type": "execute_result"
    }
   ],
   "source": [
    "train.dtypes"
   ]
  },
  {
   "cell_type": "code",
   "execution_count": null,
   "metadata": {},
   "outputs": [
    {
     "data": {
      "text/html": [
       "<div>\n",
       "<style scoped>\n",
       "    .dataframe tbody tr th:only-of-type {\n",
       "        vertical-align: middle;\n",
       "    }\n",
       "\n",
       "    .dataframe tbody tr th {\n",
       "        vertical-align: top;\n",
       "    }\n",
       "\n",
       "    .dataframe thead th {\n",
       "        text-align: right;\n",
       "    }\n",
       "</style>\n",
       "<table border=\"1\" class=\"dataframe\">\n",
       "  <thead>\n",
       "    <tr style=\"text-align: right;\">\n",
       "      <th></th>\n",
       "      <th>num</th>\n",
       "      <th>freq</th>\n",
       "    </tr>\n",
       "    <tr>\n",
       "      <th>ClassId</th>\n",
       "      <th></th>\n",
       "      <th></th>\n",
       "    </tr>\n",
       "  </thead>\n",
       "  <tbody>\n",
       "    <tr>\n",
       "      <th>1</th>\n",
       "      <td>897</td>\n",
       "      <td>0.126427</td>\n",
       "    </tr>\n",
       "    <tr>\n",
       "      <th>2</th>\n",
       "      <td>247</td>\n",
       "      <td>0.034813</td>\n",
       "    </tr>\n",
       "    <tr>\n",
       "      <th>3</th>\n",
       "      <td>5150</td>\n",
       "      <td>0.725863</td>\n",
       "    </tr>\n",
       "    <tr>\n",
       "      <th>4</th>\n",
       "      <td>801</td>\n",
       "      <td>0.112896</td>\n",
       "    </tr>\n",
       "  </tbody>\n",
       "</table>\n",
       "</div>"
      ],
      "text/plain": [
       "          num      freq\n",
       "ClassId                \n",
       "1         897  0.126427\n",
       "2         247  0.034813\n",
       "3        5150  0.725863\n",
       "4         801  0.112896"
      ]
     },
     "execution_count": null,
     "metadata": {},
     "output_type": "execute_result"
    }
   ],
   "source": [
    "class_count = train[\"ClassId\"].value_counts().sort_index()\n",
    "class_count.index.set_names(\"ClassId\", inplace=True)\n",
    "class_count = class_count.to_frame()\n",
    "class_count.rename(columns={\"ClassId\": \"num\"}, inplace=True)\n",
    "class_count.assign(freq = lambda df: df[\"num\"] / df[\"num\"].sum())"
   ]
  },
  {
   "cell_type": "code",
   "execution_count": null,
   "metadata": {},
   "outputs": [
    {
     "data": {
      "image/png": "[encoded data removed]",
      "text/plain": [
       "<Figure size 432x288 with 1 Axes>"
      ]
     },
     "metadata": {
      "needs_background": "light"
     },
     "output_type": "display_data"
    }
   ],
   "source": [
    "class_count.plot.bar(title=\"Defects by ClassId count\")\n",
    "plt.show()"
   ]
  },
  {
   "cell_type": "code",
   "execution_count": null,
   "metadata": {},
   "outputs": [
    {
     "data": {
      "image/png": "[encoded data removed]",
      "text/plain": [
       "<Figure size 432x288 with 1 Axes>"
      ]
     },
     "metadata": {
      "needs_background": "light"
     },
     "output_type": "display_data"
    },
    {
     "data": {
      "text/plain": [
       "{1: 6239, 2: 425, 3: 2}"
      ]
     },
     "execution_count": null,
     "metadata": {},
     "output_type": "execute_result"
    }
   ],
   "source": [
    "counts = train[\"ImageId\"].value_counts()\n",
    "hist_counts, _ = np.histogram(counts.values, bins=3)\n",
    "nums = ['1', '2', '3']\n",
    "plt.bar(x=nums, height=hist_counts)\n",
    "plt.title(\"Num of defects per images\")\n",
    "plt.show()\n",
    "\n",
    "{i+1: c for i, c in enumerate(hist_counts)}"
   ]
  },
  {
   "cell_type": "markdown",
   "metadata": {},
   "source": [
    "Images have at least one defect and there's a small number of images with two or three defects. "
   ]
  },
  {
   "cell_type": "code",
   "execution_count": null,
   "metadata": {},
   "outputs": [
    {
     "name": "stdout",
     "output_type": "stream",
     "text": [
      "Multiple defects:\n",
      "ClassId (3, 4) counts 284 images\n",
      "ClassId (1, 3) counts 91 images\n",
      "ClassId (1, 2) counts 35 images\n",
      "ClassId (2, 3) counts 14 images\n",
      "ClassId (2, 4) counts 1 images\n",
      "ClassId (1, 2, 3) counts 2 images\n"
     ]
    }
   ],
   "source": [
    "print(\"Multiple defects:\")\n",
    "imgs_class_agg = train.groupby(\"ImageId\").apply(lambda x: x[\"ClassId\"].values.tolist())\n",
    "\n",
    "pairs = imgs_class_agg[imgs_class_agg.map(lambda v: len(v)==2)].values.tolist()\n",
    "triples = imgs_class_agg[imgs_class_agg.map(lambda v: len(v)==3)].values.tolist()\n",
    "\n",
    "p = Counter(map(lambda l: (l[0], l[1]), pairs))\n",
    "t = Counter(map(lambda l: (l[0], l[1], l[2]), triples))\n",
    "\n",
    "print(\"\\n\".join([f\"ClassId {ids} counts {count} images\" for ids, count in p.most_common()]))\n",
    "print(\"\\n\".join([f\"ClassId {ids} counts {count} images\" for ids, count in t.most_common()]))"
   ]
  },
  {
   "cell_type": "markdown",
   "metadata": {},
   "source": [
    "### All training images"
   ]
  },
  {
   "cell_type": "markdown",
   "metadata": {},
   "source": [
    "As we can see below, there're 7095 defects in 6666 images. "
   ]
  },
  {
   "cell_type": "code",
   "execution_count": null,
   "metadata": {},
   "outputs": [
    {
     "data": {
      "text/plain": [
       "count     7095\n",
       "unique    6666\n",
       "Name: ImageId, dtype: object"
      ]
     },
     "execution_count": null,
     "metadata": {},
     "output_type": "execute_result"
    }
   ],
   "source": [
    "unique_imgs = train.describe(include='all')[\"ImageId\"].T[:2]\n",
    "unique_imgs"
   ]
  },
  {
   "cell_type": "code",
   "execution_count": null,
   "metadata": {},
   "outputs": [],
   "source": [
    "assert unique_imgs[0] == 7095\n",
    "assert unique_imgs[1] == 6666"
   ]
  },
  {
   "cell_type": "code",
   "execution_count": null,
   "metadata": {},
   "outputs": [],
   "source": [
    "#export\n",
    "train_all = get_train_df()"
   ]
  },
  {
   "cell_type": "code",
   "execution_count": null,
   "metadata": {},
   "outputs": [
    {
     "data": {
      "image/png": "[encoded data removed]",
      "text/plain": [
       "<Figure size 504x468 with 1 Axes>"
      ]
     },
     "metadata": {
      "needs_background": "light"
     },
     "output_type": "display_data"
    }
   ],
   "source": [
    "fig, ax = plt.subplots(1, 1, figsize=(7, 6.5))\n",
    "ax.set_title(\"Count imgs\", pad=30, fontdict={'fontsize':14})\n",
    "ax.xaxis.tick_top()  # Display x-axis ticks on top\n",
    "\n",
    "(\n",
    "    train_all[['ImageId', 'status']]\n",
    "     .drop_duplicates()\n",
    "     .status.value_counts().iloc[:-1]\n",
    "     .plot.barh(table=True, ax=ax)\n",
    ");"
   ]
  },
  {
   "cell_type": "code",
   "execution_count": null,
   "metadata": {},
   "outputs": [
    {
     "data": {
      "text/plain": [
       "ImageId              object\n",
       "ClassId               int64\n",
       "EncodedPixels        object\n",
       "ImageId_ClassId      object\n",
       "status             category\n",
       "dtype: object"
      ]
     },
     "execution_count": null,
     "metadata": {},
     "output_type": "execute_result"
    }
   ],
   "source": [
    "train_all.dtypes"
   ]
  },
  {
   "cell_type": "code",
   "execution_count": null,
   "metadata": {},
   "outputs": [
    {
     "data": {
      "text/html": [
       "<div>\n",
       "<style scoped>\n",
       "    .dataframe tbody tr th:only-of-type {\n",
       "        vertical-align: middle;\n",
       "    }\n",
       "\n",
       "    .dataframe tbody tr th {\n",
       "        vertical-align: top;\n",
       "    }\n",
       "\n",
       "    .dataframe thead th {\n",
       "        text-align: right;\n",
       "    }\n",
       "</style>\n",
       "<table border=\"1\" class=\"dataframe\">\n",
       "  <thead>\n",
       "    <tr style=\"text-align: right;\">\n",
       "      <th></th>\n",
       "      <th>ImageId</th>\n",
       "      <th>ClassId</th>\n",
       "      <th>EncodedPixels</th>\n",
       "      <th>ImageId_ClassId</th>\n",
       "      <th>status</th>\n",
       "    </tr>\n",
       "  </thead>\n",
       "  <tbody>\n",
       "    <tr>\n",
       "      <th>count</th>\n",
       "      <td>7096</td>\n",
       "      <td>7096.0</td>\n",
       "      <td>7096</td>\n",
       "      <td>7095</td>\n",
       "      <td>7096</td>\n",
       "    </tr>\n",
       "    <tr>\n",
       "      <th>unique</th>\n",
       "      <td>6667</td>\n",
       "      <td>NaN</td>\n",
       "      <td>7096</td>\n",
       "      <td>7095</td>\n",
       "      <td>3</td>\n",
       "    </tr>\n",
       "    <tr>\n",
       "      <th>top</th>\n",
       "      <td>ef24da2ba.jpg</td>\n",
       "      <td>NaN</td>\n",
       "      <td>77270 43 77441 128 77612 12714 90369 128 90625 43 176918 3 177170 7 177422 11 177674 15 177926 20 178180 22 178436 22 178692 22 178948 22 179204 22 179460 23 179716 23 179972 23 180229 22 180485 22 180741 22 180997 23 181253 23 181509 23 181765 23 182021 23 182277 23 182533 23 182789 24 183045 24 183301 24 183557 24 183814 23 184070 23 184326 24 184582 24 184838 24 185094 24 185350 24 185606 24 185866 21 186128 15 186390 9 186652 3 378062 42 378276 84 378532 84 378788 84 379044 84 379300 84 379556 84 379812 84 380068 84 380324 84 380580 84 380836 84 381092 84 381348 84 381604 84 381860 84 ...</td>\n",
       "      <td>7f30a2a1e.jpg_3</td>\n",
       "      <td>right_only</td>\n",
       "    </tr>\n",
       "    <tr>\n",
       "      <th>freq</th>\n",
       "      <td>3</td>\n",
       "      <td>NaN</td>\n",
       "      <td>1</td>\n",
       "      <td>1</td>\n",
       "      <td>7090</td>\n",
       "    </tr>\n",
       "  </tbody>\n",
       "</table>\n",
       "</div>"
      ],
      "text/plain": [
       "              ImageId  ClassId  \\\n",
       "count            7096   7096.0   \n",
       "unique           6667      NaN   \n",
       "top     ef24da2ba.jpg      NaN   \n",
       "freq                3      NaN   \n",
       "\n",
       "                                                                                                                                                                                                                                                                                                                                                                                                                                                                                                                                                                                                                  EncodedPixels  \\\n",
       "count                                                                                                                                                                                                                                                                                                                                                                                                                                                                                                                                                                                                                      7096   \n",
       "unique                                                                                                                                                                                                                                                                                                                                                                                                                                                                                                                                                                                                                     7096   \n",
       "top     77270 43 77441 128 77612 12714 90369 128 90625 43 176918 3 177170 7 177422 11 177674 15 177926 20 178180 22 178436 22 178692 22 178948 22 179204 22 179460 23 179716 23 179972 23 180229 22 180485 22 180741 22 180997 23 181253 23 181509 23 181765 23 182021 23 182277 23 182533 23 182789 24 183045 24 183301 24 183557 24 183814 23 184070 23 184326 24 184582 24 184838 24 185094 24 185350 24 185606 24 185866 21 186128 15 186390 9 186652 3 378062 42 378276 84 378532 84 378788 84 379044 84 379300 84 379556 84 379812 84 380068 84 380324 84 380580 84 380836 84 381092 84 381348 84 381604 84 381860 84 ...   \n",
       "freq                                                                                                                                                                                                                                                                                                                                                                                                                                                                                                                                                                                                                          1   \n",
       "\n",
       "        ImageId_ClassId      status  \n",
       "count              7095        7096  \n",
       "unique             7095           3  \n",
       "top     7f30a2a1e.jpg_3  right_only  \n",
       "freq                  1        7090  "
      ]
     },
     "execution_count": null,
     "metadata": {},
     "output_type": "execute_result"
    }
   ],
   "source": [
    "train_all.describe(include='all')[:4]"
   ]
  },
  {
   "cell_type": "code",
   "execution_count": null,
   "metadata": {},
   "outputs": [],
   "source": [
    "#export\n",
    "def get_train_pivot(df=None):\n",
    "    \"\"\"\n",
    "    Summarize the training csv with ClassId as columns and values EncodedPixels\n",
    "    \"\"\"\n",
    "    if not df: df = train\n",
    "    train_pivot = df.pivot(index=\"ImageId\", columns=\"ClassId\", values=\"EncodedPixels\")\n",
    "    train_pivot[\"n\"] = train_pivot.notnull().sum(1)\n",
    "    return train_pivot"
   ]
  },
  {
   "cell_type": "code",
   "execution_count": null,
   "metadata": {},
   "outputs": [
    {
     "data": {
      "text/html": [
       "<div>\n",
       "<style scoped>\n",
       "    .dataframe tbody tr th:only-of-type {\n",
       "        vertical-align: middle;\n",
       "    }\n",
       "\n",
       "    .dataframe tbody tr th {\n",
       "        vertical-align: top;\n",
       "    }\n",
       "\n",
       "    .dataframe thead th {\n",
       "        text-align: right;\n",
       "    }\n",
       "</style>\n",
       "<table border=\"1\" class=\"dataframe\">\n",
       "  <thead>\n",
       "    <tr style=\"text-align: right;\">\n",
       "      <th>ClassId</th>\n",
       "      <th>1</th>\n",
       "      <th>2</th>\n",
       "      <th>3</th>\n",
       "      <th>4</th>\n",
       "      <th>n</th>\n",
       "    </tr>\n",
       "    <tr>\n",
       "      <th>ImageId</th>\n",
       "      <th></th>\n",
       "      <th></th>\n",
       "      <th></th>\n",
       "      <th></th>\n",
       "      <th></th>\n",
       "    </tr>\n",
       "  </thead>\n",
       "  <tbody>\n",
       "    <tr>\n",
       "      <th>0002cc93b.jpg</th>\n",
       "      <td>29102 12 29346 24 29602 24 29858 24 30114 24 30370 24 30626 24 30882 24 31139 23 31395 23 31651 23 31907 23 32163 23 32419 23 32675 23 77918 27 78174 55 78429 60 78685 64 78941 68 79197 72 79452 77 79708 81 79964 85 80220 89 80475 94 80731 98 80987 102 81242 105 81498 105 81754 104 82010 104 82265 105 82521 31 82556 69 82779 27 82818 63 83038 22 83080 57 83297 17 83342 50 83555 13 83604 44 83814 8 83866 37 84073 3 84128 31 84390 25 84652 18 84918 8 85239 10 85476 29 85714 47 85960 57 86216 57 86471 58 86727 58 86983 58 87238 59 87494 59 87750 59 88005 60 88261 60 88517 60 88772 61 89028 53...</td>\n",
       "      <td>NaN</td>\n",
       "      <td>NaN</td>\n",
       "      <td>NaN</td>\n",
       "      <td>1</td>\n",
       "    </tr>\n",
       "    <tr>\n",
       "      <th>0007a71bf.jpg</th>\n",
       "      <td>NaN</td>\n",
       "      <td>NaN</td>\n",
       "      <td>18661 28 18863 82 19091 110 19347 110 19603 110 19859 110 20115 110 20371 110 20627 110 20883 110 21139 110 21395 110 21651 110 21962 55 293125 251 293381 251 293637 251 293893 251 294149 251 294405 251 294661 251 294917 251 295173 251 295429 251 295685 251 295941 251 296197 251 296453 251 296709 251 296965 251 297221 251 297477 251 297733 251 297989 251 298245 251 298564 188 298945 63</td>\n",
       "      <td>NaN</td>\n",
       "      <td>1</td>\n",
       "    </tr>\n",
       "  </tbody>\n",
       "</table>\n",
       "</div>"
      ],
      "text/plain": [
       "ClassId                                                                                                                                                                                                                                                                                                                                                                                                                                                                                                                                                                                                                              1  \\\n",
       "ImageId                                                                                                                                                                                                                                                                                                                                                                                                                                                                                                                                                                                                                                  \n",
       "0002cc93b.jpg  29102 12 29346 24 29602 24 29858 24 30114 24 30370 24 30626 24 30882 24 31139 23 31395 23 31651 23 31907 23 32163 23 32419 23 32675 23 77918 27 78174 55 78429 60 78685 64 78941 68 79197 72 79452 77 79708 81 79964 85 80220 89 80475 94 80731 98 80987 102 81242 105 81498 105 81754 104 82010 104 82265 105 82521 31 82556 69 82779 27 82818 63 83038 22 83080 57 83297 17 83342 50 83555 13 83604 44 83814 8 83866 37 84073 3 84128 31 84390 25 84652 18 84918 8 85239 10 85476 29 85714 47 85960 57 86216 57 86471 58 86727 58 86983 58 87238 59 87494 59 87750 59 88005 60 88261 60 88517 60 88772 61 89028 53...   \n",
       "0007a71bf.jpg                                                                                                                                                                                                                                                                                                                                                                                                                                                                                                                                                                                                                      NaN   \n",
       "\n",
       "ClassId          2  \\\n",
       "ImageId              \n",
       "0002cc93b.jpg  NaN   \n",
       "0007a71bf.jpg  NaN   \n",
       "\n",
       "ClassId                                                                                                                                                                                                                                                                                                                                                                                                           3  \\\n",
       "ImageId                                                                                                                                                                                                                                                                                                                                                                                                               \n",
       "0002cc93b.jpg                                                                                                                                                                                                                                                                                                                                                                                                   NaN   \n",
       "0007a71bf.jpg  18661 28 18863 82 19091 110 19347 110 19603 110 19859 110 20115 110 20371 110 20627 110 20883 110 21139 110 21395 110 21651 110 21962 55 293125 251 293381 251 293637 251 293893 251 294149 251 294405 251 294661 251 294917 251 295173 251 295429 251 295685 251 295941 251 296197 251 296453 251 296709 251 296965 251 297221 251 297477 251 297733 251 297989 251 298245 251 298564 188 298945 63   \n",
       "\n",
       "ClassId          4  n  \n",
       "ImageId                \n",
       "0002cc93b.jpg  NaN  1  \n",
       "0007a71bf.jpg  NaN  1  "
      ]
     },
     "execution_count": null,
     "metadata": {},
     "output_type": "execute_result"
    }
   ],
   "source": [
    "train_pivot = get_train_pivot()\n",
    "train_pivot.head(2)"
   ]
  },
  {
   "cell_type": "code",
   "execution_count": null,
   "metadata": {},
   "outputs": [],
   "source": [
    "#export\n",
    "def get_classification_df(df:pd.DataFrame=None):\n",
    "    \"\"\"\n",
    "    Get the DataFrame for the multiclass classification model\n",
    "    \"\"\"\n",
    "    \n",
    "    def assign_multi_ClassId(x):\n",
    "        \"\"\"Returns a string with multi ClassId sep with a blank space (' ')\"\"\"\n",
    "        def fill_cols(c):\n",
    "            return c.fillna(5).astype('int64').astype(str)\n",
    "\n",
    "        cols = [fill_cols(x[i]) for i in range(5)]\n",
    "        cols = [col.replace('5', '') for col in cols]\n",
    "        ClassId_multi = cols[0] + \" \" + cols[1] + \" \" + cols[2] + \" \" + cols[3] + \" \" + cols[4]\n",
    "        ClassId_multi = ClassId_multi.str.strip()\n",
    "        ClassId_multi = ClassId_multi.str.replace('  ', ' ')\n",
    "\n",
    "        return ClassId_multi.str.strip()\n",
    "\n",
    "    if not df: df = train_all\n",
    "    train_multi = df.pivot(index=\"ImageId\", columns=\"ClassId\", values=\"ClassId\") \n",
    "    train_multi = train_multi.assign(ClassId_multi = lambda x: assign_multi_ClassId(x)) \n",
    "    return train_multi.reset_index()[[\"ImageId\", \"ClassId_multi\"]]"
   ]
  },
  {
   "cell_type": "code",
   "execution_count": null,
   "metadata": {},
   "outputs": [],
   "source": [
    "#export\n",
    "train_multi = get_classification_df()"
   ]
  },
  {
   "cell_type": "code",
   "execution_count": null,
   "metadata": {},
   "outputs": [
    {
     "data": {
      "text/html": [
       "<div>\n",
       "<style scoped>\n",
       "    .dataframe tbody tr th:only-of-type {\n",
       "        vertical-align: middle;\n",
       "    }\n",
       "\n",
       "    .dataframe tbody tr th {\n",
       "        vertical-align: top;\n",
       "    }\n",
       "\n",
       "    .dataframe thead th {\n",
       "        text-align: right;\n",
       "    }\n",
       "</style>\n",
       "<table border=\"1\" class=\"dataframe\">\n",
       "  <thead>\n",
       "    <tr style=\"text-align: right;\">\n",
       "      <th>ClassId</th>\n",
       "      <th>ImageId</th>\n",
       "      <th>ClassId_multi</th>\n",
       "    </tr>\n",
       "  </thead>\n",
       "  <tbody>\n",
       "    <tr>\n",
       "      <th>0</th>\n",
       "      <td>0002cc93b.jpg</td>\n",
       "      <td>1</td>\n",
       "    </tr>\n",
       "    <tr>\n",
       "      <th>1</th>\n",
       "      <td>0007a71bf.jpg</td>\n",
       "      <td>3</td>\n",
       "    </tr>\n",
       "    <tr>\n",
       "      <th>2</th>\n",
       "      <td>000a4bcdd.jpg</td>\n",
       "      <td>1</td>\n",
       "    </tr>\n",
       "    <tr>\n",
       "      <th>3</th>\n",
       "      <td>000f6bf48.jpg</td>\n",
       "      <td>4</td>\n",
       "    </tr>\n",
       "    <tr>\n",
       "      <th>4</th>\n",
       "      <td>0014fce06.jpg</td>\n",
       "      <td>3</td>\n",
       "    </tr>\n",
       "  </tbody>\n",
       "</table>\n",
       "</div>"
      ],
      "text/plain": [
       "ClassId        ImageId ClassId_multi\n",
       "0        0002cc93b.jpg             1\n",
       "1        0007a71bf.jpg             3\n",
       "2        000a4bcdd.jpg             1\n",
       "3        000f6bf48.jpg             4\n",
       "4        0014fce06.jpg             3"
      ]
     },
     "execution_count": null,
     "metadata": {},
     "output_type": "execute_result"
    }
   ],
   "source": [
    "train_multi.head()"
   ]
  },
  {
   "cell_type": "markdown",
   "metadata": {},
   "source": [
    "Count of `ClassId` per image."
   ]
  },
  {
   "cell_type": "code",
   "execution_count": null,
   "metadata": {},
   "outputs": [
    {
     "data": {
      "text/plain": [
       "3        4759\n",
       "1         769\n",
       "4         516\n",
       "3 4       284\n",
       "2         195\n",
       "1 3        91\n",
       "1 2        35\n",
       "2 3        14\n",
       "1 2 3       2\n",
       "2 4         1\n",
       "0           1\n",
       "Name: ClassId_multi, dtype: int64"
      ]
     },
     "execution_count": null,
     "metadata": {},
     "output_type": "execute_result"
    }
   ],
   "source": [
    "train_multi[\"ClassId_multi\"].value_counts()"
   ]
  },
  {
   "cell_type": "code",
   "execution_count": null,
   "metadata": {},
   "outputs": [
    {
     "data": {
      "text/html": [
       "<div>\n",
       "<style scoped>\n",
       "    .dataframe tbody tr th:only-of-type {\n",
       "        vertical-align: middle;\n",
       "    }\n",
       "\n",
       "    .dataframe tbody tr th {\n",
       "        vertical-align: top;\n",
       "    }\n",
       "\n",
       "    .dataframe thead th {\n",
       "        text-align: right;\n",
       "    }\n",
       "</style>\n",
       "<table border=\"1\" class=\"dataframe\">\n",
       "  <thead>\n",
       "    <tr style=\"text-align: right;\">\n",
       "      <th>ClassId</th>\n",
       "      <th>ImageId</th>\n",
       "      <th>ClassId_multi</th>\n",
       "    </tr>\n",
       "  </thead>\n",
       "  <tbody>\n",
       "    <tr>\n",
       "      <th>count</th>\n",
       "      <td>6667</td>\n",
       "      <td>6667</td>\n",
       "    </tr>\n",
       "    <tr>\n",
       "      <th>unique</th>\n",
       "      <td>6667</td>\n",
       "      <td>11</td>\n",
       "    </tr>\n",
       "    <tr>\n",
       "      <th>top</th>\n",
       "      <td>5d8c2d90e.jpg</td>\n",
       "      <td>3</td>\n",
       "    </tr>\n",
       "    <tr>\n",
       "      <th>freq</th>\n",
       "      <td>1</td>\n",
       "      <td>4759</td>\n",
       "    </tr>\n",
       "  </tbody>\n",
       "</table>\n",
       "</div>"
      ],
      "text/plain": [
       "ClassId        ImageId ClassId_multi\n",
       "count             6667          6667\n",
       "unique            6667            11\n",
       "top      5d8c2d90e.jpg             3\n",
       "freq                 1          4759"
      ]
     },
     "execution_count": null,
     "metadata": {},
     "output_type": "execute_result"
    }
   ],
   "source": [
    "train_multi.describe(include='all')"
   ]
  },
  {
   "cell_type": "code",
   "execution_count": null,
   "metadata": {},
   "outputs": [
    {
     "name": "stdout",
     "output_type": "stream",
     "text": [
      "Converted 00_core.ipynb.\n",
      "Converted 01_data.ipynb.\n",
      "Converted 02_preprocessing.ipynb.\n",
      "Converted index.ipynb.\n"
     ]
    }
   ],
   "source": [
    "#hide\n",
    "from nbdev.export import notebook2script; notebook2script()"
   ]
  },
  {
   "cell_type": "code",
   "execution_count": null,
   "metadata": {},
   "outputs": [],
   "source": []
  },
  {
   "cell_type": "code",
   "execution_count": null,
   "metadata": {},
   "outputs": [],
   "source": []
  }
 ],
 "metadata": {
  "kernelspec": {
   "display_name": "Python 3",
   "language": "python",
   "name": "python3"
  }
 },
 "nbformat": 4,
 "nbformat_minor": 2
}
