{
 "cells": [
  {
   "cell_type": "code",
   "execution_count": null,
   "metadata": {},
   "outputs": [],
   "source": [
    "# hide\n",
    "# all_slow"
   ]
  },
  {
   "cell_type": "markdown",
   "metadata": {},
   "source": [
    "# Segmentation ResNet18-UNET from Kaggle\n",
    "\n",
    "> Pytorch solution from Kaggle."
   ]
  },
  {
   "cell_type": "markdown",
   "metadata": {},
   "source": [
    "[![Open In Colab](https://colab.research.google.com/assets/colab-badge.svg)](https://colab.research.google.com/github/marcomatteo/steel_segmentation/blob/master/dev_nbs/15_torch.seg_unet_resnet18.ipynb)"
   ]
  },
  {
   "cell_type": "markdown",
   "metadata": {},
   "source": [
    "This notebook uses a UNet model with pretrained resnet18 encoder, with simple augmentations using albumentations library, uses BCE loss, metrics like Dice and IoU. The segmentation model is from [segmentation_models.pytorch](https://github.com/qubvel/segmentation_models.pytorch) which comes with a lot pre-implemented segmentation architectures. \n",
    "\n",
    "The kaggle kernel from which I've borrowed this code is: https://www.kaggle.com/rishabhiitbhu/unet-pytorch-inference-kernel."
   ]
  },
  {
   "cell_type": "code",
   "execution_count": null,
   "metadata": {},
   "outputs": [],
   "source": [
    "#hide\n",
    "%load_ext autoreload\n",
    "%autoreload 2\n",
    "%matplotlib inline"
   ]
  },
  {
   "cell_type": "code",
   "execution_count": null,
   "metadata": {},
   "outputs": [],
   "source": [
    "from steel_segmentation.all import *"
   ]
  },
  {
   "cell_type": "code",
   "execution_count": null,
   "metadata": {},
   "outputs": [],
   "source": [
    "from matplotlib import pyplot as plt\n",
    "\n",
    "import warnings\n",
    "import random\n",
    "import os\n",
    "import pandas as pd\n",
    "import numpy as np\n",
    "import torch\n",
    "import torch.backends.cudnn as cudnn\n",
    "\n",
    "import segmentation_models_pytorch as smp\n",
    "\n",
    "seed_everything(69)"
   ]
  },
  {
   "cell_type": "code",
   "execution_count": null,
   "metadata": {},
   "outputs": [
    {
     "data": {
      "text/plain": [
       "'cuda'"
      ]
     },
     "execution_count": null,
     "metadata": {},
     "output_type": "execute_result"
    }
   ],
   "source": [
    "torch.device(\"cuda:0\").type"
   ]
  },
  {
   "cell_type": "code",
   "execution_count": null,
   "metadata": {},
   "outputs": [
    {
     "data": {
      "text/plain": [
       "True"
      ]
     },
     "execution_count": null,
     "metadata": {},
     "output_type": "execute_result"
    }
   ],
   "source": [
    "torch.cuda.is_available()"
   ]
  },
  {
   "cell_type": "code",
   "execution_count": null,
   "metadata": {},
   "outputs": [
    {
     "name": "stdout",
     "output_type": "stream",
     "text": [
      "Fri Mar 26 12:38:04 2021       \r\n",
      "+-----------------------------------------------------------------------------+\r\n",
      "| NVIDIA-SMI 450.36.06    Driver Version: 450.36.06    CUDA Version: 11.0     |\r\n",
      "|-------------------------------+----------------------+----------------------+\r\n",
      "| GPU  Name        Persistence-M| Bus-Id        Disp.A | Volatile Uncorr. ECC |\r\n",
      "| Fan  Temp  Perf  Pwr:Usage/Cap|         Memory-Usage | GPU-Util  Compute M. |\r\n",
      "|                               |                      |               MIG M. |\r\n",
      "|===============================+======================+======================|\r\n",
      "|   0  Quadro M4000        On   | 00000000:00:05.0 Off |                  N/A |\r\n",
      "| 46%   24C    P8    11W / 120W |      4MiB /  8126MiB |      0%      Default |\r\n",
      "|                               |                      |                  N/A |\r\n",
      "+-------------------------------+----------------------+----------------------+\r\n",
      "                                                                               \r\n",
      "+-----------------------------------------------------------------------------+\r\n",
      "| Processes:                                                                  |\r\n",
      "|  GPU   GI   CI        PID   Type   Process name                  GPU Memory |\r\n",
      "|        ID   ID                                                   Usage      |\r\n",
      "|=============================================================================|\r\n",
      "|  No running processes found                                                 |\r\n",
      "+-----------------------------------------------------------------------------+\r\n"
     ]
    }
   ],
   "source": [
    "!nvidia-smi"
   ]
  },
  {
   "cell_type": "code",
   "execution_count": null,
   "metadata": {},
   "outputs": [],
   "source": [
    "model = smp.Unet(\"resnet18\", encoder_weights=\"imagenet\", classes=4, activation=None)"
   ]
  },
  {
   "cell_type": "code",
   "execution_count": null,
   "metadata": {},
   "outputs": [],
   "source": [
    "#model"
   ]
  },
  {
   "cell_type": "markdown",
   "metadata": {},
   "source": [
    "## Training"
   ]
  },
  {
   "cell_type": "code",
   "execution_count": null,
   "metadata": {},
   "outputs": [],
   "source": [
    "model_trainer = Trainer(model, num_epochs=20, save_path=models_dir/\"kaggle-UNET-ResNet34.pth\", bs=16)"
   ]
  },
  {
   "cell_type": "code",
   "execution_count": null,
   "metadata": {},
   "outputs": [
    {
     "name": "stdout",
     "output_type": "stream",
     "text": [
      "Starting epoch: 0 | phase: train | ⏰: 10:21:58\n",
      "Loss: 0.0915 | IoU: 0.0398 | dice: 0.4091 | dice_neg: 0.8044 | dice_pos: 0.0550\n",
      "Starting epoch: 0 | phase: val | ⏰: 10:38:10\n",
      "Loss: 0.0284 | IoU: 0.2677 | dice: 0.6111 | dice_neg: 0.9141 | dice_pos: 0.3548\n",
      "******** New optimal found, saving state ********\n",
      "\n",
      "Starting epoch: 1 | phase: train | ⏰: 10:40:34\n",
      "Loss: 0.0230 | IoU: 0.2976 | dice: 0.5621 | dice_neg: 0.7621 | dice_pos: 0.3830\n",
      "Starting epoch: 1 | phase: val | ⏰: 10:56:47\n",
      "Loss: 0.0190 | IoU: 0.2983 | dice: 0.6070 | dice_neg: 0.8715 | dice_pos: 0.3833\n",
      "******** New optimal found, saving state ********\n",
      "\n",
      "Starting epoch: 2 | phase: train | ⏰: 10:59:04\n",
      "Loss: 0.0182 | IoU: 0.3224 | dice: 0.6120 | dice_neg: 0.8406 | dice_pos: 0.4073\n",
      "Starting epoch: 2 | phase: val | ⏰: 11:15:15\n",
      "Loss: 0.0170 | IoU: 0.3423 | dice: 0.6571 | dice_neg: 0.9314 | dice_pos: 0.4252\n",
      "******** New optimal found, saving state ********\n",
      "\n",
      "Starting epoch: 3 | phase: train | ⏰: 11:17:38\n",
      "Loss: 0.0161 | IoU: 0.3467 | dice: 0.6172 | dice_neg: 0.8198 | dice_pos: 0.4358\n",
      "Starting epoch: 3 | phase: val | ⏰: 11:33:40\n",
      "Loss: 0.0189 | IoU: 0.3875 | dice: 0.6119 | dice_neg: 0.7648 | dice_pos: 0.4826\n",
      "\n",
      "Starting epoch: 4 | phase: train | ⏰: 11:35:57\n",
      "Loss: 0.0152 | IoU: 0.3746 | dice: 0.6323 | dice_neg: 0.8105 | dice_pos: 0.4727\n",
      "Starting epoch: 4 | phase: val | ⏰: 11:52:09\n",
      "Loss: 0.0133 | IoU: 0.4126 | dice: 0.6858 | dice_neg: 0.8872 | dice_pos: 0.5154\n",
      "******** New optimal found, saving state ********\n",
      "\n",
      "Starting epoch: 5 | phase: train | ⏰: 11:54:25\n",
      "Loss: 0.0138 | IoU: 0.3930 | dice: 0.6596 | dice_neg: 0.8457 | dice_pos: 0.4929\n",
      "Starting epoch: 5 | phase: val | ⏰: 12:10:41\n",
      "Loss: 0.0131 | IoU: 0.4353 | dice: 0.6706 | dice_neg: 0.8273 | dice_pos: 0.5381\n",
      "******** New optimal found, saving state ********\n",
      "\n",
      "Starting epoch: 6 | phase: train | ⏰: 12:13:04\n",
      "Loss: 0.0131 | IoU: 0.4101 | dice: 0.6715 | dice_neg: 0.8528 | dice_pos: 0.5091\n",
      "Starting epoch: 6 | phase: val | ⏰: 12:29:25\n",
      "Loss: 0.0142 | IoU: 0.3762 | dice: 0.6087 | dice_neg: 0.7483 | dice_pos: 0.4906\n",
      "\n",
      "Starting epoch: 7 | phase: train | ⏰: 12:31:45\n",
      "Loss: 0.0127 | IoU: 0.4136 | dice: 0.6804 | dice_neg: 0.8680 | dice_pos: 0.5125\n",
      "Starting epoch: 7 | phase: val | ⏰: 12:48:06\n",
      "Loss: 0.0124 | IoU: 0.4230 | dice: 0.6803 | dice_neg: 0.8568 | dice_pos: 0.5310\n",
      "******** New optimal found, saving state ********\n",
      "\n",
      "Starting epoch: 8 | phase: train | ⏰: 12:50:29\n",
      "Loss: 0.0118 | IoU: 0.4315 | dice: 0.6924 | dice_neg: 0.8682 | dice_pos: 0.5350\n",
      "Starting epoch: 8 | phase: val | ⏰: 13:06:49\n",
      "Loss: 0.0118 | IoU: 0.4163 | dice: 0.7149 | dice_neg: 0.9392 | dice_pos: 0.5251\n",
      "******** New optimal found, saving state ********\n",
      "\n",
      "Starting epoch: 9 | phase: train | ⏰: 13:09:13\n",
      "Loss: 0.0110 | IoU: 0.4548 | dice: 0.7139 | dice_neg: 0.8808 | dice_pos: 0.5643\n",
      "Starting epoch: 9 | phase: val | ⏰: 13:25:35\n",
      "Loss: 0.0121 | IoU: 0.4202 | dice: 0.7133 | dice_neg: 0.9314 | dice_pos: 0.5288\n",
      "\n",
      "Starting epoch: 10 | phase: train | ⏰: 13:27:56\n",
      "Loss: 0.0111 | IoU: 0.4512 | dice: 0.7100 | dice_neg: 0.8760 | dice_pos: 0.5613\n",
      "Starting epoch: 10 | phase: val | ⏰: 13:44:15\n",
      "Loss: 0.0139 | IoU: 0.3767 | dice: 0.6825 | dice_neg: 0.9141 | dice_pos: 0.4866\n",
      "\n",
      "Starting epoch: 11 | phase: train | ⏰: 13:46:41\n",
      "Loss: 0.0109 | IoU: 0.4695 | dice: 0.7207 | dice_neg: 0.8785 | dice_pos: 0.5794\n",
      "Starting epoch: 11 | phase: val | ⏰: 14:02:59\n",
      "Loss: 0.0132 | IoU: 0.4167 | dice: 0.7098 | dice_neg: 0.9271 | dice_pos: 0.5259\n",
      "\n",
      "Starting epoch: 12 | phase: train | ⏰: 14:05:16\n",
      "Loss: 0.0105 | IoU: 0.4735 | dice: 0.7268 | dice_neg: 0.8842 | dice_pos: 0.5858\n",
      "Starting epoch: 12 | phase: val | ⏰: 14:21:26\n",
      "Loss: 0.0121 | IoU: 0.4272 | dice: 0.7165 | dice_neg: 0.9358 | dice_pos: 0.5311\n",
      "Epoch    13: reducing learning rate of group 0 to 5.0000e-05.\n",
      "\n",
      "Starting epoch: 13 | phase: train | ⏰: 14:23:41\n",
      "Loss: 0.0089 | IoU: 0.5117 | dice: 0.7631 | dice_neg: 0.9196 | dice_pos: 0.6229\n",
      "Starting epoch: 13 | phase: val | ⏰: 14:39:56\n",
      "Loss: 0.0102 | IoU: 0.5081 | dice: 0.7553 | dice_neg: 0.9080 | dice_pos: 0.6261\n",
      "******** New optimal found, saving state ********\n",
      "\n",
      "Starting epoch: 14 | phase: train | ⏰: 14:42:18\n",
      "Loss: 0.0083 | IoU: 0.5424 | dice: 0.7786 | dice_neg: 0.9135 | dice_pos: 0.6578\n",
      "Starting epoch: 14 | phase: val | ⏰: 14:58:37\n",
      "Loss: 0.0102 | IoU: 0.5155 | dice: 0.7664 | dice_neg: 0.9184 | dice_pos: 0.6379\n",
      "\n",
      "Starting epoch: 15 | phase: train | ⏰: 15:00:59\n",
      "Loss: 0.0081 | IoU: 0.5466 | dice: 0.7833 | dice_neg: 0.9173 | dice_pos: 0.6634\n",
      "Starting epoch: 15 | phase: val | ⏰: 15:17:21\n",
      "Loss: 0.0101 | IoU: 0.5052 | dice: 0.7636 | dice_neg: 0.9236 | dice_pos: 0.6283\n",
      "******** New optimal found, saving state ********\n",
      "\n",
      "Starting epoch: 16 | phase: train | ⏰: 15:19:44\n"
     ]
    }
   ],
   "source": [
    "model_trainer.start()"
   ]
  },
  {
   "cell_type": "code",
   "execution_count": null,
   "metadata": {},
   "outputs": [
    {
     "data": {
      "text/plain": [
       "<All keys matched successfully>"
      ]
     },
     "execution_count": null,
     "metadata": {},
     "output_type": "execute_result"
    }
   ],
   "source": [
    "loaded_dict = torch.load(models_dir/\"kaggle-UNET-ResNet34.pth\")\n",
    "model.load_state_dict(loaded_dict[\"state_dict\"], strict=True)"
   ]
  },
  {
   "cell_type": "code",
   "execution_count": null,
   "metadata": {},
   "outputs": [],
   "source": [
    "model_trainer = Trainer(model, num_epochs=10, save_path=models_dir/\"kaggle-UNET-ResNet34-stage2.pth\", bs=16)"
   ]
  },
  {
   "cell_type": "code",
   "execution_count": null,
   "metadata": {},
   "outputs": [
    {
     "name": "stdout",
     "output_type": "stream",
     "text": [
      "Starting epoch: 0 | phase: train | ⏰: 20:27:36\n",
      "Loss: 0.0101 | IoU: 0.4904 | dice: 0.7336 | dice_neg: 0.8758 | dice_pos: 0.6063\n",
      "Starting epoch: 0 | phase: val | ⏰: 20:45:09\n",
      "Loss: 0.0110 | IoU: 0.4701 | dice: 0.7416 | dice_neg: 0.9349 | dice_pos: 0.5781\n",
      "******** New optimal found, saving state ********\n",
      "\n",
      "Starting epoch: 1 | phase: train | ⏰: 20:47:55\n",
      "Loss: 0.0098 | IoU: 0.4981 | dice: 0.7364 | dice_neg: 0.8752 | dice_pos: 0.6121\n",
      "Starting epoch: 1 | phase: val | ⏰: 21:05:03\n",
      "Loss: 0.0122 | IoU: 0.4473 | dice: 0.7252 | dice_neg: 0.9253 | dice_pos: 0.5560\n",
      "\n",
      "Starting epoch: 2 | phase: train | ⏰: 21:07:26\n",
      "Loss: 0.0098 | IoU: 0.5038 | dice: 0.7479 | dice_neg: 0.8926 | dice_pos: 0.6184\n",
      "Starting epoch: 2 | phase: val | ⏰: 21:24:05\n"
     ]
    }
   ],
   "source": [
    "model_trainer.start()"
   ]
  },
  {
   "cell_type": "code",
   "execution_count": null,
   "metadata": {},
   "outputs": [
    {
     "data": {
      "text/plain": [
       "<All keys matched successfully>"
      ]
     },
     "execution_count": null,
     "metadata": {},
     "output_type": "execute_result"
    }
   ],
   "source": [
    "loaded_dict = torch.load(models_dir/\"kaggle-UNET-ResNet34-stage2.pth\")\n",
    "model.load_state_dict(loaded_dict[\"state_dict\"], strict=True)"
   ]
  },
  {
   "cell_type": "markdown",
   "metadata": {},
   "source": [
    "## Results"
   ]
  },
  {
   "cell_type": "code",
   "execution_count": null,
   "metadata": {},
   "outputs": [
    {
     "data": {
      "text/plain": [
       "0.010313277598574392"
      ]
     },
     "execution_count": null,
     "metadata": {},
     "output_type": "execute_result"
    }
   ],
   "source": [
    "loaded_dict[\"best_loss\"]"
   ]
  },
  {
   "cell_type": "code",
   "execution_count": null,
   "metadata": {},
   "outputs": [
    {
     "data": {
      "image/png": "[encoded data removed]",
      "text/plain": [
       "<Figure size 1080x360 with 1 Axes>"
      ]
     },
     "metadata": {
      "needs_background": "light"
     },
     "output_type": "display_data"
    },
    {
     "data": {
      "image/png": "[encoded data removed]",
      "text/plain": [
       "<Figure size 1080x360 with 1 Axes>"
      ]
     },
     "metadata": {
      "needs_background": "light"
     },
     "output_type": "display_data"
    },
    {
     "data": {
      "image/png": "[encoded data removed]",
      "text/plain": [
       "<Figure size 1080x360 with 1 Axes>"
      ]
     },
     "metadata": {
      "needs_background": "light"
     },
     "output_type": "display_data"
    }
   ],
   "source": [
    "# PLOT TRAINING\n",
    "losses = model_trainer.losses\n",
    "dice_scores = model_trainer.dice_scores  # overall dice\n",
    "iou_scores = model_trainer.iou_scores\n",
    "\n",
    "\n",
    "def plot(scores, name):\n",
    "    plt.figure(figsize=(15, 5))\n",
    "    plt.plot(range(len(scores[\"train\"])),\n",
    "             scores[\"train\"], label=f'train {name}')\n",
    "    plt.plot(range(len(scores[\"train\"])), scores[\"val\"], label=f'val {name}')\n",
    "    plt.title(f'{name} plot')\n",
    "    plt.xlabel('Epoch')\n",
    "    plt.ylabel(f'{name}')\n",
    "    plt.legend()\n",
    "    plt.show()\n",
    "\n",
    "\n",
    "plot(losses, \"BCE loss\")\n",
    "plot(dice_scores, \"Dice score\")\n",
    "plot(iou_scores, \"IoU score\")"
   ]
  },
  {
   "cell_type": "markdown",
   "metadata": {},
   "source": [
    "## Inference"
   ]
  },
  {
   "cell_type": "code",
   "execution_count": null,
   "metadata": {},
   "outputs": [],
   "source": [
    "testset_dl = get_test_dls()"
   ]
  },
  {
   "cell_type": "code",
   "execution_count": null,
   "metadata": {},
   "outputs": [],
   "source": [
    "pred = Predict(test_dl=testset_dl, model=model)"
   ]
  },
  {
   "cell_type": "code",
   "execution_count": null,
   "metadata": {},
   "outputs": [
    {
     "name": "stderr",
     "output_type": "stream",
     "text": [
      "100%|██████████| 1377/1377 [03:09<00:00,  7.27it/s]\n"
     ]
    }
   ],
   "source": [
    "threshold = 0.5\n",
    "min_size = 3000\n",
    "df_preds = pred(threshold=threshold, min_size=min_size)"
   ]
  },
  {
   "cell_type": "code",
   "execution_count": null,
   "metadata": {},
   "outputs": [
    {
     "data": {
      "text/html": [
       "<div>\n",
       "<style scoped>\n",
       "    .dataframe tbody tr th:only-of-type {\n",
       "        vertical-align: middle;\n",
       "    }\n",
       "\n",
       "    .dataframe tbody tr th {\n",
       "        vertical-align: top;\n",
       "    }\n",
       "\n",
       "    .dataframe thead th {\n",
       "        text-align: right;\n",
       "    }\n",
       "</style>\n",
       "<table border=\"1\" class=\"dataframe\">\n",
       "  <thead>\n",
       "    <tr style=\"text-align: right;\">\n",
       "      <th></th>\n",
       "      <th>ImageId_ClassId</th>\n",
       "      <th>EncodedPixels</th>\n",
       "    </tr>\n",
       "  </thead>\n",
       "  <tbody>\n",
       "    <tr>\n",
       "      <th>0</th>\n",
       "      <td>0000f269f.jpg_1</td>\n",
       "      <td></td>\n",
       "    </tr>\n",
       "    <tr>\n",
       "      <th>1</th>\n",
       "      <td>0000f269f.jpg_2</td>\n",
       "      <td></td>\n",
       "    </tr>\n",
       "    <tr>\n",
       "      <th>2</th>\n",
       "      <td>0000f269f.jpg_3</td>\n",
       "      <td>146438 31 146477 151 146640 47 146692 252 146947 254 147203 254 147459 254 147714 255 147970 255 148226 255 148482 255 148738 255 148994 255 149250 255 149506 255 149762 255 150018 255 150274 255 150530 255 150786 255 151043 254 151299 254 151555 254 151812 253 152078 55 152155 165 152433 30 152494 18 152551 24</td>\n",
       "    </tr>\n",
       "    <tr>\n",
       "      <th>3</th>\n",
       "      <td>0000f269f.jpg_4</td>\n",
       "      <td></td>\n",
       "    </tr>\n",
       "    <tr>\n",
       "      <th>4</th>\n",
       "      <td>000ccc2ac.jpg_1</td>\n",
       "      <td></td>\n",
       "    </tr>\n",
       "  </tbody>\n",
       "</table>\n",
       "</div>"
      ],
      "text/plain": [
       "   ImageId_ClassId  \\\n",
       "0  0000f269f.jpg_1   \n",
       "1  0000f269f.jpg_2   \n",
       "2  0000f269f.jpg_3   \n",
       "3  0000f269f.jpg_4   \n",
       "4  000ccc2ac.jpg_1   \n",
       "\n",
       "                                                                                                                                                                                                                                                                                                              EncodedPixels  \n",
       "0                                                                                                                                                                                                                                                                                                                            \n",
       "1                                                                                                                                                                                                                                                                                                                            \n",
       "2  146438 31 146477 151 146640 47 146692 252 146947 254 147203 254 147459 254 147714 255 147970 255 148226 255 148482 255 148738 255 148994 255 149250 255 149506 255 149762 255 150018 255 150274 255 150530 255 150786 255 151043 254 151299 254 151555 254 151812 253 152078 55 152155 165 152433 30 152494 18 152551 24  \n",
       "3                                                                                                                                                                                                                                                                                                                            \n",
       "4                                                                                                                                                                                                                                                                                                                            "
      ]
     },
     "execution_count": null,
     "metadata": {},
     "output_type": "execute_result"
    }
   ],
   "source": [
    "df_preds.head()"
   ]
  },
  {
   "cell_type": "code",
   "execution_count": null,
   "metadata": {},
   "outputs": [],
   "source": [
    "pred.save_submission(\"pytorch-resnet34-unet\")"
   ]
  },
  {
   "cell_type": "markdown",
   "metadata": {},
   "source": [
    "## Fastai interface - failed"
   ]
  },
  {
   "cell_type": "code",
   "execution_count": null,
   "metadata": {},
   "outputs": [],
   "source": [
    "from fastai.callback.data import CudaCallback\n",
    "from fastai.callback.progress import CSVLogger, ShowGraphCallback\n",
    "from fastai.callback.training import GradientAccumulation\n",
    "from fastai.callback.tracker import ReduceLROnPlateau, SaveModelCallback\n",
    "from fastai.data.core import DataLoaders\n",
    "from fastai.learner import Learner\n",
    "from fastai.optimizer import OptimWrapper\n",
    "from fastai.losses import BCEWithLogitsLossFlat"
   ]
  },
  {
   "cell_type": "code",
   "execution_count": null,
   "metadata": {},
   "outputs": [],
   "source": [
    "def opt_func(params, lr=4e-5, *args, **kwargs):\n",
    "    \"\"\"Basic optimizer wrapper function\"\"\"\n",
    "    return OptimWrapper(torch.optim.Adam(params, lr=lr), *args, **kwargs)"
   ]
  },
  {
   "cell_type": "code",
   "execution_count": null,
   "metadata": {},
   "outputs": [],
   "source": [
    "loss_fn = torch.nn.BCEWithLogitsLoss()"
   ]
  },
  {
   "cell_type": "code",
   "execution_count": null,
   "metadata": {},
   "outputs": [],
   "source": [
    "bs = 16"
   ]
  },
  {
   "cell_type": "code",
   "execution_count": null,
   "metadata": {},
   "outputs": [],
   "source": [
    "train_dls = get_train_dls(phase=\"train\", batch_size=bs, num_workers=6)\n",
    "valid_dls = get_train_dls(phase=\"val\", batch_size=bs, num_workers=6)"
   ]
  },
  {
   "cell_type": "code",
   "execution_count": null,
   "metadata": {},
   "outputs": [],
   "source": [
    "dls = DataLoaders(train_dls, valid_dls)"
   ]
  },
  {
   "cell_type": "code",
   "execution_count": null,
   "metadata": {},
   "outputs": [],
   "source": [
    "cbs = [\n",
    "    CudaCallback(),\n",
    "    ShowGraphCallback(),\n",
    "    ReduceLROnPlateau(monitor='valid_loss', min_delta=0.1, patience=2),\n",
    "    GradientAccumulation(n_acc=32),\n",
    "]"
   ]
  },
  {
   "cell_type": "code",
   "execution_count": null,
   "metadata": {},
   "outputs": [],
   "source": [
    "learn = Learner(\n",
    "    dls, \n",
    "    model, \n",
    "    loss_func=loss_fn, \n",
    "    opt_func=opt_func, \n",
    "    cbs=cbs, \n",
    "    metrics=ModDiceMulti,\n",
    "    model_dir=models_dir\n",
    ").to_fp16() "
   ]
  },
  {
   "cell_type": "code",
   "execution_count": null,
   "metadata": {},
   "outputs": [
    {
     "data": {
      "text/html": [],
      "text/plain": [
       "<IPython.core.display.HTML object>"
      ]
     },
     "metadata": {},
     "output_type": "display_data"
    },
    {
     "data": {
      "text/plain": [
       "SuggestedLRs(lr_min=0.2754228591918945, lr_steep=0.02290867641568184)"
      ]
     },
     "execution_count": null,
     "metadata": {},
     "output_type": "execute_result"
    },
    {
     "data": {
      "image/png": "[encoded data removed]",
      "text/plain": [
       "<Figure size 432x288 with 1 Axes>"
      ]
     },
     "metadata": {
      "needs_background": "light"
     },
     "output_type": "display_data"
    }
   ],
   "source": [
    "learn.lr_find()"
   ]
  },
  {
   "cell_type": "code",
   "execution_count": null,
   "metadata": {},
   "outputs": [
    {
     "data": {
      "text/html": [
       "<table border=\"1\" class=\"dataframe\">\n",
       "  <thead>\n",
       "    <tr style=\"text-align: left;\">\n",
       "      <th>epoch</th>\n",
       "      <th>train_loss</th>\n",
       "      <th>valid_loss</th>\n",
       "      <th>mod_dice_multi</th>\n",
       "      <th>time</th>\n",
       "    </tr>\n",
       "  </thead>\n",
       "  <tbody>\n",
       "    <tr>\n",
       "      <td>0</td>\n",
       "      <td>0.042382</td>\n",
       "      <td>0.045435</td>\n",
       "      <td>0.193304</td>\n",
       "      <td>11:21</td>\n",
       "    </tr>\n",
       "    <tr>\n",
       "      <td>1</td>\n",
       "      <td>0.039707</td>\n",
       "      <td>0.039049</td>\n",
       "      <td>0.016201</td>\n",
       "      <td>11:12</td>\n",
       "    </tr>\n",
       "    <tr>\n",
       "      <td>2</td>\n",
       "      <td>0.036921</td>\n",
       "      <td>0.045955</td>\n",
       "      <td>0.012907</td>\n",
       "      <td>11:12</td>\n",
       "    </tr>\n",
       "    <tr>\n",
       "      <td>3</td>\n",
       "      <td>0.036207</td>\n",
       "      <td>0.038575</td>\n",
       "      <td>0.012907</td>\n",
       "      <td>11:20</td>\n",
       "    </tr>\n",
       "    <tr>\n",
       "      <td>4</td>\n",
       "      <td>0.034925</td>\n",
       "      <td>0.037461</td>\n",
       "      <td>0.012907</td>\n",
       "      <td>11:11</td>\n",
       "    </tr>\n",
       "    <tr>\n",
       "      <td>5</td>\n",
       "      <td>0.033913</td>\n",
       "      <td>0.036488</td>\n",
       "      <td>0.012908</td>\n",
       "      <td>11:11</td>\n",
       "    </tr>\n",
       "    <tr>\n",
       "      <td>6</td>\n",
       "      <td>0.034146</td>\n",
       "      <td>0.038180</td>\n",
       "      <td>0.014261</td>\n",
       "      <td>11:11</td>\n",
       "    </tr>\n",
       "    <tr>\n",
       "      <td>7</td>\n",
       "      <td>0.033293</td>\n",
       "      <td>0.038036</td>\n",
       "      <td>0.013019</td>\n",
       "      <td>11:11</td>\n",
       "    </tr>\n",
       "    <tr>\n",
       "      <td>8</td>\n",
       "      <td>0.033435</td>\n",
       "      <td>0.040121</td>\n",
       "      <td>0.012907</td>\n",
       "      <td>11:11</td>\n",
       "    </tr>\n",
       "    <tr>\n",
       "      <td>9</td>\n",
       "      <td>0.031402</td>\n",
       "      <td>0.033164</td>\n",
       "      <td>0.012907</td>\n",
       "      <td>11:13</td>\n",
       "    </tr>\n",
       "    <tr>\n",
       "      <td>10</td>\n",
       "      <td>0.032056</td>\n",
       "      <td>0.035846</td>\n",
       "      <td>0.012907</td>\n",
       "      <td>12:12</td>\n",
       "    </tr>\n",
       "    <tr>\n",
       "      <td>11</td>\n",
       "      <td>0.032944</td>\n",
       "      <td>0.033948</td>\n",
       "      <td>0.012907</td>\n",
       "      <td>11:10</td>\n",
       "    </tr>\n",
       "    <tr>\n",
       "      <td>12</td>\n",
       "      <td>0.031504</td>\n",
       "      <td>0.032978</td>\n",
       "      <td>0.012907</td>\n",
       "      <td>11:10</td>\n",
       "    </tr>\n",
       "    <tr>\n",
       "      <td>13</td>\n",
       "      <td>0.032888</td>\n",
       "      <td>0.035354</td>\n",
       "      <td>0.012907</td>\n",
       "      <td>12:24</td>\n",
       "    </tr>\n",
       "    <tr>\n",
       "      <td>14</td>\n",
       "      <td>0.033453</td>\n",
       "      <td>0.033254</td>\n",
       "      <td>0.012907</td>\n",
       "      <td>11:09</td>\n",
       "    </tr>\n",
       "  </tbody>\n",
       "</table>"
      ],
      "text/plain": [
       "<IPython.core.display.HTML object>"
      ]
     },
     "metadata": {},
     "output_type": "display_data"
    },
    {
     "name": "stdout",
     "output_type": "stream",
     "text": [
      "Better model found at epoch 0 with valid_loss value: 0.04543525353074074.\n"
     ]
    },
    {
     "data": {
      "image/png": "[encoded data removed]",
      "text/plain": [
       "<Figure size 432x288 with 1 Axes>"
      ]
     },
     "metadata": {},
     "output_type": "display_data"
    },
    {
     "name": "stdout",
     "output_type": "stream",
     "text": [
      "Better model found at epoch 1 with valid_loss value: 0.03904934227466583.\n",
      "Better model found at epoch 3 with valid_loss value: 0.038575224578380585.\n",
      "Better model found at epoch 4 with valid_loss value: 0.03746073320508003.\n",
      "Better model found at epoch 5 with valid_loss value: 0.03648819029331207.\n",
      "Better model found at epoch 9 with valid_loss value: 0.03316431865096092.\n",
      "Better model found at epoch 12 with valid_loss value: 0.032977741211652756.\n"
     ]
    }
   ],
   "source": [
    "fit_cb = [SaveModelCallback(fname=\"fastai-UNET-ResNet34-smp-pytorch_dls-stage1\"),\n",
    "         CSVLogger(fname=\"fastai-UNET-ResNet34-training-log.csv\")]\n",
    "learn.fit(15, lr=5e-4, cbs=fit_cb, wd=0.01)"
   ]
  },
  {
   "cell_type": "code",
   "execution_count": null,
   "metadata": {},
   "outputs": [],
   "source": [
    "learn.unfreeze()"
   ]
  },
  {
   "cell_type": "code",
   "execution_count": null,
   "metadata": {},
   "outputs": [
    {
     "data": {
      "text/html": [],
      "text/plain": [
       "<IPython.core.display.HTML object>"
      ]
     },
     "metadata": {},
     "output_type": "display_data"
    },
    {
     "data": {
      "text/plain": [
       "SuggestedLRs(lr_min=4.786300996784121e-05, lr_steep=6.309573450380412e-07)"
      ]
     },
     "execution_count": null,
     "metadata": {},
     "output_type": "execute_result"
    },
    {
     "data": {
      "image/png": "[encoded data removed]",
      "text/plain": [
       "<Figure size 432x288 with 1 Axes>"
      ]
     },
     "metadata": {
      "needs_background": "light"
     },
     "output_type": "display_data"
    }
   ],
   "source": [
    "learn.lr_find()"
   ]
  },
  {
   "cell_type": "code",
   "execution_count": null,
   "metadata": {},
   "outputs": [],
   "source": [
    "learn.metrics = [dice, iou]"
   ]
  },
  {
   "cell_type": "code",
   "execution_count": null,
   "metadata": {},
   "outputs": [
    {
     "data": {
      "text/html": [],
      "text/plain": [
       "<IPython.core.display.HTML object>"
      ]
     },
     "metadata": {},
     "output_type": "display_data"
    },
    {
     "data": {
      "text/plain": [
       "(#3) [0.03297774866223335,0.11617868393659592,0.06246330961585045]"
      ]
     },
     "execution_count": null,
     "metadata": {},
     "output_type": "execute_result"
    }
   ],
   "source": [
    "learn.validate()"
   ]
  }
 ],
 "metadata": {
  "kernelspec": {
   "display_name": "Python 3",
   "language": "python",
   "name": "python3"
  }
 },
 "nbformat": 4,
 "nbformat_minor": 1
}
