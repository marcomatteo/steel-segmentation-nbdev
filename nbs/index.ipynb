{
 "cells": [
  {
   "cell_type": "code",
   "execution_count": null,
   "source": [
    "#hide\r\n",
    "#missing\r\n",
    "#!git clone https://github.com/marcomatteo/steel_segmentation.git\r\n",
    "#!pip install -e steel_segmentation"
   ],
   "outputs": [],
   "metadata": {}
  },
  {
   "cell_type": "markdown",
   "source": [
    "# Kaggle Severstal Steel Defect Detection\n",
    "\n",
    "> A walk through different solutions for the Severstal Kaggle competition."
   ],
   "metadata": {}
  },
  {
   "cell_type": "markdown",
   "source": [
    "![CI](https://github.com/marcomatteo/steel_segmentation/workflows/CI/badge.svg?branch=master) \r\n",
    "[![Binder](https://mybinder.org/badge_logo.svg)](https://mybinder.org/v2/gh/marcomatteo/steel_deployment/HEAD?urlpath=%2Fvoila%2Frender%2Fsteel_deploy.ipynb)"
   ],
   "metadata": {}
  },
  {
   "cell_type": "markdown",
   "source": [
    "This repository wants to explore different solutions for the [Severstal](https://www.kaggle.com/c/severstal-steel-defect-detection/overview) competition hosted by Kaggle.\r\n",
    "Kaggle is a platform that provides various datasets from the real world machine learning problems and engages a large community of people.\r\n",
    "Severstal is a Russian company operating in the steel and mining industry. It creates a vast industrial data lake and in the 2019 looked to machine learning to improve automation, increase efficiency, and maintain high quality in their production.\r\n",
    "\r\n",
    "The goal is to detect steel defects with segmentation models. The solutions are based on [Pytorch](https://pytorch.org/get-started/locally/) with [FastAI](https://docs.fast.ai/#Installing) as high level deep learning framework.\r\n",
    "\r\n",
    "In this repository you will find some Jupyter Notebooks used to build the `steel_segmentation` library with [nbdev](https://nbdev.fast.ai/) and the training notebooks.\r\n",
    "\r\n",
    "In the [steel_deployment](https://github.com/marcomatteo/steel_deployment) repository you can find a Binder/Voila web app for the deployment of the models built with this library (still updating)."
   ],
   "metadata": {}
  },
  {
   "cell_type": "markdown",
   "source": [
    "## Install"
   ],
   "metadata": {}
  },
  {
   "cell_type": "markdown",
   "source": [
    "To install this package, clone and install the repository and install via:\r\n",
    "\r\n",
    "```\r\n",
    "pip install git+https://github.com/marcomatteo/steel_segmentation.git\r\n",
    "```"
   ],
   "metadata": {}
  },
  {
   "cell_type": "markdown",
   "source": [
    "### Editable install"
   ],
   "metadata": {}
  },
  {
   "cell_type": "markdown",
   "source": [
    "To install and edit this package:\r\n",
    "\r\n",
    "```\r\n",
    "clone git+https://github.com/marcomatteo/steel_segmentation.git\r\n",
    "pip install -e steel_segmentation\r\n",
    "```"
   ],
   "metadata": {}
  },
  {
   "cell_type": "markdown",
   "source": [
    "\r\n",
    "The library is based on `nbdev`, a powerful tool that builds a python package from Juptyer Notebooks.\r\n",
    "\r\n",
    "```\r\n",
    "pip install nbdev\r\n",
    "```\r\n",
    "\r\n",
    "To create the library, the documentation and tests use these commands:\r\n",
    "```\r\n",
    "nbdev_clean_nbs\r\n",
    "nbdev_build_lib\r\n",
    "nbdev_test_nbs\r\n",
    "nbdev_build_docs\r\n",
    "```\r\n",
    "\r\n",
    "This enviroment works on MacOS and Linux. In Windows the WLS with Ubuntu 20.04 is raccomended.\r\n",
    "\r\n",
    "Training only in Windows needs one package more to solve `ipykernel` issues: \r\n",
    "```\r\n",
    "conda install pywin32\r\n",
    "```"
   ],
   "metadata": {}
  },
  {
   "cell_type": "markdown",
   "source": [
    "## Download the dataset"
   ],
   "metadata": {}
  },
  {
   "cell_type": "markdown",
   "source": [
    "To download the [Kaggle](https://www.kaggle.com/) competition data you will need an account (if this is the first time with the API follow this [link](https://github.com/Kaggle/kaggle-api)) to generate the credentials, download and copy the `kaggle.json` into the repository directory."
   ],
   "metadata": {}
  },
  {
   "cell_type": "code",
   "execution_count": null,
   "source": [
    "!mkdir ~/.kaggle\r\n",
    "!cp ../kaggle.json ~/.kaggle/kaggle.json\r\n",
    "!chmod 600 ~/.kaggle/kaggle.json"
   ],
   "outputs": [],
   "metadata": {}
  },
  {
   "cell_type": "markdown",
   "source": [
    "Now you're authenticated with the Kaggle API (you'll need `kaggle` so `pip install kaggle` first), download and unzip the data:"
   ],
   "metadata": {}
  },
  {
   "cell_type": "code",
   "execution_count": null,
   "source": [
    "!kaggle competitions download -c severstal-steel-defect-detection -p {path}\r\n",
    "!mkdir data\r\n",
    "!unzip -q -n {path}/severstal-steel-defect-detection.zip -d {path}"
   ],
   "outputs": [],
   "metadata": {}
  },
  {
   "cell_type": "markdown",
   "source": [
    "## Notebooks"
   ],
   "metadata": {}
  },
  {
   "cell_type": "markdown",
   "source": [
    "All of the experiments are based on Jupyter Notebooks and in the `nbs` folder there are all the notebooks used to build the `steel_segmentation` library (still updating):\r\n",
    "\r\n",
    "- [Explorating Data Analysis](https://marcomatteo.github.io/steel_segmentation/eda.html): data analysis, plots and utility functions.\r\n",
    "- [Transforms](https://marcomatteo.github.io/steel_segmentation/transforms.html): leveraging Middle-level API of `fastai` for custom data loading pipeline.\r\n",
    "- [Optimizer utility functions](https://marcomatteo.github.io/steel_segmentation/optimizer.html)\r\n",
    "- [Loss functions](https://marcomatteo.github.io/steel_segmentation/loss.html)\r\n",
    "- [Metrics](https://marcomatteo.github.io/steel_segmentation/metrics.html)"
   ],
   "metadata": {}
  },
  {
   "cell_type": "markdown",
   "source": [
    "## Results"
   ],
   "metadata": {}
  },
  {
   "cell_type": "markdown",
   "source": [
    "|Models|Public score|Private score|Percentile Private LB|\n",
    "|------|------------|-------------|----------|\n",
    "|Pytorch UNET-ResNet18|0.87530|0.85364|85°|\n",
    "|Pytorch UNET-ResNet34|0.88591|0.88572|46°|\n",
    "|FastAI UNET-ResNet34|0.88648|0.88830|23°|\n",
    "|Pytorch FPN-ResNet34|0.89054|0.88911|19°|\n",
    "|Ensemble UNET-ResNet34_FPN-ResNet34|0.89184|0.89262|16°|"
   ],
   "metadata": {}
  }
 ],
 "metadata": {
  "kernelspec": {
   "display_name": "Python 3",
   "language": "python",
   "name": "python3"
  }
 },
 "nbformat": 4,
 "nbformat_minor": 2
}