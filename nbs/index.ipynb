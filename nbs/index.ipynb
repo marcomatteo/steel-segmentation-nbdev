{
 "cells": [
  {
   "cell_type": "markdown",
   "metadata": {},
   "source": [
    "# Steel defect detection use case\n",
    "\n",
    "> A walk through different solutions for the Severstal Kaggle competition."
   ]
  },
  {
   "cell_type": "markdown",
   "metadata": {},
   "source": [
    "![CI](https://github.com/marcomatteo/steel_segmentation/workflows/CI/badge.svg?branch=master)"
   ]
  },
  {
   "cell_type": "code",
   "execution_count": null,
   "metadata": {},
   "outputs": [],
   "source": [
    "#hide\n",
    "from steel_segmentation.core import *\n",
    "from steel_segmentation.data import *\n",
    "from matplotlib import pyplot as plt\n",
    "from nbdev.showdoc import *"
   ]
  },
  {
   "cell_type": "markdown",
   "metadata": {},
   "source": [
    "This repository wants to explore different solutions for the [Severstal](https://www.kaggle.com/c/severstal-steel-defect-detection/overview) competition (ended in November 2019).\n",
    "\n",
    "I used `pytorch` ([Pytorch website](https://pytorch.org/get-started/locally/)) and `fastai` ([FastAI docs](https://docs.fast.ai/#Installing)) as Deep Learning Framework to this project."
   ]
  },
  {
   "cell_type": "markdown",
   "metadata": {},
   "source": [
    "## Install"
   ]
  },
  {
   "cell_type": "markdown",
   "metadata": {},
   "source": [
    "To install this package you only need to clone the repository and install via pip:\n",
    "\n",
    "```\n",
    "git clone https://github.com/marcomatteo/steel_segmentation.git\n",
    "pip install -e steel_segmentation\n",
    "```"
   ]
  },
  {
   "cell_type": "markdown",
   "metadata": {},
   "source": [
    "## Developing"
   ]
  },
  {
   "cell_type": "markdown",
   "metadata": {},
   "source": [
    "To set up the developer enviroment to build the package or try different Deep Learning models using this repository, follow these commands:\n",
    "\n",
    "```\n",
    "conda create -n env_nbdev\n",
    "conda activate env_nbdev\n",
    "conda install -c fastai -c pytorch fastai\n",
    "conda install -c conda-forge jupyter_contrib_nbextensions\n",
    "git clone https://github.com/fastai/nbdev\n",
    "pip install -e nbdev\n",
    "git clone https://github.com/marcomatteo/steel_segmentation.git\n",
    "cd steel_segmentation\n",
    "pip install -e .\n",
    "nbdev_install_git_hooks\n",
    "jupyter notebook\n",
    "```\n",
    "\n",
    "If there's some issues with `nbdev`, try to uninstall with `pip uninstall nbdev` and install again with `pip install nbdev`.\n",
    "Now you can edit the Jupyter Notebook files.\n",
    "\n",
    "To edit the `.py` modules in `steel_segmentation` you need to modify the Jupyter Notebooks inside the `nbs` folder (in the notebooks, only cells starting with #exp will be exported to the modules) and create the relative documentation, run:\n",
    "\n",
    "```\n",
    "nbdev_build_lib\n",
    "nbdev_build_docs\n",
    "```\n",
    "\n",
    "Hint: this repository is build on `nbdev`. For more infos check the [nbdev repository](https://nbdev.fast.ai/).\n",
    "\n",
    "NB: I tried to work in MacOS and Linux enviroment, not sure this is working also in Windows."
   ]
  },
  {
   "cell_type": "markdown",
   "metadata": {},
   "source": [
    "## Requirements"
   ]
  },
  {
   "cell_type": "markdown",
   "metadata": {},
   "source": [
    "You will need the [Kaggle](https://www.kaggle.com/) competition data. If this is the first time with the API, follow this [link](https://github.com/Kaggle/kaggle-api) and download the credentials.\n",
    "\n",
    "Copy the `kaggle.json` file in the repository directory."
   ]
  },
  {
   "cell_type": "code",
   "execution_count": null,
   "metadata": {},
   "outputs": [],
   "source": [
    "!mkdir ~/.kaggle"
   ]
  },
  {
   "cell_type": "code",
   "execution_count": null,
   "metadata": {},
   "outputs": [],
   "source": [
    "!cp ../kaggle.json ~/.kaggle/kaggle.json"
   ]
  },
  {
   "cell_type": "markdown",
   "metadata": {},
   "source": [
    "Now you're authenticated with the Kaggle API. Download and unzip the data with:"
   ]
  },
  {
   "cell_type": "code",
   "execution_count": null,
   "metadata": {},
   "outputs": [],
   "source": [
    "!kaggle competitions download -c severstal-steel-defect-detection -p {path}"
   ]
  },
  {
   "cell_type": "code",
   "execution_count": null,
   "metadata": {},
   "outputs": [],
   "source": [
    "!unzip -q -n {path}/severstal-steel-defect-detection.zip -d {path}"
   ]
  },
  {
   "cell_type": "markdown",
   "metadata": {},
   "source": [
    "Finally you can install the package with:"
   ]
  },
  {
   "cell_type": "markdown",
   "metadata": {},
   "source": [
    "```\n",
    "git clone https://github.com/marcomatteo/steel_segmentation.git\n",
    "pip install -e steel_segmentation\n",
    "```"
   ]
  },
  {
   "cell_type": "code",
   "execution_count": null,
   "metadata": {},
   "outputs": [
    {
     "name": "stdout",
     "output_type": "stream",
     "text": [
      "Converted 01_core.ipynb.\n",
      "Converted 02_data.ipynb.\n",
      "Converted 03_dataloaders.ipynb.\n",
      "Converted 04_model.metrics.ipynb.\n",
      "Converted 05_models.unet.ipynb.\n",
      "Converted 06_models.model.ipynb.\n",
      "Converted 07_model.predict.ipynb.\n",
      "Converted index.ipynb.\n"
     ]
    }
   ],
   "source": [
    "#hide\n",
    "from nbdev.export import notebook2script; notebook2script()"
   ]
  }
 ],
 "metadata": {
  "kernelspec": {
   "display_name": "Python 3",
   "language": "python",
   "name": "python3"
  }
 },
 "nbformat": 4,
 "nbformat_minor": 2
}
