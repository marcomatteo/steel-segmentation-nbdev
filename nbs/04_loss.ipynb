{
 "cells": [
  {
   "cell_type": "code",
   "execution_count": 16,
   "source": [
    "# default_exp losses\r\n",
    "# all_slow"
   ],
   "outputs": [],
   "metadata": {}
  },
  {
   "cell_type": "markdown",
   "source": [
    "# Loss functions\n",
    "\n",
    "> Various loss functions in PyTorch"
   ],
   "metadata": {}
  },
  {
   "cell_type": "code",
   "execution_count": 17,
   "source": [
    "# hide\r\n",
    "%load_ext autoreload\r\n",
    "%autoreload 2\r\n",
    "%matplotlib inline"
   ],
   "outputs": [
    {
     "output_type": "stream",
     "name": "stdout",
     "text": [
      "The autoreload extension is already loaded. To reload it, use:\n",
      "  %reload_ext autoreload\n"
     ]
    }
   ],
   "metadata": {}
  },
  {
   "cell_type": "code",
   "execution_count": 44,
   "source": [
    "# export\r\n",
    "import torch\r\n",
    "import torch.nn as nn\r\n",
    "import torch.nn.functional as F\r\n",
    "from fastai.torch_core import TensorBase\r\n",
    "from fastai.losses import *\r\n",
    "from fastai.callback.core import Callback"
   ],
   "outputs": [],
   "metadata": {}
  },
  {
   "cell_type": "code",
   "execution_count": 19,
   "source": [
    "from fastai.vision.all import *\r\n",
    "import numpy as np\r\n",
    "from torch.nn.modules.loss import _Loss\r\n",
    "import segmentation_models_pytorch as smp\r\n",
    "from steel_segmentation.utils import get_train_df\r\n",
    "from steel_segmentation.transforms import SteelDataBlock, SteelDataLoaders"
   ],
   "outputs": [],
   "metadata": {}
  },
  {
   "cell_type": "code",
   "execution_count": 20,
   "source": [
    "path = Path(\"../data\")\r\n",
    "train_pivot = get_train_df(path=path, pivot=True)\r\n",
    "block = SteelDataBlock(path)\r\n",
    "dls = SteelDataLoaders(block, train_pivot, bs=8)\r\n",
    "xb, yb = dls.one_batch()\r\n",
    "print(xb.shape, xb.device)\r\n",
    "print(yb.shape, yb.device)"
   ],
   "outputs": [
    {
     "output_type": "stream",
     "name": "stdout",
     "text": [
      "torch.Size([8, 3, 224, 1568]) cuda:0\n",
      "torch.Size([8, 4, 224, 1568]) cpu\n"
     ]
    }
   ],
   "metadata": {}
  },
  {
   "cell_type": "code",
   "execution_count": 21,
   "source": [
    "device = \"cuda\" if torch.cuda.is_available() else \"cpu\"\r\n",
    "device"
   ],
   "outputs": [
    {
     "output_type": "execute_result",
     "data": {
      "text/plain": [
       "'cuda'"
      ]
     },
     "metadata": {},
     "execution_count": 21
    }
   ],
   "metadata": {}
  },
  {
   "cell_type": "code",
   "execution_count": 22,
   "source": [
    "model = smp.Unet(\"resnet18\", classes=4).to(device)\r\n",
    "\r\n",
    "logits = model(xb)\r\n",
    "probs = torch.sigmoid(logits)\r\n",
    "preds = ( probs > 0.5).float()"
   ],
   "outputs": [],
   "metadata": {}
  },
  {
   "cell_type": "code",
   "execution_count": 23,
   "source": [
    "# export\r\n",
    "#reference: https://github.com/asanakoy/kaggle_carvana_segmentation/blob/master/asanakoy/losses.py\r\n",
    "class SoftDiceLoss(nn.Module):\r\n",
    "\r\n",
    "    def __init__(self):\r\n",
    "        super().__init__()\r\n",
    "\r\n",
    "    def forward(self, logits, labels):\r\n",
    "        probs = torch.sigmoid(logits)\r\n",
    "        num = labels.size(0)\r\n",
    "        m1 = probs.view(num, -1)\r\n",
    "        m2 = labels.view(num, -1)\r\n",
    "        intersection = (m1 * m2)\r\n",
    "        score = 2. * (intersection.sum(1) + 1) / (m1.sum(1) + m2.sum(1) + 1)\r\n",
    "        score = 1 - score.sum() / num\r\n",
    "        return score"
   ],
   "outputs": [],
   "metadata": {}
  },
  {
   "cell_type": "code",
   "execution_count": 24,
   "source": [
    "criterion = SoftDiceLoss()\r\n",
    "criterion(logits.detach().cpu(), yb)"
   ],
   "outputs": [
    {
     "output_type": "execute_result",
     "data": {
      "text/plain": [
       "TensorImage(0.9929)"
      ]
     },
     "metadata": {},
     "execution_count": 24
    }
   ],
   "metadata": {}
  },
  {
   "cell_type": "code",
   "execution_count": 25,
   "source": [
    "# export\r\n",
    "#reference: https://github.com/zdaiot/Kaggle-Steel-Defect-Detection\r\n",
    "class WeightedSoftDiceLoss(nn.Module):\r\n",
    "\r\n",
    "    def __init__(self, size_average=True, weight=[0.2, 0.8]):\r\n",
    "        super().__init__()\r\n",
    "        self.size_average = size_average\r\n",
    "        self.weight = torch.FloatTensor(weight)\r\n",
    "\r\n",
    "    def forward(self, logit_pixel, truth_pixel):\r\n",
    "        batch_size = len(logit_pixel)\r\n",
    "        logit = logit_pixel.view(batch_size, -1)\r\n",
    "        truth = truth_pixel.view(batch_size, -1)\r\n",
    "        assert(logit.shape == truth.shape)\r\n",
    "\r\n",
    "        loss = self.soft_dice_criterion(logit, truth)\r\n",
    "\r\n",
    "        if self.size_average:\r\n",
    "            loss = loss.mean()\r\n",
    "        return loss\r\n",
    "\r\n",
    "    def soft_dice_criterion(self, logit, truth):\r\n",
    "        batch_size = len(logit)\r\n",
    "        probability = torch.sigmoid(logit)\r\n",
    "\r\n",
    "        p = probability.view(batch_size, -1)\r\n",
    "        t = truth.view(batch_size, -1)\r\n",
    "\r\n",
    "        w = truth.detach()\r\n",
    "        self.weight = self.weight.type_as(logit)\r\n",
    "        w = w * (self.weight[1] - self.weight[0]) + self.weight[0]\r\n",
    "\r\n",
    "        p = w * (p*2 - 1)  #convert to [0,1] --> [-1, 1]\r\n",
    "        t = w * (t*2 - 1)\r\n",
    "\r\n",
    "        intersection = (p * t).sum(-1)\r\n",
    "        union =  (p * p).sum(-1) + (t * t).sum(-1)\r\n",
    "        dice  = 1 - 2 * intersection/union\r\n",
    "\r\n",
    "        loss = dice\r\n",
    "        return loss"
   ],
   "outputs": [],
   "metadata": {}
  },
  {
   "cell_type": "code",
   "execution_count": 26,
   "source": [
    "criterion = WeightedSoftDiceLoss()\r\n",
    "criterion(logits.detach().cpu(), yb)"
   ],
   "outputs": [
    {
     "output_type": "execute_result",
     "data": {
      "text/plain": [
       "TensorMask(0.9073)"
      ]
     },
     "metadata": {},
     "execution_count": 26
    }
   ],
   "metadata": {}
  },
  {
   "cell_type": "code",
   "execution_count": 27,
   "source": [
    "# export\r\n",
    "#reference: https://github.com/zdaiot/Kaggle-Steel-Defect-Detection\r\n",
    "class SoftBCEDiceLoss(nn.Module):\r\n",
    "\r\n",
    "    def __init__(self, bce_pos_weight, size_average=True, dice_weights=[0.2, 0.8], loss_weights=[0.7, 0.3]):\r\n",
    "        super().__init__()\r\n",
    "        self.size_average = 'mean' if size_average else 'none'\r\n",
    "        self.loss_weights = loss_weights\r\n",
    "        self.bce_loss = nn.BCEWithLogitsLoss(\r\n",
    "            reduction=self.size_average, \r\n",
    "            pos_weight=torch.tensor(bce_pos_weight)\r\n",
    "        )\r\n",
    "        self.softdiceloss = WeightedSoftDiceLoss(\r\n",
    "            size_average=self.size_average, \r\n",
    "            weight=dice_weights\r\n",
    "        )\r\n",
    "\r\n",
    "    def forward(self, input, target):\r\n",
    "        input, target = TensorBase(input).float(), TensorBase(target).float()\r\n",
    "        bce_loss = self.bce_loss(input, target)\r\n",
    "        soft_dice_loss = self.softdiceloss(input, target)\r\n",
    "        loss = self.loss_weights[0] * bce_loss + self.loss_weights[1] * soft_dice_loss\r\n",
    "\r\n",
    "        return loss"
   ],
   "outputs": [],
   "metadata": {}
  },
  {
   "cell_type": "code",
   "execution_count": 33,
   "source": [
    "criterion = SoftBCEDiceLoss(bce_pos_weight=1.5)\r\n",
    "criterion(logits.detach().cpu(), yb)"
   ],
   "outputs": [
    {
     "output_type": "execute_result",
     "data": {
      "text/plain": [
       "TensorBase(0.7685)"
      ]
     },
     "metadata": {},
     "execution_count": 33
    }
   ],
   "metadata": {}
  },
  {
   "cell_type": "code",
   "execution_count": 42,
   "source": [
    "# export\r\n",
    "#reference: https://github.com/zdaiot/Kaggle-Steel-Defect-Detection\r\n",
    "class MultiClassesSoftBCEDiceLoss(nn.Module):\r\n",
    "\r\n",
    "    def __init__(self, classes_num=4, size_average=True, dice_weights=[0.2, 0.8], bce_pos_weights=[2.0,2.0,1.0,1.5], loss_weights=[0.7, 0.3]):\r\n",
    "        super().__init__()\r\n",
    "        self.classes_num = classes_num\r\n",
    "        self.soft_bce_dice_losses = [\r\n",
    "            SoftBCEDiceLoss(bce_pos_weight=pos_weight, size_average=size_average, dice_weights=dice_weights, loss_weights=loss_weights)\r\n",
    "            for pos_weight in bce_pos_weights\r\n",
    "        ]\r\n",
    "\r\n",
    "    def forward(self, input, target):\r\n",
    "        \"\"\"\r\n",
    "        Args:\r\n",
    "            input: tensor, [batch_size, classes_num, height, width]\r\n",
    "            target: tensor, [batch_size, classes_num, height, width]\r\n",
    "        \"\"\"\r\n",
    "        loss = 0\r\n",
    "        for class_index in range(self.classes_num):\r\n",
    "            input_single_class = input[:, class_index, :, :]\r\n",
    "            target_singlt_class = target[:, class_index, :, :]\r\n",
    "            single_class_loss = self.soft_bce_dice_losses[class_index](input_single_class, target_singlt_class)\r\n",
    "            loss += single_class_loss\r\n",
    "\r\n",
    "        loss /= self.classes_num\r\n",
    "\r\n",
    "        return loss"
   ],
   "outputs": [],
   "metadata": {}
  },
  {
   "cell_type": "code",
   "execution_count": 43,
   "source": [
    "criterion = MultiClassesSoftBCEDiceLoss()\r\n",
    "criterion(logits.detach().cpu(), yb)"
   ],
   "outputs": [
    {
     "output_type": "execute_result",
     "data": {
      "text/plain": [
       "TensorBase(0.7648)"
      ]
     },
     "metadata": {},
     "execution_count": 43
    }
   ],
   "metadata": {}
  },
  {
   "cell_type": "markdown",
   "source": [
    "For the Tensorboard callback we need this Learner Callback to handle the step after the prediction."
   ],
   "metadata": {}
  },
  {
   "cell_type": "code",
   "execution_count": null,
   "source": [
    "# export\r\n",
    "class LossEnabler(Callback):\r\n",
    "    \"\"\"Cast predictions and labels to TensorBase to compute the smp.losses\"\"\"\r\n",
    "    def after_pred(self):\r\n",
    "        if len(self.learn.yb) > 0:\r\n",
    "            yb = self.learn.yb[0]\r\n",
    "            self.learn.yb = (TensorBase(yb), )\r\n",
    "            self.learn.pred = TensorBase(self.learn.pred)"
   ],
   "outputs": [],
   "metadata": {}
  }
 ],
 "metadata": {
  "kernelspec": {
   "name": "python3",
   "display_name": "Python 3.8.11 64-bit ('steel_segmentation': conda)"
  },
  "language_info": {
   "codemirror_mode": {
    "name": "ipython",
    "version": 3
   },
   "file_extension": ".py",
   "mimetype": "text/x-python",
   "name": "python",
   "nbconvert_exporter": "python",
   "pygments_lexer": "ipython3",
   "version": "3.8.11"
  },
  "interpreter": {
   "hash": "28655ac308a3066e78dcd35793da650bd1be67b358d93812a1ea5ca876afb9ba"
  }
 },
 "nbformat": 4,
 "nbformat_minor": 4
}