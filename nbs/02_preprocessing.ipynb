{
 "cells": [
  {
   "cell_type": "code",
   "execution_count": null,
   "metadata": {},
   "outputs": [],
   "source": [
    "#default_exp preprocessing"
   ]
  },
  {
   "cell_type": "markdown",
   "metadata": {},
   "source": [
    "# Preprocessing\n",
    "\n",
    "> Make png mask for DL models."
   ]
  },
  {
   "cell_type": "code",
   "execution_count": null,
   "metadata": {},
   "outputs": [],
   "source": [
    "#hide\n",
    "%load_ext autoreload\n",
    "%autoreload 2\n",
    "%matplotlib inline"
   ]
  },
  {
   "cell_type": "code",
   "execution_count": null,
   "metadata": {},
   "outputs": [],
   "source": [
    "#hide\n",
    "from nbdev.showdoc import *"
   ]
  },
  {
   "cell_type": "code",
   "execution_count": null,
   "metadata": {},
   "outputs": [
    {
     "name": "stderr",
     "output_type": "stream",
     "text": [
      "/home/mmb/miniconda3/envs/env_nbdev/lib/python3.8/site-packages/torch/cuda/__init__.py:52: UserWarning: CUDA initialization: Found no NVIDIA driver on your system. Please check that you have an NVIDIA GPU and installed a driver from http://www.nvidia.com/Download/index.aspx (Triggered internally at  /opt/conda/conda-bld/pytorch_1607370172916/work/c10/cuda/CUDAFunctions.cpp:100.)\n",
      "  return torch._C._cuda_getDeviceCount() > 0\n"
     ]
    }
   ],
   "source": [
    "#export\n",
    "from steel_segmentation.core import *\n",
    "from steel_segmentation.data import *\n",
    "from fastcore.foundation import *\n",
    "from fastai.vision.all import *\n",
    "from PIL import Image\n",
    "from collections import defaultdict\n",
    "from matplotlib import pyplot as plt \n",
    "\n",
    "import pandas as pd\n",
    "import numpy as np"
   ]
  },
  {
   "cell_type": "markdown",
   "metadata": {},
   "source": [
    "For FastAI Segmentation DataLoader we need to build :\n",
    "\n",
    "1. the codes: the type of pixels in the images\n",
    "\n",
    "2. the labels: the masks for each image\n",
    "\n",
    "3. Cropping the images"
   ]
  },
  {
   "cell_type": "markdown",
   "metadata": {},
   "source": [
    "## Codes (opt.)"
   ]
  },
  {
   "cell_type": "markdown",
   "metadata": {},
   "source": [
    "Codes are the labels for the corrisponding pixel values in the mask images."
   ]
  },
  {
   "cell_type": "code",
   "execution_count": null,
   "metadata": {},
   "outputs": [
    {
     "data": {
      "text/plain": [
       "array([0, 1, 2, 3, 4], dtype=uint8)"
      ]
     },
     "execution_count": null,
     "metadata": {},
     "output_type": "execute_result"
    }
   ],
   "source": [
    "codes_file_name = \"codes.txt\"\n",
    "codes_path = Path(path/codes_file_name)\n",
    "\n",
    "if not codes_path.is_file():\n",
    "    classes = np.unique(train.ClassId.values)\n",
    "    classes = np.insert(classes, 0, 0)\n",
    "    np.savetxt(path/'codes.txt', classes, fmt='%u')\n",
    "else:\n",
    "    classes = np.loadtxt(codes_path, dtype=np.uint8)\n",
    "\n",
    "classes"
   ]
  },
  {
   "cell_type": "markdown",
   "metadata": {},
   "source": [
    "## Labels"
   ]
  },
  {
   "cell_type": "markdown",
   "metadata": {},
   "source": [
    "Labels are the masks for the training images. \n",
    "\n",
    "As a first approach, i tried to create masks only for the images that present a defect. But this will exclude all the good images that can be used to teach to the model to recognize good steel pixels.\n",
    "\n",
    "Now I created the masks for all the images in the training folder.\n",
    "\n",
    "**NB: masks must be PNG files and not JPEG because JPEG's compression makes the labels get messed up occasionally** ([source](https://forums.fast.ai/t/unet-learner-failing-with-a-cuda-device-assert/66747/4))."
   ]
  },
  {
   "cell_type": "code",
   "execution_count": null,
   "metadata": {},
   "outputs": [],
   "source": [
    "#export\n",
    "labels_dir = path / \"labels\"\n",
    "\n",
    "def create_masks(df: pd.DataFrame):\n",
    "    \"\"\"Create the mask files under the `labels_dir`\"\"\"\n",
    "    for img_id in df[\"ImageId\"].tolist():\n",
    "        img_path = train_path / img_id\n",
    "        mask = multi_rle_to_mask(img_path)\n",
    "        im = Image.fromarray(mask)\n",
    "        im.save(labels_dir/f\"{img_path.stem}_P.png\")"
   ]
  },
  {
   "cell_type": "code",
   "execution_count": null,
   "metadata": {},
   "outputs": [],
   "source": [
    "#hide\n",
    "# !rm -rf {str(labels_dir)}"
   ]
  },
  {
   "cell_type": "code",
   "execution_count": null,
   "metadata": {},
   "outputs": [
    {
     "data": {
      "text/plain": [
       "(#6667) [Path('../data/labels/0002cc93b_P.png'),Path('../data/labels/0007a71bf_P.png'),Path('../data/labels/000a4bcdd_P.png'),Path('../data/labels/000f6bf48_P.png'),Path('../data/labels/0014fce06_P.png'),Path('../data/labels/0025bde0c_P.png'),Path('../data/labels/002af848d_P.png'),Path('../data/labels/002fc4e19_P.png'),Path('../data/labels/0030401a5_P.png'),Path('../data/labels/0046839bd_P.png')...]"
      ]
     },
     "execution_count": null,
     "metadata": {},
     "output_type": "execute_result"
    }
   ],
   "source": [
    "#slow\n",
    "if not labels_dir.is_dir():\n",
    "    labels_dir.mkdir(parents=True, exist_ok=True)\n",
    "    create_masks(train_all)\n",
    "\n",
    "labels_dir.ls()"
   ]
  },
  {
   "cell_type": "markdown",
   "metadata": {},
   "source": [
    "With the PNG extension, the multi-label segmentation problem would seem desappear."
   ]
  },
  {
   "cell_type": "code",
   "execution_count": null,
   "metadata": {},
   "outputs": [
    {
     "data": {
      "text/plain": [
       "(#6667) [Path('../data/labels/0002cc93b_P.png'),Path('../data/labels/0007a71bf_P.png'),Path('../data/labels/000a4bcdd_P.png'),Path('../data/labels/000f6bf48_P.png'),Path('../data/labels/0014fce06_P.png'),Path('../data/labels/0025bde0c_P.png'),Path('../data/labels/002af848d_P.png'),Path('../data/labels/002fc4e19_P.png'),Path('../data/labels/0030401a5_P.png'),Path('../data/labels/0046839bd_P.png')...]"
      ]
     },
     "execution_count": null,
     "metadata": {},
     "output_type": "execute_result"
    }
   ],
   "source": [
    "#hide\n",
    "mask_paths = get_image_files(labels_dir)\n",
    "mask_paths"
   ]
  },
  {
   "cell_type": "code",
   "execution_count": null,
   "metadata": {},
   "outputs": [
    {
     "data": {
      "image/png": "[encoded data removed]",
      "text/plain": [
       "<Figure size 432x288 with 1 Axes>"
      ]
     },
     "metadata": {
      "needs_background": "light"
     },
     "output_type": "display_data"
    }
   ],
   "source": [
    "#missing\n",
    "plt.imshow(np.array(Image.open(mask_paths[100])));"
   ]
  },
  {
   "cell_type": "code",
   "execution_count": null,
   "metadata": {},
   "outputs": [],
   "source": [
    "#hide\n",
    "# Test if all is working as expected\n",
    "dotest = False\n",
    "if dotest:\n",
    "    n = len(mask_paths)\n",
    "    idx = get_random_idx(n)\n",
    "    pixels = set()\n",
    "    for p in mask_paths[idx]:\n",
    "        pixels_founded = np.unique(np.array(Image.open(p)))\n",
    "        pixels = pixels.union(set(pixels_founded))\n",
    "    pixels"
   ]
  },
  {
   "cell_type": "markdown",
   "metadata": {},
   "source": [
    "## Cropping"
   ]
  },
  {
   "cell_type": "markdown",
   "metadata": {},
   "source": [
    "The standard size of the images is `(256, 1600)` and maybe it's because of this that I always go out of memory in the GPU."
   ]
  },
  {
   "cell_type": "code",
   "execution_count": null,
   "metadata": {},
   "outputs": [
    {
     "name": "stdout",
     "output_type": "stream",
     "text": [
      "Converted 00_core.ipynb.\n",
      "Converted 01_data.ipynb.\n",
      "Converted 02_preprocessing.ipynb.\n",
      "Converted index.ipynb.\n"
     ]
    }
   ],
   "source": [
    "#hide\n",
    "from nbdev.export import notebook2script; notebook2script()"
   ]
  }
 ],
 "metadata": {
  "kernelspec": {
   "display_name": "Python 3",
   "language": "python",
   "name": "python3"
  }
 },
 "nbformat": 4,
 "nbformat_minor": 4
}
