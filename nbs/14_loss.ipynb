{
 "cells": [
  {
   "cell_type": "code",
   "execution_count": null,
   "source": [
    "# default_exp losses\r\n",
    "# all_slow"
   ],
   "outputs": [],
   "metadata": {}
  },
  {
   "cell_type": "markdown",
   "source": [
    "# Loss functions\n",
    "\n",
    "> Various loss functions in PyTorch"
   ],
   "metadata": {}
  },
  {
   "cell_type": "code",
   "execution_count": 1,
   "source": [
    "# hide\r\n",
    "%load_ext autoreload\r\n",
    "%autoreload 2\r\n",
    "%matplotlib inline"
   ],
   "outputs": [],
   "metadata": {}
  },
  {
   "cell_type": "code",
   "execution_count": 2,
   "source": [
    "# export\r\n",
    "import torch\r\n",
    "import torch.nn as nn\r\n",
    "import torch.nn.functional as F\r\n",
    "from fastai.torch_core import TensorBase\r\n",
    "from fastai.losses import *\r\n",
    "from functools import partial"
   ],
   "outputs": [],
   "metadata": {}
  },
  {
   "cell_type": "code",
   "execution_count": 15,
   "source": [
    "from fastai.vision.all import *\r\n",
    "import numpy as np\r\n",
    "from torch.nn.modules.loss import _Loss\r\n",
    "import segmentation_models_pytorch as smp\r\n",
    "from steel_segmentation.utils import get_train_df\r\n",
    "from steel_segmentation.transforms import SteelDataBlock, SteelDataLoaders"
   ],
   "outputs": [],
   "metadata": {}
  },
  {
   "cell_type": "code",
   "execution_count": 18,
   "source": [
    "path = Path(\"../data\")\r\n",
    "train_pivot = get_train_df(path=path, pivot=True)\r\n",
    "block = SteelDataBlock(path)\r\n",
    "dls = SteelDataLoaders(block, train_pivot, bs=8)\r\n",
    "xb, yb = dls.one_batch()\r\n",
    "print(xb.shape, xb.device)\r\n",
    "print(yb.shape, yb.device)"
   ],
   "outputs": [
    {
     "output_type": "stream",
     "name": "stdout",
     "text": [
      "torch.Size([8, 3, 224, 1568]) cpu\n",
      "torch.Size([8, 4, 224, 1568]) cpu\n"
     ]
    }
   ],
   "metadata": {}
  },
  {
   "cell_type": "code",
   "execution_count": 19,
   "source": [
    "device = \"cuda\" if torch.cuda.is_available() else \"cpu\"\r\n",
    "device"
   ],
   "outputs": [
    {
     "output_type": "execute_result",
     "data": {
      "text/plain": [
       "'cpu'"
      ]
     },
     "metadata": {},
     "execution_count": 19
    }
   ],
   "metadata": {}
  },
  {
   "cell_type": "code",
   "execution_count": null,
   "source": [
    "model = smp.Unet(\"resnet18\", classes=4)\r\n",
    "model.to(device)"
   ],
   "outputs": [],
   "metadata": {}
  },
  {
   "cell_type": "code",
   "execution_count": 4,
   "source": [
    "# export\r\n",
    "#reference: https://github.com/asanakoy/kaggle_carvana_segmentation/blob/master/asanakoy/losses.py\r\n",
    "class SoftDiceLoss(nn.Module):\r\n",
    "\r\n",
    "    def __init__(self):\r\n",
    "        super().__init__()\r\n",
    "\r\n",
    "    def forward(self, logits, labels):\r\n",
    "        probs = F.sigmoid(logits)\r\n",
    "        num = labels.size(0)\r\n",
    "        m1 = probs.view(num, -1)\r\n",
    "        m2 = labels.view(num, -1)\r\n",
    "        intersection = (m1 * m2)\r\n",
    "        score = 2. * (intersection.sum(1) + 1) / (m1.sum(1) + m2.sum(1) + 1)\r\n",
    "        score = 1 - score.sum() / num\r\n",
    "        return score"
   ],
   "outputs": [],
   "metadata": {}
  },
  {
   "cell_type": "code",
   "execution_count": 5,
   "source": [
    "# export\r\n",
    "#reference: https://github.com/zdaiot/Kaggle-Steel-Defect-Detection\r\n",
    "class WeightedSoftDiceLoss(nn.Module):\r\n",
    "\r\n",
    "    def __init__(self, size_average=True, weight=[0.2, 0.8]):\r\n",
    "        super().__init__()\r\n",
    "        self.size_average = size_average\r\n",
    "        self.weight = torch.FloatTensor(weight)\r\n",
    "\r\n",
    "    def forward(self, logit_pixel, truth_pixel):\r\n",
    "        batch_size = len(logit_pixel)\r\n",
    "        logit = logit_pixel.view(batch_size, -1)\r\n",
    "        truth = truth_pixel.view(batch_size, -1)\r\n",
    "        assert(logit.shape == truth.shape)\r\n",
    "\r\n",
    "        loss = self.soft_dice_criterion(logit, truth)\r\n",
    "\r\n",
    "        if self.size_average:\r\n",
    "            loss = loss.mean()\r\n",
    "        return loss\r\n",
    "\r\n",
    "    def soft_dice_criterion(self, logit, truth):\r\n",
    "        batch_size = len(logit)\r\n",
    "        probability = torch.sigmoid(logit)\r\n",
    "\r\n",
    "        p = probability.view(batch_size, -1)\r\n",
    "        t = truth.view(batch_size, -1)\r\n",
    "\r\n",
    "        w = truth.detach()\r\n",
    "        self.weight = self.weight.type_as(logit)\r\n",
    "        w = w * (self.weight[1] - self.weight[0]) + self.weight[0]\r\n",
    "\r\n",
    "        p = w * (p*2 - 1)  #convert to [0,1] --> [-1, 1]\r\n",
    "        t = w * (t*2 - 1)\r\n",
    "\r\n",
    "        intersection = (p * t).sum(-1)\r\n",
    "        union =  (p * p).sum(-1) + (t * t).sum(-1)\r\n",
    "        dice  = 1 - 2 * intersection/union\r\n",
    "\r\n",
    "        loss = dice\r\n",
    "        return loss"
   ],
   "outputs": [],
   "metadata": {}
  },
  {
   "cell_type": "code",
   "execution_count": 6,
   "source": [
    "# export\r\n",
    "#reference: https://github.com/zdaiot/Kaggle-Steel-Defect-Detection\r\n",
    "class SoftBCEDiceLoss(nn.Module):\r\n",
    "\r\n",
    "    def __init__(self, size_average=True, weight=[0.2, 0.8]):\r\n",
    "        super().__init__()\r\n",
    "        self.size_average = 'mean' if size_average else 'none'\r\n",
    "        self.weight = weight\r\n",
    "        self.bce_loss = nn.BCEWithLogitsLoss(\r\n",
    "            reduction=self.size_average, \r\n",
    "            pos_weight=torch.tensor(self.weight[1])\r\n",
    "        )\r\n",
    "        self.softdiceloss = WeightedSoftDiceLoss(\r\n",
    "            size_average=self.size_average, \r\n",
    "            weight=weight\r\n",
    "        )\r\n",
    "\r\n",
    "    def forward(self, input, target):\r\n",
    "        input, target = TensorBase(input).float(), TensorBase(target).float()\r\n",
    "        soft_bce_loss = self.bce_loss(input, target)\r\n",
    "        soft_dice_loss = self.softdiceloss(input, target)\r\n",
    "        loss = 0.7 * soft_bce_loss + 0.3 * soft_dice_loss\r\n",
    "\r\n",
    "        return loss"
   ],
   "outputs": [],
   "metadata": {}
  },
  {
   "cell_type": "code",
   "execution_count": 7,
   "source": [
    "# export\r\n",
    "#reference: https://github.com/zdaiot/Kaggle-Steel-Defect-Detection\r\n",
    "class MultiClassesSoftBCEDiceLoss(nn.Module):\r\n",
    "\r\n",
    "    def __init__(self, classes_num=4, size_average=True, weight=[0.2, 0.8]):\r\n",
    "        super().__init__()\r\n",
    "        self.classes_num = classes_num\r\n",
    "        self.size_average = size_average\r\n",
    "        self.weight = weight\r\n",
    "        self.soft_bce_dice_loss = SoftBCEDiceLoss(size_average=self.size_average, weight=self.weight)\r\n",
    "\r\n",
    "    def forward(self, input, target):\r\n",
    "        \"\"\"\r\n",
    "        Args:\r\n",
    "            input: tensor, [batch_size, classes_num, height, width]\r\n",
    "            target: tensor, [batch_size, classes_num, height, width]\r\n",
    "        \"\"\"\r\n",
    "        loss = 0\r\n",
    "        for class_index in range(self.classes_num):\r\n",
    "            input_single_class = input[:, class_index, :, :]\r\n",
    "            target_singlt_class = target[:, class_index, :, :]\r\n",
    "            single_class_loss = self.soft_bce_dice_loss(input_single_class, target_singlt_class)\r\n",
    "            loss += single_class_loss\r\n",
    "\r\n",
    "        loss /= self.classes_num\r\n",
    "\r\n",
    "        return loss"
   ],
   "outputs": [],
   "metadata": {}
  },
  {
   "cell_type": "markdown",
   "source": [
    "In this module there are various loss functions for binary and instance segmentation."
   ],
   "metadata": {}
  },
  {
   "cell_type": "code",
   "execution_count": null,
   "source": [
    "device = torch.device(\"cuda\" if torch.cuda.is_available() else \"cpu\")"
   ],
   "outputs": [],
   "metadata": {}
  },
  {
   "cell_type": "code",
   "execution_count": null,
   "source": [
    "dls = get_segmnt_dls(bs=4, device=device)\r\n",
    "\r\n",
    "x, targs = dls.train.one_batch()\r\n",
    "x.shape, targs.shape"
   ],
   "outputs": [
    {
     "output_type": "execute_result",
     "data": {
      "text/plain": [
       "(torch.Size([4, 3, 256, 1600]), torch.Size([4, 4, 256, 1600]))"
      ]
     },
     "metadata": {},
     "execution_count": null
    }
   ],
   "metadata": {}
  },
  {
   "cell_type": "code",
   "execution_count": null,
   "source": [
    "x.device, targs.device"
   ],
   "outputs": [
    {
     "output_type": "execute_result",
     "data": {
      "text/plain": [
       "(device(type='cuda', index=0), device(type='cpu'))"
      ]
     },
     "metadata": {},
     "execution_count": null
    }
   ],
   "metadata": {}
  },
  {
   "cell_type": "code",
   "execution_count": null,
   "source": [
    "model = smp.Unet(\"resnet18\", \r\n",
    "                 encoder_weights=\"imagenet\", \r\n",
    "                 classes=4, \r\n",
    "                 activation=None).to(device)\r\n",
    "logits = model(x)\r\n",
    "probs = torch.sigmoid(logits)\r\n",
    "preds = ( probs > 0.5).float()\r\n",
    "preds.shape"
   ],
   "outputs": [
    {
     "output_type": "execute_result",
     "data": {
      "text/plain": [
       "torch.Size([4, 4, 256, 1600])"
      ]
     },
     "metadata": {},
     "execution_count": null
    }
   ],
   "metadata": {}
  },
  {
   "cell_type": "markdown",
   "source": [
    "## BCE and SoftDice loss"
   ],
   "metadata": {}
  },
  {
   "cell_type": "markdown",
   "source": [
    "In this section there are some loss functions used by @khornlund in his [repository](https://github.com/khornlund/severstal-steel-defect-detection) for the Severstal competition."
   ],
   "metadata": {}
  },
  {
   "cell_type": "code",
   "execution_count": null,
   "source": [
    "def bce_loss(output, target):\r\n",
    "    \"\"\"BCE with logits from Pytorch.\"\"\"\r\n",
    "    return F.binary_cross_entropy_with_logits(output, target)"
   ],
   "outputs": [],
   "metadata": {}
  },
  {
   "cell_type": "code",
   "execution_count": null,
   "source": [
    "t_logits, t_targs = torch.Tensor(logits.float().cpu()), torch.Tensor(targs.float())"
   ],
   "outputs": [],
   "metadata": {}
  },
  {
   "cell_type": "code",
   "execution_count": null,
   "source": [
    "bce_loss(t_logits, t_targs)"
   ],
   "outputs": [
    {
     "output_type": "execute_result",
     "data": {
      "text/plain": [
       "tensor(0.8846, grad_fn=<BinaryCrossEntropyWithLogitsBackward>)"
      ]
     },
     "metadata": {},
     "execution_count": null
    }
   ],
   "metadata": {}
  },
  {
   "cell_type": "code",
   "execution_count": null,
   "source": [
    "BCEWithLogitsLossFlat(axis=1)(t_logits, t_targs)"
   ],
   "outputs": [
    {
     "output_type": "execute_result",
     "data": {
      "text/plain": [
       "TensorBase(0.8846, grad_fn=<AliasBackward>)"
      ]
     },
     "metadata": {},
     "execution_count": null
    }
   ],
   "metadata": {}
  },
  {
   "cell_type": "code",
   "execution_count": null,
   "source": [
    "#export\r\n",
    "#reference: https://github.com/asanakoy/kaggle_carvana_segmentation/blob/master/asanakoy/losses.py\r\n",
    "class SoftDiceLoss(nn.Module):\r\n",
    "\r\n",
    "    def __init__(self):\r\n",
    "        super().__init__()\r\n",
    "\r\n",
    "    def forward(self, logits, labels):\r\n",
    "        probs = F.sigmoid(logits)\r\n",
    "        num = labels.size(0)\r\n",
    "        m1 = probs.view(num, -1)\r\n",
    "        m2 = labels.view(num, -1)\r\n",
    "        intersection = (m1 * m2)\r\n",
    "        score = 2. * (intersection.sum(1) + 1) / (m1.sum(1) + m2.sum(1) + 1)\r\n",
    "        score = 1 - score.sum() / num\r\n",
    "        return score"
   ],
   "outputs": [],
   "metadata": {}
  },
  {
   "cell_type": "code",
   "execution_count": null,
   "source": [
    "loss = SoftDiceLoss()\r\n",
    "loss(t_logits, t_targs)"
   ],
   "outputs": [
    {
     "output_type": "execute_result",
     "data": {
      "text/plain": [
       "tensor(0.9508, grad_fn=<RsubBackward1>)"
      ]
     },
     "metadata": {},
     "execution_count": null
    }
   ],
   "metadata": {}
  },
  {
   "cell_type": "code",
   "execution_count": null,
   "source": [
    "#export\r\n",
    "#reference: https://github.com/zdaiot/Kaggle-Steel-Defect-Detection\r\n",
    "class WeightedSoftDiceLoss(nn.Module):\r\n",
    "\r\n",
    "    def __init__(self, size_average=True, weight=[0.2, 0.8]):\r\n",
    "        super().__init__()\r\n",
    "        self.size_average = size_average\r\n",
    "        self.weight = torch.FloatTensor(weight)\r\n",
    "    \r\n",
    "    def forward(self, logit_pixel, truth_pixel):\r\n",
    "        batch_size = len(logit_pixel)\r\n",
    "        logit = logit_pixel.view(batch_size, -1)\r\n",
    "        truth = truth_pixel.view(batch_size, -1)\r\n",
    "        assert(logit.shape == truth.shape)\r\n",
    "\r\n",
    "        loss = self.soft_dice_criterion(logit, truth)\r\n",
    "\r\n",
    "        if self.size_average:\r\n",
    "            loss = loss.mean()\r\n",
    "        return loss\r\n",
    "\r\n",
    "    def soft_dice_criterion(self, logit, truth):\r\n",
    "        batch_size = len(logit)\r\n",
    "        probability = torch.sigmoid(logit)\r\n",
    "\r\n",
    "        p = probability.view(batch_size, -1)\r\n",
    "        t = truth.view(batch_size, -1)\r\n",
    "        \r\n",
    "        w = truth.detach()\r\n",
    "        self.weight = self.weight.type_as(logit)\r\n",
    "        w = w * (self.weight[1] - self.weight[0]) + self.weight[0]\r\n",
    "\r\n",
    "        p = w * (p*2 - 1)  #convert to [0,1] --> [-1, 1]\r\n",
    "        t = w * (t*2 - 1)\r\n",
    "\r\n",
    "        intersection = (p * t).sum(-1)\r\n",
    "        union =  (p * p).sum(-1) + (t * t).sum(-1)\r\n",
    "        dice  = 1 - 2 * intersection/union\r\n",
    "\r\n",
    "        loss = dice\r\n",
    "        return loss"
   ],
   "outputs": [],
   "metadata": {}
  },
  {
   "cell_type": "code",
   "execution_count": null,
   "source": [
    "loss = WeightedSoftDiceLoss()\r\n",
    "loss(t_logits, t_targs)"
   ],
   "outputs": [
    {
     "output_type": "execute_result",
     "data": {
      "text/plain": [
       "tensor(0.9108, grad_fn=<MeanBackward0>)"
      ]
     },
     "metadata": {},
     "execution_count": null
    }
   ],
   "metadata": {}
  },
  {
   "cell_type": "code",
   "execution_count": null,
   "source": [
    "#export\r\n",
    "#reference: https://github.com/zdaiot/Kaggle-Steel-Defect-Detection\r\n",
    "class SoftBCEDiceLoss(nn.Module):\r\n",
    "\r\n",
    "    def __init__(self, size_average=True, weight=[0.2, 0.8]):\r\n",
    "        super().__init__()\r\n",
    "        self.size_average = size_average\r\n",
    "        self.weight = weight\r\n",
    "        self.bce_loss = nn.BCEWithLogitsLoss(size_average=self.size_average, pos_weight=torch.tensor(self.weight[1]))\r\n",
    "        self.softdiceloss = WeightedSoftDiceLoss(size_average=self.size_average, weight=weight)\r\n",
    "    \r\n",
    "    def forward(self, input, target):\r\n",
    "        input, target = TensorBase(input).float(), TensorBase(target).float()\r\n",
    "        soft_bce_loss = self.bce_loss(input, target)\r\n",
    "        soft_dice_loss = self.softdiceloss(input, target)\r\n",
    "        loss = 0.7 * soft_bce_loss + 0.3 * soft_dice_loss\r\n",
    "\r\n",
    "        return loss"
   ],
   "outputs": [],
   "metadata": {}
  },
  {
   "cell_type": "code",
   "execution_count": null,
   "source": [
    "loss = SoftBCEDiceLoss()\r\n",
    "loss(t_logits, t_targs)"
   ],
   "outputs": [
    {
     "output_type": "execute_result",
     "data": {
      "text/plain": [
       "TensorBase(0.7508, grad_fn=<AliasBackward>)"
      ]
     },
     "metadata": {},
     "execution_count": null
    }
   ],
   "metadata": {}
  },
  {
   "cell_type": "code",
   "execution_count": null,
   "source": [
    "#export\r\n",
    "#reference: https://github.com/zdaiot/Kaggle-Steel-Defect-Detection\r\n",
    "class MultiClassesSoftBCEDiceLoss(nn.Module):\r\n",
    "    \r\n",
    "    def __init__(self, classes_num=4, size_average=True, weight=[0.2, 0.8]):\r\n",
    "        super().__init__()\r\n",
    "        self.classes_num = classes_num\r\n",
    "        self.size_average = size_average\r\n",
    "        self.weight = weight\r\n",
    "        self.soft_bce_dice_loss = SoftBCEDiceLoss(size_average=self.size_average, weight=self.weight)\r\n",
    "    \r\n",
    "    def forward(self, input, target):\r\n",
    "        \"\"\"\r\n",
    "        Args:\r\n",
    "            input: tensor, [batch_size, classes_num, height, width]\r\n",
    "            target: tensor, [batch_size, classes_num, height, width]\r\n",
    "        \"\"\"\r\n",
    "        loss = 0\r\n",
    "        for class_index in range(self.classes_num):\r\n",
    "            input_single_class = input[:, class_index, :, :]\r\n",
    "            target_singlt_class = target[:, class_index, :, :]\r\n",
    "            single_class_loss = self.soft_bce_dice_loss(input_single_class, target_singlt_class)\r\n",
    "            loss += single_class_loss\r\n",
    "        \r\n",
    "        loss /= self.classes_num\r\n",
    "\r\n",
    "        return loss"
   ],
   "outputs": [],
   "metadata": {}
  },
  {
   "cell_type": "code",
   "execution_count": null,
   "source": [
    "loss = MultiClassesSoftBCEDiceLoss()\r\n",
    "loss(t_logits, targs)"
   ],
   "outputs": [
    {
     "output_type": "execute_result",
     "data": {
      "text/plain": [
       "TensorBase(0.7436, grad_fn=<AliasBackward>)"
      ]
     },
     "metadata": {},
     "execution_count": null
    }
   ],
   "metadata": {}
  },
  {
   "cell_type": "code",
   "execution_count": null,
   "source": [
    "#export\r\n",
    "class IoULoss(nn.Module):\r\n",
    "    \"\"\"\r\n",
    "    Intersection over union (Jaccard) loss\r\n",
    "    Args:\r\n",
    "        eps (float): epsilon to avoid zero division\r\n",
    "        threshold (float): threshold for outputs binarization\r\n",
    "        activation (str): An torch.nn activation applied to the outputs.\r\n",
    "            Must be one of ['none', 'Sigmoid', 'Softmax2d']\r\n",
    "    \"\"\"\r\n",
    "\r\n",
    "    def __init__(\r\n",
    "        self,\r\n",
    "        eps: float = 1e-7,\r\n",
    "        threshold: float = None\r\n",
    "    ):\r\n",
    "        super().__init__()\r\n",
    "        self.metric_fn = partial(iou, eps=eps, threshold=threshold)\r\n",
    "\r\n",
    "    def forward(self, outputs, targets):\r\n",
    "        iou = self.metric_fn(outputs, targets)\r\n",
    "        return 1 - iou"
   ],
   "outputs": [],
   "metadata": {}
  },
  {
   "cell_type": "code",
   "execution_count": null,
   "source": [
    "loss = IoULoss()\r\n",
    "loss(t_logits, t_targs)"
   ],
   "outputs": [
    {
     "output_type": "execute_result",
     "data": {
      "text/plain": [
       "tensor(0.9924, grad_fn=<RsubBackward1>)"
      ]
     },
     "metadata": {},
     "execution_count": null
    }
   ],
   "metadata": {}
  }
 ],
 "metadata": {
  "kernelspec": {
   "name": "python3",
   "display_name": "Python 3.8.11 64-bit ('steel_segmentation': conda)"
  },
  "language_info": {
   "codemirror_mode": {
    "name": "ipython",
    "version": 3
   },
   "file_extension": ".py",
   "mimetype": "text/x-python",
   "name": "python",
   "nbconvert_exporter": "python",
   "pygments_lexer": "ipython3",
   "version": "3.8.11"
  },
  "interpreter": {
   "hash": "28655ac308a3066e78dcd35793da650bd1be67b358d93812a1ea5ca876afb9ba"
  }
 },
 "nbformat": 4,
 "nbformat_minor": 4
}