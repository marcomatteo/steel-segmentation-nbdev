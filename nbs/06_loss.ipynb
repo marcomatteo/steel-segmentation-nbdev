{
 "cells": [
  {
   "cell_type": "code",
   "execution_count": null,
   "metadata": {},
   "outputs": [],
   "source": [
    "# default_exp loss\n",
    "# all_slow"
   ]
  },
  {
   "cell_type": "code",
   "execution_count": null,
   "metadata": {},
   "outputs": [],
   "source": [
    "# hide\n",
    "# missing\n",
    "!git clone https://github.com/marcomatteo/steel_segmentation.git"
   ]
  },
  {
   "cell_type": "code",
   "execution_count": null,
   "metadata": {},
   "outputs": [],
   "source": [
    "# hide\n",
    "# missing\n",
    "!pip install -e steel_segmentation"
   ]
  },
  {
   "cell_type": "markdown",
   "metadata": {},
   "source": [
    "# Loss functions\n",
    "[![Open In Colab](https://colab.research.google.com/assets/colab-badge.svg)](https://colab.research.google.com/github/marcomatteo/steel_segmentation/blob/master/dev_nbs/06_loss.ipynb)\n",
    "> Various loss functions in PyTorch"
   ]
  },
  {
   "cell_type": "code",
   "execution_count": 1,
   "metadata": {},
   "outputs": [],
   "source": [
    "# hide\n",
    "%load_ext autoreload\n",
    "%autoreload 2\n",
    "%matplotlib inline"
   ]
  },
  {
   "cell_type": "code",
   "execution_count": 8,
   "metadata": {},
   "outputs": [],
   "source": [
    "# export\n",
    "from steel_segmentation.metadata import *\n",
    "from steel_segmentation.masks import *\n",
    "from steel_segmentation.datasets import *\n",
    "from steel_segmentation.dataloaders import *\n",
    "from steel_segmentation.metrics import *\n",
    "\n",
    "from fastai.torch_core import TensorBase\n",
    "\n",
    "import numpy as np\n",
    "import torch\n",
    "import torch.nn as nn\n",
    "import torch.nn.functional as F\n",
    "from torch.nn.modules.loss import _Loss\n",
    "\n",
    "import segmentation_models_pytorch as smp\n",
    "\n",
    "from functools import partial"
   ]
  },
  {
   "cell_type": "markdown",
   "metadata": {},
   "source": [
    "In this module there are various loss functions for binary and instance segmentation."
   ]
  },
  {
   "cell_type": "code",
   "execution_count": null,
   "metadata": {},
   "outputs": [],
   "source": [
    "# hide\n",
    "def _contiguous(x): return TensorBase(x.transpose(-1,-1))"
   ]
  },
  {
   "cell_type": "code",
   "execution_count": 3,
   "metadata": {},
   "outputs": [],
   "source": [
    "device = torch.device(\"cuda\" if torch.cuda.is_available() else \"cpu\")"
   ]
  },
  {
   "cell_type": "code",
   "execution_count": 4,
   "metadata": {},
   "outputs": [
    {
     "data": {
      "text/plain": [
       "(torch.Size([4, 3, 256, 256]), torch.Size([4, 4, 256, 256]))"
      ]
     },
     "execution_count": 4,
     "metadata": {},
     "output_type": "execute_result"
    }
   ],
   "source": [
    "dls = get_segmnt_dls(bs=4, device=device)\n",
    "\n",
    "x, targs = dls.train.one_batch()\n",
    "x.shape, targs.shape"
   ]
  },
  {
   "cell_type": "code",
   "execution_count": 5,
   "metadata": {},
   "outputs": [
    {
     "data": {
      "text/plain": [
       "(device(type='cuda', index=0), device(type='cpu'))"
      ]
     },
     "execution_count": 5,
     "metadata": {},
     "output_type": "execute_result"
    }
   ],
   "source": [
    "x.device, targs.device"
   ]
  },
  {
   "cell_type": "code",
   "execution_count": 7,
   "metadata": {},
   "outputs": [
    {
     "data": {
      "text/plain": [
       "torch.Size([4, 4, 256, 256])"
      ]
     },
     "execution_count": 7,
     "metadata": {},
     "output_type": "execute_result"
    }
   ],
   "source": [
    "model = smp.Unet(\"resnet18\", \n",
    "                 encoder_weights=\"imagenet\", \n",
    "                 classes=4, \n",
    "                 activation=None).to(device)\n",
    "logits = model(x)\n",
    "preds = (torch.sigmoid(logits) > 0.5).float()\n",
    "preds.shape"
   ]
  },
  {
   "cell_type": "markdown",
   "metadata": {},
   "source": [
    "## BCE and SoftDice loss"
   ]
  },
  {
   "cell_type": "markdown",
   "metadata": {},
   "source": [
    "In this section there are some loss functions used by @khornlund in his [repository](https://github.com/khornlund/severstal-steel-defect-detection) for the Severstal competition."
   ]
  },
  {
   "cell_type": "code",
   "execution_count": 9,
   "metadata": {},
   "outputs": [],
   "source": [
    "def bce_loss(output, target):\n",
    "    \"\"\"BCE with logits from Pytorch.\"\"\"\n",
    "    return F.binary_cross_entropy_with_logits(output, target)"
   ]
  },
  {
   "cell_type": "code",
   "execution_count": 10,
   "metadata": {},
   "outputs": [],
   "source": [
    "t_logits, t_targs = torch.Tensor(logits.float().cpu()), torch.Tensor(targs.float())"
   ]
  },
  {
   "cell_type": "code",
   "execution_count": 11,
   "metadata": {},
   "outputs": [
    {
     "data": {
      "text/plain": [
       "tensor(0.7113, grad_fn=<BinaryCrossEntropyWithLogitsBackward>)"
      ]
     },
     "execution_count": 11,
     "metadata": {},
     "output_type": "execute_result"
    }
   ],
   "source": [
    "bce_loss(t_logits, t_targs)"
   ]
  },
  {
   "cell_type": "code",
   "execution_count": 33,
   "metadata": {},
   "outputs": [],
   "source": [
    "#export\n",
    "#reference: https://github.com/asanakoy/kaggle_carvana_segmentation/blob/master/asanakoy/losses.py\n",
    "class SoftDiceLoss(nn.Module):\n",
    "\n",
    "    def __init__(self):\n",
    "        super().__init__()\n",
    "\n",
    "    def forward(self, logits, labels):\n",
    "        probs = F.sigmoid(logits)\n",
    "        num = labels.size(0)\n",
    "        m1 = probs.view(num, -1)\n",
    "        m2 = labels.view(num, -1)\n",
    "        intersection = (m1 * m2)\n",
    "        score = 2. * (intersection.sum(1) + 1) / (m1.sum(1) + m2.sum(1) + 1)\n",
    "        score = 1 - score.sum() / num\n",
    "        return score"
   ]
  },
  {
   "cell_type": "code",
   "execution_count": 34,
   "metadata": {},
   "outputs": [
    {
     "data": {
      "text/plain": [
       "tensor(0.9851, grad_fn=<RsubBackward1>)"
      ]
     },
     "execution_count": 34,
     "metadata": {},
     "output_type": "execute_result"
    }
   ],
   "source": [
    "loss = SoftDiceLoss()\n",
    "loss(t_logits, t_targs)"
   ]
  },
  {
   "cell_type": "code",
   "execution_count": 37,
   "metadata": {},
   "outputs": [],
   "source": [
    "#export\n",
    "#reference: https://github.com/zdaiot/Kaggle-Steel-Defect-Detection\n",
    "class WeightedSoftDiceLoss(nn.Module):\n",
    "\n",
    "    def __init__(self, size_average=True, weight=[0.2, 0.8]):\n",
    "        super().__init__()\n",
    "        self.size_average = size_average\n",
    "        self.weight = torch.FloatTensor(weight)\n",
    "    \n",
    "    def forward(self, logit_pixel, truth_pixel):\n",
    "        batch_size = len(logit_pixel)\n",
    "        logit = logit_pixel.view(batch_size, -1)\n",
    "        truth = truth_pixel.view(batch_size, -1)\n",
    "        assert(logit.shape == truth.shape)\n",
    "\n",
    "        loss = self.soft_dice_criterion(logit, truth)\n",
    "\n",
    "        if self.size_average:\n",
    "            loss = loss.mean()\n",
    "        return loss\n",
    "\n",
    "    def soft_dice_criterion(self, logit, truth):\n",
    "        batch_size = len(logit)\n",
    "        probability = torch.sigmoid(logit)\n",
    "\n",
    "        p = probability.view(batch_size, -1)\n",
    "        t = truth.view(batch_size, -1)\n",
    "        \n",
    "        w = truth.detach()\n",
    "        self.weight = self.weight.type_as(logit)\n",
    "        w = w * (self.weight[1] - self.weight[0]) + self.weight[0]\n",
    "\n",
    "        p = w * (p*2 - 1)  #convert to [0,1] --> [-1, 1]\n",
    "        t = w * (t*2 - 1)\n",
    "\n",
    "        intersection = (p * t).sum(-1)\n",
    "        union =  (p * p).sum(-1) + (t * t).sum(-1)\n",
    "        dice  = 1 - 2 * intersection/union\n",
    "\n",
    "        loss = dice\n",
    "        return loss"
   ]
  },
  {
   "cell_type": "code",
   "execution_count": 44,
   "metadata": {},
   "outputs": [
    {
     "data": {
      "text/plain": [
       "tensor(0.9138, grad_fn=<MeanBackward0>)"
      ]
     },
     "execution_count": 44,
     "metadata": {},
     "output_type": "execute_result"
    }
   ],
   "source": [
    "loss = WeightedSoftDiceLoss()\n",
    "loss(t_logits, t_targs)"
   ]
  },
  {
   "cell_type": "code",
   "execution_count": 39,
   "metadata": {},
   "outputs": [],
   "source": [
    "#export\n",
    "#reference: https://github.com/zdaiot/Kaggle-Steel-Defect-Detection\n",
    "class SoftBCEDiceLoss(nn.Module):\n",
    "\n",
    "    def __init__(self, size_average=True, weight=[0.2, 0.8]):\n",
    "        super().__init__()\n",
    "        self.size_average = size_average\n",
    "        self.weight = weight\n",
    "        self.bce_loss = nn.BCEWithLogitsLoss(size_average=self.size_average, pos_weight=torch.tensor(self.weight[1]))\n",
    "        self.softdiceloss = WeightedSoftDiceLoss(size_average=self.size_average, weight=weight)\n",
    "    \n",
    "    def forward(self, input, target):\n",
    "        input, target = TensorBase(input), TensorBase(target)\n",
    "        soft_bce_loss = self.bce_loss(input, target)\n",
    "        soft_dice_loss = self.softdiceloss(input, target)\n",
    "        loss = 0.7 * soft_bce_loss + 0.3 * soft_dice_loss\n",
    "\n",
    "        return loss"
   ]
  },
  {
   "cell_type": "code",
   "execution_count": 43,
   "metadata": {},
   "outputs": [
    {
     "data": {
      "text/plain": [
       "tensor(0.7713, grad_fn=<AddBackward0>)"
      ]
     },
     "execution_count": 43,
     "metadata": {},
     "output_type": "execute_result"
    }
   ],
   "source": [
    "loss = SoftBCEDiceLoss()\n",
    "loss(t_logits, t_targs)"
   ]
  },
  {
   "cell_type": "code",
   "execution_count": 41,
   "metadata": {},
   "outputs": [],
   "source": [
    "#export\n",
    "#reference: https://github.com/zdaiot/Kaggle-Steel-Defect-Detection\n",
    "class MultiClassesSoftBCEDiceLoss(nn.Module):\n",
    "    \n",
    "    def __init__(self, classes_num=4, size_average=True, weight=[0.2, 0.8]):\n",
    "        super().__init__()\n",
    "        self.classes_num = classes_num\n",
    "        self.size_average = size_average\n",
    "        self.weight = weight\n",
    "        self.soft_bce_dice_loss = SoftBCEDiceLoss(size_average=self.size_average, weight=self.weight)\n",
    "    \n",
    "    def forward(self, input, target):\n",
    "        \"\"\"\n",
    "        Args:\n",
    "            input: tensor, [batch_size, classes_num, height, width]\n",
    "            target: tensor, [batch_size, classes_num, height, width]\n",
    "        \"\"\"\n",
    "        loss = 0\n",
    "        for class_index in range(self.classes_num):\n",
    "            input_single_class = input[:, class_index, :, :]\n",
    "            target_singlt_class = target[:, class_index, :, :]\n",
    "            single_class_loss = self.soft_bce_dice_loss(input_single_class, target_singlt_class)\n",
    "            loss += single_class_loss\n",
    "        \n",
    "        loss /= self.classes_num\n",
    "\n",
    "        return loss"
   ]
  },
  {
   "cell_type": "code",
   "execution_count": 42,
   "metadata": {},
   "outputs": [
    {
     "data": {
      "text/plain": [
       "tensor(0.7709, grad_fn=<DivBackward0>)"
      ]
     },
     "execution_count": 42,
     "metadata": {},
     "output_type": "execute_result"
    }
   ],
   "source": [
    "loss = MultiClassesSoftBCEDiceLoss()\n",
    "loss(t_logits, t_targs)"
   ]
  },
  {
   "cell_type": "code",
   "execution_count": 49,
   "metadata": {},
   "outputs": [],
   "source": [
    "#export\n",
    "class IoULoss(nn.Module):\n",
    "    \"\"\"\n",
    "    Intersection over union (Jaccard) loss\n",
    "    Args:\n",
    "        eps (float): epsilon to avoid zero division\n",
    "        threshold (float): threshold for outputs binarization\n",
    "        activation (str): An torch.nn activation applied to the outputs.\n",
    "            Must be one of ['none', 'Sigmoid', 'Softmax2d']\n",
    "    \"\"\"\n",
    "\n",
    "    def __init__(\n",
    "        self,\n",
    "        eps: float = 1e-7,\n",
    "        threshold: float = None\n",
    "    ):\n",
    "        super().__init__()\n",
    "        self.metric_fn = partial(iou, eps=eps, threshold=threshold)\n",
    "\n",
    "    def forward(self, outputs, targets):\n",
    "        iou = self.metric_fn(outputs, targets)\n",
    "        return 1 - iou"
   ]
  },
  {
   "cell_type": "code",
   "execution_count": 50,
   "metadata": {},
   "outputs": [
    {
     "data": {
      "text/plain": [
       "tensor(0.9924, grad_fn=<RsubBackward1>)"
      ]
     },
     "execution_count": 50,
     "metadata": {},
     "output_type": "execute_result"
    }
   ],
   "source": [
    "loss = IoULoss()\n",
    "loss(t_logits, t_targs)"
   ]
  },
  {
   "cell_type": "code",
   "execution_count": null,
   "metadata": {},
   "outputs": [
    {
     "name": "stdout",
     "output_type": "stream",
     "text": [
      "Converted 01_metadata.ipynb.\n",
      "Converted 02_masks.ipynb.\n",
      "Converted 03_datasets.ipynb.\n",
      "Converted 04_dataloaders.ipynb.\n",
      "Converted 05_metrics.ipynb.\n",
      "Converted 06_trainer.ipynb.\n",
      "Converted 07_predict.ipynb.\n",
      "Converted 08_loss.ipynb.\n",
      "Converted index.ipynb.\n"
     ]
    }
   ],
   "source": [
    "# hide\n",
    "from nbdev.export import notebook2script\n",
    "notebook2script()"
   ]
  }
 ],
 "metadata": {
  "kernelspec": {
   "display_name": "Python 3",
   "language": "python",
   "name": "python3"
  },
  "language_info": {
   "codemirror_mode": {
    "name": "ipython",
    "version": 3
   },
   "file_extension": ".py",
   "mimetype": "text/x-python",
   "name": "python",
   "nbconvert_exporter": "python",
   "pygments_lexer": "ipython3",
   "version": "3.8.5"
  },
  "toc": {
   "base_numbering": 1,
   "nav_menu": {},
   "number_sections": true,
   "sideBar": true,
   "skip_h1_title": false,
   "title_cell": "Table of Contents",
   "title_sidebar": "Contents",
   "toc_cell": false,
   "toc_position": {},
   "toc_section_display": true,
   "toc_window_display": false
  },
  "varInspector": {
   "cols": {
    "lenName": 16,
    "lenType": 16,
    "lenVar": 40
   },
   "kernels_config": {
    "python": {
     "delete_cmd_postfix": "",
     "delete_cmd_prefix": "del ",
     "library": "var_list.py",
     "varRefreshCmd": "print(var_dic_list())"
    },
    "r": {
     "delete_cmd_postfix": ") ",
     "delete_cmd_prefix": "rm(",
     "library": "var_list.r",
     "varRefreshCmd": "cat(var_dic_list()) "
    }
   },
   "types_to_exclude": [
    "module",
    "function",
    "builtin_function_or_method",
    "instance",
    "_Feature"
   ],
   "window_display": false
  }
 },
 "nbformat": 4,
 "nbformat_minor": 4
}
