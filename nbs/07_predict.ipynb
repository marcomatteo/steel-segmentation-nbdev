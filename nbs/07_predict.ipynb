{
 "cells": [
  {
   "cell_type": "code",
   "execution_count": null,
   "metadata": {},
   "outputs": [],
   "source": [
    "# default_exp predict"
   ]
  },
  {
   "cell_type": "markdown",
   "metadata": {},
   "source": [
    "# Predict\n",
    "\n",
    "> Prediction and export outputs."
   ]
  },
  {
   "cell_type": "code",
   "execution_count": null,
   "metadata": {},
   "outputs": [],
   "source": [
    "# hide\n",
    "%load_ext autoreload\n",
    "%autoreload 2\n",
    "%matplotlib inline"
   ]
  },
  {
   "cell_type": "code",
   "execution_count": null,
   "metadata": {},
   "outputs": [],
   "source": [
    "# hide\n",
    "from nbdev.showdoc import *"
   ]
  },
  {
   "cell_type": "code",
   "execution_count": null,
   "metadata": {},
   "outputs": [],
   "source": [
    "# export\n",
    "from steel_segmentation.metadata import *\n",
    "from steel_segmentation.masks import *\n",
    "from steel_segmentation.datasets import *\n",
    "from steel_segmentation.dataloaders import *\n",
    "from steel_segmentation.metrics import *\n",
    "from steel_segmentation.trainer import *\n",
    "\n",
    "import fastai\n",
    "from fastai.vision.all import *\n",
    "from fastai.metrics import *\n",
    "from fastai.data.all import *\n",
    "\n",
    "import os\n",
    "import cv2\n",
    "import pathlib\n",
    "import numpy as np\n",
    "import pandas as pd\n",
    "import warnings\n",
    "import zipfile\n",
    "from tqdm import tqdm\n",
    "\n",
    "from torch.utils.data import DataLoader, Dataset, sampler\n",
    "import albumentations as alb\n",
    "\n",
    "import segmentation_models_pytorch as smp\n",
    "\n",
    "warnings.filterwarnings(\"ignore\")\n",
    "\n",
    "pred_path = path / \"predictions\"\n",
    "sub_path = path / \"submissions\"\n",
    "pred_path.mkdir(parents=True, exist_ok=True)\n",
    "sub_path.mkdir(parents=True, exist_ok=True)"
   ]
  },
  {
   "cell_type": "code",
   "execution_count": null,
   "metadata": {},
   "outputs": [],
   "source": [
    "# hide\n",
    "only_imgs = [\"0a1cade03.jpg\", \"bca4ae758.jpg\", \"988cf521f.jpg\", \"b6a257b28.jpg\",\n",
    "             \"b2ad335bf.jpg\", \"72aaba8ad.jpg\", \"f383950e8.jpg\"]\n",
    "train = train[train[\"ImageId\"].isin(only_imgs)].copy()\n",
    "train_all = train_all[train_all[\"ImageId\"].isin(only_imgs)].copy()\n",
    "train_multi = train_multi[train_multi[\"ImageId\"].isin(only_imgs)].copy()"
   ]
  },
  {
   "cell_type": "code",
   "execution_count": null,
   "metadata": {},
   "outputs": [
    {
     "name": "stdout",
     "output_type": "stream",
     "text": [
      "../models/kaggle-FPN-ResNet34-finetuning.pth\n",
      "../models/ResNet18-Unet-kaggle.pth\n",
      "../models/.ipynb_checkpoints\n",
      "../models/ResNet18-Classifier-kaggle.pth\n",
      "../models/kaggle-FPN-ResNet34.pth\n",
      "../models/ResNet34-Unet-256-stage5.pth\n",
      "../models/ResNet34-Unet-256-stage3.pth\n"
     ]
    }
   ],
   "source": [
    "# missing\n",
    "print_competition_data(models_dir)"
   ]
  },
  {
   "cell_type": "markdown",
   "metadata": {},
   "source": [
    "## Fast.ai prediction"
   ]
  },
  {
   "cell_type": "code",
   "execution_count": null,
   "metadata": {},
   "outputs": [],
   "source": [
    "arch = resnet34\n",
    "bs = 4 \n",
    "dls = get_segmentation_dls_from_df(train_df=train_multi, bs=bs, size=(256, 1600))\n",
    "segmentation_learner = unet_learner(dls=dls, arch=arch, metrics=seg_metrics, pretrained=True)\n",
    "segmentation_learner.model_dir = models_dir"
   ]
  },
  {
   "cell_type": "code",
   "execution_count": null,
   "metadata": {},
   "outputs": [],
   "source": [
    "# missing\n",
    "segmentation_learner = segmentation_learner.load(\"ResNet34-Unet-256-stage3\")"
   ]
  },
  {
   "cell_type": "code",
   "execution_count": null,
   "metadata": {},
   "outputs": [],
   "source": [
    "# export\n",
    "class FastPredict:\n",
    "    pred_mask_path = pred_path / \"prediction_masks\"\n",
    "    \n",
    "    def get_df_source_list(self):\n",
    "        \"\"\"Load `source` if it's a DataFrame instance.\"\"\"\n",
    "        tfm = ColReader(\"ImageId\", pref=self.source_path)\n",
    "        return L([tfm(o) for o in self.source.itertuples()])\n",
    "        \n",
    "    def get_path_source_list(self):\n",
    "        \"\"\"Load `source` if it's a pathlib.Path instance.\"\"\"\n",
    "        return get_image_files(self.source)\n",
    "    \n",
    "    def __init__(self, \n",
    "                 source, \n",
    "                 learner,\n",
    "                 source_path:pathlib.Path=None):\n",
    "        \"\"\"\n",
    "        A FastPredict object has:\n",
    "        - source: key to load a list of images\n",
    "        - learner: a fastai Learner object\n",
    "        - source_path: the folder path to the images \n",
    "        \"\"\"\n",
    "        self.source = source \n",
    "        self.learner = learner\n",
    "        self.source_path = source_path if source_path else train_path\n",
    "        \n",
    "        self.single_prediction = False\n",
    "        \n",
    "        if isinstance(self.source, pathlib.Path):\n",
    "            self.img_paths = self.get_path_source_list()\n",
    "        elif isinstance(self.source, pd.DataFrame):\n",
    "            self.img_paths = self.get_df_source_list()\n",
    "        elif isinstance(self.source, list):\n",
    "            self.img_paths = self.source\n",
    "        elif isinstance(self.source, str):\n",
    "            self.single_prediction = True\n",
    "            self.img_paths = L(self.source_path / self.source)\n",
    "\n",
    "        self.elems = len(self.img_paths)\n",
    "    \n",
    "    def __call__(self, size_fold:int, threshold:float, min_size:int):\n",
    "        \"\"\"Call the object with prediction attributes, \n",
    "        it calls `Predict.get_predictions`\n",
    "        and returns the `Predict.df` DataFrame with RLEs.\"\"\"\n",
    "        self.size_fold = min([self.elems, size_fold])\n",
    "        self.threshold = threshold\n",
    "        self.min_size = min_size\n",
    "        self.folds = self.elems // self.size_fold\n",
    "        \n",
    "        if (self.elems % self.size_fold) != 0:\n",
    "            self.folds += 1\n",
    "            \n",
    "        self.df = self.get_predictions()\n",
    "        return self.df\n",
    "    \n",
    "    def get_predictions(self):\n",
    "        \"\"\"Iterate through `Predict.folds`, predict the mask and\n",
    "        get the RLEs in a DataFrame.\"\"\"\n",
    "        df_preds = []\n",
    "        \n",
    "        for fold in range(self.folds):\n",
    "            start, end = fold*self.size_fold, (fold+1)*self.size_fold\n",
    "            print(f\"From {start} to {end} of {self.elems}\")\n",
    "            \n",
    "            selected_imgs = self.img_paths[start:end]\n",
    "            \n",
    "            img_names = selected_imgs.map(Path).map(lambda x: x.name)\n",
    "            pred_probs = self.predict(selected_imgs)            \n",
    "            \n",
    "            tmp_df = self.get_RLEs(img_names, pred_probs)\n",
    "            df_preds.append(tmp_df)\n",
    "\n",
    "            torch.cuda.empty_cache()\n",
    "        \n",
    "        if len(df_preds) == 1:\n",
    "            return df_preds[0]\n",
    "        \n",
    "        df = pd.concat(df_preds, axis=0, ignore_index=True)\n",
    "        return df.fillna(\"\")\n",
    "    \n",
    "    def predict(self, selected_imgs):\n",
    "        \"\"\"Get the predictions on the `selected_imgs`.\"\"\"\n",
    "        if self.single_prediction:\n",
    "            pred_full_dec, pred_dec, out = self.learner.predict(selected_imgs[0])\n",
    "            return out.unsqueeze(dim=0)\n",
    "            \n",
    "        test_dl = self.learner.dls.test_dl(test_items=selected_imgs)\n",
    "        pred_probs,_,_ = self.learner.get_preds(dl=test_dl, with_decoded=True)\n",
    "        \n",
    "        return pred_probs\n",
    "    \n",
    "    def get_RLEs(self, img_names, pred_probs):\n",
    "        \"\"\"For each image in the batch to predict, \n",
    "        returns a list of tuples with `(img_id, rle)`.\"\"\"\n",
    "        predictions = []\n",
    "        \n",
    "        for num_pred, t_pred in enumerate(pred_probs): # img in bs\n",
    "            np_pred = t_pred.numpy()\n",
    "\n",
    "            # iterate through class_id without class_id 0\n",
    "            for class_id, prob in enumerate(np_pred[1:]): \n",
    "                pred, num = self.post_process(prob)\n",
    "                rle = mask2rle(pred)\n",
    "                name = img_names[num_pred] + f\"_{class_id+1}\"\n",
    "                predictions.append([name, rle])\n",
    "        \n",
    "        return pd.DataFrame(predictions, columns=['ImageId_ClassId', 'EncodedPixels'])\n",
    "    \n",
    "    def post_process(self, probability):\n",
    "        \"\"\"\n",
    "        Post processing of each predicted mask, components with lesser number of pixels\n",
    "        than `min_size` are ignored.\n",
    "        \"\"\"\n",
    "        mask = cv2.threshold(probability, self.threshold, 1, cv2.THRESH_BINARY)[1]\n",
    "        num_component, component = cv2.connectedComponents(mask.astype(np.uint8))\n",
    "        predictions = np.zeros((256, 1600), np.float32)\n",
    "        num = 0\n",
    "        for c in range(1, num_component):\n",
    "            p = (component == c)\n",
    "            if p.sum() > self.min_size:\n",
    "                predictions[p] = 1\n",
    "                num += 1\n",
    "        return predictions, num\n",
    "    \n",
    "    def save_masks(self, df_export_fname=None, make_zip=True):\n",
    "        \"\"\"\n",
    "        If `df_export_fname` save predicted masks in \n",
    "        `pred_path / df_export_fname` in CSV and the JSON.\n",
    "        Otherwise the file are named \"predictions.csv\" and \"predictions.json\".\n",
    "        Saving the zip of the masks if `make_zip`.\n",
    "        \n",
    "        Run this method after __call__.\n",
    "        \"\"\"\n",
    "        if not hasattr(self, 'df'):\n",
    "            print(\"Predictions missing. Call the Prediction object first!\")\n",
    "            raise KeyError(\"Missing self.df, first run self.__call__ to get predictions\")\n",
    "        \n",
    "        self.df_masks = self.make_masks()\n",
    "        \n",
    "        if not df_export_fname:\n",
    "            df_export_fname = \"predictions\"\n",
    "            \n",
    "        csv_name = pred_path/(df_export_fname + \".csv\")\n",
    "        json_name = pred_path/(df_export_fname + \".json\")\n",
    "        self.df_masks.to_csv(csv_name, index=False)\n",
    "        self.df_masks.to_json(json_name, orient=\"table\", indent=4)\n",
    "        \n",
    "        if make_zip:\n",
    "            zip_fname = df_export_fname + \".zip\"\n",
    "            with zipfile.ZipFile(pred_path/zip_fname, 'w', zipfile.ZIP_DEFLATED) as zipf:\n",
    "                self.zipdir(zipf)\n",
    "            \n",
    "    def make_masks(self):\n",
    "        \"\"\"\n",
    "        Iterate through the RLEs in `Predict.df` and save the masks.\n",
    "        Returns the `Predict.df_masks` DataFrame (if not `json`) with\n",
    "        `columns=['ImageId', 'ClassId', 'Mask_path']`.\n",
    "        \"\"\"\n",
    "        self.pred_mask_path.mkdir(parents=True, exist_ok=True)\n",
    "\n",
    "        rows = []\n",
    "        for row in self.df.itertuples():\n",
    "            if row.EncodedPixels != '':\n",
    "                img_id, class_id = row.ImageId_ClassId.split(\"_\")\n",
    "                img_id = img_id.split(\".\")[0]\n",
    "                img_label = img_id + \"_pred.png\"\n",
    "                img_path = self.pred_mask_path / img_label\n",
    "\n",
    "                mask = rle2mask(row.EncodedPixels, 1, (256, 1600))\n",
    "                im = Image.fromarray(mask)\n",
    "                im.save(img_path)\n",
    "\n",
    "                rows.append((img_id + \".jpg\", class_id, img_label))\n",
    "        \n",
    "        return pd.DataFrame(rows, columns=['ImageId', 'ClassId', 'Mask_path'])\n",
    "    \n",
    "    def zipdir(self, ziph:zipfile.ZipFile, pfolder=None):\n",
    "        \"\"\"Zip the current `self.pred_mask_path` directory,\n",
    "        otherwise zip the `path` dir if provided.\"\"\"\n",
    "        if not pfolder:\n",
    "            pfolder = self.pred_mask_path\n",
    "\n",
    "        if not isinstance(pfolder, pathlib.Path):\n",
    "            pfolder = Path(pfolder)\n",
    "\n",
    "        for root,dirs,files in os.walk(pfolder):\n",
    "            root = Path(root)\n",
    "            for file in files:\n",
    "                fname = root / file\n",
    "                ziph.write(filename=fname,\n",
    "                           arcname =os.path.relpath(fname,fname.parent))\n",
    "                \n",
    "    def save_submission(self, fname=\"test_submission\"):\n",
    "        \"\"\"Save submission file in CSV in `sub_path`. \n",
    "        It adds always .csv at the end of `fname`.\"\"\"\n",
    "        if not hasattr(self, 'df'):\n",
    "            raise KeyError(\"Call the object first to get the predictions\")\n",
    "        \n",
    "        file_path = sub_path / (fname + '.csv')\n",
    "        self.df.to_csv(file_path, index=False)\n",
    "    \n",
    "#    def plot(self, n:int=5, rand=False):\n",
    "#        \"\"\"Plot `n` elements in `self.img_paths`. \n",
    "#        If `rand` prints shuffle images.\"\"\"\n",
    "#        if (not hasattr(self, 'df_masks'))|(not hasattr(self, 'df')):\n",
    "#            return \"Nothing to plot, first call make_masks\"\n",
    "\n",
    "#        path_list = self.img_paths.map(Path)\n",
    "        \n",
    "#        if rand:\n",
    "            #path_list = get_perm_imgs_path(self.img_paths.map(Path), self.df_masks)   \n",
    "#            path_list = path_list.shuffle()\n",
    "            \n",
    "#        df = self.df.copy()\n",
    "#        splitted_cols = df[\"ImageId_ClassId\"].str.split(\"_\", expand=True)\n",
    "#        df[\"ImageId\"], df[\"ClassId\"] = splitted_cols[0], splitted_cols[1].astype(\"int64\")\n",
    "        \n",
    "#        for p in path_list[:n]:\n",
    "#            imgid, mask = make_mask(p, flatten=True, df=df)\n",
    "#            img = cv2.imread(str(p))\n",
    "#            plot_mask_image(imgid, img, mask)"
   ]
  },
  {
   "cell_type": "markdown",
   "metadata": {},
   "source": [
    "The `Predict` class needs a `source` and a `source_path` when `source` is:\n",
    "- a `str` for the `ImageId` of a single image\n",
    "- a dataframe with the `ImageId` column.\n",
    "\n",
    "Otherwise `source` can be a list (`L`) of paths or a single `Path` object.\n",
    "\n",
    "How to use:\n",
    "1. Setup the `Predict` class: create an instance with `pred = Predict(*args)`.\n",
    "2. Call the object (e.g. `pred`) with the parameters: `size_fold` is the number of elements to infer toghether, `threshold` is the threshold for the probabilities from the activation function, `min_size` needs to ignore components in the predicted masks with few number of pixels (to reduce the false positive rate).\n",
    "3. Get the predictions `DataFrame` with the `ImageId_ClassId` and the `EncodedPixels` columns."
   ]
  },
  {
   "cell_type": "code",
   "execution_count": null,
   "metadata": {},
   "outputs": [
    {
     "name": "stdout",
     "output_type": "stream",
     "text": [
      "(5, 2)\n"
     ]
    }
   ],
   "source": [
    "df_tmp = segmentation_learner.dls.valid.items.iloc[:5]\n",
    "print(df_tmp.shape)\n",
    "\n",
    "pred = FastPredict(df_tmp, segmentation_learner) # with a pd.DataFrame source"
   ]
  },
  {
   "cell_type": "code",
   "execution_count": null,
   "metadata": {},
   "outputs": [
    {
     "data": {
      "text/markdown": [
       "<h4 id=\"FastPredict.__call__\" class=\"doc_header\"><code>FastPredict.__call__</code><a href=\"__main__.py#L36\" class=\"source_link\" style=\"float:right\">[source]</a></h4>\n",
       "\n",
       "> <code>FastPredict.__call__</code>(**`size_fold`**:`int`, **`threshold`**:`float`, **`min_size`**:`int`)\n",
       "\n",
       "Call the object with prediction attributes, \n",
       "it calls [`Predict.get_predictions`](/steel_segmentation/predict.html#Predict.get_predictions)\n",
       "and returns the [`Predict.df`](/steel_segmentation/predict.html#Predict.df) DataFrame with RLEs."
      ],
      "text/plain": [
       "<IPython.core.display.Markdown object>"
      ]
     },
     "metadata": {},
     "output_type": "display_data"
    }
   ],
   "source": [
    "show_doc(FastPredict.__call__)"
   ]
  },
  {
   "cell_type": "code",
   "execution_count": null,
   "metadata": {},
   "outputs": [],
   "source": [
    "size_fold = 100\n",
    "threshold = 0.5\n",
    "min_size = 3000"
   ]
  },
  {
   "cell_type": "code",
   "execution_count": null,
   "metadata": {},
   "outputs": [],
   "source": [
    "df_pred = pred(size_fold, threshold, min_size)\n",
    "print(df_pred.shape)\n",
    "df_pred.head()"
   ]
  },
  {
   "cell_type": "code",
   "execution_count": null,
   "metadata": {},
   "outputs": [
    {
     "name": "stdout",
     "output_type": "stream",
     "text": [
      "(1, 4)\n",
      "From 0 to 1 of 1\n"
     ]
    },
    {
     "data": {
      "text/html": [],
      "text/plain": [
       "<IPython.core.display.HTML object>"
      ]
     },
     "metadata": {},
     "output_type": "display_data"
    },
    {
     "data": {
      "text/html": [
       "<div>\n",
       "<style scoped>\n",
       "    .dataframe tbody tr th:only-of-type {\n",
       "        vertical-align: middle;\n",
       "    }\n",
       "\n",
       "    .dataframe tbody tr th {\n",
       "        vertical-align: top;\n",
       "    }\n",
       "\n",
       "    .dataframe thead th {\n",
       "        text-align: right;\n",
       "    }\n",
       "</style>\n",
       "<table border=\"1\" class=\"dataframe\">\n",
       "  <thead>\n",
       "    <tr style=\"text-align: right;\">\n",
       "      <th></th>\n",
       "      <th>ImageId_ClassId</th>\n",
       "      <th>EncodedPixels</th>\n",
       "    </tr>\n",
       "  </thead>\n",
       "  <tbody>\n",
       "    <tr>\n",
       "      <th>0</th>\n",
       "      <td>0002cc93b.jpg_1</td>\n",
       "      <td>77411 11 77665 17 77918 20 78172 24 78427 26 78681 31 78937 30 79194 32 79229 1 79231 7 79239 1 79241 1 79271 1 79273 1 79275 1 79277 1 79279 1 79281 1 79283 1 79449 33 79485 1 79487 1 79489 9 79499 1 79519 1 79521 1 79523 1 79525 1 79527 1 79529 13 79543 1 79705 53 79759 1 79771 1 79773 31 79962 31 79996 1 79999 14 80015 1 80019 1 80021 1 80023 1 80025 35 80218 31 80255 3 80259 11 80271 48 80474 31 80513 13 80527 1 80529 1 80531 1 80533 43 80730 32 80767 67 80987 30 81024 1 81027 2 81030 3 81034 1 81036 1 81040 1 81043 46 81243 30 81279 15 81295 2 81299 47 81499 29 81538 1 81540 1 81542 1...</td>\n",
       "    </tr>\n",
       "    <tr>\n",
       "      <th>1</th>\n",
       "      <td>0002cc93b.jpg_2</td>\n",
       "      <td></td>\n",
       "    </tr>\n",
       "    <tr>\n",
       "      <th>2</th>\n",
       "      <td>0002cc93b.jpg_3</td>\n",
       "      <td></td>\n",
       "    </tr>\n",
       "    <tr>\n",
       "      <th>3</th>\n",
       "      <td>0002cc93b.jpg_4</td>\n",
       "      <td></td>\n",
       "    </tr>\n",
       "  </tbody>\n",
       "</table>\n",
       "</div>"
      ],
      "text/plain": [
       "   ImageId_ClassId  \\\n",
       "0  0002cc93b.jpg_1   \n",
       "1  0002cc93b.jpg_2   \n",
       "2  0002cc93b.jpg_3   \n",
       "3  0002cc93b.jpg_4   \n",
       "\n",
       "                                                                                                                                                                                                                                                                                                                                                                                                                                                                                                                                                                                                             EncodedPixels  \n",
       "0  77411 11 77665 17 77918 20 78172 24 78427 26 78681 31 78937 30 79194 32 79229 1 79231 7 79239 1 79241 1 79271 1 79273 1 79275 1 79277 1 79279 1 79281 1 79283 1 79449 33 79485 1 79487 1 79489 9 79499 1 79519 1 79521 1 79523 1 79525 1 79527 1 79529 13 79543 1 79705 53 79759 1 79771 1 79773 31 79962 31 79996 1 79999 14 80015 1 80019 1 80021 1 80023 1 80025 35 80218 31 80255 3 80259 11 80271 48 80474 31 80513 13 80527 1 80529 1 80531 1 80533 43 80730 32 80767 67 80987 30 81024 1 81027 2 81030 3 81034 1 81036 1 81040 1 81043 46 81243 30 81279 15 81295 2 81299 47 81499 29 81538 1 81540 1 81542 1...  \n",
       "1                                                                                                                                                                                                                                                                                                                                                                                                                                                                                                                                                                                                                           \n",
       "2                                                                                                                                                                                                                                                                                                                                                                                                                                                                                                                                                                                                                           \n",
       "3                                                                                                                                                                                                                                                                                                                                                                                                                                                                                                                                                                                                                           "
      ]
     },
     "execution_count": null,
     "metadata": {},
     "output_type": "execute_result"
    }
   ],
   "source": [
    "df_tmp = train.iloc[0].to_frame().T # one element\n",
    "print(df_tmp.shape)\n",
    "\n",
    "pred = FastPredict(df_tmp, segmentation_learner)\n",
    "\n",
    "df_pred = pred(size_fold, threshold, min_size)\n",
    "df_pred"
   ]
  },
  {
   "cell_type": "code",
   "execution_count": null,
   "metadata": {},
   "outputs": [
    {
     "name": "stdout",
     "output_type": "stream",
     "text": [
      "From 0 to 1 of 1\n"
     ]
    },
    {
     "data": {
      "text/html": [],
      "text/plain": [
       "<IPython.core.display.HTML object>"
      ]
     },
     "metadata": {},
     "output_type": "display_data"
    },
    {
     "data": {
      "text/html": [
       "<div>\n",
       "<style scoped>\n",
       "    .dataframe tbody tr th:only-of-type {\n",
       "        vertical-align: middle;\n",
       "    }\n",
       "\n",
       "    .dataframe tbody tr th {\n",
       "        vertical-align: top;\n",
       "    }\n",
       "\n",
       "    .dataframe thead th {\n",
       "        text-align: right;\n",
       "    }\n",
       "</style>\n",
       "<table border=\"1\" class=\"dataframe\">\n",
       "  <thead>\n",
       "    <tr style=\"text-align: right;\">\n",
       "      <th></th>\n",
       "      <th>ImageId_ClassId</th>\n",
       "      <th>EncodedPixels</th>\n",
       "    </tr>\n",
       "  </thead>\n",
       "  <tbody>\n",
       "    <tr>\n",
       "      <th>0</th>\n",
       "      <td>f383950e8.jpg_1</td>\n",
       "      <td></td>\n",
       "    </tr>\n",
       "    <tr>\n",
       "      <th>1</th>\n",
       "      <td>f383950e8.jpg_2</td>\n",
       "      <td></td>\n",
       "    </tr>\n",
       "    <tr>\n",
       "      <th>2</th>\n",
       "      <td>f383950e8.jpg_3</td>\n",
       "      <td>69000 11 69012 1 69191 7 69239 3 69243 35 69279 1 69440 19 69464 78 69696 20 69719 79 69952 22 69975 80 70207 106 70463 110 70717 110 70973 110 71229 114 71485 114 71739 114 71995 114 72249 116 72505 115 72757 1 72759 44 72807 68 73011 1 73013 46 73064 66 73265 50 73321 64 73521 50 73577 64 73776 51 73833 62 74032 52 74089 62 74288 119 74543 120 74800 117 75056 117 75311 118 75567 118 75823 118 76079 118 76335 118 76590 119 76846 119 77102 119 77358 118 77614 118 77870 117 78126 117 78381 117 78637 116 78893 116 79149 115 79405 112 79661 111 79917 104 80173 103 80429 73 80503 26 80685 71 8...</td>\n",
       "    </tr>\n",
       "    <tr>\n",
       "      <th>3</th>\n",
       "      <td>f383950e8.jpg_4</td>\n",
       "      <td>314091 20 314344 24 314592 33 314847 34 315093 44 315348 45 315595 54 315847 58 316099 62 316353 64 316604 69 316859 70 317113 72 317367 74 317615 2 317618 79 317871 82 318119 90 318374 91 318622 99 318878 99 319118 115 319374 115 319620 125 319875 126 320129 128 320383 130 320635 134 320891 134 321144 1 321146 135 321399 138 321652 141 321907 142 322159 146 322415 146 322667 150 322923 150 323172 1 323174 155 323428 157 323680 161 323935 162 324184 1 324186 167 324440 169 324692 173 324947 174 325199 178 325455 178 325708 181 325963 182 326216 185 326471 186 326723 190 326979 190 327231 1...</td>\n",
       "    </tr>\n",
       "  </tbody>\n",
       "</table>\n",
       "</div>"
      ],
      "text/plain": [
       "   ImageId_ClassId  \\\n",
       "0  f383950e8.jpg_1   \n",
       "1  f383950e8.jpg_2   \n",
       "2  f383950e8.jpg_3   \n",
       "3  f383950e8.jpg_4   \n",
       "\n",
       "                                                                                                                                                                                                                                                                                                                                                                                                                                                                                                                                                                                                             EncodedPixels  \n",
       "0                                                                                                                                                                                                                                                                                                                                                                                                                                                                                                                                                                                                                           \n",
       "1                                                                                                                                                                                                                                                                                                                                                                                                                                                                                                                                                                                                                           \n",
       "2  69000 11 69012 1 69191 7 69239 3 69243 35 69279 1 69440 19 69464 78 69696 20 69719 79 69952 22 69975 80 70207 106 70463 110 70717 110 70973 110 71229 114 71485 114 71739 114 71995 114 72249 116 72505 115 72757 1 72759 44 72807 68 73011 1 73013 46 73064 66 73265 50 73321 64 73521 50 73577 64 73776 51 73833 62 74032 52 74089 62 74288 119 74543 120 74800 117 75056 117 75311 118 75567 118 75823 118 76079 118 76335 118 76590 119 76846 119 77102 119 77358 118 77614 118 77870 117 78126 117 78381 117 78637 116 78893 116 79149 115 79405 112 79661 111 79917 104 80173 103 80429 73 80503 26 80685 71 8...  \n",
       "3  314091 20 314344 24 314592 33 314847 34 315093 44 315348 45 315595 54 315847 58 316099 62 316353 64 316604 69 316859 70 317113 72 317367 74 317615 2 317618 79 317871 82 318119 90 318374 91 318622 99 318878 99 319118 115 319374 115 319620 125 319875 126 320129 128 320383 130 320635 134 320891 134 321144 1 321146 135 321399 138 321652 141 321907 142 322159 146 322415 146 322667 150 322923 150 323172 1 323174 155 323428 157 323680 161 323935 162 324184 1 324186 167 324440 169 324692 173 324947 174 325199 178 325455 178 325708 181 325963 182 326216 185 326471 186 326723 190 326979 190 327231 1...  "
      ]
     },
     "execution_count": null,
     "metadata": {},
     "output_type": "execute_result"
    }
   ],
   "source": [
    "source = \"f383950e8.jpg\"\n",
    "pred = FastPredict(source, segmentation_learner) # with str source\n",
    "df_pred = pred(size_fold, threshold, min_size)\n",
    "df_pred"
   ]
  },
  {
   "cell_type": "code",
   "execution_count": null,
   "metadata": {},
   "outputs": [
    {
     "data": {
      "text/markdown": [
       "<h4 id=\"FastPredict.make_masks\" class=\"doc_header\"><code>FastPredict.make_masks</code><a href=\"__main__.py#L154\" class=\"source_link\" style=\"float:right\">[source]</a></h4>\n",
       "\n",
       "> <code>FastPredict.make_masks</code>()\n",
       "\n",
       "Iterate through the RLEs in [`Predict.df`](/steel_segmentation/predict.html#Predict.df) and save the masks.\n",
       "Returns the [`Predict.df_masks`](/steel_segmentation/predict.html#Predict.df_masks) DataFrame (if not `json`) with\n",
       "`columns=['ImageId', 'ClassId', 'Mask_path']`."
      ],
      "text/plain": [
       "<IPython.core.display.Markdown object>"
      ]
     },
     "metadata": {},
     "output_type": "display_data"
    }
   ],
   "source": [
    "show_doc(FastPredict.make_masks)"
   ]
  },
  {
   "cell_type": "code",
   "execution_count": null,
   "metadata": {},
   "outputs": [
    {
     "data": {
      "text/html": [
       "<div>\n",
       "<style scoped>\n",
       "    .dataframe tbody tr th:only-of-type {\n",
       "        vertical-align: middle;\n",
       "    }\n",
       "\n",
       "    .dataframe tbody tr th {\n",
       "        vertical-align: top;\n",
       "    }\n",
       "\n",
       "    .dataframe thead th {\n",
       "        text-align: right;\n",
       "    }\n",
       "</style>\n",
       "<table border=\"1\" class=\"dataframe\">\n",
       "  <thead>\n",
       "    <tr style=\"text-align: right;\">\n",
       "      <th></th>\n",
       "      <th>ImageId</th>\n",
       "      <th>ClassId</th>\n",
       "      <th>Mask_path</th>\n",
       "    </tr>\n",
       "  </thead>\n",
       "  <tbody>\n",
       "    <tr>\n",
       "      <th>0</th>\n",
       "      <td>f383950e8.jpg</td>\n",
       "      <td>3</td>\n",
       "      <td>f383950e8_pred.png</td>\n",
       "    </tr>\n",
       "    <tr>\n",
       "      <th>1</th>\n",
       "      <td>f383950e8.jpg</td>\n",
       "      <td>4</td>\n",
       "      <td>f383950e8_pred.png</td>\n",
       "    </tr>\n",
       "  </tbody>\n",
       "</table>\n",
       "</div>"
      ],
      "text/plain": [
       "         ImageId ClassId           Mask_path\n",
       "0  f383950e8.jpg       3  f383950e8_pred.png\n",
       "1  f383950e8.jpg       4  f383950e8_pred.png"
      ]
     },
     "execution_count": null,
     "metadata": {},
     "output_type": "execute_result"
    }
   ],
   "source": [
    "pred.make_masks()"
   ]
  },
  {
   "cell_type": "code",
   "execution_count": null,
   "metadata": {},
   "outputs": [
    {
     "data": {
      "text/markdown": [
       "<h4 id=\"FastPredict.save_masks\" class=\"doc_header\"><code>FastPredict.save_masks</code><a href=\"__main__.py#L126\" class=\"source_link\" style=\"float:right\">[source]</a></h4>\n",
       "\n",
       "> <code>FastPredict.save_masks</code>(**`df_export_fname`**=*`None`*, **`make_zip`**=*`True`*)\n",
       "\n",
       "If `df_export_fname` save predicted masks in \n",
       "`pred_path / df_export_fname` in CSV and the JSON.\n",
       "Otherwise the file are named \"predictions.csv\" and \"predictions.json\".\n",
       "Saving the zip of the masks if `make_zip`.\n",
       "\n",
       "Run this method after __call__."
      ],
      "text/plain": [
       "<IPython.core.display.Markdown object>"
      ]
     },
     "metadata": {},
     "output_type": "display_data"
    }
   ],
   "source": [
    "show_doc(FastPredict.save_masks)"
   ]
  },
  {
   "cell_type": "code",
   "execution_count": null,
   "metadata": {},
   "outputs": [],
   "source": [
    "pred.save_masks()"
   ]
  },
  {
   "cell_type": "code",
   "execution_count": null,
   "metadata": {},
   "outputs": [
    {
     "data": {
      "text/plain": [
       "(#6) [Path('../data/predictions/prediction_masks'),Path('../data/predictions/predictions.csv'),Path('../data/predictions/validation_masks.json'),Path('../data/predictions/predictions.zip'),Path('../data/predictions/validation_masks.csv'),Path('../data/predictions/predictions.json')]"
      ]
     },
     "execution_count": null,
     "metadata": {},
     "output_type": "execute_result"
    }
   ],
   "source": [
    "pred_path.ls()"
   ]
  },
  {
   "cell_type": "code",
   "execution_count": null,
   "metadata": {},
   "outputs": [
    {
     "data": {
      "text/markdown": [
       "<h4 id=\"FastPredict.save_submission\" class=\"doc_header\"><code>FastPredict.save_submission</code><a href=\"__main__.py#L194\" class=\"source_link\" style=\"float:right\">[source]</a></h4>\n",
       "\n",
       "> <code>FastPredict.save_submission</code>(**`fname`**=*`'test_submission'`*)\n",
       "\n",
       "Save submission file in CSV in [`sub_path`](/steel_segmentation/predict.html#sub_path). \n",
       "It adds always .csv at the end of `fname`."
      ],
      "text/plain": [
       "<IPython.core.display.Markdown object>"
      ]
     },
     "metadata": {},
     "output_type": "display_data"
    }
   ],
   "source": [
    "show_doc(FastPredict.save_submission)"
   ]
  },
  {
   "cell_type": "code",
   "execution_count": null,
   "metadata": {},
   "outputs": [],
   "source": [
    "pred.save_submission()"
   ]
  },
  {
   "cell_type": "code",
   "execution_count": null,
   "metadata": {},
   "outputs": [],
   "source": [
    "tmp_path = sub_path/\"test_submission.csv\"\n",
    "assert tmp_path.is_file()"
   ]
  },
  {
   "cell_type": "code",
   "execution_count": null,
   "metadata": {},
   "outputs": [],
   "source": [
    "#hide\n",
    "# show_doc(FastPredict.plot)"
   ]
  },
  {
   "cell_type": "code",
   "execution_count": null,
   "metadata": {},
   "outputs": [],
   "source": [
    "#hide\n",
    "#pred.plot(n=1, rand=False)"
   ]
  },
  {
   "cell_type": "markdown",
   "metadata": {},
   "source": [
    "## Pytorch prediction"
   ]
  },
  {
   "cell_type": "code",
   "execution_count": null,
   "metadata": {},
   "outputs": [],
   "source": [
    "# export\n",
    "class TestDataset(Dataset):\n",
    "    \"\"\"Dataset for test prediction\"\"\"\n",
    "\n",
    "    def __init__(self, root, df, mean, std):\n",
    "        \"\"\"\n",
    "        A TestDataset loads the images from the `root` folder\n",
    "        and the `ImageId`s from `df` with normalization params.\n",
    "        \"\"\"\n",
    "        self.root = root\n",
    "        self.fnames = df['ImageId'].unique().tolist()\n",
    "        self.num_samples = len(self.fnames)\n",
    "        self.transform = alb.Compose(\n",
    "            [\n",
    "                alb.Normalize(mean=mean, std=std, p=1),\n",
    "                alb.pytorch.ToTensor(),\n",
    "            ]\n",
    "        )\n",
    "\n",
    "    def __getitem__(self, idx):\n",
    "        fname = self.fnames[idx]\n",
    "        fpath = self.root / fname\n",
    "        image = cv2.imread(str(fpath))\n",
    "        image_tensor = self.transform(image=image)[\"image\"]\n",
    "        return fname, image_tensor\n",
    "\n",
    "    def __len__(self):\n",
    "        return self.num_samples"
   ]
  },
  {
   "cell_type": "code",
   "execution_count": null,
   "metadata": {},
   "outputs": [],
   "source": [
    "test_dataset = TestDataset(train_path, train_multi, *imagenet_stats)"
   ]
  },
  {
   "cell_type": "code",
   "execution_count": null,
   "metadata": {},
   "outputs": [
    {
     "name": "stderr",
     "output_type": "stream",
     "text": [
      "Clipping input data to the valid range for imshow with RGB data ([0..1] for floats or [0..255] for integers).\n"
     ]
    },
    {
     "name": "stdout",
     "output_type": "stream",
     "text": [
      "0002cc93b.jpg\n"
     ]
    },
    {
     "data": {
      "image/png": "[encoded data removed]",
      "text/plain": [
       "<Figure size 360x360 with 1 Axes>"
      ]
     },
     "metadata": {
      "needs_background": "light"
     },
     "output_type": "display_data"
    }
   ],
   "source": [
    "# missing\n",
    "img_name, img_tensor = test_dataset[0]\n",
    "print(img_name)\n",
    "show_image(img_tensor);"
   ]
  },
  {
   "cell_type": "code",
   "execution_count": null,
   "metadata": {},
   "outputs": [],
   "source": [
    "# export\n",
    "def get_test_dls(\n",
    "        root = None,\n",
    "        df = None,\n",
    "        best_threshold=0.5, \n",
    "        num_workers=2, \n",
    "        batch_size=4, \n",
    "        min_size=3500, \n",
    "        mean=None, std=None,\n",
    "        *args, **kwargs\n",
    "    ):\n",
    "    \"\"\"Returns dataloader for testing.\"\"\"\n",
    "    if not mean and not std: mean, std = imagenet_stats\n",
    "    if df is None: df = test_df\n",
    "    if not root: root = test_path\n",
    "    \n",
    "    return DataLoader(\n",
    "        TestDataset(root, df, mean, std),\n",
    "        batch_size=batch_size,\n",
    "        shuffle=False,\n",
    "        num_workers=num_workers,\n",
    "        pin_memory=True,\n",
    "        *args, **kwargs\n",
    "    )"
   ]
  },
  {
   "cell_type": "code",
   "execution_count": null,
   "metadata": {},
   "outputs": [],
   "source": [
    "# missing\n",
    "test_dls = get_test_dls()\n",
    "test_eq(len(test_dls), 1377)"
   ]
  },
  {
   "cell_type": "code",
   "execution_count": null,
   "metadata": {},
   "outputs": [
    {
     "data": {
      "text/plain": [
       "('0000f269f.jpg', torch.Size([3, 256, 1600]))"
      ]
     },
     "execution_count": null,
     "metadata": {},
     "output_type": "execute_result"
    }
   ],
   "source": [
    "# missing\n",
    "xb, yb = next(iter(test_dls))\n",
    "xb[0], yb[0].shape"
   ]
  },
  {
   "cell_type": "code",
   "execution_count": null,
   "metadata": {},
   "outputs": [],
   "source": [
    "# export\n",
    "class Predict:\n",
    "    def __init__(self, test_dl, model, device=\"cuda\"):\n",
    "        \"\"\"\n",
    "        `test_dl`: test Dataloader already loaded with `get_test_dls`\n",
    "        \"\"\"\n",
    "        self.test_dl = test_dl\n",
    "        self.source = self.test_dl.dataset.fnames\n",
    "        self.source_path = self.test_dl.dataset.root\n",
    "        self.img_paths = L([self.source_path / p for p in self.source])\n",
    "        self.elems = len(self.img_paths)\n",
    "\n",
    "        self.device = torch.device(device)\n",
    "        self.model = model.to(self.device)\n",
    "        \n",
    "        \n",
    "    def __call__(self, threshold:float, min_size:int):\n",
    "        \"\"\"\n",
    "        Call the object with prediction attributes, \n",
    "        it calls `Predict.get_predictions`\n",
    "        and returns the `Predict.df` DataFrame with RLEs.\n",
    "        \"\"\"\n",
    "        self.threshold = threshold\n",
    "        self.min_size = min_size      \n",
    "        self.df = self.get_predictions()\n",
    "        return self.df\n",
    "    \n",
    "    def get_predictions(self):\n",
    "        \"\"\"\n",
    "        Iterate through `test_dl`, predict the mask and\n",
    "        save the RLEs in a DataFrame.\n",
    "        Returns the DataFrame.\n",
    "        \"\"\"\n",
    "        df_preds = []\n",
    "        for i, batch in enumerate(tqdm(self.test_dl)):\n",
    "            fnames, images = batch\n",
    "            \n",
    "            batch_preds = torch.sigmoid(self.model(images.to(self.device)))\n",
    "            batch_preds = batch_preds.detach().cpu().numpy()\n",
    "            \n",
    "            for fname, preds in zip(fnames, batch_preds):\n",
    "                for cls, pred in enumerate(preds):\n",
    "                    pred, num = self.post_process(pred)\n",
    "                    rle = mask2rle(pred)\n",
    "                    name = fname + f\"_{cls+1}\"\n",
    "                    df_preds.append([name, rle])\n",
    "                    \n",
    "        return pd.DataFrame(df_preds, columns=['ImageId_ClassId', 'EncodedPixels'])\n",
    "    \n",
    "    def post_process(self, probability):\n",
    "        \"\"\"\n",
    "        Post processing of each predicted mask, components with lesser number of pixels\n",
    "        than `min_size` are ignored.\n",
    "        \"\"\"\n",
    "        mask = cv2.threshold(probability, self.threshold, 1, cv2.THRESH_BINARY)[1]\n",
    "        num_component, component = cv2.connectedComponents(mask.astype(np.uint8))\n",
    "        predictions = np.zeros((256, 1600), np.float32)\n",
    "        num = 0\n",
    "        for c in range(1, num_component):\n",
    "            p = (component == c)\n",
    "            if p.sum() > self.min_size:\n",
    "                predictions[p] = 1\n",
    "                num += 1\n",
    "        return predictions, num"
   ]
  },
  {
   "cell_type": "code",
   "execution_count": null,
   "metadata": {},
   "outputs": [
    {
     "data": {
      "text/plain": [
       "<All keys matched successfully>"
      ]
     },
     "execution_count": null,
     "metadata": {},
     "output_type": "execute_result"
    }
   ],
   "source": [
    "# missing\n",
    "ckpt_path = models_dir/\"kaggle-FPN-ResNet34.pth\"\n",
    "model = smp.FPN(\"resnet34\", encoder_weights='imagenet', classes=4, activation=None)\n",
    "model.eval()\n",
    "state = torch.load(ckpt_path, map_location=lambda storage, loc: storage)\n",
    "model.load_state_dict(state[\"state_dict\"])"
   ]
  },
  {
   "cell_type": "code",
   "execution_count": null,
   "metadata": {},
   "outputs": [],
   "source": [
    "# missing\n",
    "pred = Predict(test_dls, model)"
   ]
  },
  {
   "cell_type": "code",
   "execution_count": null,
   "metadata": {},
   "outputs": [],
   "source": [
    "size_fold = 100\n",
    "threshold = 0.5\n",
    "min_size = 3000"
   ]
  },
  {
   "cell_type": "code",
   "execution_count": null,
   "metadata": {},
   "outputs": [
    {
     "name": "stderr",
     "output_type": "stream",
     "text": [
      "100%|██████████| 1377/1377 [02:24<00:00,  9.56it/s]\n"
     ]
    }
   ],
   "source": [
    "# missing\n",
    "df_preds = pred(threshold, min_size)"
   ]
  },
  {
   "cell_type": "code",
   "execution_count": null,
   "metadata": {},
   "outputs": [
    {
     "data": {
      "text/html": [
       "<div>\n",
       "<style scoped>\n",
       "    .dataframe tbody tr th:only-of-type {\n",
       "        vertical-align: middle;\n",
       "    }\n",
       "\n",
       "    .dataframe tbody tr th {\n",
       "        vertical-align: top;\n",
       "    }\n",
       "\n",
       "    .dataframe thead th {\n",
       "        text-align: right;\n",
       "    }\n",
       "</style>\n",
       "<table border=\"1\" class=\"dataframe\">\n",
       "  <thead>\n",
       "    <tr style=\"text-align: right;\">\n",
       "      <th></th>\n",
       "      <th>ImageId_ClassId</th>\n",
       "      <th>EncodedPixels</th>\n",
       "    </tr>\n",
       "  </thead>\n",
       "  <tbody>\n",
       "    <tr>\n",
       "      <th>0</th>\n",
       "      <td>0000f269f.jpg_1</td>\n",
       "      <td></td>\n",
       "    </tr>\n",
       "    <tr>\n",
       "      <th>1</th>\n",
       "      <td>0000f269f.jpg_2</td>\n",
       "      <td></td>\n",
       "    </tr>\n",
       "    <tr>\n",
       "      <th>2</th>\n",
       "      <td>0000f269f.jpg_3</td>\n",
       "      <td>146576 55 146637 47 146694 19 146715 230 146947 254 147202 4095 151299 254 151557 252 151817 248 152157 53 152230 39 152293 24</td>\n",
       "    </tr>\n",
       "    <tr>\n",
       "      <th>3</th>\n",
       "      <td>0000f269f.jpg_4</td>\n",
       "      <td></td>\n",
       "    </tr>\n",
       "    <tr>\n",
       "      <th>4</th>\n",
       "      <td>000ccc2ac.jpg_1</td>\n",
       "      <td></td>\n",
       "    </tr>\n",
       "  </tbody>\n",
       "</table>\n",
       "</div>"
      ],
      "text/plain": [
       "   ImageId_ClassId  \\\n",
       "0  0000f269f.jpg_1   \n",
       "1  0000f269f.jpg_2   \n",
       "2  0000f269f.jpg_3   \n",
       "3  0000f269f.jpg_4   \n",
       "4  000ccc2ac.jpg_1   \n",
       "\n",
       "                                                                                                                    EncodedPixels  \n",
       "0                                                                                                                                  \n",
       "1                                                                                                                                  \n",
       "2  146576 55 146637 47 146694 19 146715 230 146947 254 147202 4095 151299 254 151557 252 151817 248 152157 53 152230 39 152293 24  \n",
       "3                                                                                                                                  \n",
       "4                                                                                                                                  "
      ]
     },
     "execution_count": null,
     "metadata": {},
     "output_type": "execute_result"
    }
   ],
   "source": [
    "# missing\n",
    "df_preds.head()"
   ]
  },
  {
   "cell_type": "code",
   "execution_count": null,
   "metadata": {},
   "outputs": [
    {
     "name": "stdout",
     "output_type": "stream",
     "text": [
      "Converted 01_metadata.ipynb.\n",
      "Converted 02_masks.ipynb.\n",
      "Converted 03_datasets.ipynb.\n",
      "Converted 04_dataloaders.ipynb.\n",
      "Converted 05_metrics.ipynb.\n",
      "Converted 06_trainer.ipynb.\n",
      "Converted 07_predict.ipynb.\n",
      "Converted index.ipynb.\n"
     ]
    }
   ],
   "source": [
    "# hide\n",
    "from nbdev.export import notebook2script\n",
    "\n",
    "notebook2script()"
   ]
  }
 ],
 "metadata": {
  "kernelspec": {
   "display_name": "Python 3",
   "language": "python",
   "name": "python3"
  },
  "language_info": {
   "codemirror_mode": {
    "name": "ipython",
    "version": 3
   },
   "file_extension": ".py",
   "mimetype": "text/x-python",
   "name": "python",
   "nbconvert_exporter": "python",
   "pygments_lexer": "ipython3",
   "version": "3.8.5"
  },
  "toc": {
   "base_numbering": 1,
   "nav_menu": {},
   "number_sections": true,
   "sideBar": true,
   "skip_h1_title": false,
   "title_cell": "Table of Contents",
   "title_sidebar": "Contents",
   "toc_cell": false,
   "toc_position": {},
   "toc_section_display": true,
   "toc_window_display": false
  },
  "varInspector": {
   "cols": {
    "lenName": 16,
    "lenType": 16,
    "lenVar": 40
   },
   "kernels_config": {
    "python": {
     "delete_cmd_postfix": "",
     "delete_cmd_prefix": "del ",
     "library": "var_list.py",
     "varRefreshCmd": "print(var_dic_list())"
    },
    "r": {
     "delete_cmd_postfix": ") ",
     "delete_cmd_prefix": "rm(",
     "library": "var_list.r",
     "varRefreshCmd": "cat(var_dic_list()) "
    }
   },
   "types_to_exclude": [
    "module",
    "function",
    "builtin_function_or_method",
    "instance",
    "_Feature"
   ],
   "window_display": false
  }
 },
 "nbformat": 4,
 "nbformat_minor": 4
}
