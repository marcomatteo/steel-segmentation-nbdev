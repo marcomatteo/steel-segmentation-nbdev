{
 "cells": [
  {
   "cell_type": "code",
   "execution_count": null,
   "metadata": {},
   "outputs": [],
   "source": [
    "# default_exp models.predict"
   ]
  },
  {
   "cell_type": "markdown",
   "metadata": {},
   "source": [
    "# Predict\n",
    "\n",
    "> Prediction and export outputs."
   ]
  },
  {
   "cell_type": "code",
   "execution_count": null,
   "metadata": {},
   "outputs": [],
   "source": [
    "# hide\n",
    "%load_ext autoreload\n",
    "%autoreload 2\n",
    "%matplotlib inline"
   ]
  },
  {
   "cell_type": "code",
   "execution_count": null,
   "metadata": {},
   "outputs": [],
   "source": [
    "# hide\n",
    "from nbdev.showdoc import *"
   ]
  },
  {
   "cell_type": "code",
   "execution_count": null,
   "metadata": {},
   "outputs": [],
   "source": [
    "# export\n",
    "from steel_segmentation.core import *\n",
    "from steel_segmentation.data import *\n",
    "from steel_segmentation.dataloaders import *\n",
    "from steel_segmentation.models.metrics import *\n",
    "from steel_segmentation.models.model import *\n",
    "\n",
    "import fastai\n",
    "from fastai.vision.all import *\n",
    "from fastai.metrics import *\n",
    "from fastai.data.all import *\n",
    "from fastcore.all import patch_to\n",
    "\n",
    "import os\n",
    "import cv2\n",
    "import pathlib\n",
    "import numpy as np\n",
    "import pandas as pd\n",
    "import warnings\n",
    "import zipfile\n",
    "\n",
    "warnings.filterwarnings(\"ignore\")\n",
    "\n",
    "pred_path = path / \"predictions\"\n",
    "sub_path = path / \"submissions\"\n",
    "pred_path.mkdir(parents=True, exist_ok=True)\n",
    "sub_path.mkdir(parents=True, exist_ok=True)"
   ]
  },
  {
   "cell_type": "code",
   "execution_count": null,
   "metadata": {},
   "outputs": [],
   "source": [
    "# hide\n",
    "only_imgs = [\"0a1cade03.jpg\", \"bca4ae758.jpg\", \"988cf521f.jpg\", \"b6a257b28.jpg\",\n",
    "             \"b2ad335bf.jpg\", \"72aaba8ad.jpg\", \"f383950e8.jpg\"]\n",
    "train = train[train[\"ImageId\"].isin(only_imgs)].copy()\n",
    "train_all = train_all[train_all[\"ImageId\"].isin(only_imgs)].copy()\n",
    "train_multi = train_multi[train_multi[\"ImageId\"].isin(only_imgs)].copy()"
   ]
  },
  {
   "cell_type": "markdown",
   "metadata": {},
   "source": [
    "In this notebook the *functions* provided can be used to make inference with the models trained and saved in `models_dir`.\n",
    "\n",
    "The first section is related to the fast.ai API while the second is for a general Pytorch approach."
   ]
  },
  {
   "cell_type": "code",
   "execution_count": null,
   "metadata": {},
   "outputs": [
    {
     "name": "stdout",
     "output_type": "stream",
     "text": [
      "../models/ResNet18-Unet-kaggle.pth\n",
      "../models/.ipynb_checkpoints\n",
      "../models/ResNet18-Classifier-kaggle.pth\n",
      "../models/ResNet34-Unet-256-stage5.pth\n",
      "../models/ResNet34-Unet-256-stage3.pth\n",
      "../models/ResNet34-Unet-128-stage2.5.pth\n"
     ]
    }
   ],
   "source": [
    "# missing\n",
    "print_competition_data(models_dir)"
   ]
  },
  {
   "cell_type": "markdown",
   "metadata": {},
   "source": [
    "## Fast.ai prediction"
   ]
  },
  {
   "cell_type": "markdown",
   "metadata": {},
   "source": [
    "First, we need to load a `segmentation_learner` with the right `parameters`."
   ]
  },
  {
   "cell_type": "code",
   "execution_count": null,
   "metadata": {},
   "outputs": [],
   "source": [
    "arch = resnet34\n",
    "bs = 4 \n",
    "dls = get_segmentation_dls_from_df(train_df=train_multi, bs=bs, size=(256, 1600))\n",
    "segmentation_learner = unet_learner(dls=dls, arch=arch, metrics=seg_metrics, pretrained=True)\n",
    "segmentation_learner.model_dir = models_dir"
   ]
  },
  {
   "cell_type": "code",
   "execution_count": null,
   "metadata": {},
   "outputs": [],
   "source": [
    "# missing\n",
    "segmentation_learner = segmentation_learner.load(\"ResNet34-Unet-256-stage5\")"
   ]
  },
  {
   "cell_type": "code",
   "execution_count": null,
   "metadata": {},
   "outputs": [],
   "source": [
    "# export\n",
    "class Predict:\n",
    "    pred_mask_path = pred_path / \"prediction_masks\"\n",
    "    pred_mask_path.mkdir(parents=True, exist_ok=True)\n",
    "    \n",
    "    def __init__(self, \n",
    "                 source, \n",
    "                 learner,\n",
    "                 source_path:pathlib.Path=None):\n",
    "        self.source = source \n",
    "        self.learner = learner\n",
    "        self.source_path = source_path if source_path else train_path\n",
    "        \n",
    "        self.single_prediction = False\n",
    "        \n",
    "        if isinstance(self.source, pathlib.Path):\n",
    "            self.img_paths = self.get_path_source_list()\n",
    "        elif isinstance(self.source, pd.DataFrame):\n",
    "            self.img_paths = self.get_df_source_list()\n",
    "        elif isinstance(self.source, list):\n",
    "            self.img_paths = self.source\n",
    "        elif isinstance(self.source, str):\n",
    "            self.single_prediction = True\n",
    "            self.img_paths = L(self.source_path / self.source)\n",
    "\n",
    "        self.elems = len(self.img_paths)\n",
    "    \n",
    "    def get_df_source_list(self):\n",
    "        \"\"\"Load `source` if it's a DataFrame instance.\"\"\"\n",
    "        tfm = ColReader(\"ImageId\", pref=self.source_path)\n",
    "        return L([tfm(o) for o in self.source.itertuples()])\n",
    "        \n",
    "    def get_path_source_list(self):\n",
    "        \"\"\"Load `source` if it's a pathlib.Path instance.\"\"\"\n",
    "        return get_image_files(self.source)\n",
    "    \n",
    "    def predict(self, selected_imgs):\n",
    "        \"\"\"Get the predictions on the `selected_imgs`.\"\"\"\n",
    "        if self.single_prediction:\n",
    "            pred_full_dec, pred_dec, out = self.learner.predict(selected_imgs[0])\n",
    "            return out.unsqueeze(dim=0)\n",
    "            \n",
    "        test_dl = self.learner.dls.test_dl(test_items=selected_imgs)\n",
    "        pred_probs,_,_ = self.learner.get_preds(dl=test_dl, with_decoded=True)\n",
    "        \n",
    "        return pred_probs\n",
    "    \n",
    "    def post_process(self, probability):\n",
    "        \"\"\"\n",
    "        Post processing of each predicted mask, components with lesser number of pixels\n",
    "        than `min_size` are ignored.\n",
    "        \"\"\"\n",
    "        mask = cv2.threshold(probability, self.threshold, 1, cv2.THRESH_BINARY)[1]\n",
    "        num_component, component = cv2.connectedComponents(mask.astype(np.uint8))\n",
    "        predictions = np.zeros((256, 1600), np.float32)\n",
    "        num = 0\n",
    "        for c in range(1, num_component):\n",
    "            p = (component == c)\n",
    "            if p.sum() > self.min_size:\n",
    "                predictions[p] = 1\n",
    "                num += 1\n",
    "        return predictions, num\n",
    "    \n",
    "    def get_RLEs(self, img_names, pred_probs):\n",
    "        \"\"\"For each image in the batch to predict, \n",
    "        returns a list of tuples with `(img_id, rle)`.\"\"\"\n",
    "        predictions = []\n",
    "        \n",
    "        for num_pred, t_pred in enumerate(pred_probs): # img in bs\n",
    "            np_pred = t_pred.numpy()\n",
    "\n",
    "            # iterate through class_id without class_id 0\n",
    "            for class_id, prob in enumerate(np_pred[1:]): \n",
    "                pred, num = self.post_process(prob)\n",
    "                rle = mask2rle(pred)\n",
    "                name = img_names[num_pred] + f\"_{class_id+1}\"\n",
    "                predictions.append([name, rle])\n",
    "        \n",
    "        return pd.DataFrame(predictions, columns=['ImageId_ClassId', 'EncodedPixels'])\n",
    "    \n",
    "    def get_predictions(self):\n",
    "        \"\"\"Iterate through `Predict.folds`, predict the mask and\n",
    "        get the RLEs in a DataFrame.\"\"\"\n",
    "        df_preds = []\n",
    "        \n",
    "        for fold in range(self.folds):\n",
    "            start, end = fold*self.size_fold, (fold+1)*self.size_fold\n",
    "            print(f\"From {start} to {end} of {self.elems}\")\n",
    "            \n",
    "            selected_imgs = self.img_paths[start:end]\n",
    "            \n",
    "            img_names = selected_imgs.map(Path).map(lambda x: x.name)\n",
    "            pred_probs = self.predict(selected_imgs)            \n",
    "            \n",
    "            tmp_df = self.get_RLEs(img_names, pred_probs)\n",
    "            df_preds.append(tmp_df)\n",
    "\n",
    "            torch.cuda.empty_cache()\n",
    "        \n",
    "        if len(df_preds) == 1:\n",
    "            return df_preds[0]\n",
    "        \n",
    "        df = pd.concat(df_preds, axis=0, ignore_index=True)\n",
    "        return df.fillna(\"\")\n",
    "    \n",
    "    def make_masks(self):\n",
    "        \"\"\"\n",
    "        Iterate through the RLEs in `Predict.df` and save the masks.\n",
    "        Returns the `Predict.df_masks` DataFrame (if not `json`) with\n",
    "        `columns=['ImageId', 'ClassId', 'Mask_path']`.\n",
    "        \"\"\"\n",
    "        rows = []\n",
    "        for row in self.df.itertuples():\n",
    "            if row.EncodedPixels != '':\n",
    "                img_id, class_id = row.ImageId_ClassId.split(\"_\")\n",
    "                img_id = img_id.split(\".\")[0]\n",
    "                img_label = img_id + \"_pred.png\"\n",
    "                img_path = self.pred_mask_path / img_label\n",
    "\n",
    "                mask = rle_to_mask(row.EncodedPixels, class_id, 256, 1600)\n",
    "                im = Image.fromarray(mask)\n",
    "                im.save(img_path)\n",
    "\n",
    "                rows.append((img_id + \".jpg\", class_id, img_label))\n",
    "        \n",
    "        return pd.DataFrame(rows, columns=['ImageId', 'ClassId', 'Mask_path'])\n",
    "    \n",
    "    def save_masks(self, df_export_fname=None, make_zip=True):\n",
    "        \"\"\"\n",
    "        If `df_export_fname` save predicted masks in \n",
    "        `pred_path / df_export_fname` in CSV and the JSON.\n",
    "        Otherwise the file are named \"predictions.csv\" and \"predictions.json\".\n",
    "        Saving the zip of the masks if `make_zip`.\n",
    "        \n",
    "        Run this method after __call__ the object.\n",
    "        \"\"\"\n",
    "        if not hasattr(self, 'df'):\n",
    "            print(\"Predictions missing. Call the Prediction object first!\")\n",
    "            raise KeyError(\"Missing self.df, first run self.__call__ to get predictions\")\n",
    "        \n",
    "        self.df_masks = self.make_masks()\n",
    "        \n",
    "        if not df_export_fname:\n",
    "            df_export_fname = \"predictions\"\n",
    "            \n",
    "        csv_name = pred_path/(df_export_fname + \".csv\")\n",
    "        json_name = pred_path/(df_export_fname + \".json\")\n",
    "        self.df_masks.to_csv(csv_name, index=False)\n",
    "        self.df_masks.to_json(json_name, orient=\"table\", indent=4)\n",
    "        \n",
    "        if make_zip:\n",
    "            zip_fname = df_export_fname + \".zip\"\n",
    "            with zipfile.ZipFile(pred_path/zip_fname, 'w', zipfile.ZIP_DEFLATED) as zipf:\n",
    "                self.zipdir(zipf)\n",
    "                \n",
    "    def save_submission(self, fname=\"test_submission\"):\n",
    "        \"\"\"Save submission file in CSV in `sub_path`. \n",
    "        It adds always .csv at the end of `fname`.\"\"\"\n",
    "        if not hasattr(self, 'df'):\n",
    "            raise KeyError(\"Call the object first to get the predictions\")\n",
    "        \n",
    "        file_path = sub_path / (fname + '.csv')\n",
    "        self.df.to_csv(file_path, index=False)\n",
    "    \n",
    "    def __call__(self, size_fold:int, threshold:float, min_size:int):\n",
    "        \"\"\"Call the object with prediction attributes, \n",
    "        it calls `Predict.get_predictions`\n",
    "        and returns the `Predict.df` DataFrame with RLEs.\"\"\"\n",
    "        self.size_fold = min([self.elems, size_fold])\n",
    "        self.threshold = threshold\n",
    "        self.min_size = min_size\n",
    "        self.folds = self.elems // self.size_fold\n",
    "        \n",
    "        if (self.elems % self.size_fold) != 0:\n",
    "            self.folds += 1\n",
    "            \n",
    "        self.df = self.get_predictions()\n",
    "        return self.df\n",
    "    \n",
    "    def plot(self, n:int=5, rand=False):\n",
    "        \"\"\"Plot `n` elements in `self.img_paths`. \n",
    "        If `rand` prints shuffle images.\"\"\"\n",
    "        if (not hasattr(self, 'df_masks'))|(not hasattr(self, 'df')):\n",
    "            return \"Nothing to plot, first call make_masks\"\n",
    "\n",
    "        path_list = self.img_paths.map(Path)\n",
    "        \n",
    "        if rand:\n",
    "            #path_list = get_perm_imgs_path(self.img_paths.map(Path), self.df_masks)   \n",
    "            path_list = path_list.shuffle()\n",
    "            \n",
    "        df = self.df.copy()\n",
    "        splitted_cols = df[\"ImageId_ClassId\"].str.split(\"_\", expand=True)\n",
    "        df[\"ImageId\"], df[\"ClassId\"] = splitted_cols[0], splitted_cols[1].astype(\"int64\")\n",
    "        \n",
    "        for p in path_list[:n]:\n",
    "            plot_defected_image(p, df)\n",
    "            \n",
    "    def zipdir(self, ziph:zipfile.ZipFile, pfolder=None):\n",
    "        \"\"\"Zip the current `self.pred_mask_path` directory,\n",
    "        otherwise zip the `path` dir if provided.\"\"\"\n",
    "        if not pfolder:\n",
    "            pfolder = self.pred_mask_path\n",
    "\n",
    "        if not isinstance(pfolder, pathlib.Path):\n",
    "            pfolder = Path(pfolder)\n",
    "\n",
    "        for root,dirs,files in os.walk(pfolder):\n",
    "            root = Path(root)\n",
    "            for file in files:\n",
    "                fname = root / file\n",
    "                ziph.write(filename=fname,\n",
    "                           arcname =os.path.relpath(fname,fname.parent))"
   ]
  },
  {
   "cell_type": "markdown",
   "metadata": {},
   "source": [
    "The `Predict` class needs a `source`, as a list of images to infer, and a fast.ai `Learner`. The inference can be done on:\n",
    "- a single image with the `ImageId` as string\n",
    "- a list (`L`) of images paths\n",
    "- a dataframe with the `ImageId` column.\n",
    "\n",
    "The class needs a initialization first to setup the `source`. The object is now callable to get the predictions `DataFrame` with the `ImageId_ClassId` and the `EncodedPixels` columns.\n",
    "\n",
    "To get the predictions:\n",
    "1. Setup the `Predict` class\n",
    "2. Call the object (e.g. `pred`) with the parameters: `size_fold` is the number of elements to infer toghether, `threshold` is the threshold for the probabilities from the activation function, `min_size` needs to ignore components in the predicted masks with few number of pixels (to reduce the false positive rate)."
   ]
  },
  {
   "cell_type": "markdown",
   "metadata": {},
   "source": [
    "An example of `pd.DataFrame` source: "
   ]
  },
  {
   "cell_type": "code",
   "execution_count": null,
   "metadata": {},
   "outputs": [
    {
     "data": {
      "text/plain": [
       "(5, 2)"
      ]
     },
     "execution_count": null,
     "metadata": {},
     "output_type": "execute_result"
    }
   ],
   "source": [
    "df_tmp = segmentation_learner.dls.valid.items.iloc[:5]\n",
    "df_tmp.shape"
   ]
  },
  {
   "cell_type": "code",
   "execution_count": null,
   "metadata": {},
   "outputs": [],
   "source": [
    "pred = Predict(df_tmp, segmentation_learner)"
   ]
  },
  {
   "cell_type": "code",
   "execution_count": null,
   "metadata": {},
   "outputs": [
    {
     "data": {
      "text/markdown": [
       "<h4 id=\"Predict.__call__\" class=\"doc_header\"><code>Predict.__call__</code><a href=\"__main__.py#L169\" class=\"source_link\" style=\"float:right\">[source]</a></h4>\n",
       "\n",
       "> <code>Predict.__call__</code>(**`size_fold`**:`int`, **`threshold`**:`float`, **`min_size`**:`int`)\n",
       "\n",
       "Call the object with prediction attributes, \n",
       "it calls [`Predict.get_predictions`](/steel_segmentation/model.predict.html#Predict.get_predictions)\n",
       "and returns the [`Predict.df`](/steel_segmentation/model.predict.html#Predict.df) DataFrame with RLEs."
      ],
      "text/plain": [
       "<IPython.core.display.Markdown object>"
      ]
     },
     "metadata": {},
     "output_type": "display_data"
    }
   ],
   "source": [
    "show_doc(Predict.__call__)"
   ]
  },
  {
   "cell_type": "code",
   "execution_count": null,
   "metadata": {},
   "outputs": [],
   "source": [
    "size_fold = 100\n",
    "threshold = 0.5\n",
    "min_size = 3000"
   ]
  },
  {
   "cell_type": "code",
   "execution_count": null,
   "metadata": {},
   "outputs": [
    {
     "name": "stdout",
     "output_type": "stream",
     "text": [
      "From 0 to 5 of 5\n"
     ]
    },
    {
     "data": {
      "text/html": [],
      "text/plain": [
       "<IPython.core.display.HTML object>"
      ]
     },
     "metadata": {},
     "output_type": "display_data"
    },
    {
     "name": "stdout",
     "output_type": "stream",
     "text": [
      "(20, 2)\n"
     ]
    },
    {
     "data": {
      "text/html": [
       "<div>\n",
       "<style scoped>\n",
       "    .dataframe tbody tr th:only-of-type {\n",
       "        vertical-align: middle;\n",
       "    }\n",
       "\n",
       "    .dataframe tbody tr th {\n",
       "        vertical-align: top;\n",
       "    }\n",
       "\n",
       "    .dataframe thead th {\n",
       "        text-align: right;\n",
       "    }\n",
       "</style>\n",
       "<table border=\"1\" class=\"dataframe\">\n",
       "  <thead>\n",
       "    <tr style=\"text-align: right;\">\n",
       "      <th></th>\n",
       "      <th>ImageId_ClassId</th>\n",
       "      <th>EncodedPixels</th>\n",
       "    </tr>\n",
       "  </thead>\n",
       "  <tbody>\n",
       "    <tr>\n",
       "      <th>0</th>\n",
       "      <td>b5352d213.jpg_1</td>\n",
       "      <td></td>\n",
       "    </tr>\n",
       "    <tr>\n",
       "      <th>1</th>\n",
       "      <td>b5352d213.jpg_2</td>\n",
       "      <td></td>\n",
       "    </tr>\n",
       "    <tr>\n",
       "      <th>2</th>\n",
       "      <td>b5352d213.jpg_3</td>\n",
       "      <td>219065 4 219317 11 219572 13 219828 13 220083 14 220338 17 220594 17 220849 18 221104 20 221360 20 221616 21 221871 22 222126 23 222382 24 222638 24 222893 25 223149 25 223405 26 223661 26 223916 27 224172 27 224427 28 224683 28 224938 29 225194 29 225450 29 225706 29 225961 30 226217 30 226473 30 226729 30 226985 29 227240 30 227496 30 227752 30 228007 31 228263 31 228519 30 228774 31 229030 31 229286 31 229542 30 229798 30 230054 30 230310 29 230566 29 230821 30 231077 29 231333 29 231589 28 231845 28 232101 28 232357 28 232613 27 232870 26 233126 25 233382 25 233638 25 233894 25 234149 ...</td>\n",
       "    </tr>\n",
       "    <tr>\n",
       "      <th>3</th>\n",
       "      <td>b5352d213.jpg_4</td>\n",
       "      <td></td>\n",
       "    </tr>\n",
       "    <tr>\n",
       "      <th>4</th>\n",
       "      <td>ecb50399d.jpg_1</td>\n",
       "      <td></td>\n",
       "    </tr>\n",
       "  </tbody>\n",
       "</table>\n",
       "</div>"
      ],
      "text/plain": [
       "   ImageId_ClassId  \\\n",
       "0  b5352d213.jpg_1   \n",
       "1  b5352d213.jpg_2   \n",
       "2  b5352d213.jpg_3   \n",
       "3  b5352d213.jpg_4   \n",
       "4  ecb50399d.jpg_1   \n",
       "\n",
       "                                                                                                                                                                                                                                                                                                                                                                                                                                                                                                                                                                                                             EncodedPixels  \n",
       "0                                                                                                                                                                                                                                                                                                                                                                                                                                                                                                                                                                                                                           \n",
       "1                                                                                                                                                                                                                                                                                                                                                                                                                                                                                                                                                                                                                           \n",
       "2  219065 4 219317 11 219572 13 219828 13 220083 14 220338 17 220594 17 220849 18 221104 20 221360 20 221616 21 221871 22 222126 23 222382 24 222638 24 222893 25 223149 25 223405 26 223661 26 223916 27 224172 27 224427 28 224683 28 224938 29 225194 29 225450 29 225706 29 225961 30 226217 30 226473 30 226729 30 226985 29 227240 30 227496 30 227752 30 228007 31 228263 31 228519 30 228774 31 229030 31 229286 31 229542 30 229798 30 230054 30 230310 29 230566 29 230821 30 231077 29 231333 29 231589 28 231845 28 232101 28 232357 28 232613 27 232870 26 233126 25 233382 25 233638 25 233894 25 234149 ...  \n",
       "3                                                                                                                                                                                                                                                                                                                                                                                                                                                                                                                                                                                                                           \n",
       "4                                                                                                                                                                                                                                                                                                                                                                                                                                                                                                                                                                                                                           "
      ]
     },
     "execution_count": null,
     "metadata": {},
     "output_type": "execute_result"
    }
   ],
   "source": [
    "df_pred = pred(size_fold, threshold, min_size)\n",
    "print(df_pred.shape)\n",
    "df_pred.head()"
   ]
  },
  {
   "cell_type": "markdown",
   "metadata": {},
   "source": [
    "A `DataFrame` can have only one element too."
   ]
  },
  {
   "cell_type": "code",
   "execution_count": null,
   "metadata": {},
   "outputs": [
    {
     "name": "stdout",
     "output_type": "stream",
     "text": [
      "(1, 4)\n",
      "From 0 to 1 of 1\n"
     ]
    },
    {
     "data": {
      "text/html": [],
      "text/plain": [
       "<IPython.core.display.HTML object>"
      ]
     },
     "metadata": {},
     "output_type": "display_data"
    },
    {
     "data": {
      "text/html": [
       "<div>\n",
       "<style scoped>\n",
       "    .dataframe tbody tr th:only-of-type {\n",
       "        vertical-align: middle;\n",
       "    }\n",
       "\n",
       "    .dataframe tbody tr th {\n",
       "        vertical-align: top;\n",
       "    }\n",
       "\n",
       "    .dataframe thead th {\n",
       "        text-align: right;\n",
       "    }\n",
       "</style>\n",
       "<table border=\"1\" class=\"dataframe\">\n",
       "  <thead>\n",
       "    <tr style=\"text-align: right;\">\n",
       "      <th></th>\n",
       "      <th>ImageId_ClassId</th>\n",
       "      <th>EncodedPixels</th>\n",
       "    </tr>\n",
       "  </thead>\n",
       "  <tbody>\n",
       "    <tr>\n",
       "      <th>0</th>\n",
       "      <td>0002cc93b.jpg_1</td>\n",
       "      <td>77411 11 77665 17 77918 20 78172 24 78427 26 78681 31 78937 30 79194 32 79229 1 79231 7 79239 1 79241 1 79271 1 79273 1 79275 1 79277 1 79279 1 79281 1 79283 1 79449 33 79485 1 79487 1 79489 9 79499 1 79519 1 79521 1 79523 1 79525 1 79527 1 79529 13 79543 1 79705 53 79759 1 79771 1 79773 31 79962 31 79996 1 79999 14 80015 1 80019 1 80021 1 80023 1 80025 35 80218 31 80255 3 80259 11 80271 48 80474 31 80513 13 80527 1 80529 1 80531 1 80533 43 80730 32 80767 67 80987 30 81024 1 81027 2 81030 3 81034 1 81036 1 81040 1 81043 46 81243 30 81279 15 81295 2 81299 47 81499 29 81538 1 81540 1 81542 1...</td>\n",
       "    </tr>\n",
       "    <tr>\n",
       "      <th>1</th>\n",
       "      <td>0002cc93b.jpg_2</td>\n",
       "      <td></td>\n",
       "    </tr>\n",
       "    <tr>\n",
       "      <th>2</th>\n",
       "      <td>0002cc93b.jpg_3</td>\n",
       "      <td></td>\n",
       "    </tr>\n",
       "    <tr>\n",
       "      <th>3</th>\n",
       "      <td>0002cc93b.jpg_4</td>\n",
       "      <td></td>\n",
       "    </tr>\n",
       "  </tbody>\n",
       "</table>\n",
       "</div>"
      ],
      "text/plain": [
       "   ImageId_ClassId  \\\n",
       "0  0002cc93b.jpg_1   \n",
       "1  0002cc93b.jpg_2   \n",
       "2  0002cc93b.jpg_3   \n",
       "3  0002cc93b.jpg_4   \n",
       "\n",
       "                                                                                                                                                                                                                                                                                                                                                                                                                                                                                                                                                                                                             EncodedPixels  \n",
       "0  77411 11 77665 17 77918 20 78172 24 78427 26 78681 31 78937 30 79194 32 79229 1 79231 7 79239 1 79241 1 79271 1 79273 1 79275 1 79277 1 79279 1 79281 1 79283 1 79449 33 79485 1 79487 1 79489 9 79499 1 79519 1 79521 1 79523 1 79525 1 79527 1 79529 13 79543 1 79705 53 79759 1 79771 1 79773 31 79962 31 79996 1 79999 14 80015 1 80019 1 80021 1 80023 1 80025 35 80218 31 80255 3 80259 11 80271 48 80474 31 80513 13 80527 1 80529 1 80531 1 80533 43 80730 32 80767 67 80987 30 81024 1 81027 2 81030 3 81034 1 81036 1 81040 1 81043 46 81243 30 81279 15 81295 2 81299 47 81499 29 81538 1 81540 1 81542 1...  \n",
       "1                                                                                                                                                                                                                                                                                                                                                                                                                                                                                                                                                                                                                           \n",
       "2                                                                                                                                                                                                                                                                                                                                                                                                                                                                                                                                                                                                                           \n",
       "3                                                                                                                                                                                                                                                                                                                                                                                                                                                                                                                                                                                                                           "
      ]
     },
     "execution_count": null,
     "metadata": {},
     "output_type": "execute_result"
    }
   ],
   "source": [
    "df_tmp = train.iloc[0].to_frame().T\n",
    "print(df_tmp.shape)\n",
    "\n",
    "pred = Predict(df_tmp, segmentation_learner)\n",
    "\n",
    "df_pred = pred(size_fold, threshold, min_size)\n",
    "df_pred"
   ]
  },
  {
   "cell_type": "markdown",
   "metadata": {},
   "source": [
    "Or to predict a single image mask with the file name:"
   ]
  },
  {
   "cell_type": "code",
   "execution_count": null,
   "metadata": {},
   "outputs": [
    {
     "name": "stdout",
     "output_type": "stream",
     "text": [
      "From 0 to 1 of 1\n"
     ]
    },
    {
     "data": {
      "text/html": [],
      "text/plain": [
       "<IPython.core.display.HTML object>"
      ]
     },
     "metadata": {},
     "output_type": "display_data"
    },
    {
     "data": {
      "text/html": [
       "<div>\n",
       "<style scoped>\n",
       "    .dataframe tbody tr th:only-of-type {\n",
       "        vertical-align: middle;\n",
       "    }\n",
       "\n",
       "    .dataframe tbody tr th {\n",
       "        vertical-align: top;\n",
       "    }\n",
       "\n",
       "    .dataframe thead th {\n",
       "        text-align: right;\n",
       "    }\n",
       "</style>\n",
       "<table border=\"1\" class=\"dataframe\">\n",
       "  <thead>\n",
       "    <tr style=\"text-align: right;\">\n",
       "      <th></th>\n",
       "      <th>ImageId_ClassId</th>\n",
       "      <th>EncodedPixels</th>\n",
       "    </tr>\n",
       "  </thead>\n",
       "  <tbody>\n",
       "    <tr>\n",
       "      <th>0</th>\n",
       "      <td>f383950e8.jpg_1</td>\n",
       "      <td></td>\n",
       "    </tr>\n",
       "    <tr>\n",
       "      <th>1</th>\n",
       "      <td>f383950e8.jpg_2</td>\n",
       "      <td></td>\n",
       "    </tr>\n",
       "    <tr>\n",
       "      <th>2</th>\n",
       "      <td>f383950e8.jpg_3</td>\n",
       "      <td></td>\n",
       "    </tr>\n",
       "    <tr>\n",
       "      <th>3</th>\n",
       "      <td>f383950e8.jpg_4</td>\n",
       "      <td>314087 26 314342 27 314590 35 314846 35 315088 1 315090 47 315344 49 315586 63 315841 64 316088 73 316345 72 316599 74 316855 74 317110 75 317365 76 317615 82 317870 83 318119 90 318374 91 318624 97 318878 1 318880 97 319118 1 319120 113 319374 115 319622 123 319877 124 320129 128 320385 128 320637 132 320893 132 321146 135 321400 137 321652 141 321908 141 322159 146 322415 146 322666 151 322922 151 323171 158 323426 159 323678 163 323932 165 324183 170 324438 171 324691 174 324947 174 325199 178 325454 179 325707 182 325962 183 326215 186 326470 187 326722 191 326974 1 326976 193 327222 1...</td>\n",
       "    </tr>\n",
       "  </tbody>\n",
       "</table>\n",
       "</div>"
      ],
      "text/plain": [
       "   ImageId_ClassId  \\\n",
       "0  f383950e8.jpg_1   \n",
       "1  f383950e8.jpg_2   \n",
       "2  f383950e8.jpg_3   \n",
       "3  f383950e8.jpg_4   \n",
       "\n",
       "                                                                                                                                                                                                                                                                                                                                                                                                                                                                                                                                                                                                             EncodedPixels  \n",
       "0                                                                                                                                                                                                                                                                                                                                                                                                                                                                                                                                                                                                                           \n",
       "1                                                                                                                                                                                                                                                                                                                                                                                                                                                                                                                                                                                                                           \n",
       "2                                                                                                                                                                                                                                                                                                                                                                                                                                                                                                                                                                                                                           \n",
       "3  314087 26 314342 27 314590 35 314846 35 315088 1 315090 47 315344 49 315586 63 315841 64 316088 73 316345 72 316599 74 316855 74 317110 75 317365 76 317615 82 317870 83 318119 90 318374 91 318624 97 318878 1 318880 97 319118 1 319120 113 319374 115 319622 123 319877 124 320129 128 320385 128 320637 132 320893 132 321146 135 321400 137 321652 141 321908 141 322159 146 322415 146 322666 151 322922 151 323171 158 323426 159 323678 163 323932 165 324183 170 324438 171 324691 174 324947 174 325199 178 325454 179 325707 182 325962 183 326215 186 326470 187 326722 191 326974 1 326976 193 327222 1...  "
      ]
     },
     "execution_count": null,
     "metadata": {},
     "output_type": "execute_result"
    }
   ],
   "source": [
    "source = \"f383950e8.jpg\"\n",
    "pred = Predict(source, segmentation_learner)\n",
    "df_pred = pred(size_fold, threshold, min_size)\n",
    "df_pred"
   ]
  },
  {
   "cell_type": "code",
   "execution_count": null,
   "metadata": {},
   "outputs": [
    {
     "data": {
      "text/markdown": [
       "<h4 id=\"Predict.make_masks\" class=\"doc_header\"><code>Predict.make_masks</code><a href=\"__main__.py#L110\" class=\"source_link\" style=\"float:right\">[source]</a></h4>\n",
       "\n",
       "> <code>Predict.make_masks</code>()\n",
       "\n",
       "Iterate through the RLEs in [`Predict.df`](/steel_segmentation/model.predict.html#Predict.df) and save the masks.\n",
       "Returns the [`Predict.df_masks`](/steel_segmentation/model.predict.html#Predict.df_masks) DataFrame (if not `json`) with\n",
       "`columns=['ImageId', 'ClassId', 'Mask_path']`."
      ],
      "text/plain": [
       "<IPython.core.display.Markdown object>"
      ]
     },
     "metadata": {},
     "output_type": "display_data"
    }
   ],
   "source": [
    "show_doc(Predict.make_masks)"
   ]
  },
  {
   "cell_type": "code",
   "execution_count": null,
   "metadata": {},
   "outputs": [
    {
     "data": {
      "text/html": [
       "<div>\n",
       "<style scoped>\n",
       "    .dataframe tbody tr th:only-of-type {\n",
       "        vertical-align: middle;\n",
       "    }\n",
       "\n",
       "    .dataframe tbody tr th {\n",
       "        vertical-align: top;\n",
       "    }\n",
       "\n",
       "    .dataframe thead th {\n",
       "        text-align: right;\n",
       "    }\n",
       "</style>\n",
       "<table border=\"1\" class=\"dataframe\">\n",
       "  <thead>\n",
       "    <tr style=\"text-align: right;\">\n",
       "      <th></th>\n",
       "      <th>ImageId</th>\n",
       "      <th>ClassId</th>\n",
       "      <th>Mask_path</th>\n",
       "    </tr>\n",
       "  </thead>\n",
       "  <tbody>\n",
       "    <tr>\n",
       "      <th>0</th>\n",
       "      <td>b5352d213.jpg</td>\n",
       "      <td>3</td>\n",
       "      <td>b5352d213_pred.png</td>\n",
       "    </tr>\n",
       "    <tr>\n",
       "      <th>1</th>\n",
       "      <td>ecb50399d.jpg</td>\n",
       "      <td>4</td>\n",
       "      <td>ecb50399d_pred.png</td>\n",
       "    </tr>\n",
       "    <tr>\n",
       "      <th>2</th>\n",
       "      <td>39e365d3b.jpg</td>\n",
       "      <td>3</td>\n",
       "      <td>39e365d3b_pred.png</td>\n",
       "    </tr>\n",
       "    <tr>\n",
       "      <th>3</th>\n",
       "      <td>06e6582af.jpg</td>\n",
       "      <td>3</td>\n",
       "      <td>06e6582af_pred.png</td>\n",
       "    </tr>\n",
       "  </tbody>\n",
       "</table>\n",
       "</div>"
      ],
      "text/plain": [
       "         ImageId ClassId           Mask_path\n",
       "0  b5352d213.jpg       3  b5352d213_pred.png\n",
       "1  ecb50399d.jpg       4  ecb50399d_pred.png\n",
       "2  39e365d3b.jpg       3  39e365d3b_pred.png\n",
       "3  06e6582af.jpg       3  06e6582af_pred.png"
      ]
     },
     "execution_count": null,
     "metadata": {},
     "output_type": "execute_result"
    }
   ],
   "source": [
    "pred.make_masks()"
   ]
  },
  {
   "cell_type": "code",
   "execution_count": null,
   "metadata": {},
   "outputs": [
    {
     "data": {
      "text/markdown": [
       "<h4 id=\"Predict.save_masks\" class=\"doc_header\"><code>Predict.save_masks</code><a href=\"__main__.py#L132\" class=\"source_link\" style=\"float:right\">[source]</a></h4>\n",
       "\n",
       "> <code>Predict.save_masks</code>(**`df_export_fname`**=*`None`*, **`make_zip`**=*`True`*)\n",
       "\n",
       "If `df_export_fname` save predicted masks in \n",
       "`pred_path / df_export_fname` in CSV and the JSON.\n",
       "Otherwise the file are named \"predictions.csv\" and \"predictions.json\".\n",
       "Saving the zip of the masks if `make_zip`.\n",
       "\n",
       "Run this method after __call__ the object."
      ],
      "text/plain": [
       "<IPython.core.display.Markdown object>"
      ]
     },
     "metadata": {},
     "output_type": "display_data"
    }
   ],
   "source": [
    "show_doc(Predict.save_masks)"
   ]
  },
  {
   "cell_type": "code",
   "execution_count": null,
   "metadata": {},
   "outputs": [],
   "source": [
    "pred.save_masks()"
   ]
  },
  {
   "cell_type": "code",
   "execution_count": null,
   "metadata": {},
   "outputs": [
    {
     "data": {
      "text/plain": [
       "(#8) [Path('../data/predictions/validation_masks.json'),Path('../data/predictions/validation_masks.zip'),Path('../data/predictions/predictions.csv'),Path('../data/predictions/.ipynb_checkpoints'),Path('../data/predictions/validation_masks.csv'),Path('../data/predictions/predictions.zip'),Path('../data/predictions/predictions.json'),Path('../data/predictions/prediction_masks')]"
      ]
     },
     "execution_count": null,
     "metadata": {},
     "output_type": "execute_result"
    }
   ],
   "source": [
    "pred_path.ls()"
   ]
  },
  {
   "cell_type": "code",
   "execution_count": null,
   "metadata": {},
   "outputs": [
    {
     "data": {
      "text/markdown": [
       "<h4 id=\"Predict.save_submission\" class=\"doc_header\"><code>Predict.save_submission</code><a href=\"__main__.py#L160\" class=\"source_link\" style=\"float:right\">[source]</a></h4>\n",
       "\n",
       "> <code>Predict.save_submission</code>(**`fname`**=*`'test_submission'`*)\n",
       "\n",
       "Save submission file in CSV in `sub_path`. \n",
       "It adds always .csv at the end of `fname`."
      ],
      "text/plain": [
       "<IPython.core.display.Markdown object>"
      ]
     },
     "metadata": {},
     "output_type": "display_data"
    }
   ],
   "source": [
    "show_doc(Predict.save_submission)"
   ]
  },
  {
   "cell_type": "code",
   "execution_count": null,
   "metadata": {},
   "outputs": [],
   "source": [
    "pred.save_submission()"
   ]
  },
  {
   "cell_type": "code",
   "execution_count": null,
   "metadata": {},
   "outputs": [],
   "source": [
    "tmp_path = sub_path/\"test_submission.csv\"\n",
    "assert tmp_path.is_file()"
   ]
  },
  {
   "cell_type": "markdown",
   "metadata": {},
   "source": [
    "To visualize predicted defects:"
   ]
  },
  {
   "cell_type": "code",
   "execution_count": null,
   "metadata": {},
   "outputs": [
    {
     "data": {
      "text/markdown": [
       "<h4 id=\"Predict.plot\" class=\"doc_header\"><code>Predict.plot</code><a href=\"__main__.py#L180\" class=\"source_link\" style=\"float:right\">[source]</a></h4>\n",
       "\n",
       "> <code>Predict.plot</code>(**`n`**:`int`=*`5`*, **`rand`**=*`False`*)\n",
       "\n",
       "Plot `n` elements in `self.img_paths`. \n",
       "If `rand` prints shuffle images."
      ],
      "text/plain": [
       "<IPython.core.display.Markdown object>"
      ]
     },
     "metadata": {},
     "output_type": "display_data"
    }
   ],
   "source": [
    "show_doc(Predict.plot)"
   ]
  },
  {
   "cell_type": "code",
   "execution_count": null,
   "metadata": {},
   "outputs": [
    {
     "data": {
      "text/plain": [
       "'Nothing to plot, first call make_masks'"
      ]
     },
     "execution_count": null,
     "metadata": {},
     "output_type": "execute_result"
    }
   ],
   "source": [
    "pred.plot(n=1, rand=False)"
   ]
  },
  {
   "cell_type": "markdown",
   "metadata": {},
   "source": [
    "## Pytorch prediction"
   ]
  },
  {
   "cell_type": "code",
   "execution_count": null,
   "metadata": {},
   "outputs": [],
   "source": [
    "# hide\n",
    "# TODO\n",
    "@patch_to(Trainer)\n",
    "def save_submission(self):\n",
    "    pass\n",
    "hasattr(Trainer, 'save_submission')"
   ]
  },
  {
   "cell_type": "code",
   "execution_count": null,
   "metadata": {},
   "outputs": [
    {
     "name": "stdout",
     "output_type": "stream",
     "text": [
      "Converted 01_core.ipynb.\n",
      "Converted 02_data.ipynb.\n",
      "Converted 03_dataloaders.ipynb.\n",
      "Converted 04_model.metrics.ipynb.\n",
      "Converted 05_models.unet.ipynb.\n",
      "Converted 06_models.model.ipynb.\n",
      "Converted 07_model.predict.ipynb.\n",
      "Converted index.ipynb.\n"
     ]
    }
   ],
   "source": [
    "# hide\n",
    "from nbdev.export import notebook2script\n",
    "\n",
    "notebook2script()"
   ]
  }
 ],
 "metadata": {
  "kernelspec": {
   "display_name": "Python 3",
   "language": "python",
   "name": "python3"
  }
 },
 "nbformat": 4,
 "nbformat_minor": 4
}
