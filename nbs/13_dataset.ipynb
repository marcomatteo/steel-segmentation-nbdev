{
 "cells": [
  {
   "cell_type": "code",
   "execution_count": null,
   "metadata": {},
   "outputs": [],
   "source": [
    "# default_exp dataset\n",
    "# all_slow"
   ]
  },
  {
   "cell_type": "markdown",
   "metadata": {
    "id": "1kF_ogijNPEY"
   },
   "source": [
    "# Datasets\n",
    "\n",
    "> Fastai DataBlock API to Severstal datasets."
   ]
  },
  {
   "cell_type": "code",
   "execution_count": null,
   "metadata": {
    "id": "PdzeFNwL1V94"
   },
   "outputs": [],
   "source": [
    "# hide\n",
    "! [ -e /content ] && pip install -Uqq fastai  # upgrade fastai on colab\n",
    "! [ -e /content ] && pip install -Uqq albumentations  # upgrade albumentations"
   ]
  },
  {
   "cell_type": "code",
   "execution_count": null,
   "metadata": {
    "colab": {
     "base_uri": "https://localhost:8080/"
    },
    "executionInfo": {
     "elapsed": 24,
     "status": "ok",
     "timestamp": 1627844286477,
     "user": {
      "displayName": "Marco Matteo Buzzulini",
      "photoUrl": "",
      "userId": "16413977196805810676"
     },
     "user_tz": -120
    },
    "id": "iSkC7g-BM6do",
    "outputId": "8bfbc086-be89-4071-98b4-7e95a7fe5dd3"
   },
   "outputs": [
    {
     "name": "stdout",
     "output_type": "stream",
     "text": [
      "Drive already mounted at /content/drive; to attempt to forcibly remount, call drive.mount(\"/content/drive\", force_remount=True).\n"
     ]
    }
   ],
   "source": [
    "# hide\n",
    "import os\n",
    "from google.colab import drive\n",
    "drive.mount('/content/drive')\n",
    "os.chdir(\"/content/drive/MyDrive/Colab Notebooks/severstal\")"
   ]
  },
  {
   "cell_type": "code",
   "execution_count": 4,
   "metadata": {
    "id": "wlgzdhgvF1ci"
   },
   "outputs": [
    {
     "name": "stdout",
     "output_type": "stream",
     "text": [
      "The autoreload extension is already loaded. To reload it, use:\n",
      "  %reload_ext autoreload\n"
     ]
    }
   ],
   "source": [
    "# hide\n",
    "%load_ext autoreload\n",
    "%autoreload 2\n",
    "%matplotlib inline"
   ]
  },
  {
   "cell_type": "code",
   "execution_count": 5,
   "metadata": {
    "id": "nhlie3sgM9zI"
   },
   "outputs": [],
   "source": [
    "# export\n",
    "from fastai.vision.all import *\n",
    "import fastai\n",
    "\n",
    "import albumentations as alb\n",
    "from albumentations.augmentations.geometric.resize import Resize\n",
    "\n",
    "from steel_segmentation.utils import get_train_df, get_train_pivot\n",
    "from steel_segmentation.transforms import (\n",
    "    ReadImagePathFromIndex, ReadRLEs, \n",
    "    AlbumentationsTransform, ChannelMask,\n",
    "    SteelMaskBlock\n",
    ")"
   ]
  },
  {
   "cell_type": "code",
   "execution_count": 6,
   "metadata": {},
   "outputs": [
    {
     "name": "stdout",
     "output_type": "stream",
     "text": [
      "2.5.2\n",
      "1.0.3\n"
     ]
    }
   ],
   "source": [
    "print(fastai.__version__)\n",
    "print(alb.__version__)"
   ]
  },
  {
   "cell_type": "code",
   "execution_count": null,
   "metadata": {},
   "outputs": [],
   "source": [
    "#export\n",
    "HEIGHT, WIDTH = (224, 1568)\n",
    "\n",
    "def get_train_aug(): \n",
    "    tfm_list = [\n",
    "      alb.RandomCrop(HEIGHT, WIDTH, p=1.0),\n",
    "      #alb.Resize(128, 800),\n",
    "      alb.OneOf(\n",
    "          [\n",
    "           alb.VerticalFlip(p=0.5),\n",
    "           alb.HorizontalFlip(p=0.5),\n",
    "          ], p=0.6),\n",
    "      alb.OneOf(\n",
    "          [\n",
    "           alb.RandomBrightnessContrast(\n",
    "               brightness_limit=(-0.2, 0.2), contrast_limit=(-0.2, 0.2), p=0.5),\n",
    "           alb.RandomGridShuffle(grid=(1, 2), p=0.2),\n",
    "          ], p=0.6),\n",
    "    ]\n",
    "    return alb.Compose(tfm_list)\n",
    "\n",
    "def get_valid_aug(): \n",
    "    tfms = [alb.RandomCrop(HEIGHT, WIDTH)]\n",
    "    return alb.Compose(tfms)"
   ]
  },
  {
   "cell_type": "code",
   "execution_count": 7,
   "metadata": {},
   "outputs": [],
   "source": [
    "# export\n",
    "def SteelDataBlock(path, splitter, flatten_mask=False, *args, **kwargs) -> DataBlock:\n",
    "    \"\"\"Get the DataBlock for Severstal Dataset.\n",
    "\n",
    "    Parameters\n",
    "    ----------\n",
    "    path : pathlib.Path\n",
    "        [description]\n",
    "    splitter : [type]\n",
    "        [description]\n",
    "    flatten_mask : bool, optional\n",
    "        [description], by default False\n",
    "\n",
    "    Returns\n",
    "    -------\n",
    "    DataBlock\n",
    "        [description]\n",
    "    \"\"\"\n",
    "    get_x = ReadImagePathFromIndex(pref=(path/\"train_images\"))\n",
    "    get_y = ReadRLEs()\n",
    "\n",
    "    train_aug = get_train_aug()\n",
    "    valid_aug = get_valid_aug()\n",
    "\n",
    "    item_tfms = [ToTensor(), AlbumentationsTransform(train_aug, valid_aug)]\n",
    "    batch_tfms=[IntToFloatTensor(), Normalize.from_stats(*imagenet_stats)]\n",
    "    if not flatten_mask: batch_tfms += [ChannelMask()]\n",
    "\n",
    "    block = DataBlock(\n",
    "        blocks = (ImageBlock, SteelMaskBlock),\n",
    "        get_x = get_x,\n",
    "        get_y = get_y,\n",
    "        splitter = splitter,\n",
    "        item_tfms = item_tfms,\n",
    "        batch_tfms = batch_tfms,\n",
    "        *args, **kwargs\n",
    "    )\n",
    "    return block"
   ]
  },
  {
   "cell_type": "code",
   "execution_count": 8,
   "metadata": {
    "colab": {
     "base_uri": "https://localhost:8080/"
    },
    "executionInfo": {
     "elapsed": 2613,
     "status": "ok",
     "timestamp": 1627844291256,
     "user": {
      "displayName": "Marco Matteo Buzzulini",
      "photoUrl": "",
      "userId": "16413977196805810676"
     },
     "user_tz": -120
    },
    "id": "pQgMSc1_0SHV",
    "outputId": "e8ede656-77ce-4612-8e0d-1a9082fb568b"
   },
   "outputs": [
    {
     "name": "stdout",
     "output_type": "stream",
     "text": [
      "Setting-up type transforms pipelines\n",
      "Collecting items from ClassId          0  \\\n",
      "ImageId              \n",
      "0002cc93b.jpg  NaN   \n",
      "00031f466.jpg   -1   \n",
      "000418bfc.jpg   -1   \n",
      "000789191.jpg   -1   \n",
      "0007a71bf.jpg  NaN   \n",
      "...            ...   \n",
      "fff0295e1.jpg   -1   \n",
      "fff02e9c5.jpg  NaN   \n",
      "fffe98443.jpg  NaN   \n",
      "ffff4eaa8.jpg  NaN   \n",
      "ffffd67df.jpg  NaN   \n",
      "\n",
      "ClassId                                                                                                                                                                                                                                                                                                                                                                                                                                                                                                                                                                                                                              1  \\\n",
      "ImageId                                                                                                                                                                                                                                                                                                                                                                                                                                                                                                                                                                                                                                  \n",
      "0002cc93b.jpg  29102 12 29346 24 29602 24 29858 24 30114 24 30370 24 30626 24 30882 24 31139 23 31395 23 31651 23 31907 23 32163 23 32419 23 32675 23 77918 27 78174 55 78429 60 78685 64 78941 68 79197 72 79452 77 79708 81 79964 85 80220 89 80475 94 80731 98 80987 102 81242 105 81498 105 81754 104 82010 104 82265 105 82521 31 82556 69 82779 27 82818 63 83038 22 83080 57 83297 17 83342 50 83555 13 83604 44 83814 8 83866 37 84073 3 84128 31 84390 25 84652 18 84918 8 85239 10 85476 29 85714 47 85960 57 86216 57 86471 58 86727 58 86983 58 87238 59 87494 59 87750 59 88005 60 88261 60 88517 60 88772 61 89028 53...   \n",
      "00031f466.jpg                                                                                                                                                                                                                                                                                                                                                                                                                                                                                                                                                                                                                      NaN   \n",
      "000418bfc.jpg                                                                                                                                                                                                                                                                                                                                                                                                                                                                                                                                                                                                                      NaN   \n",
      "000789191.jpg                                                                                                                                                                                                                                                                                                                                                                                                                                                                                                                                                                                                                      NaN   \n",
      "0007a71bf.jpg                                                                                                                                                                                                                                                                                                                                                                                                                                                                                                                                                                                                                      NaN   \n",
      "...                                                                                                                                                                                                                                                                                                                                                                                                                                                                                                                                                                                                                                ...   \n",
      "fff0295e1.jpg                                                                                                                                                                                                                                                                                                                                                                                                                                                                                                                                                                                                                      NaN   \n",
      "fff02e9c5.jpg                                                                                                                                                                                                                                                                                                                                                                                                                                                                                                                                                                                                                      NaN   \n",
      "fffe98443.jpg                                                                                                                                                                                                                                                                                                                                                                                                                                                                                                                                                                                                                      NaN   \n",
      "ffff4eaa8.jpg                                                                                                                                                                                                                                                                                                                                                                                                                                                                                                                                                                                                                      NaN   \n",
      "ffffd67df.jpg                                                                                                                                                                                                                                                                                                                                                                                                                                                                                                                                                                                                                      NaN   \n",
      "\n",
      "ClassId          2  \\\n",
      "ImageId              \n",
      "0002cc93b.jpg  NaN   \n",
      "00031f466.jpg  NaN   \n",
      "000418bfc.jpg  NaN   \n",
      "000789191.jpg  NaN   \n",
      "0007a71bf.jpg  NaN   \n",
      "...            ...   \n",
      "fff0295e1.jpg  NaN   \n",
      "fff02e9c5.jpg  NaN   \n",
      "fffe98443.jpg  NaN   \n",
      "ffff4eaa8.jpg  NaN   \n",
      "ffffd67df.jpg  NaN   \n",
      "\n",
      "ClassId                                                                                                                                                                                                                                                                                                                                                                                                                                                                                                                                                                                                                              3  \\\n",
      "ImageId                                                                                                                                                                                                                                                                                                                                                                                                                                                                                                                                                                                                                                  \n",
      "0002cc93b.jpg                                                                                                                                                                                                                                                                                                                                                                                                                                                                                                                                                                                                                      NaN   \n",
      "00031f466.jpg                                                                                                                                                                                                                                                                                                                                                                                                                                                                                                                                                                                                                      NaN   \n",
      "000418bfc.jpg                                                                                                                                                                                                                                                                                                                                                                                                                                                                                                                                                                                                                      NaN   \n",
      "000789191.jpg                                                                                                                                                                                                                                                                                                                                                                                                                                                                                                                                                                                                                      NaN   \n",
      "0007a71bf.jpg                                                                                                                                                                                                                     18661 28 18863 82 19091 110 19347 110 19603 110 19859 110 20115 110 20371 110 20627 110 20883 110 21139 110 21395 110 21651 110 21962 55 293125 251 293381 251 293637 251 293893 251 294149 251 294405 251 294661 251 294917 251 295173 251 295429 251 295685 251 295941 251 296197 251 296453 251 296709 251 296965 251 297221 251 297477 251 297733 251 297989 251 298245 251 298564 188 298945 63   \n",
      "...                                                                                                                                                                                                                                                                                                                                                                                                                                                                                                                                                                                                                                ...   \n",
      "fff0295e1.jpg                                                                                                                                                                                                                                                                                                                                                                                                                                                                                                                                                                                                                      NaN   \n",
      "fff02e9c5.jpg  207523 3 207777 9 208030 15 208283 22 208537 27 208790 34 209043 40 209297 46 209550 51 209803 54 210057 57 210311 59 210567 60 210823 60 211079 61 211335 61 211538 20 211591 62 211784 31 211847 62 212039 33 212103 63 212293 35 212359 63 212548 37 212615 64 212803 39 212871 64 213058 41 213127 65 213312 43 213383 65 213567 45 213639 65 213822 46 213895 65 214076 49 214151 65 214331 50 214407 65 214586 51 214663 65 214841 53 214919 65 215095 55 215175 65 215350 57 215431 65 215605 58 215687 65 215861 59 215943 65 216116 60 216200 64 216372 60 216456 64 216628 60 216712 64 216883 60 216968 6...   \n",
      "fffe98443.jpg                                                                          105929 5 106177 14 106424 24 106672 33 106923 39 107179 40 107435 41 107692 41 107948 42 108204 43 108460 44 108717 44 108973 45 109229 46 109485 47 109741 48 109998 47 110254 48 110510 49 110766 50 111023 50 111279 51 111535 52 111791 53 112048 53 112304 54 112560 55 112816 56 113072 57 113329 57 113585 58 113841 59 114097 60 114354 58 114610 57 114866 55 115122 54 115378 53 115635 51 115891 50 116147 48 116403 47 116660 45 116916 44 117172 43 117428 41 117685 39 117941 38 118197 37 118457 32 118721 22 118985 13 119249 4   \n",
      "ffff4eaa8.jpg  16899 7 17155 20 17411 34 17667 47 17923 60 18179 74 18435 87 18691 100 18947 114 19203 127 19459 140 19715 154 19971 167 20227 180 20483 194 20739 207 20995 220 21251 234 21507 247 21763 254 22019 254 22275 254 22531 254 22787 254 23043 254 23299 254 23555 254 23811 254 24067 254 24323 254 24579 254 24836 253 25092 253 25348 253 25604 253 25860 253 26116 253 26372 253 26628 253 26884 253 27140 253 27396 253 27652 253 27908 253 28164 253 28420 253 28676 253 28932 253 29188 253 29444 253 29700 253 29956 227 30212 177 30468 152 30724 151 30980 151 31236 151 31492 150 31748 150 32004 150 3226...   \n",
      "ffffd67df.jpg                                                                                                                                                                                                                                                                                                                                                                                      30931 43 31103 127 31275 211 31489 253 31745 253 32001 253 32257 253 32513 253 32769 253 33025 253 33281 253 33537 253 33793 254 34049 254 34305 254 34561 254 34817 254 35073 254 35329 254 35585 254 35884 211 36224 127 36564 43   \n",
      "\n",
      "ClassId          4  n  \n",
      "ImageId                \n",
      "0002cc93b.jpg  NaN  1  \n",
      "00031f466.jpg  NaN  1  \n",
      "000418bfc.jpg  NaN  1  \n",
      "000789191.jpg  NaN  1  \n",
      "0007a71bf.jpg  NaN  1  \n",
      "...            ... ..  \n",
      "fff0295e1.jpg  NaN  1  \n",
      "fff02e9c5.jpg  NaN  1  \n",
      "fffe98443.jpg  NaN  1  \n",
      "ffff4eaa8.jpg  NaN  1  \n",
      "ffffd67df.jpg  NaN  1  \n",
      "\n",
      "[12568 rows x 6 columns]\n",
      "Found 12568 items\n",
      "2 datasets of sizes 10682,1886\n",
      "Setting up Pipeline: ReadImagePathFromIndex -> PILBase.create\n",
      "Setting up Pipeline: ReadRLEs -> MakeMask -> PILBase.create\n",
      "\n",
      "Building one sample\n",
      "  Pipeline: ReadImagePathFromIndex -> PILBase.create\n",
      "    starting from\n",
      "      ClassId\n",
      "0     -1\n",
      "1    NaN\n",
      "2    NaN\n",
      "3    NaN\n",
      "4    NaN\n",
      "n      1\n",
      "Name: 30edb873c.jpg, dtype: object\n",
      "    applying ReadImagePathFromIndex gives\n",
      "      ../../data/train_images/30edb873c.jpg\n",
      "    applying PILBase.create gives\n",
      "      PILImage mode=RGB size=1600x256\n",
      "  Pipeline: ReadRLEs -> MakeMask -> PILBase.create\n",
      "    starting from\n",
      "      ClassId\n",
      "0     -1\n",
      "1    NaN\n",
      "2    NaN\n",
      "3    NaN\n",
      "4    NaN\n",
      "n      1\n",
      "Name: 30edb873c.jpg, dtype: object\n",
      "    applying ReadRLEs gives\n",
      "      [, , , ]\n",
      "    applying MakeMask gives\n",
      "      [[0. 0. 0. ... 0. 0. 0.]\n",
      " [0. 0. 0. ... 0. 0. 0.]\n",
      " [0. 0. 0. ... 0. 0. 0.]\n",
      " ...\n",
      " [0. 0. 0. ... 0. 0. 0.]\n",
      " [0. 0. 0. ... 0. 0. 0.]\n",
      " [0. 0. 0. ... 0. 0. 0.]]\n",
      "    applying PILBase.create gives\n",
      "      PILMask mode=F size=1600x256\n",
      "\n",
      "Final sample: (PILImage mode=RGB size=1600x256, PILMask mode=F size=1600x256)\n",
      "\n",
      "\n",
      "Collecting items from ClassId          0  \\\n",
      "ImageId              \n",
      "0002cc93b.jpg  NaN   \n",
      "00031f466.jpg   -1   \n",
      "000418bfc.jpg   -1   \n",
      "000789191.jpg   -1   \n",
      "0007a71bf.jpg  NaN   \n",
      "...            ...   \n",
      "fff0295e1.jpg   -1   \n",
      "fff02e9c5.jpg  NaN   \n",
      "fffe98443.jpg  NaN   \n",
      "ffff4eaa8.jpg  NaN   \n",
      "ffffd67df.jpg  NaN   \n",
      "\n",
      "ClassId                                                                                                                                                                                                                                                                                                                                                                                                                                                                                                                                                                                                                              1  \\\n",
      "ImageId                                                                                                                                                                                                                                                                                                                                                                                                                                                                                                                                                                                                                                  \n",
      "0002cc93b.jpg  29102 12 29346 24 29602 24 29858 24 30114 24 30370 24 30626 24 30882 24 31139 23 31395 23 31651 23 31907 23 32163 23 32419 23 32675 23 77918 27 78174 55 78429 60 78685 64 78941 68 79197 72 79452 77 79708 81 79964 85 80220 89 80475 94 80731 98 80987 102 81242 105 81498 105 81754 104 82010 104 82265 105 82521 31 82556 69 82779 27 82818 63 83038 22 83080 57 83297 17 83342 50 83555 13 83604 44 83814 8 83866 37 84073 3 84128 31 84390 25 84652 18 84918 8 85239 10 85476 29 85714 47 85960 57 86216 57 86471 58 86727 58 86983 58 87238 59 87494 59 87750 59 88005 60 88261 60 88517 60 88772 61 89028 53...   \n",
      "00031f466.jpg                                                                                                                                                                                                                                                                                                                                                                                                                                                                                                                                                                                                                      NaN   \n",
      "000418bfc.jpg                                                                                                                                                                                                                                                                                                                                                                                                                                                                                                                                                                                                                      NaN   \n",
      "000789191.jpg                                                                                                                                                                                                                                                                                                                                                                                                                                                                                                                                                                                                                      NaN   \n",
      "0007a71bf.jpg                                                                                                                                                                                                                                                                                                                                                                                                                                                                                                                                                                                                                      NaN   \n",
      "...                                                                                                                                                                                                                                                                                                                                                                                                                                                                                                                                                                                                                                ...   \n",
      "fff0295e1.jpg                                                                                                                                                                                                                                                                                                                                                                                                                                                                                                                                                                                                                      NaN   \n",
      "fff02e9c5.jpg                                                                                                                                                                                                                                                                                                                                                                                                                                                                                                                                                                                                                      NaN   \n",
      "fffe98443.jpg                                                                                                                                                                                                                                                                                                                                                                                                                                                                                                                                                                                                                      NaN   \n",
      "ffff4eaa8.jpg                                                                                                                                                                                                                                                                                                                                                                                                                                                                                                                                                                                                                      NaN   \n",
      "ffffd67df.jpg                                                                                                                                                                                                                                                                                                                                                                                                                                                                                                                                                                                                                      NaN   \n",
      "\n",
      "ClassId          2  \\\n",
      "ImageId              \n",
      "0002cc93b.jpg  NaN   \n",
      "00031f466.jpg  NaN   \n",
      "000418bfc.jpg  NaN   \n",
      "000789191.jpg  NaN   \n",
      "0007a71bf.jpg  NaN   \n",
      "...            ...   \n",
      "fff0295e1.jpg  NaN   \n",
      "fff02e9c5.jpg  NaN   \n",
      "fffe98443.jpg  NaN   \n",
      "ffff4eaa8.jpg  NaN   \n",
      "ffffd67df.jpg  NaN   \n",
      "\n",
      "ClassId                                                                                                                                                                                                                                                                                                                                                                                                                                                                                                                                                                                                                              3  \\\n",
      "ImageId                                                                                                                                                                                                                                                                                                                                                                                                                                                                                                                                                                                                                                  \n",
      "0002cc93b.jpg                                                                                                                                                                                                                                                                                                                                                                                                                                                                                                                                                                                                                      NaN   \n",
      "00031f466.jpg                                                                                                                                                                                                                                                                                                                                                                                                                                                                                                                                                                                                                      NaN   \n",
      "000418bfc.jpg                                                                                                                                                                                                                                                                                                                                                                                                                                                                                                                                                                                                                      NaN   \n",
      "000789191.jpg                                                                                                                                                                                                                                                                                                                                                                                                                                                                                                                                                                                                                      NaN   \n",
      "0007a71bf.jpg                                                                                                                                                                                                                     18661 28 18863 82 19091 110 19347 110 19603 110 19859 110 20115 110 20371 110 20627 110 20883 110 21139 110 21395 110 21651 110 21962 55 293125 251 293381 251 293637 251 293893 251 294149 251 294405 251 294661 251 294917 251 295173 251 295429 251 295685 251 295941 251 296197 251 296453 251 296709 251 296965 251 297221 251 297477 251 297733 251 297989 251 298245 251 298564 188 298945 63   \n",
      "...                                                                                                                                                                                                                                                                                                                                                                                                                                                                                                                                                                                                                                ...   \n",
      "fff0295e1.jpg                                                                                                                                                                                                                                                                                                                                                                                                                                                                                                                                                                                                                      NaN   \n",
      "fff02e9c5.jpg  207523 3 207777 9 208030 15 208283 22 208537 27 208790 34 209043 40 209297 46 209550 51 209803 54 210057 57 210311 59 210567 60 210823 60 211079 61 211335 61 211538 20 211591 62 211784 31 211847 62 212039 33 212103 63 212293 35 212359 63 212548 37 212615 64 212803 39 212871 64 213058 41 213127 65 213312 43 213383 65 213567 45 213639 65 213822 46 213895 65 214076 49 214151 65 214331 50 214407 65 214586 51 214663 65 214841 53 214919 65 215095 55 215175 65 215350 57 215431 65 215605 58 215687 65 215861 59 215943 65 216116 60 216200 64 216372 60 216456 64 216628 60 216712 64 216883 60 216968 6...   \n",
      "fffe98443.jpg                                                                          105929 5 106177 14 106424 24 106672 33 106923 39 107179 40 107435 41 107692 41 107948 42 108204 43 108460 44 108717 44 108973 45 109229 46 109485 47 109741 48 109998 47 110254 48 110510 49 110766 50 111023 50 111279 51 111535 52 111791 53 112048 53 112304 54 112560 55 112816 56 113072 57 113329 57 113585 58 113841 59 114097 60 114354 58 114610 57 114866 55 115122 54 115378 53 115635 51 115891 50 116147 48 116403 47 116660 45 116916 44 117172 43 117428 41 117685 39 117941 38 118197 37 118457 32 118721 22 118985 13 119249 4   \n",
      "ffff4eaa8.jpg  16899 7 17155 20 17411 34 17667 47 17923 60 18179 74 18435 87 18691 100 18947 114 19203 127 19459 140 19715 154 19971 167 20227 180 20483 194 20739 207 20995 220 21251 234 21507 247 21763 254 22019 254 22275 254 22531 254 22787 254 23043 254 23299 254 23555 254 23811 254 24067 254 24323 254 24579 254 24836 253 25092 253 25348 253 25604 253 25860 253 26116 253 26372 253 26628 253 26884 253 27140 253 27396 253 27652 253 27908 253 28164 253 28420 253 28676 253 28932 253 29188 253 29444 253 29700 253 29956 227 30212 177 30468 152 30724 151 30980 151 31236 151 31492 150 31748 150 32004 150 3226...   \n",
      "ffffd67df.jpg                                                                                                                                                                                                                                                                                                                                                                                      30931 43 31103 127 31275 211 31489 253 31745 253 32001 253 32257 253 32513 253 32769 253 33025 253 33281 253 33537 253 33793 254 34049 254 34305 254 34561 254 34817 254 35073 254 35329 254 35585 254 35884 211 36224 127 36564 43   \n",
      "\n",
      "ClassId          4  n  \n",
      "ImageId                \n",
      "0002cc93b.jpg  NaN  1  \n",
      "00031f466.jpg  NaN  1  \n",
      "000418bfc.jpg  NaN  1  \n",
      "000789191.jpg  NaN  1  \n",
      "0007a71bf.jpg  NaN  1  \n",
      "...            ... ..  \n",
      "fff0295e1.jpg  NaN  1  \n",
      "fff02e9c5.jpg  NaN  1  \n",
      "fffe98443.jpg  NaN  1  \n",
      "ffff4eaa8.jpg  NaN  1  \n",
      "ffffd67df.jpg  NaN  1  \n",
      "\n",
      "[12568 rows x 6 columns]\n",
      "Found 12568 items\n",
      "2 datasets of sizes 10682,1886\n",
      "Setting up Pipeline: ReadImagePathFromIndex -> PILBase.create\n",
      "Setting up Pipeline: ReadRLEs -> MakeMask -> PILBase.create\n"
     ]
    },
    {
     "name": "stdout",
     "output_type": "stream",
     "text": [
      "Setting up after_item: Pipeline: AddMaskCodes -> AlbumentationsTransform -- {} -> ToTensor\n",
      "Setting up before_batch: Pipeline: \n",
      "Setting up after_batch: Pipeline: ChannelMask -> IntToFloatTensor -- {'div': 255.0, 'div_mask': 1} -> Normalize -- {'mean': tensor([[[[0.4850]],\n",
      "\n",
      "         [[0.4560]],\n",
      "\n",
      "         [[0.4060]]]]), 'std': tensor([[[[0.2290]],\n",
      "\n",
      "         [[0.2240]],\n",
      "\n",
      "         [[0.2250]]]]), 'axes': (0, 2, 3)}\n",
      "\n",
      "Building one batch\n",
      "Applying item_tfms to the first sample:\n",
      "  Pipeline: AddMaskCodes -> AlbumentationsTransform -- {} -> ToTensor\n",
      "    starting from\n",
      "      (PILImage mode=RGB size=1600x256, PILMask mode=F size=1600x256)\n",
      "    applying AddMaskCodes gives\n",
      "      (PILImage mode=RGB size=1600x256, PILMask mode=F size=1600x256)\n",
      "    applying AlbumentationsTransform -- {} gives\n",
      "      (PILImage mode=RGB size=1568x224, PILMask mode=F size=1568x224)\n",
      "    applying ToTensor gives\n",
      "      (TensorImage of size 3x224x1568, TensorMask of size 224x1568)\n",
      "\n",
      "Adding the next 3 samples\n"
     ]
    },
    {
     "name": "stderr",
     "output_type": "stream",
     "text": [
      "/home/marco/miniconda3/envs/severstal/lib/python3.8/site-packages/torch/_tensor.py:575: UserWarning: floor_divide is deprecated, and will be removed in a future version of pytorch. It currently rounds toward 0 (like the 'trunc' function NOT 'floor'). This results in incorrect rounding for negative values.\n",
      "To keep the current behavior, use torch.div(a, b, rounding_mode='trunc'), or for actual floor division, use torch.div(a, b, rounding_mode='floor'). (Triggered internally at  /pytorch/aten/src/ATen/native/BinaryOps.cpp:467.)\n",
      "  return torch.floor_divide(self, other)\n"
     ]
    },
    {
     "name": "stdout",
     "output_type": "stream",
     "text": [
      "\n",
      "No before_batch transform to apply\n",
      "\n",
      "Collating items in a batch\n",
      "\n",
      "Applying batch_tfms to the batch built\n",
      "  Pipeline: ChannelMask -> IntToFloatTensor -- {'div': 255.0, 'div_mask': 1} -> Normalize -- {'mean': tensor([[[[0.4850]],\n",
      "\n",
      "         [[0.4560]],\n",
      "\n",
      "         [[0.4060]]]]), 'std': tensor([[[[0.2290]],\n",
      "\n",
      "         [[0.2240]],\n",
      "\n",
      "         [[0.2250]]]]), 'axes': (0, 2, 3)}\n",
      "    starting from\n",
      "      (TensorImage of size 4x3x224x1568, TensorMask of size 4x224x1568)\n",
      "    applying ChannelMask gives\n",
      "      (TensorImage of size 4x3x224x1568, TensorMask of size 4x4x224x1568)\n",
      "    applying IntToFloatTensor -- {'div': 255.0, 'div_mask': 1} gives\n",
      "      (TensorImage of size 4x3x224x1568, TensorMask of size 4x4x224x1568)\n",
      "    applying Normalize -- {'mean': tensor([[[[0.4850]],\n",
      "\n",
      "         [[0.4560]],\n",
      "\n",
      "         [[0.4060]]]]), 'std': tensor([[[[0.2290]],\n",
      "\n",
      "         [[0.2240]],\n",
      "\n",
      "         [[0.2250]]]]), 'axes': (0, 2, 3)} gives\n",
      "      (TensorImage of size 4x3x224x1568, TensorMask of size 4x4x224x1568)\n"
     ]
    }
   ],
   "source": [
    "path = Path(\"../../data/\")\n",
    "\n",
    "df = get_train_df(path)\n",
    "df_pivot = get_train_pivot(df)\n",
    "\n",
    "splitter = TrainTestSplitter(0.15)\n",
    "\n",
    "block = SteelDataBlock(path, splitter)\n",
    "block.summary(df_pivot)"
   ]
  },
  {
   "cell_type": "markdown",
   "metadata": {
    "id": "4mB7_YIT5Qf4"
   },
   "source": [
    "## Test the API"
   ]
  },
  {
   "cell_type": "code",
   "execution_count": 9,
   "metadata": {},
   "outputs": [],
   "source": [
    "from steel_segmentation.transforms import MakeMask"
   ]
  },
  {
   "cell_type": "code",
   "execution_count": 11,
   "metadata": {
    "id": "omTCTNVFO1If"
   },
   "outputs": [],
   "source": [
    "tfm_path = ReadImagePathFromIndex(pref=(path/\"train_images\"))\n",
    "tfm_rles = ReadRLEs(cols=[1,2,3,4])\n",
    "\n",
    "tfm_mask = MakeMask()\n",
    "tfm_splitter = TrainTestSplitter(0.15)\n",
    "tfm_addCodes = AddMaskCodes([1,2,3,4])\n",
    "\n",
    "train_aug = get_train_aug()\n",
    "valid_aug = get_valid_aug()\n",
    "tfm_alb = AlbumentationsTransform(train_aug, valid_aug)\n",
    "\n",
    "tfm_toTensor = ToTensor()\n",
    "tfm_toFloat = IntToFloatTensor()\n",
    "tfm_mask4chs = ChannelMask()"
   ]
  },
  {
   "cell_type": "code",
   "execution_count": 12,
   "metadata": {
    "id": "Ku6Q-hwsPNI1"
   },
   "outputs": [],
   "source": [
    "elem = 1235\n",
    "df_elem = df_pivot.iloc[elem]"
   ]
  },
  {
   "cell_type": "markdown",
   "metadata": {
    "id": "qcOeFfP7Lrhy"
   },
   "source": [
    "Get x:"
   ]
  },
  {
   "cell_type": "code",
   "execution_count": 13,
   "metadata": {
    "colab": {
     "base_uri": "https://localhost:8080/",
     "height": 36
    },
    "executionInfo": {
     "elapsed": 32,
     "status": "ok",
     "timestamp": 1627840456726,
     "user": {
      "displayName": "Marco Matteo Buzzulini",
      "photoUrl": "",
      "userId": "16413977196805810676"
     },
     "user_tz": -120
    },
    "id": "Kk7gZt4OR9Yu",
    "outputId": "b9dad477-e0d3-4390-d1a8-2a70f1d78615"
   },
   "outputs": [
    {
     "data": {
      "text/plain": [
       "'../../data/train_images/193eeae52.jpg'"
      ]
     },
     "execution_count": 13,
     "metadata": {},
     "output_type": "execute_result"
    }
   ],
   "source": [
    "elem_path = tfm_path(df_elem)\n",
    "elem_path"
   ]
  },
  {
   "cell_type": "markdown",
   "metadata": {
    "id": "WmB-zxBGLuWd"
   },
   "source": [
    "Get y:"
   ]
  },
  {
   "cell_type": "code",
   "execution_count": 14,
   "metadata": {
    "colab": {
     "base_uri": "https://localhost:8080/"
    },
    "executionInfo": {
     "elapsed": 27,
     "status": "ok",
     "timestamp": 1627840456728,
     "user": {
      "displayName": "Marco Matteo Buzzulini",
      "photoUrl": "",
      "userId": "16413977196805810676"
     },
     "user_tz": -120
    },
    "id": "fDYs27tsPO3X",
    "outputId": "41dbdf7f-12d9-49d9-ba6a-ceb038bee3a3"
   },
   "outputs": [
    {
     "data": {
      "text/plain": [
       "['',\n",
       " '',\n",
       " '150273 55 150529 110 150785 111 151041 111 151297 112 151553 112 151809 113 152065 113 152321 114 152577 115 152815 133 153036 169 153258 203 153479 1401 154882 254 155138 254 155394 254 155650 254 155906 254 156162 254 156418 254 156674 241 156930 216 157186 190 157442 165 157698 140 157954 114 158210 89 158466 64 158722 38 158978 13 284417 30 284673 88 284929 147 285185 205 285441 235 285697 235 285953 235 286209 235 286465 235 286721 235 286977 235 287233 235 287489 234 287745 234 288001 234 288257 234 288513 234 288769 234 289025 234 289281 210 289537 164 289793 117 290049 70 290305 24 300289 29 300545 85 300801 141 301057 197 301313 225 301569 224 301825 224 302081 223 302338 221 302594 221 302850 220 303106 219 303362 219 303618 218 303874 217 304130 217 304386 216 304642 215 304898 214 305154 214 305410 213 305666 212 305922 212 306178 211 306435 209 306691 209 306947 208 307203 187 307459 145 307715 104 307971 63 308227 21 327425 32 327681 96 327937 160 328193 224 328449 2816 331308 213 331649 128 331990 43 339649 64 339777 9664 349453 244 349732 221 350011 198 350291 174 350570 151 350849 128 351128 105 351407 82 351687 58 351966 35 352245 12',\n",
       " '']"
      ]
     },
     "execution_count": 14,
     "metadata": {},
     "output_type": "execute_result"
    }
   ],
   "source": [
    "elem_rles = tfm_rles(df_elem)\n",
    "elem_rles"
   ]
  },
  {
   "cell_type": "code",
   "execution_count": 15,
   "metadata": {
    "colab": {
     "base_uri": "https://localhost:8080/"
    },
    "executionInfo": {
     "elapsed": 24,
     "status": "ok",
     "timestamp": 1627840456729,
     "user": {
      "displayName": "Marco Matteo Buzzulini",
      "photoUrl": "",
      "userId": "16413977196805810676"
     },
     "user_tz": -120
    },
    "id": "jppNKLBnRzx-",
    "outputId": "a20c6ac2-04e0-40b8-b10c-262314858906"
   },
   "outputs": [
    {
     "name": "stdout",
     "output_type": "stream",
     "text": [
      "Shape:  (256, 1600)\n",
      "Mask pixels:  [0. 3.]\n"
     ]
    }
   ],
   "source": [
    "elem_mask = tfm_mask(elem_rles)\n",
    "print(\"Shape: \", elem_mask.shape)\n",
    "print(\"Mask pixels: \", np.unique(elem_mask))"
   ]
  },
  {
   "cell_type": "code",
   "execution_count": 16,
   "metadata": {
    "colab": {
     "base_uri": "https://localhost:8080/"
    },
    "executionInfo": {
     "elapsed": 347,
     "status": "ok",
     "timestamp": 1627840457055,
     "user": {
      "displayName": "Marco Matteo Buzzulini",
      "photoUrl": "",
      "userId": "16413977196805810676"
     },
     "user_tz": -120
    },
    "id": "1o9DdKWLVY9F",
    "outputId": "8c8ef993-ab81-4b4e-fdd2-99c1cef764b5"
   },
   "outputs": [
    {
     "data": {
      "text/plain": [
       "['',\n",
       " '',\n",
       " '150273 55 150529 110 150785 111 151041 111 151297 112 151553 112 151809 113 152065 113 152321 114 152577 115 152815 133 153036 169 153258 203 153479 1401 154882 254 155138 254 155394 254 155650 254 155906 254 156162 254 156418 254 156674 241 156930 216 157186 190 157442 165 157698 140 157954 114 158210 89 158466 64 158722 38 158978 13 284417 30 284673 88 284929 147 285185 205 285441 235 285697 235 285953 235 286209 235 286465 235 286721 235 286977 235 287233 235 287489 234 287745 234 288001 234 288257 234 288513 234 288769 234 289025 234 289281 210 289537 164 289793 117 290049 70 290305 24 300289 29 300545 85 300801 141 301057 197 301313 225 301569 224 301825 224 302081 223 302338 221 302594 221 302850 220 303106 219 303362 219 303618 218 303874 217 304130 217 304386 216 304642 215 304898 214 305154 214 305410 213 305666 212 305922 212 306178 211 306435 209 306691 209 306947 208 307203 187 307459 145 307715 104 307971 63 308227 21 327425 32 327681 96 327937 160 328193 224 328449 2816 331308 213 331649 128 331990 43 339649 64 339777 9664 349453 244 349732 221 350011 198 350291 174 350570 151 350849 128 351128 105 351407 82 351687 58 351966 35 352245 12',\n",
       " '']"
      ]
     },
     "execution_count": 16,
     "metadata": {},
     "output_type": "execute_result"
    }
   ],
   "source": [
    "elem_decoded_mask = tfm_mask.decodes(elem_mask)\n",
    "elem_decoded_mask"
   ]
  },
  {
   "cell_type": "code",
   "execution_count": 17,
   "metadata": {
    "id": "T43Jfg_6V6P8"
   },
   "outputs": [],
   "source": [
    "test_eq(elem_rles, elem_decoded_mask)"
   ]
  },
  {
   "cell_type": "markdown",
   "metadata": {
    "id": "FJxOaaPRLz1m"
   },
   "source": [
    "Splits into train and validation ds:"
   ]
  },
  {
   "cell_type": "code",
   "execution_count": 18,
   "metadata": {
    "id": "1JZwWM-J50Pb"
   },
   "outputs": [],
   "source": [
    "splitter = L(tfm_splitter(df_pivot))"
   ]
  },
  {
   "cell_type": "markdown",
   "metadata": {
    "id": "g77uq4pqL5xR"
   },
   "source": [
    "Datasets for train and valid example:"
   ]
  },
  {
   "cell_type": "code",
   "execution_count": 19,
   "metadata": {
    "id": "cJg7KjRuwAUq"
   },
   "outputs": [],
   "source": [
    "x_tfms = Pipeline([tfm_path, PILImage.create])\n",
    "y_tfms = Pipeline([tfm_rles, tfm_mask, PILMask.create])\n",
    "dsets = Datasets(df_pivot, [x_tfms, y_tfms], splits=splitter)"
   ]
  },
  {
   "cell_type": "code",
   "execution_count": 20,
   "metadata": {
    "colab": {
     "base_uri": "https://localhost:8080/"
    },
    "executionInfo": {
     "elapsed": 268,
     "status": "ok",
     "timestamp": 1627840457317,
     "user": {
      "displayName": "Marco Matteo Buzzulini",
      "photoUrl": "",
      "userId": "16413977196805810676"
     },
     "user_tz": -120
    },
    "id": "PdiTppsiwI3u",
    "outputId": "6057f260-7947-4b8d-ea87-b56ed39fc506"
   },
   "outputs": [
    {
     "data": {
      "text/plain": [
       "(PILImage mode=RGB size=1600x256, PILMask mode=F size=1600x256)"
      ]
     },
     "execution_count": 20,
     "metadata": {},
     "output_type": "execute_result"
    }
   ],
   "source": [
    "xy = dsets.train[0]\n",
    "xy"
   ]
  },
  {
   "cell_type": "code",
   "execution_count": 21,
   "metadata": {
    "colab": {
     "base_uri": "https://localhost:8080/"
    },
    "executionInfo": {
     "elapsed": 11,
     "status": "ok",
     "timestamp": 1627840457318,
     "user": {
      "displayName": "Marco Matteo Buzzulini",
      "photoUrl": "",
      "userId": "16413977196805810676"
     },
     "user_tz": -120
    },
    "id": "E4L6pLb39EJd",
    "outputId": "d79a46b4-9e65-4ab0-9d2e-5b7e35dfb669"
   },
   "outputs": [
    {
     "name": "stdout",
     "output_type": "stream",
     "text": [
      "Types: torch.uint8, torch.float32\n"
     ]
    },
    {
     "data": {
      "text/plain": [
       "(torch.Size([3, 256, 1600]), torch.Size([256, 1600]))"
      ]
     },
     "execution_count": 21,
     "metadata": {},
     "output_type": "execute_result"
    }
   ],
   "source": [
    "t_xy = tfm_toTensor(xy)\n",
    "print(f\"Types: {t_xy[0].dtype}, {t_xy[1].dtype}\")\n",
    "t_xy[0].shape, t_xy[1].shape"
   ]
  },
  {
   "cell_type": "code",
   "execution_count": 22,
   "metadata": {
    "colab": {
     "base_uri": "https://localhost:8080/",
     "height": 112
    },
    "executionInfo": {
     "elapsed": 396,
     "status": "ok",
     "timestamp": 1627840457708,
     "user": {
      "displayName": "Marco Matteo Buzzulini",
      "photoUrl": "",
      "userId": "16413977196805810676"
     },
     "user_tz": -120
    },
    "id": "VTOqeEvZE1Ps",
    "outputId": "2cafd3fc-3d2f-42dd-9dc4-b8611bfb7ac6"
   },
   "outputs": [
    {
     "data": {
      "image/png": "[encoded data removed]",
      "text/plain": [
       "<Figure size 1440x360 with 2 Axes>"
      ]
     },
     "metadata": {
      "needs_background": "light"
     },
     "output_type": "display_data"
    }
   ],
   "source": [
    "show_images(t_xy, figsize=(20,5))"
   ]
  },
  {
   "cell_type": "code",
   "execution_count": 23,
   "metadata": {
    "colab": {
     "base_uri": "https://localhost:8080/",
     "height": 112
    },
    "executionInfo": {
     "elapsed": 973,
     "status": "ok",
     "timestamp": 1627840484654,
     "user": {
      "displayName": "Marco Matteo Buzzulini",
      "photoUrl": "",
      "userId": "16413977196805810676"
     },
     "user_tz": -120
    },
    "id": "NhEUDgsnOvG5",
    "outputId": "2c27e34f-caa7-4981-dc34-b31d72970e78"
   },
   "outputs": [
    {
     "data": {
      "image/png": "[encoded data removed]",
      "text/plain": [
       "<Figure size 1440x360 with 2 Axes>"
      ]
     },
     "metadata": {
      "needs_background": "light"
     },
     "output_type": "display_data"
    }
   ],
   "source": [
    "#%debug\n",
    "augs = tfm_alb(xy, split_idx=0) #pipeline problem\n",
    "show_images(augs, figsize=(20,5))"
   ]
  },
  {
   "cell_type": "code",
   "execution_count": 24,
   "metadata": {
    "colab": {
     "base_uri": "https://localhost:8080/"
    },
    "executionInfo": {
     "elapsed": 10,
     "status": "ok",
     "timestamp": 1627840484655,
     "user": {
      "displayName": "Marco Matteo Buzzulini",
      "photoUrl": "",
      "userId": "16413977196805810676"
     },
     "user_tz": -120
    },
    "id": "o-q0zsPACdmm",
    "outputId": "cf8d4625-ceb5-414e-aed2-169027387b39"
   },
   "outputs": [
    {
     "name": "stdout",
     "output_type": "stream",
     "text": [
      "Types: torch.uint8, torch.float32\n"
     ]
    },
    {
     "data": {
      "text/plain": [
       "(torch.Size([3, 256, 1600]), torch.Size([256, 1600]))"
      ]
     },
     "execution_count": 24,
     "metadata": {},
     "output_type": "execute_result"
    }
   ],
   "source": [
    "t_xy = tfm_addCodes(t_xy)\n",
    "print(f\"Types: {t_xy[0].dtype}, {t_xy[1].dtype}\", )\n",
    "t_xy[0].shape, t_xy[1].shape"
   ]
  },
  {
   "cell_type": "code",
   "execution_count": 25,
   "metadata": {
    "colab": {
     "base_uri": "https://localhost:8080/"
    },
    "executionInfo": {
     "elapsed": 12,
     "status": "ok",
     "timestamp": 1627840484994,
     "user": {
      "displayName": "Marco Matteo Buzzulini",
      "photoUrl": "",
      "userId": "16413977196805810676"
     },
     "user_tz": -120
    },
    "id": "-Yc5sovbwuG3",
    "outputId": "ab2ebba8-ae99-4cd6-bd1c-738818a802d0"
   },
   "outputs": [
    {
     "name": "stdout",
     "output_type": "stream",
     "text": [
      "Types: torch.uint8, torch.float32\n"
     ]
    },
    {
     "data": {
      "text/plain": [
       "(torch.Size([3, 256, 1600]), torch.Size([4, 256, 1600]))"
      ]
     },
     "execution_count": 25,
     "metadata": {},
     "output_type": "execute_result"
    }
   ],
   "source": [
    "tch_xy = tfm_mask4chs(t_xy)\n",
    "print(f\"Types: {tch_xy[0].dtype}, {tch_xy[1].dtype}\", )\n",
    "tch_xy[0].shape, tch_xy[1].shape"
   ]
  },
  {
   "cell_type": "code",
   "execution_count": 26,
   "metadata": {
    "colab": {
     "base_uri": "https://localhost:8080/"
    },
    "executionInfo": {
     "elapsed": 23,
     "status": "ok",
     "timestamp": 1627840485388,
     "user": {
      "displayName": "Marco Matteo Buzzulini",
      "photoUrl": "",
      "userId": "16413977196805810676"
     },
     "user_tz": -120
    },
    "id": "f55jGQkA9ZrZ",
    "outputId": "2f1b38bd-05a2-4f7e-c540-5b9f2bbfe1e3"
   },
   "outputs": [
    {
     "name": "stdout",
     "output_type": "stream",
     "text": [
      "Types: torch.float32, torch.int64\n"
     ]
    },
    {
     "data": {
      "text/plain": [
       "(torch.Size([3, 256, 1600]), torch.Size([4, 256, 1600]))"
      ]
     },
     "execution_count": 26,
     "metadata": {},
     "output_type": "execute_result"
    }
   ],
   "source": [
    "tf_xy = tfm_toFloat(tch_xy)\n",
    "print(f\"Types: {tf_xy[0].dtype}, {tf_xy[1].dtype}\", )\n",
    "tf_xy[0].shape, tf_xy[1].shape"
   ]
  },
  {
   "cell_type": "code",
   "execution_count": 27,
   "metadata": {},
   "outputs": [
    {
     "name": "stdout",
     "output_type": "stream",
     "text": [
      "Converted 01_metadata.ipynb.\n",
      "Converted 02_masks.ipynb.\n",
      "Converted 03_datasets.ipynb.\n",
      "Converted 04_dataloaders.ipynb.\n",
      "Converted 05_metrics.ipynb.\n",
      "Converted 06_loss.ipynb.\n",
      "Converted 07_trainer.ipynb.\n",
      "Converted 08_predict.ipynb.\n",
      "Converted 11_eda.ipynb.\n",
      "Converted 12_transforms.ipynb.\n",
      "Converted 13_dataset.ipynb.\n",
      "Converted index.ipynb.\n"
     ]
    }
   ],
   "source": [
    "# hide\n",
    "from nbdev.export import notebook2script\n",
    "notebook2script()"
   ]
  }
 ],
 "metadata": {
  "colab": {
   "collapsed_sections": [
    "4mB7_YIT5Qf4"
   ],
   "machine_shape": "hm",
   "name": "dataset.ipynb",
   "provenance": [
    {
     "file_id": "1pbn_zUC3QZA8qMRP-t-NIU8jIwdRh_8L",
     "timestamp": 1621236147081
    },
    {
     "file_id": "1d_7axqPO6iSbI6joKb5EAFKV2rPmXt6X",
     "timestamp": 1616355958319
    }
   ]
  },
  "kernelspec": {
   "display_name": "Python 3 (ipykernel)",
   "language": "python",
   "name": "python3"
  },
  "language_info": {
   "codemirror_mode": {
    "name": "ipython",
    "version": 3
   },
   "file_extension": ".py",
   "mimetype": "text/x-python",
   "name": "python",
   "nbconvert_exporter": "python",
   "pygments_lexer": "ipython3",
   "version": "3.8.11"
  }
 },
 "nbformat": 4,
 "nbformat_minor": 1
}
