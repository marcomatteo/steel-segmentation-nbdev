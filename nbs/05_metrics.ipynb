{
 "cells": [
  {
   "cell_type": "code",
   "execution_count": null,
   "metadata": {},
   "outputs": [],
   "source": [
    "#default_exp metrics"
   ]
  },
  {
   "cell_type": "code",
   "execution_count": null,
   "metadata": {},
   "outputs": [],
   "source": [
    "#hide\n",
    "#missing\n",
    "!git clone https://github.com/marcomatteo/steel_segmentation.git"
   ]
  },
  {
   "cell_type": "code",
   "execution_count": null,
   "metadata": {},
   "outputs": [],
   "source": [
    "#hide\n",
    "#missing\n",
    "!pip install -e steel_segmentation"
   ]
  },
  {
   "cell_type": "markdown",
   "metadata": {},
   "source": [
    "# Metrics\n",
    "\n",
    "> A collection of Metrics used in the segmentation models"
   ]
  },
  {
   "cell_type": "markdown",
   "metadata": {},
   "source": [
    "[![Open In Colab](https://colab.research.google.com/assets/colab-badge.svg)](https://colab.research.google.com/github/marcomatteo/steel_segmentation/blob/master/nbs/05_metrics.ipynb)"
   ]
  },
  {
   "cell_type": "code",
   "execution_count": null,
   "metadata": {},
   "outputs": [],
   "source": [
    "# hide\n",
    "%load_ext autoreload\n",
    "%autoreload 2\n",
    "%matplotlib inline"
   ]
  },
  {
   "cell_type": "code",
   "execution_count": null,
   "metadata": {},
   "outputs": [],
   "source": [
    "# hide\n",
    "from nbdev.showdoc import *"
   ]
  },
  {
   "cell_type": "code",
   "execution_count": null,
   "metadata": {},
   "outputs": [],
   "source": [
    "# export\n",
    "from steel_segmentation.metadata import *\n",
    "from steel_segmentation.masks import *\n",
    "from steel_segmentation.datasets import *\n",
    "from steel_segmentation.dataloaders import *\n",
    "\n",
    "import fastai\n",
    "from fastai.vision.all import *\n",
    "from fastcore.foundation import *\n",
    "\n",
    "import torch\n",
    "import torch.nn.functional as F\n",
    "\n",
    "import segmentation_models_pytorch as smp"
   ]
  },
  {
   "cell_type": "markdown",
   "metadata": {},
   "source": [
    "In this section there are all the metric that can be used to evaluate the performances of the segmentation models trained."
   ]
  },
  {
   "cell_type": "code",
   "execution_count": null,
   "metadata": {},
   "outputs": [
    {
     "data": {
      "text/plain": [
       "(torch.Size([20, 3, 256, 256]), torch.Size([20, 4, 256, 256]))"
      ]
     },
     "execution_count": null,
     "metadata": {},
     "output_type": "execute_result"
    }
   ],
   "source": [
    "# missing\n",
    "device = torch.device(\"cpu\")\n",
    "dls = get_segmnt_dls(bs=20, size=(256, 256))\n",
    "x, targs = dls.train.one_batch()\n",
    "x.shape, targs.shape"
   ]
  },
  {
   "cell_type": "code",
   "execution_count": null,
   "metadata": {},
   "outputs": [
    {
     "data": {
      "text/plain": [
       "(device(type='cpu'), device(type='cpu'))"
      ]
     },
     "execution_count": null,
     "metadata": {},
     "output_type": "execute_result"
    }
   ],
   "source": [
    "# missing\n",
    "x = x.cpu()\n",
    "x.device, targs.device"
   ]
  },
  {
   "cell_type": "code",
   "execution_count": null,
   "metadata": {},
   "outputs": [
    {
     "data": {
      "text/plain": [
       "torch.Size([20, 4, 256, 256])"
      ]
     },
     "execution_count": null,
     "metadata": {},
     "output_type": "execute_result"
    }
   ],
   "source": [
    "# missing\n",
    "model = smp.Unet(\"resnet18\", \n",
    "                 encoder_weights=\"imagenet\", \n",
    "                 classes=4, \n",
    "                 activation=None).to(device)\n",
    "logits = model(x)\n",
    "preds = (torch.sigmoid(logits) > 0.5).float()\n",
    "preds.shape"
   ]
  },
  {
   "cell_type": "code",
   "execution_count": null,
   "metadata": {},
   "outputs": [
    {
     "data": {
      "text/plain": [
       "(device(type='cpu'), device(type='cpu'))"
      ]
     },
     "execution_count": null,
     "metadata": {},
     "output_type": "execute_result"
    }
   ],
   "source": [
    "#missing\n",
    "logits.device, preds.device"
   ]
  },
  {
   "cell_type": "markdown",
   "metadata": {},
   "source": [
    "## Multiclass Dice"
   ]
  },
  {
   "cell_type": "markdown",
   "metadata": {},
   "source": [
    "This code comes from the fastai docs to test properly the metrics:"
   ]
  },
  {
   "cell_type": "code",
   "execution_count": null,
   "metadata": {},
   "outputs": [],
   "source": [
    "#For testing: a fake learner and a metric that isn't an average\n",
    "@delegates()\n",
    "class TstLearner(Learner):\n",
    "    def __init__(self,dls=None,model=None,**kwargs): self.pred,self.xb,self.yb = None,None,None\n",
    "        \n",
    "#Go through a fake cycle with various batch sizes and computes the value of met\n",
    "def compute_val(met, pred, y):\n",
    "    met.reset()\n",
    "    vals = [0,6,15,20]\n",
    "    learn = TstLearner()\n",
    "    for i in range(3):\n",
    "        learn.pred = pred[vals[i]:vals[i+1]]\n",
    "        learn.yb = ( y[vals[i]:vals[i+1]], )\n",
    "        met.accumulate(learn)\n",
    "    return met.value"
   ]
  },
  {
   "cell_type": "code",
   "execution_count": null,
   "metadata": {},
   "outputs": [],
   "source": [
    "# export\n",
    "class ModDiceMulti(Metric):\n",
    "    \"Averaged Dice metric (Macro F1) for multiclass target in segmentation\"\n",
    "\n",
    "    def __init__(self, axis=1): self.axis = axis\n",
    "    def reset(self): self.inter, self.union = {}, {}\n",
    "\n",
    "    def accumulate(self, learn):\n",
    "        pred = learn.pred.argmax(dim=self.axis)\n",
    "        y = learn.yb[0]\n",
    "        \n",
    "        # Added to deal with 4-channels masks\n",
    "        if pred.shape != y.shape:\n",
    "            y = y.argmax(dim=self.axis)\n",
    "            \n",
    "        pred, targ = flatten_check(pred, y)\n",
    "        for c in range(learn.pred.shape[self.axis]):\n",
    "            p = torch.where(pred == c, 1, 0)\n",
    "            t = torch.where(targ == c, 1, 0)\n",
    "            p, t = TensorBase(p), TensorBase(t)\n",
    "            c_inter = (p*t).float().sum().item()\n",
    "            c_union = (p+t).float().sum().item()\n",
    "            if c in self.inter:\n",
    "                self.inter[c] += c_inter\n",
    "                self.union[c] += c_union\n",
    "            else:\n",
    "                self.inter[c] = c_inter\n",
    "                self.union[c] = c_union\n",
    "\n",
    "    @property\n",
    "    def value(self):\n",
    "        binary_dice_scores = np.array([])\n",
    "        for c in self.inter:\n",
    "            binary_dice_scores = np.append(\n",
    "                binary_dice_scores, \n",
    "                2.*self.inter[c]/self.union[c] if self.union[c] > 0 else np.nan)\n",
    "        self.binary_dice_scores = binary_dice_scores\n",
    "        return np.nanmean(binary_dice_scores)"
   ]
  },
  {
   "cell_type": "code",
   "execution_count": null,
   "metadata": {},
   "outputs": [],
   "source": [
    "dice_obj = ModDiceMulti()"
   ]
  },
  {
   "cell_type": "code",
   "execution_count": null,
   "metadata": {},
   "outputs": [
    {
     "data": {
      "text/plain": [
       "0.2136215772421966"
      ]
     },
     "execution_count": null,
     "metadata": {},
     "output_type": "execute_result"
    }
   ],
   "source": [
    "# missing\n",
    "compute_val(dice_obj, pred=preds, y=targs)"
   ]
  },
  {
   "cell_type": "markdown",
   "metadata": {},
   "source": [
    "For test purpose, we create a tensor `x1`, as a prediction for the first channel."
   ]
  },
  {
   "cell_type": "code",
   "execution_count": null,
   "metadata": {},
   "outputs": [
    {
     "data": {
      "text/plain": [
       "torch.Size([20, 4, 1, 1])"
      ]
     },
     "execution_count": null,
     "metadata": {},
     "output_type": "execute_result"
    }
   ],
   "source": [
    "x1a = torch.ones(20,1,1,1)\n",
    "x1b = torch.clone(x1a)*0.5\n",
    "x1c = torch.clone(x1a)*0.3\n",
    "x1d = torch.clone(x1a)*0.1\n",
    "\n",
    "x1 = torch.cat((x1a,x1b,x1c,x1d),dim=1)   # Prediction: 20x4\n",
    "x1.shape"
   ]
  },
  {
   "cell_type": "markdown",
   "metadata": {},
   "source": [
    "When target is a flatten mask, used by fastai segmentation models:"
   ]
  },
  {
   "cell_type": "code",
   "execution_count": null,
   "metadata": {},
   "outputs": [
    {
     "data": {
      "text/plain": [
       "torch.Size([20, 1, 1])"
      ]
     },
     "execution_count": null,
     "metadata": {},
     "output_type": "execute_result"
    }
   ],
   "source": [
    "x2 = torch.zeros(20,1,1)  # Target: 20xClass0\n",
    "x2.shape"
   ]
  },
  {
   "cell_type": "markdown",
   "metadata": {},
   "source": [
    "When the target is a 4-channels mask, used by pytorch segmentation models:"
   ]
  },
  {
   "cell_type": "code",
   "execution_count": null,
   "metadata": {},
   "outputs": [
    {
     "data": {
      "text/plain": [
       "torch.Size([20, 4, 1, 1])"
      ]
     },
     "execution_count": null,
     "metadata": {},
     "output_type": "execute_result"
    }
   ],
   "source": [
    "x2chs = torch.zeros(20,4,1,1)  # Target: 20xClass0\n",
    "x2chs.shape"
   ]
  },
  {
   "cell_type": "markdown",
   "metadata": {},
   "source": [
    "Test of `DiceMulti` into a simulated training with `compute_val` and a test Learner with `TstLearner`."
   ]
  },
  {
   "cell_type": "code",
   "execution_count": null,
   "metadata": {},
   "outputs": [],
   "source": [
    "# Dice metric = 1\n",
    "test_eq(compute_val(dice_obj, x1, x2), 1.)\n",
    "test_eq(compute_val(dice_obj, x1, x2chs), 1.)"
   ]
  },
  {
   "cell_type": "code",
   "execution_count": null,
   "metadata": {},
   "outputs": [],
   "source": [
    "# Dice metric = 0, Target: 20xClass1\n",
    "x2 = torch.ones(20,1,1)  \n",
    "test_eq(compute_val(dice_obj, x1, x2), 0.)"
   ]
  },
  {
   "cell_type": "code",
   "execution_count": null,
   "metadata": {},
   "outputs": [],
   "source": [
    "x2_ch0 = torch.zeros(20,1,1,1)\n",
    "x2_ch1 = torch.ones(20,1,1,1)\n",
    "x2_ch2 = torch.zeros(20,1,1,1)\n",
    "x2_ch3 = torch.zeros(20,1,1,1)\n",
    "x2chs = torch.cat((x2_ch0, x2_ch1, x2_ch2, x2_ch3),dim=1)\n",
    "\n",
    "test_eq(compute_val(dice_obj, x1, x2chs), 0.)"
   ]
  },
  {
   "cell_type": "markdown",
   "metadata": {},
   "source": [
    "Different scenario with a multiclass batch:\n",
    "- Class0 x 10\n",
    "- Class1 x 4\n",
    "- Class2 x 3\n",
    "- Class4 x 3"
   ]
  },
  {
   "cell_type": "code",
   "execution_count": null,
   "metadata": {},
   "outputs": [
    {
     "data": {
      "text/plain": [
       "torch.Size([20, 1, 1])"
      ]
     },
     "execution_count": null,
     "metadata": {},
     "output_type": "execute_result"
    }
   ],
   "source": [
    "x2a = torch.zeros(10,1,1)\n",
    "x2b = torch.ones(4,1,1)\n",
    "x2c = torch.ones(3,1,1) * 2\n",
    "x2d = torch.ones(3,1,1) * 3\n",
    "\n",
    "x2 = torch.cat((x2a,x2b,x2c,x2d),dim=0)   # Target: 10xClass0, 4xClass1, 3xClass2, 3xClass4\n",
    "x2.shape"
   ]
  },
  {
   "cell_type": "code",
   "execution_count": null,
   "metadata": {},
   "outputs": [
    {
     "data": {
      "text/plain": [
       "torch.Size([20, 4, 1, 1])"
      ]
     },
     "execution_count": null,
     "metadata": {},
     "output_type": "execute_result"
    }
   ],
   "source": [
    "# Target: 10xClass0, 4xClass1, 3xClass2, 3xClass4\n",
    "batch_sizes = [10, 4, 3, 3]\n",
    "\n",
    "x2_chs = [torch.zeros(n, 4, 1, 1) for i, n in enumerate(batch_sizes)]\n",
    "for i, x2_ch in enumerate(x2_chs):\n",
    "    x2_ch[:, i] = 1\n",
    "\n",
    "x2chs = torch.cat(x2_chs, dim=0)\n",
    "x2chs.shape"
   ]
  },
  {
   "cell_type": "code",
   "execution_count": null,
   "metadata": {},
   "outputs": [],
   "source": [
    "# Value to be tested\n",
    "computed_dice = compute_val(dice_obj, x1, x2)\n",
    "computed_dice_chs = compute_val(dice_obj, x1, x2chs)\n",
    "test_eq(computed_dice,computed_dice_chs)"
   ]
  },
  {
   "cell_type": "code",
   "execution_count": null,
   "metadata": {},
   "outputs": [],
   "source": [
    "# Dice: 2*TP/(2*TP+FP+FN)\n",
    "dice1 = (2*10)/(2*10+4+3+3)              \n",
    "dice2 = 0\n",
    "dice3 = 0\n",
    "dice4 = 0\n",
    "\n",
    "# Dice metric = 0.1666\n",
    "test_eq(computed_dice, (dice1+dice2+dice3+dice4)/4)\n",
    "test_eq(computed_dice_chs, (dice1+dice2+dice3+dice4)/4)"
   ]
  },
  {
   "cell_type": "markdown",
   "metadata": {},
   "source": [
    "## Kaggle Dice metric\n",
    "The competition \"Evaluation\" metric is defined as:\n",
    "\n",
    "> This competition is evaluated on the mean Dice coefficient. The Dice coefficient can be used to compare the pixel-wise agreement between a predicted segmentation and its corresponding ground truth. The formula is given by:\n",
    "\n",
    "$$\n",
    "J(A,B) = \\frac{2 * |A \\cap B|}{|A| \\cup |B|}\n",
    "$$\n",
    "\n",
    "> where X is the predicted set of pixels and Y is the ground truth. The Dice coefficient is defined to be 1 when both X and Y are empty. The leaderboard score is the mean of the Dice coefficients for each <ImageId, ClassId> pair in the test set."
   ]
  },
  {
   "cell_type": "code",
   "execution_count": null,
   "metadata": {},
   "outputs": [
    {
     "name": "stdout",
     "output_type": "stream",
     "text": [
      "0.7500000005\n"
     ]
    },
    {
     "data": {
      "image/png": "[encoded data removed]",
      "text/plain": [
       "<Figure size 432x288 with 4 Axes>"
      ]
     },
     "metadata": {
      "needs_background": "light"
     },
     "output_type": "display_data"
    }
   ],
   "source": [
    "vals = [0,6,15,20]\n",
    "intersect, union = {}, {}\n",
    "\n",
    "for j in range(3):\n",
    "    pred = x1[vals[j]:vals[j+1]].clone()\n",
    "    targ = ( x2[vals[j]:vals[j+1]].clone(), )\n",
    "    targ = targ[0]\n",
    "    eps = 1e-9\n",
    "    # pred.shape, targ.shape\n",
    "\n",
    "    if pred.shape == targ.shape:\n",
    "        targ = targ.argmax(dim=1)\n",
    "    n, c = targ.shape[0], pred.shape[1]\n",
    "    # n, c\n",
    "\n",
    "    pred = pred.argmax(dim=1).view(n, -1)\n",
    "    targ = targ.view(n, -1)\n",
    "    # pred.shape, targ.shape\n",
    "    # pred.max(), targ.max()\n",
    "    for i in range(0, c):\n",
    "        p = torch.where(pred == i, 1, 0)\n",
    "        t = torch.where(targ == i, 1, 0)\n",
    "        p, t = TensorBase(p), TensorBase(t)\n",
    "        c_inter = (p*t).sum(-1).float()#.item()\n",
    "        c_union = (p+t).sum(-1).float()#.item()\n",
    "        if i in intersect:\n",
    "            intersect[i] = torch.cat([intersect[i], c_inter], dim=0)\n",
    "            union[i]     = torch.cat([union[i], c_union], dim=0)\n",
    "        else:\n",
    "            intersect[i] = c_inter\n",
    "            union[i]     = c_union\n",
    "\n",
    "binary_dice_scores = np.array([])\n",
    "for c in intersect.keys():\n",
    "    cond = union[c] == 0\n",
    "    val = 2.*(intersect[c]+eps)/(union[c]+eps)\n",
    "    val[cond] = 1\n",
    "    binary_dice_scores = np.append(binary_dice_scores, val)\n",
    "\n",
    "num = 4\n",
    "fig, axs = plt.subplots(num, 1, sharex=True)\n",
    "for i in range(num):\n",
    "    axs[i].plot(binary_dice_scores[(i*20):((i*20)+20)])\n",
    "    axs[i].set_title(i, loc='right', y=.6, pad=-7.)\n",
    "print(binary_dice_scores.mean())"
   ]
  },
  {
   "cell_type": "code",
   "execution_count": null,
   "metadata": {},
   "outputs": [],
   "source": [
    "# export\n",
    "class KaggleDice(Metric):\n",
    "    \"\"\"\n",
    "    Multi-class Dice used in Severstal comp, \n",
    "    is 1 when prediction and mask are empty\n",
    "    \"\"\"\n",
    "    def __init__(self, axis=1, eps=1e-9): self.axis, self.eps = axis, eps\n",
    "    def reset(self): self.inter, self.union = {}, {}\n",
    "    \n",
    "    def accumulate(self, learn):\n",
    "        y = learn.yb[0]\n",
    "        preds = learn.pred\n",
    "        \n",
    "        if preds.shape == y.shape:\n",
    "            y = y.argmax(dim=self.axis)\n",
    "            \n",
    "        n, c = y.shape[0], preds.shape[self.axis]\n",
    "        \n",
    "        preds = preds.argmax(dim=self.axis).view(n, -1)\n",
    "        targs = y.view(n, -1)\n",
    "        \n",
    "#         pred, targ = flatten_check(preds, targs)\n",
    "        for i in range(0, c):\n",
    "            p = torch.where(preds == i, 1, 0)\n",
    "            t = torch.where(targs == i, 1, 0)\n",
    "            \n",
    "            p, t = TensorBase(p), TensorBase(t)\n",
    "            \n",
    "            c_inter = (p*t).sum(-1).float().cpu()#.item()\n",
    "            c_union = (p+t).sum(-1).float().cpu()#.item()\n",
    "            if i in self.inter:\n",
    "                self.inter[i] = torch.cat([self.inter[i], c_inter], dim=0)\n",
    "                self.union[i] = torch.cat([self.union[i], c_union], dim=0)\n",
    "            else:\n",
    "                self.inter[i] = c_inter\n",
    "                self.union[i] = c_union\n",
    "                    \n",
    "    @property\n",
    "    def value(self):\n",
    "        binary_dice_scores = np.array([])\n",
    "        for c in range(len(self.inter)):\n",
    "            cond = self.union[c] == 0\n",
    "            val = 2.*(self.inter[c]+self.eps)/(self.union[c]+self.eps)\n",
    "            val[cond] = 1\n",
    "            binary_dice_scores = np.append(binary_dice_scores, val.numpy())\n",
    "        self.binary_dice_scores = binary_dice_scores\n",
    "        return np.nanmean(binary_dice_scores)"
   ]
  },
  {
   "cell_type": "code",
   "execution_count": null,
   "metadata": {},
   "outputs": [],
   "source": [
    "dice_kaggle_obj = KaggleDice()"
   ]
  },
  {
   "cell_type": "code",
   "execution_count": null,
   "metadata": {},
   "outputs": [
    {
     "data": {
      "text/plain": [
       "0.2071837278086755"
      ]
     },
     "execution_count": null,
     "metadata": {},
     "output_type": "execute_result"
    }
   ],
   "source": [
    "# missing\n",
    "compute_val(dice_kaggle_obj, pred=preds, y=targs)"
   ]
  },
  {
   "cell_type": "code",
   "execution_count": null,
   "metadata": {},
   "outputs": [],
   "source": [
    "computed_kaggle_dice = compute_val(dice_kaggle_obj, x1, x2)\n",
    "computed_kaggle_dice_chs = compute_val(dice_kaggle_obj, x1, x2chs)\n",
    "\n",
    "test_close(computed_kaggle_dice, binary_dice_scores.mean())\n",
    "test_eq(computed_kaggle_dice, computed_kaggle_dice_chs)"
   ]
  },
  {
   "cell_type": "markdown",
   "metadata": {},
   "source": [
    "Alternative metric for Kaggle:"
   ]
  },
  {
   "cell_type": "code",
   "execution_count": null,
   "metadata": {},
   "outputs": [],
   "source": [
    "# export\n",
    "def dice_kaggle(pred: Tensor, targ: Tensor, iou:bool=False, eps:float=1e-8):\n",
    "    \"\"\"\n",
    "    The metric of the competition, \n",
    "    if there's no defect in `targ` and no defects in `pred`: dice=1.\n",
    "    \"\"\"\n",
    "    n, c = targ.shape[0], pred.shape[1]\n",
    "    \n",
    "    if pred.shape == targ.shape:\n",
    "        targ = targ.argmax(dim=1)\n",
    "    \n",
    "    pred = pred.argmax(dim=1).view(n, -1)\n",
    "    targ = targ.view(n, -1)\n",
    "\n",
    "    intersect_list, union_list = [], []\n",
    "    for i in range(c):\n",
    "        inp, trgs = TensorBase(pred), TensorBase(targ)\n",
    "        \n",
    "        inter = ((inp == i) & (trgs == i)).sum(-1).float()\n",
    "        un = ((inp == i).sum(-1) + (trgs == i).sum(-1))\n",
    "        \n",
    "        intersect_list.append(inter)\n",
    "        union_list.append(un)\n",
    "\n",
    "    intersect = torch.stack(intersect_list)\n",
    "    union = torch.stack(union_list)\n",
    "\n",
    "    if not iou:\n",
    "        metric = ((2.0 * intersect + eps) / (union + eps))\n",
    "    else:\n",
    "        metric = ((intersect + eps) / (union - intersect + eps))\n",
    "        \n",
    "    return metric.mean()"
   ]
  },
  {
   "cell_type": "code",
   "execution_count": null,
   "metadata": {},
   "outputs": [],
   "source": [
    "#missing\n",
    "tst = AccumMetric(dice_kaggle, flatten=False, dim_argmax=0)\n",
    "test_close(compute_val(tst, preds, targs), dice_kaggle(preds, targs))\n",
    "\n",
    "test_close(compute_val(dice_kaggle_obj, preds, targs), \n",
    "           compute_val(            tst, preds, targs))"
   ]
  },
  {
   "cell_type": "code",
   "execution_count": null,
   "metadata": {},
   "outputs": [],
   "source": [
    "tst = AccumMetric(dice_kaggle, flatten=False)\n",
    "test_close(compute_val(tst, x1, x2), dice_kaggle(x1, x2))\n",
    "\n",
    "tst = AccumMetric(dice_kaggle, flatten=False, dim_argmax=0)\n",
    "test_close(compute_val(tst, x1, x2chs), dice_kaggle(x1, x2chs))"
   ]
  },
  {
   "cell_type": "markdown",
   "metadata": {},
   "source": [
    "## Dice"
   ]
  },
  {
   "cell_type": "code",
   "execution_count": null,
   "metadata": {},
   "outputs": [],
   "source": [
    "def dice(outputs:Tensor, targets:Tensor, eps:float=1e-7, threshold:float=None):\n",
    "    \"\"\"\n",
    "    Computes the binary dice metric\n",
    "    Args:\n",
    "        outputs (list):  A list of predicted elements\n",
    "        targets (list): A list of elements that are to be predicted\n",
    "        eps (float): epsilon\n",
    "        threshold (float): threshold for outputs binarization\n",
    "    Returns:\n",
    "        double:  Dice score\n",
    "    \"\"\"\n",
    "    outputs = F.sigmoid(outputs)\n",
    "\n",
    "    if threshold is not None:\n",
    "        outputs = (outputs > threshold).float()\n",
    "\n",
    "    intersection = torch.sum(targets * outputs)\n",
    "    union = torch.sum(targets) + torch.sum(outputs)\n",
    "    dice = 2 * intersection / (union + eps)\n",
    "\n",
    "    return dice\n",
    "\n",
    "def metric(probability, truth, threshold=0.5):\n",
    "    \"\"\"\n",
    "    Calculates dice of positive and negative images seperately\n",
    "    `probability` and `truth` must be `torch.Tensors`.\n",
    "    \"\"\"\n",
    "    if isinstance(truth, tuple):\n",
    "        truth = truth[0]\n",
    "        \n",
    "    batch_size = len(truth)\n",
    "    \n",
    "    with torch.no_grad():\n",
    "        probability = probability.view(batch_size, -1)\n",
    "        truth = truth.view(batch_size, -1)\n",
    "        assert(probability.shape == truth.shape)\n",
    "\n",
    "        p = (probability > threshold).float()\n",
    "        t = (truth > 0.5).float()\n",
    "\n",
    "        t_sum = t.sum(-1)\n",
    "        p_sum = p.sum(-1)\n",
    "        neg_index = torch.nonzero(t_sum == 0)\n",
    "        pos_index = torch.nonzero(t_sum >= 1)\n",
    "\n",
    "        dice_neg = (p_sum == 0).float()\n",
    "        dice_pos = 2 * (p*t).sum(-1)/((p+t).sum(-1))\n",
    "\n",
    "        dice_neg = dice_neg[neg_index]\n",
    "        dice_pos = dice_pos[pos_index]\n",
    "        dice = torch.cat([dice_pos, dice_neg])\n",
    "\n",
    "        num_neg = len(neg_index)\n",
    "        num_pos = len(pos_index)\n",
    "\n",
    "    return dice, dice_neg, dice_pos, num_neg, num_pos"
   ]
  },
  {
   "cell_type": "code",
   "execution_count": null,
   "metadata": {},
   "outputs": [
    {
     "data": {
      "text/plain": [
       "TensorImage(0.0072)"
      ]
     },
     "execution_count": null,
     "metadata": {},
     "output_type": "execute_result"
    }
   ],
   "source": [
    "#missing\n",
    "dices, _, _, _, _= metric(preds, targs)\n",
    "dices.mean()"
   ]
  },
  {
   "cell_type": "code",
   "execution_count": null,
   "metadata": {},
   "outputs": [],
   "source": [
    "# export\n",
    "def metric(probability, truth, threshold=0.5):\n",
    "    \"\"\"\n",
    "    Calculates dice of positive and negative images seperately\n",
    "    `probability` and `truth` must be `torch.Tensors`.\n",
    "    \"\"\"\n",
    "    #if isinstance(truth, tuple):\n",
    "    #    truth = truth[0]\n",
    "    base_dice_scores, dice_pos_scores, dice_neg_scores = [], [], []\n",
    "    \n",
    "    batch_size = len(truth)\n",
    "    with torch.no_grad():\n",
    "        probability = probability.view(batch_size, -1)\n",
    "        truth = truth.view(batch_size, -1)\n",
    "        assert(probability.shape == truth.shape)\n",
    "\n",
    "        p = (probability > threshold).float()\n",
    "        t = (truth > 0.5).float()\n",
    "\n",
    "        t_sum = t.sum(-1)\n",
    "        p_sum = p.sum(-1)\n",
    "        neg_index = torch.nonzero(t_sum == 0)\n",
    "        pos_index = torch.nonzero(t_sum >= 1)\n",
    "\n",
    "        dice_neg = (p_sum == 0).float()\n",
    "        dice_pos = 2 * (p*t).sum(-1)/((p+t).sum(-1))\n",
    "\n",
    "        dice_neg = dice_neg[neg_index]\n",
    "        dice_pos = dice_pos[pos_index]\n",
    "        dice = torch.cat([dice_pos, dice_neg])\n",
    "        \n",
    "        base_dice_scores.extend(dice.tolist())\n",
    "        dice_pos_scores.extend(dice_pos.tolist())\n",
    "        dice_neg_scores.extend(dice_neg.tolist())\n",
    "        \n",
    "        dice     = np.nanmean(base_dice_scores)\n",
    "        dice_neg = np.nanmean(dice_neg_scores)\n",
    "        dice_pos = np.nanmean(dice_pos_scores)\n",
    "\n",
    "    return dice, dice_neg, dice_pos"
   ]
  },
  {
   "cell_type": "code",
   "execution_count": null,
   "metadata": {},
   "outputs": [
    {
     "data": {
      "text/plain": [
       "(0.007218837807886303, 0.0, 0.02887535123154521)"
      ]
     },
     "execution_count": null,
     "metadata": {},
     "output_type": "execute_result"
    }
   ],
   "source": [
    "#missing\n",
    "metric(preds, targs, threshold=0.5)"
   ]
  },
  {
   "cell_type": "code",
   "execution_count": null,
   "metadata": {},
   "outputs": [
    {
     "data": {
      "text/plain": [
       "(0.007218837807886303, 0.0, 0.02887535123154521)"
      ]
     },
     "execution_count": null,
     "metadata": {},
     "output_type": "execute_result"
    }
   ],
   "source": [
    "#missing\n",
    "m = AccumMetric(metric, flatten=False, dim_argmax=0)\n",
    "compute_val(m, pred=preds, y=targs)"
   ]
  },
  {
   "cell_type": "code",
   "execution_count": null,
   "metadata": {},
   "outputs": [
    {
     "data": {
      "text/plain": [
       "(0.5, nan, 0.5)"
      ]
     },
     "execution_count": null,
     "metadata": {},
     "output_type": "execute_result"
    }
   ],
   "source": [
    "m = AccumMetric(metric, flatten=False, dim_argmax=0)\n",
    "compute_val(m, pred=x1, y=x2chs)"
   ]
  },
  {
   "cell_type": "code",
   "execution_count": null,
   "metadata": {},
   "outputs": [],
   "source": [
    "# export\n",
    "def epoch_log(epoch_loss, meter):\n",
    "    \"\"\"logging the metrics at the end of an epoch\"\"\"\n",
    "    dices = meter.get_metrics()\n",
    "    dice, dice_neg, dice_pos = dices\n",
    "    print(f\"Loss: {epoch_loss:.4f} | dice: {dice:.4f} | dice_neg: {dice_neg:.4f} | dice_pos: {dice_pos:.4f}\")\n",
    "    return dice"
   ]
  },
  {
   "cell_type": "code",
   "execution_count": null,
   "metadata": {},
   "outputs": [
    {
     "name": "stdout",
     "output_type": "stream",
     "text": [
      "Loss: 0.0000 | dice: 0.5260 | dice_neg: nan | dice_pos: 0.5260\n"
     ]
    },
    {
     "data": {
      "text/plain": [
       "0.5259531036019325"
      ]
     },
     "execution_count": null,
     "metadata": {},
     "output_type": "execute_result"
    }
   ],
   "source": [
    "epoch_log(0.0, m)"
   ]
  },
  {
   "cell_type": "code",
   "execution_count": null,
   "metadata": {},
   "outputs": [
    {
     "name": "stdout",
     "output_type": "stream",
     "text": [
      "Converted 01_metadata.ipynb.\n",
      "Converted 02_masks.ipynb.\n",
      "Converted 03_datasets.ipynb.\n",
      "Converted 04_dataloaders.ipynb.\n",
      "Converted 05_metrics.ipynb.\n",
      "Converted 06_loss.ipynb.\n",
      "Converted 07_trainer.ipynb.\n",
      "Converted 08_predict.ipynb.\n",
      "Converted 09_visualize.ipynb.\n",
      "Converted index.ipynb.\n"
     ]
    }
   ],
   "source": [
    "# hide\n",
    "from nbdev.export import notebook2script\n",
    "notebook2script()"
   ]
  }
 ],
 "metadata": {
  "kernelspec": {
   "display_name": "Python 3",
   "language": "python",
   "name": "python3"
  }
 },
 "nbformat": 4,
 "nbformat_minor": 5
}
