{
 "cells": [
  {
   "cell_type": "code",
   "execution_count": null,
   "source": [
    "#default_exp metrics\r\n",
    "# all_slow"
   ],
   "outputs": [],
   "metadata": {}
  },
  {
   "cell_type": "markdown",
   "source": [
    "# Metrics\n",
    "\n",
    "> A collection of Metrics used in the segmentation models"
   ],
   "metadata": {}
  },
  {
   "cell_type": "code",
   "execution_count": 1,
   "source": [
    "# hide\r\n",
    "%load_ext autoreload\r\n",
    "%autoreload 2\r\n",
    "%matplotlib inline"
   ],
   "outputs": [],
   "metadata": {}
  },
  {
   "cell_type": "code",
   "execution_count": 2,
   "source": [
    "# export\r\n",
    "import torch\r\n",
    "import numpy as np\r\n",
    "from fastai.torch_core import TensorBase, flatten_check\r\n",
    "from fastai.metrics import Metric"
   ],
   "outputs": [],
   "metadata": {}
  },
  {
   "cell_type": "code",
   "execution_count": 3,
   "source": [
    "from fastai.vision.all import *\r\n",
    "import numpy as np\r\n",
    "from torch.nn.modules.loss import _Loss\r\n",
    "import segmentation_models_pytorch as smp\r\n",
    "from steel_segmentation.utils import get_train_df\r\n",
    "from steel_segmentation.transforms import SteelDataBlock, SteelDataLoaders"
   ],
   "outputs": [],
   "metadata": {}
  },
  {
   "cell_type": "code",
   "execution_count": 4,
   "source": [
    "path = Path(\"../data\")\r\n",
    "train_pivot = get_train_df(path=path, pivot=True)\r\n",
    "block = SteelDataBlock(path)\r\n",
    "dls = SteelDataLoaders(block, train_pivot, bs=8)\r\n",
    "xb, yb = dls.one_batch()\r\n",
    "print(xb.shape, xb.device)\r\n",
    "print(yb.shape, yb.device)"
   ],
   "outputs": [
    {
     "output_type": "stream",
     "name": "stderr",
     "text": [
      "C:\\Users\\beanTech\\miniconda3\\envs\\steel_segmentation\\lib\\site-packages\\torch\\_tensor.py:575: UserWarning: floor_divide is deprecated, and will be removed in a future version of pytorch. It currently rounds toward 0 (like the 'trunc' function NOT 'floor'). This results in incorrect rounding for negative values.\n",
      "To keep the current behavior, use torch.div(a, b, rounding_mode='trunc'), or for actual floor division, use torch.div(a, b, rounding_mode='floor'). (Triggered internally at  ..\\aten\\src\\ATen\\native\\BinaryOps.cpp:467.)\n",
      "  return torch.floor_divide(self, other)\n"
     ]
    },
    {
     "output_type": "stream",
     "name": "stdout",
     "text": [
      "torch.Size([8, 3, 224, 1568]) cuda:0\n",
      "torch.Size([8, 4, 224, 1568]) cpu\n"
     ]
    }
   ],
   "metadata": {}
  },
  {
   "cell_type": "code",
   "execution_count": 5,
   "source": [
    "device = \"cuda\" if torch.cuda.is_available() else \"cpu\"\r\n",
    "device"
   ],
   "outputs": [
    {
     "output_type": "execute_result",
     "data": {
      "text/plain": [
       "'cuda'"
      ]
     },
     "metadata": {},
     "execution_count": 5
    }
   ],
   "metadata": {}
  },
  {
   "cell_type": "code",
   "execution_count": 17,
   "source": [
    "model = smp.Unet(\"resnet18\", classes=4).to(device)\r\n",
    "\r\n",
    "logits = model(xb)\r\n",
    "probs = torch.sigmoid(logits)\r\n",
    "preds = ( probs > 0.5).float()"
   ],
   "outputs": [],
   "metadata": {}
  },
  {
   "cell_type": "markdown",
   "source": [
    "## Kaggle Dice metric\n",
    "The competition [evaluation metric](https://www.kaggle.com/c/severstal-steel-defect-detection/overview/evaluation) is defined as:\n",
    "\n",
    "> This competition is evaluated on the mean Dice coefficient. The Dice coefficient can be used to compare the pixel-wise agreement between a predicted segmentation and its corresponding ground truth. The formula is given by:\n",
    "\n",
    "$$\n",
    "J(A,B) = \\frac{2 * |A \\cap B|}{|A| \\cup |B|}\n",
    "$$\n",
    "\n",
    "> where X is the predicted set of pixels and Y is the ground truth. The Dice coefficient is defined to be 1 when both X and Y are empty. The leaderboard score is the mean of the Dice coefficients for each <ImageId, ClassId> pair in the test set."
   ],
   "metadata": {}
  },
  {
   "cell_type": "markdown",
   "source": [
    "In this section there are all the metric that can be used to evaluate the performances of the segmentation models trained."
   ],
   "metadata": {}
  },
  {
   "cell_type": "markdown",
   "source": [
    "Simulated training with `compute_val` and a test Learner with `TstLearner`."
   ],
   "metadata": {}
  },
  {
   "cell_type": "code",
   "execution_count": 7,
   "source": [
    "#For testing: a fake learner and a metric that isn't an average\r\n",
    "@delegates()\r\n",
    "class TstLearner(Learner):\r\n",
    "    def __init__(self,dls=None,model=None,**kwargs): \r\n",
    "        self.pred,self.xb,self.yb = None,None,None\r\n",
    "        self.loss_func=BCEWithLogitsLossFlat()\r\n",
    "        \r\n",
    "#Go through a fake cycle with various batch sizes and computes the value of met\r\n",
    "def compute_val(met, pred, y):\r\n",
    "    met.reset()\r\n",
    "    vals = [0,6,15,20]\r\n",
    "    learn = TstLearner()\r\n",
    "    for i in range(3):\r\n",
    "        learn.pred = pred[vals[i]:vals[i+1]]\r\n",
    "        learn.yb = ( y[vals[i]:vals[i+1]], )\r\n",
    "        met.accumulate(learn)\r\n",
    "    return met.value"
   ],
   "outputs": [],
   "metadata": {}
  },
  {
   "cell_type": "markdown",
   "source": [
    "## Multiclass Dice"
   ],
   "metadata": {}
  },
  {
   "cell_type": "markdown",
   "source": [
    "The `fastai` library comes with a dice metric for multiple channel masks. As a segmentation metric in this frameworks, it expects a flatten mask for targets."
   ],
   "metadata": {}
  },
  {
   "cell_type": "code",
   "execution_count": 8,
   "source": [
    "multidice_obj = DiceMulti()"
   ],
   "outputs": [],
   "metadata": {}
  },
  {
   "cell_type": "code",
   "execution_count": 11,
   "source": [
    "compute_val(multidice_obj, pred=preds.detach().cpu(), y=yb.argmax(1))"
   ],
   "outputs": [
    {
     "output_type": "execute_result",
     "data": {
      "text/plain": [
       "0.1798790120410166"
      ]
     },
     "metadata": {},
     "execution_count": 11
    }
   ],
   "metadata": {}
  },
  {
   "cell_type": "markdown",
   "source": [
    "Here we slightly change the `DiceMulti` for a 4-channel mask as targets."
   ],
   "metadata": {}
  },
  {
   "cell_type": "code",
   "execution_count": 12,
   "source": [
    "# export\r\n",
    "class ModDiceMulti(Metric):\r\n",
    "    \"Averaged Dice metric (Macro F1) for multiclass target in segmentation\"\r\n",
    "\r\n",
    "    def __init__(self, axis=1, with_logits=False):\r\n",
    "        self.axis = axis\r\n",
    "        self.with_logits = with_logits\r\n",
    "\r\n",
    "    def reset(self): self.inter, self.union =  {}, {}\r\n",
    "\r\n",
    "    def accumulate(self, learn):\r\n",
    "        if self.with_logits:\r\n",
    "            logit = learn.pred\r\n",
    "            prob = torch.sigmoid(logit)\r\n",
    "            pred = (prob > 0.5).float().argmax(dim=self.axis)\r\n",
    "        else:\r\n",
    "            pred = learn.pred.argmax(dim=self.axis)\r\n",
    "\r\n",
    "        y = learn.yb[0]\r\n",
    "        # Added to deal with 4-channels masks\r\n",
    "        if pred.shape != y.shape:\r\n",
    "            y = y.argmax(dim=self.axis)\r\n",
    "\r\n",
    "        pred, targ = flatten_check(pred, y)\r\n",
    "        for c in range(learn.pred.shape[self.axis]):\r\n",
    "            p = torch.where(pred == c, 1, 0)\r\n",
    "            t = torch.where(targ == c, 1, 0)\r\n",
    "            p, t = TensorBase(p), TensorBase(t) # may be redundant (old fastai bug)\r\n",
    "            c_inter = (p*t).float().sum().item()\r\n",
    "            c_union = (p+t).float().sum().item()\r\n",
    "            if c in self.inter:\r\n",
    "                self.inter[c] += c_inter\r\n",
    "                self.union[c] += c_union\r\n",
    "            else:\r\n",
    "                self.inter[c] = c_inter\r\n",
    "                self.union[c] = c_union\r\n",
    "\r\n",
    "    @property\r\n",
    "    def value(self):\r\n",
    "        binary_dice_scores = np.array([])\r\n",
    "        for c in self.inter:\r\n",
    "            binary_dice_scores = np.append(\r\n",
    "                binary_dice_scores,\r\n",
    "                2.*self.inter[c]/self.union[c] if self.union[c] > 0 else np.nan)\r\n",
    "        self.binary_dice_scores = binary_dice_scores\r\n",
    "        return np.nanmean(binary_dice_scores)"
   ],
   "outputs": [],
   "metadata": {}
  },
  {
   "cell_type": "code",
   "execution_count": 18,
   "source": [
    "dice_obj = ModDiceMulti(with_logits=True)\r\n",
    "compute_val(dice_obj, pred=logits.detach().cpu(), y=yb)"
   ],
   "outputs": [
    {
     "output_type": "execute_result",
     "data": {
      "text/plain": [
       "0.2130325182791189"
      ]
     },
     "metadata": {},
     "execution_count": 18
    }
   ],
   "metadata": {}
  },
  {
   "cell_type": "code",
   "execution_count": 20,
   "source": [
    "dice_obj = ModDiceMulti()\r\n",
    "compute_val(dice_obj, pred=preds.detach().cpu(), y=yb)"
   ],
   "outputs": [
    {
     "output_type": "execute_result",
     "data": {
      "text/plain": [
       "0.2130325182791189"
      ]
     },
     "metadata": {},
     "execution_count": 20
    }
   ],
   "metadata": {}
  }
 ],
 "metadata": {
  "kernelspec": {
   "name": "python3",
   "display_name": "Python 3.8.11 64-bit ('steel_segmentation': conda)"
  },
  "language_info": {
   "codemirror_mode": {
    "name": "ipython",
    "version": 3
   },
   "file_extension": ".py",
   "mimetype": "text/x-python",
   "name": "python",
   "nbconvert_exporter": "python",
   "pygments_lexer": "ipython3",
   "version": "3.8.11"
  },
  "interpreter": {
   "hash": "28655ac308a3066e78dcd35793da650bd1be67b358d93812a1ea5ca876afb9ba"
  }
 },
 "nbformat": 4,
 "nbformat_minor": 5
}